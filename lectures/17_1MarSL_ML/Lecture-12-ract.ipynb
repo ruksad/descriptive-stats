{
 "cells": [
  {
   "cell_type": "markdown",
   "metadata": {},
   "source": [
    "# Clustering with scikit-learn\n",
    "We will use K-means for unsupervised learning on digits datasets"
   ]
  },
  {
   "cell_type": "code",
   "execution_count": null,
   "metadata": {},
   "outputs": [
    {
     "name": "stdout",
     "output_type": "stream",
     "text": [
      "digits x shape {} (1797, 64)\n",
      "digits y  shape {} (1797,)\n",
      "first handwritten data digit: {} [ 0.  0.  5. 13.  9.  1.  0.  0.  0.  0. 13. 15. 10. 15.  5.  0.  0.  3.\n",
      " 15.  2.  0. 11.  8.  0.  0.  4. 12.  0.  0.  8.  8.  0.  0.  5.  8.  0.\n",
      "  0.  9.  8.  0.  0.  4. 11.  0.  1. 12.  7.  0.  0.  2. 14.  5. 10. 12.\n",
      "  0.  0.  0.  0.  6. 13. 10.  0.  0.  0.]\n",
      "first handwritten data digit shape: {} (64,)\n"
     ]
    }
   ],
   "source": [
    "import pandas as pd \n",
    "import matplotlib.pyplot as plt\n",
    "from sklearn.datasets import load_digits\n",
    "from sklearn.cluster import KMeans\n",
    "\n",
    "digits= load_digits()\n",
    "digits_x= digits.data\n",
    "digits_y= digits.target\n",
    "print('digits x shape ', digits_x.shape)\n",
    "print('digits y  shape ', digits_y.shape)\n",
    "\n",
    "sample_digit= digits_x[0]\n",
    "print('first handwritten data digit: ', sample_digit)\n",
    "print('first handwritten data digit shape: ', sample_digit.shape)"
   ]
  },
  {
   "cell_type": "code",
   "execution_count": 17,
   "metadata": {},
   "outputs": [
    {
     "name": "stdout",
     "output_type": "stream",
     "text": [
      "sample digit [[ 0.  0.  5. ...  0.  0.  0.]\n",
      " [ 0.  0.  0. ... 10.  0.  0.]\n",
      " [ 0.  0.  0. ... 16.  9.  0.]\n",
      " ...\n",
      " [ 0.  0.  1. ...  6.  0.  0.]\n",
      " [ 0.  0.  2. ... 12.  0.  0.]\n",
      " [ 0.  0. 10. ... 12.  1.  0.]]\n"
     ]
    }
   ],
   "source": [
    "print(\"sample digit\", digits_x)"
   ]
  },
  {
   "cell_type": "code",
   "execution_count": 16,
   "metadata": {},
   "outputs": [
    {
     "name": "stdout",
     "output_type": "stream",
     "text": [
      "image after reshaping:  [[ 0.  0.  5. 13.  9.  1.  0.  0.]\n",
      " [ 0.  0. 13. 15. 10. 15.  5.  0.]\n",
      " [ 0.  3. 15.  2.  0. 11.  8.  0.]\n",
      " [ 0.  4. 12.  0.  0.  8.  8.  0.]\n",
      " [ 0.  5.  8.  0.  0.  9.  8.  0.]\n",
      " [ 0.  4. 11.  0.  1. 12.  7.  0.]\n",
      " [ 0.  2. 14.  5. 10. 12.  0.  0.]\n",
      " [ 0.  0.  6. 13. 10.  0.  0.  0.]]\n"
     ]
    },
    {
     "data": {
      "image/png": "[encoded data removed]",
      "text/plain": [
       "<Figure size 640x480 with 1 Axes>"
      ]
     },
     "metadata": {},
     "output_type": "display_data"
    }
   ],
   "source": [
    "sample_digit=sample_digit.reshape(8,8)\n",
    "print(\"image after reshaping: \", sample_digit)\n",
    "plt.imshow(sample_digit)\n",
    "plt.title('first digit')\n",
    "plt.axis('off')\n",
    "plt.show()"
   ]
  },
  {
   "cell_type": "code",
   "execution_count": null,
   "metadata": {},
   "outputs": [],
   "source": [
    "\n",
    "digits_df= pd.DataFrame(digits_x, columns=[ f'feature_{i}' for i in range(digits_x.shape[1])])\n",
    "\n",
    "digits_df.describe()"
   ]
  },
  {
   "cell_type": "code",
   "execution_count": 11,
   "metadata": {},
   "outputs": [
    {
     "name": "stdout",
     "output_type": "stream",
     "text": [
      "<class 'pandas.core.frame.DataFrame'>\n",
      "RangeIndex: 1797 entries, 0 to 1796\n",
      "Data columns (total 64 columns):\n",
      " #   Column      Non-Null Count  Dtype  \n",
      "---  ------      --------------  -----  \n",
      " 0   feature_0   1797 non-null   float64\n",
      " 1   feature_1   1797 non-null   float64\n",
      " 2   feature_2   1797 non-null   float64\n",
      " 3   feature_3   1797 non-null   float64\n",
      " 4   feature_4   1797 non-null   float64\n",
      " 5   feature_5   1797 non-null   float64\n",
      " 6   feature_6   1797 non-null   float64\n",
      " 7   feature_7   1797 non-null   float64\n",
      " 8   feature_8   1797 non-null   float64\n",
      " 9   feature_9   1797 non-null   float64\n",
      " 10  feature_10  1797 non-null   float64\n",
      " 11  feature_11  1797 non-null   float64\n",
      " 12  feature_12  1797 non-null   float64\n",
      " 13  feature_13  1797 non-null   float64\n",
      " 14  feature_14  1797 non-null   float64\n",
      " 15  feature_15  1797 non-null   float64\n",
      " 16  feature_16  1797 non-null   float64\n",
      " 17  feature_17  1797 non-null   float64\n",
      " 18  feature_18  1797 non-null   float64\n",
      " 19  feature_19  1797 non-null   float64\n",
      " 20  feature_20  1797 non-null   float64\n",
      " 21  feature_21  1797 non-null   float64\n",
      " 22  feature_22  1797 non-null   float64\n",
      " 23  feature_23  1797 non-null   float64\n",
      " 24  feature_24  1797 non-null   float64\n",
      " 25  feature_25  1797 non-null   float64\n",
      " 26  feature_26  1797 non-null   float64\n",
      " 27  feature_27  1797 non-null   float64\n",
      " 28  feature_28  1797 non-null   float64\n",
      " 29  feature_29  1797 non-null   float64\n",
      " 30  feature_30  1797 non-null   float64\n",
      " 31  feature_31  1797 non-null   float64\n",
      " 32  feature_32  1797 non-null   float64\n",
      " 33  feature_33  1797 non-null   float64\n",
      " 34  feature_34  1797 non-null   float64\n",
      " 35  feature_35  1797 non-null   float64\n",
      " 36  feature_36  1797 non-null   float64\n",
      " 37  feature_37  1797 non-null   float64\n",
      " 38  feature_38  1797 non-null   float64\n",
      " 39  feature_39  1797 non-null   float64\n",
      " 40  feature_40  1797 non-null   float64\n",
      " 41  feature_41  1797 non-null   float64\n",
      " 42  feature_42  1797 non-null   float64\n",
      " 43  feature_43  1797 non-null   float64\n",
      " 44  feature_44  1797 non-null   float64\n",
      " 45  feature_45  1797 non-null   float64\n",
      " 46  feature_46  1797 non-null   float64\n",
      " 47  feature_47  1797 non-null   float64\n",
      " 48  feature_48  1797 non-null   float64\n",
      " 49  feature_49  1797 non-null   float64\n",
      " 50  feature_50  1797 non-null   float64\n",
      " 51  feature_51  1797 non-null   float64\n",
      " 52  feature_52  1797 non-null   float64\n",
      " 53  feature_53  1797 non-null   float64\n",
      " 54  feature_54  1797 non-null   float64\n",
      " 55  feature_55  1797 non-null   float64\n",
      " 56  feature_56  1797 non-null   float64\n",
      " 57  feature_57  1797 non-null   float64\n",
      " 58  feature_58  1797 non-null   float64\n",
      " 59  feature_59  1797 non-null   float64\n",
      " 60  feature_60  1797 non-null   float64\n",
      " 61  feature_61  1797 non-null   float64\n",
      " 62  feature_62  1797 non-null   float64\n",
      " 63  feature_63  1797 non-null   float64\n",
      "dtypes: float64(64)\n",
      "memory usage: 898.6 KB\n"
     ]
    }
   ],
   "source": [
    "digits_df.info()"
   ]
  },
  {
   "cell_type": "code",
   "execution_count": 17,
   "metadata": {},
   "outputs": [
    {
     "name": "stdout",
     "output_type": "stream",
     "text": [
      "[[[ 0.  0.  5. ...  1.  0.  0.]\n",
      "  [ 0.  0. 13. ... 15.  5.  0.]\n",
      "  [ 0.  3. 15. ... 11.  8.  0.]\n",
      "  ...\n",
      "  [ 0.  4. 11. ... 12.  7.  0.]\n",
      "  [ 0.  2. 14. ... 12.  0.  0.]\n",
      "  [ 0.  0.  6. ...  0.  0.  0.]]\n",
      "\n",
      " [[ 0.  0.  0. ...  5.  0.  0.]\n",
      "  [ 0.  0.  0. ...  9.  0.  0.]\n",
      "  [ 0.  0.  3. ...  6.  0.  0.]\n",
      "  ...\n",
      "  [ 0.  0.  1. ...  6.  0.  0.]\n",
      "  [ 0.  0.  1. ...  6.  0.  0.]\n",
      "  [ 0.  0.  0. ... 10.  0.  0.]]\n",
      "\n",
      " [[ 0.  0.  0. ... 12.  0.  0.]\n",
      "  [ 0.  0.  3. ... 14.  0.  0.]\n",
      "  [ 0.  0.  8. ... 16.  0.  0.]\n",
      "  ...\n",
      "  [ 0.  9. 16. ...  0.  0.  0.]\n",
      "  [ 0.  3. 13. ... 11.  5.  0.]\n",
      "  [ 0.  0.  0. ... 16.  9.  0.]]\n",
      "\n",
      " ...\n",
      "\n",
      " [[ 0.  0.  1. ...  1.  0.  0.]\n",
      "  [ 0.  0. 13. ...  2.  1.  0.]\n",
      "  [ 0.  0. 16. ... 16.  5.  0.]\n",
      "  ...\n",
      "  [ 0.  0. 16. ... 15.  0.  0.]\n",
      "  [ 0.  0. 15. ... 16.  0.  0.]\n",
      "  [ 0.  0.  2. ...  6.  0.  0.]]\n",
      "\n",
      " [[ 0.  0.  2. ...  0.  0.  0.]\n",
      "  [ 0.  0. 14. ... 15.  1.  0.]\n",
      "  [ 0.  4. 16. ... 16.  7.  0.]\n",
      "  ...\n",
      "  [ 0.  0.  0. ... 16.  2.  0.]\n",
      "  [ 0.  0.  4. ... 16.  2.  0.]\n",
      "  [ 0.  0.  5. ... 12.  0.  0.]]\n",
      "\n",
      " [[ 0.  0. 10. ...  1.  0.  0.]\n",
      "  [ 0.  2. 16. ...  1.  0.  0.]\n",
      "  [ 0.  0. 15. ... 15.  0.  0.]\n",
      "  ...\n",
      "  [ 0.  4. 16. ... 16.  6.  0.]\n",
      "  [ 0.  8. 16. ... 16.  8.  0.]\n",
      "  [ 0.  1.  8. ... 12.  1.  0.]]]\n",
      "(1797, 8, 8)\n"
     ]
    }
   ],
   "source": [
    "print(digits.images)\n",
    "print(digits.images.shape)"
   ]
  },
  {
   "cell_type": "code",
   "execution_count": 18,
   "metadata": {},
   "outputs": [
    {
     "data": {
      "image/png": "[encoded data removed]",
      "text/plain": [
       "<Figure size 1000x300 with 5 Axes>"
      ]
     },
     "metadata": {},
     "output_type": "display_data"
    }
   ],
   "source": [
    "fig, axes= plt.subplots(1,5, figsize=(10,3))\n",
    "\n",
    "for i, ax in enumerate(axes):\n",
    "    ax.imshow(digits.images[i], cmap='gray')\n",
    "    ax.set_title(f\"Digit: {digits.target[i]}\")\n",
    "    ax.axis('off')\n",
    "plt.show()"
   ]
  },
  {
   "cell_type": "markdown",
   "metadata": {},
   "source": [
    "# K means clustering \n"
   ]
  },
  {
   "cell_type": "code",
   "execution_count": 21,
   "metadata": {},
   "outputs": [
    {
     "data": {
      "image/png": "[encoded data removed]",
      "text/plain": [
       "<Figure size 2000x500 with 10 Axes>"
      ]
     },
     "metadata": {},
     "output_type": "display_data"
    }
   ],
   "source": [
    "from sklearn.cluster import KMeans\n",
    "from sklearn.metrics import silhouette_score\n",
    "from sklearn.metrics import normalized_mutual_info_score\n",
    "\n",
    "kmeans= KMeans(n_clusters=10, random_state=42)\n",
    "kmeans.fit(digits_x)\n",
    "\n",
    "fig, axes= plt.subplots(1,10,figsize=(20,5))\n",
    "\n",
    "for i,ax in enumerate(axes):\n",
    "    center_image= kmeans.cluster_centers_[i].reshape(8,8)\n",
    "    ax.imshow(center_image, cmap='gray')\n",
    "    ax.set_title(f\"Cluster {i}\")\n",
    "    ax.axis('off')\n",
    "plt.show()\n"
   ]
  }
 ],
 "metadata": {
  "kernelspec": {
   "display_name": "local",
   "language": "python",
   "name": "python3"
  },
  "language_info": {
   "codemirror_mode": {
    "name": "ipython",
    "version": 3
   },
   "file_extension": ".py",
   "mimetype": "text/x-python",
   "name": "python",
   "nbconvert_exporter": "python",
   "pygments_lexer": "ipython3",
   "version": "3.12.3"
  }
 },
 "nbformat": 4,
 "nbformat_minor": 2
}
