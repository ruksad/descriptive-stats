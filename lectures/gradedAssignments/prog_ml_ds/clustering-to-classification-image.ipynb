{
 "cells": [
  {
   "cell_type": "markdown",
   "id": "2459229c",
   "metadata": {},
   "source": [
    "# Project: Learning to Label – From Clustering to Classification image\n"
   ]
  },
  {
   "cell_type": "markdown",
   "id": "6f05c976",
   "metadata": {},
   "source": [
    "# Image Dataset"
   ]
  },
  {
   "cell_type": "code",
   "execution_count": 1,
   "id": "fa6e7d5c",
   "metadata": {},
   "outputs": [
    {
     "data": {
      "text/plain": [
       "(60000, 1, 28, 28)"
      ]
     },
     "execution_count": 1,
     "metadata": {},
     "output_type": "execute_result"
    }
   ],
   "source": [
    "import numpy as np\n",
    "\n",
    "original_images_df = np.load('unlabelled_train_data_images.npy',allow_pickle=True)\n",
    "original_images_df.shape"
   ]
  },
  {
   "cell_type": "code",
   "execution_count": 2,
   "id": "b8349180",
   "metadata": {},
   "outputs": [
    {
     "data": {
      "text/plain": [
       "array([[[[0., 0., 0., ..., 0., 0., 0.],\n",
       "         [0., 0., 0., ..., 0., 0., 0.],\n",
       "         [0., 0., 0., ..., 0., 0., 0.],\n",
       "         ...,\n",
       "         [0., 0., 0., ..., 0., 0., 0.],\n",
       "         [0., 0., 0., ..., 0., 0., 0.],\n",
       "         [0., 0., 0., ..., 0., 0., 0.]]],\n",
       "\n",
       "\n",
       "       [[[0., 0., 0., ..., 0., 0., 0.],\n",
       "         [0., 0., 0., ..., 0., 0., 0.],\n",
       "         [0., 0., 0., ..., 0., 0., 0.],\n",
       "         ...,\n",
       "         [0., 0., 0., ..., 0., 0., 0.],\n",
       "         [0., 0., 0., ..., 0., 0., 0.],\n",
       "         [0., 0., 0., ..., 0., 0., 0.]]],\n",
       "\n",
       "\n",
       "       [[[0., 0., 0., ..., 0., 0., 0.],\n",
       "         [0., 0., 0., ..., 0., 0., 0.],\n",
       "         [0., 0., 0., ..., 0., 0., 0.],\n",
       "         ...,\n",
       "         [0., 0., 0., ..., 0., 0., 0.],\n",
       "         [0., 0., 0., ..., 0., 0., 0.],\n",
       "         [0., 0., 0., ..., 0., 0., 0.]]],\n",
       "\n",
       "\n",
       "       ...,\n",
       "\n",
       "\n",
       "       [[[0., 0., 0., ..., 0., 0., 0.],\n",
       "         [0., 0., 0., ..., 0., 0., 0.],\n",
       "         [0., 0., 0., ..., 0., 0., 0.],\n",
       "         ...,\n",
       "         [0., 0., 0., ..., 0., 0., 0.],\n",
       "         [0., 0., 0., ..., 0., 0., 0.],\n",
       "         [0., 0., 0., ..., 0., 0., 0.]]],\n",
       "\n",
       "\n",
       "       [[[0., 0., 0., ..., 0., 0., 0.],\n",
       "         [0., 0., 0., ..., 0., 0., 0.],\n",
       "         [0., 0., 0., ..., 0., 0., 0.],\n",
       "         ...,\n",
       "         [0., 0., 0., ..., 0., 0., 0.],\n",
       "         [0., 0., 0., ..., 0., 0., 0.],\n",
       "         [0., 0., 0., ..., 0., 0., 0.]]],\n",
       "\n",
       "\n",
       "       [[[0., 0., 0., ..., 0., 0., 0.],\n",
       "         [0., 0., 0., ..., 0., 0., 0.],\n",
       "         [0., 0., 0., ..., 0., 0., 0.],\n",
       "         ...,\n",
       "         [0., 0., 0., ..., 0., 0., 0.],\n",
       "         [0., 0., 0., ..., 0., 0., 0.],\n",
       "         [0., 0., 0., ..., 0., 0., 0.]]]], dtype=float32)"
      ]
     },
     "execution_count": 2,
     "metadata": {},
     "output_type": "execute_result"
    }
   ],
   "source": [
    "original_images_df"
   ]
  },
  {
   "cell_type": "code",
   "execution_count": 2,
   "id": "4455cc4c",
   "metadata": {},
   "outputs": [
    {
     "data": {
      "image/png": "[encoded data removed]",
      "text/plain": [
       "<Figure size 640x480 with 1 Axes>"
      ]
     },
     "metadata": {},
     "output_type": "display_data"
    }
   ],
   "source": [
    "import matplotlib.pyplot as plt\n",
    "def view_img(df, idx):\n",
    "    img = df[idx]\n",
    "    img = img.squeeze()\n",
    "    plt.imshow(img, cmap='gray')\n",
    "    # plt.title(f'Label: {label}')\n",
    "    plt.axis('off')\n",
    "    plt.show()\n",
    "\n",
    "view_img(original_images_df, 2)"
   ]
  },
  {
   "cell_type": "code",
   "execution_count": 3,
   "id": "82bb130d",
   "metadata": {},
   "outputs": [],
   "source": [
    "# Timer function for performance tracking\n",
    "def timer_func(func):\n",
    "    def wrapper(*args, **kwargs):\n",
    "        start_time = time.time()\n",
    "        result = func(*args, **kwargs)\n",
    "        end_time = time.time()\n",
    "        print(f\"Function {func.__name__} executed in {end_time-start_time:.4f} seconds\")\n",
    "        return result, end_time-start_time\n",
    "    return wrapper"
   ]
  },
  {
   "cell_type": "code",
   "execution_count": 4,
   "id": "194b89fc",
   "metadata": {},
   "outputs": [
    {
     "name": "stdout",
     "output_type": "stream",
     "text": [
      "Reshaped data shape: (60000, 784)\n"
     ]
    }
   ],
   "source": [
    "reshaped_data = original_images_df.reshape(original_images_df.shape[0], -1)\n",
    "print(f\"Reshaped data shape: {reshaped_data.shape}\")"
   ]
  },
  {
   "cell_type": "code",
   "execution_count": 15,
   "id": "ef43f1cb",
   "metadata": {},
   "outputs": [
    {
     "name": "stdout",
     "output_type": "stream",
     "text": [
      "Reduced data shape (20% of original): (12000, 784)\n"
     ]
    }
   ],
   "source": [
    "# Take only 20% of the data for faster processing\n",
    "sample_size = int(reshaped_data.shape[0] * .2)\n",
    "indices = np.random.choice(reshaped_data.shape[0], size=sample_size, replace=False)\n",
    "reduced_data = reshaped_data[indices]\n",
    "reduced_original_data = original_images_df[indices]\n",
    "print(f\"Reduced data shape (20% of original): {reduced_data.shape}\")"
   ]
  },
  {
   "cell_type": "code",
   "execution_count": 17,
   "id": "7650a5ad",
   "metadata": {},
   "outputs": [
    {
     "name": "stdout",
     "output_type": "stream",
     "text": [
      "Data scaled.\n",
      "Training set: (9600, 784), Test set: (2400, 784)\n"
     ]
    }
   ],
   "source": [
    "from sklearn.preprocessing import StandardScaler\n",
    "from sklearn.model_selection import train_test_split\n",
    "\n",
    "# Preprocessing\n",
    "scaler = StandardScaler()\n",
    "scaled_data = scaler.fit_transform(reduced_data)\n",
    "print(\"Data scaled.\")\n",
    "\n",
    "# Create train/test split\n",
    "X_train, X_test, original_train_indices, original_test_indices = train_test_split(\n",
    "    scaled_data, indices, test_size=0.2, random_state=42)\n",
    "print(f\"Training set: {X_train.shape}, Test set: {X_test.shape}\")\n"
   ]
  },
  {
   "cell_type": "markdown",
   "id": "93357cdf",
   "metadata": {},
   "source": [
    "TSNE with K-means"
   ]
  },
  {
   "cell_type": "code",
   "execution_count": 21,
   "id": "3ef9709b",
   "metadata": {},
   "outputs": [
    {
     "name": "stdout",
     "output_type": "stream",
     "text": [
      "\n",
      "=== Running t-SNE + K-means Pipeline ===\n",
      "Running t-SNE + K-means pipeline...\n",
      "Running t-SNE dimensionality reduction...\n"
     ]
    },
    {
     "name": "stderr",
     "output_type": "stream",
     "text": [
      "/home/ruksad/Documents/learn/AIandContent/GL-selflearning/descriptive-stats/lectures/gradedAssignments/prog_ml_ds/nlocal/lib/python3.12/site-packages/sklearn/manifold/_t_sne.py:1164: FutureWarning: 'n_iter' was renamed to 'max_iter' in version 1.5 and will be removed in 1.7.\n",
      "  warnings.warn(\n"
     ]
    },
    {
     "name": "stdout",
     "output_type": "stream",
     "text": [
      "t-SNE transformed data shape: (9600, 2)\n",
      "Running K-means clustering...\n",
      "t-SNE + K-means silhouette score: 0.4235\n",
      "Creating PCA model for test set predictions...\n",
      "PCA tansformed trainging data shape:(9600, 50)\n",
      "PCA tranformed test data shape:(2400, 50)\n",
      "Function tsne_kmeans_pipeline executed in 123.7665 seconds\n",
      "\n",
      "Total execution time: 123.7665 seconds\n",
      "Silhouette score: 0.4235\n",
      "Number of clusters: 9600\n"
     ]
    }
   ],
   "source": [
    "from sklearn.manifold import TSNE\n",
    "from sklearn.cluster import KMeans \n",
    "from sklearn.decomposition import PCA\n",
    "from sklearn.metrics import silhouette_score\n",
    "import time \n",
    "\n",
    "@timer_func\n",
    "def tsne_kmeans_pipeline(X_train, X_test, original_data, n_clusters=10):\n",
    "    print(\"Running t-SNE + K-means pipeline...\")\n",
    "    \n",
    "    # Apply t-SNE for dimensionality reduction\n",
    "    print(\"Running t-SNE dimensionality reduction...\")\n",
    "    tsne = TSNE(\n",
    "        init='pca',\n",
    "        learning_rate='auto', \n",
    "        n_components=2, \n",
    "        random_state=42, \n",
    "        perplexity=30, \n",
    "        n_iter=2000\n",
    "    )\n",
    "    X_train_tsne = tsne.fit_transform(X_train)\n",
    "    print(f\"t-SNE transformed data shape: {X_train_tsne.shape}\")\n",
    "    \n",
    "    # Apply K-means clustering\n",
    "    print(\"Running K-means clustering...\")\n",
    "    kmeans = KMeans(n_clusters=n_clusters, random_state=42, n_init=10)\n",
    "    cluster_labels = kmeans.fit_predict(X_train_tsne)\n",
    "    \n",
    "    # Calculate silhouette score for clustering quality\n",
    "    score = silhouette_score(X_train_tsne, cluster_labels)\n",
    "    print(f\"t-SNE + K-means silhouette score: {score:.4f}\")\n",
    "    \n",
    "    # For test set predictions, we need a classifier since t-SNE doesn't generalize to new data points\n",
    "    # Instead, we'll use PCA for the test set as a practical approach\n",
    "    print(\"Creating PCA model for test set predictions...\")\n",
    "    pca = PCA(n_components=50, random_state=42)\n",
    "    X_train_pca = pca.fit_transform(X_train)\n",
    "    X_test_pca = pca.transform(X_test)\n",
    "\n",
    "    print(f\"PCA tansformed trainging data shape:{X_train_pca.shape}\")\n",
    "    print(f\"PCA tranformed test data shape:{X_test_pca.shape}\")\n",
    "    \n",
    "    return {\n",
    "        \"X_train_tsne\": X_train_tsne,\n",
    "        \"clusters\": cluster_labels,\n",
    "        \"X_train_pca\": X_train_pca,\n",
    "        \"X_test_pca\": X_test_pca,\n",
    "        \"score\": score,\n",
    "        \"kmeans\": kmeans,\n",
    "        \"pca\": pca,\n",
    "        \"tsne\": tsne\n",
    "    }\n",
    "\n",
    "# Run the t-SNE + K-means pipeline\n",
    "print(\"\\n=== Running t-SNE + K-means Pipeline ===\")\n",
    "results, execution_time = tsne_kmeans_pipeline(X_train, X_test, reduced_original_data)\n",
    "\n",
    "print(f\"\\nTotal execution time: {execution_time:.4f} seconds\")\n",
    "print(f\"Silhouette score: {results['score']:.4f}\")\n",
    "print(f\"Number of clusters: {len(results['clusters'])}\")"
   ]
  },
  {
   "cell_type": "markdown",
   "id": "443901d1",
   "metadata": {},
   "source": [
    "## Cluster Analysis and Visualization\n",
    "\n",
    "Analyze the distribution of clusters and visualize the results."
   ]
  },
  {
   "cell_type": "code",
   "execution_count": null,
   "id": "9a1a331a",
   "metadata": {},
   "outputs": [],
   "source": [
    "# Print cluster distribution\n",
    "print(\"\\nCluster distribution:\")\n",
    "unique, counts = np.unique(results['clusters'], return_counts=True)\n",
    "for i, (cluster, count) in enumerate(zip(unique, counts)):\n",
    "    print(f\"Cluster {cluster}: {count} samples\")\n",
    "\n",
    "# Visualize clusters in 2D space\n",
    "plt.figure(figsize=(12, 10))\n",
    "plt.scatter(results['X_train_tsne'][:, 0], results['X_train_tsne'][:, 1], \n",
    "            c=results['clusters'], cmap='tab10', marker='.', alpha=0.7)\n",
    "plt.colorbar(label='Cluster Label')\n",
    "plt.title('t-SNE + K-means Clustering Visualization')\n",
    "plt.xlabel('t-SNE Component 1')\n",
    "plt.ylabel('t-SNE Component 2')\n",
    "plt.tight_layout()\n",
    "plt.show()\n",
    "\n",
    "# Output the comprehensive report\n",
    "print(\"\\n========== t-SNE + K-MEANS CLUSTERING REPORT ==========\")\n",
    "print(f\"Silhouette score: {results['score']:.4f}\")\n",
    "print(\"\\nClass distribution:\")\n",
    "for i, (cluster, count) in enumerate(zip(unique, counts)):\n",
    "    print(f\"Cluster {cluster}: {count} samples ({count/len(results['clusters'])*100:.1f}%)\")"
   ]
  }
 ],
 "metadata": {
  "kernelspec": {
   "display_name": "nlocal",
   "language": "python",
   "name": "python3"
  },
  "language_info": {
   "codemirror_mode": {
    "name": "ipython",
    "version": 3
   },
   "file_extension": ".py",
   "mimetype": "text/x-python",
   "name": "python",
   "nbconvert_exporter": "python",
   "pygments_lexer": "ipython3",
   "version": "3.12.3"
  }
 },
 "nbformat": 4,
 "nbformat_minor": 5
}
