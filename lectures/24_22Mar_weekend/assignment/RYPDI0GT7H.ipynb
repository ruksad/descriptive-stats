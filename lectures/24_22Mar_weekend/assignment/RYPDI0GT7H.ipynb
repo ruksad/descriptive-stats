{
  "cells": [
    {
      "cell_type": "markdown",
      "metadata": {
        "id": "8zeXcspEj7hu"
      },
      "source": [
        "**Dataset: Payment Fraud Detection**\n",
        "Dataset link: https://drive.google.com/file/d/1gXW4hqSThkNeLJQnQZatctvzj05bkgqV/view?usp=sharing"
      ]
    },
    {
      "cell_type": "code",
      "execution_count": 4,
      "metadata": {
        "colab": {
          "base_uri": "https://localhost:8080/"
        },
        "id": "mtQC4iKchpdz",
        "outputId": "66697e6a-5243-482d-a875-c26759b72008"
      },
      "outputs": [
        {
          "name": "stdout",
          "output_type": "stream",
          "text": [
            "<class 'pandas.core.frame.DataFrame'>\n",
            "RangeIndex: 51000 entries, 0 to 50999\n",
            "Data columns (total 12 columns):\n",
            " #   Column                            Non-Null Count  Dtype  \n",
            "---  ------                            --------------  -----  \n",
            " 0   Customer_name                     51000 non-null  object \n",
            " 1   User_ID                           51000 non-null  int64  \n",
            " 2   Transaction_Amount                48480 non-null  float64\n",
            " 3   Transaction_Type                  51000 non-null  object \n",
            " 4   Time_of_Transaction               48448 non-null  float64\n",
            " 5   Device_Used                       48527 non-null  object \n",
            " 6   Location                          48453 non-null  object \n",
            " 7   Previous_Fraudulent_Transactions  51000 non-null  int64  \n",
            " 8   Account_Age                       51000 non-null  int64  \n",
            " 9   Number_of_Transactions_Last_24H   51000 non-null  int64  \n",
            " 10  Payment_Method                    48531 non-null  object \n",
            " 11  Target                            51000 non-null  int64  \n",
            "dtypes: float64(2), int64(5), object(5)\n",
            "memory usage: 4.7+ MB\n",
            "None\n"
          ]
        }
      ],
      "source": [
        "# prompt: load the data set from the above google drive\n",
        "\n",
        "import pandas as pd\n",
        "\n",
        "# Load the dataset into a pandas DataFrame\n",
        "fraud_data = pd.read_csv('payment_fraud.csv')\n",
        "\n",
        "# Now you can work with the DataFrame 'df'\n",
        "# For example, display the first few rows:\n",
        "print(fraud_data.info())\n"
      ]
    },
    {
      "cell_type": "code",
      "execution_count": 5,
      "metadata": {},
      "outputs": [
        {
          "data": {
            "application/vnd.microsoft.datawrangler.viewer.v0+json": {
              "columns": [
                {
                  "name": "index",
                  "rawType": "int64",
                  "type": "integer"
                },
                {
                  "name": "Customer_name",
                  "rawType": "object",
                  "type": "string"
                },
                {
                  "name": "User_ID",
                  "rawType": "int64",
                  "type": "integer"
                },
                {
                  "name": "Transaction_Amount",
                  "rawType": "float64",
                  "type": "float"
                },
                {
                  "name": "Transaction_Type",
                  "rawType": "object",
                  "type": "string"
                },
                {
                  "name": "Time_of_Transaction",
                  "rawType": "float64",
                  "type": "float"
                },
                {
                  "name": "Device_Used",
                  "rawType": "object",
                  "type": "string"
                },
                {
                  "name": "Location",
                  "rawType": "object",
                  "type": "unknown"
                },
                {
                  "name": "Previous_Fraudulent_Transactions",
                  "rawType": "int64",
                  "type": "integer"
                },
                {
                  "name": "Account_Age",
                  "rawType": "int64",
                  "type": "integer"
                },
                {
                  "name": "Number_of_Transactions_Last_24H",
                  "rawType": "int64",
                  "type": "integer"
                },
                {
                  "name": "Payment_Method",
                  "rawType": "object",
                  "type": "unknown"
                },
                {
                  "name": "Target",
                  "rawType": "int64",
                  "type": "integer"
                }
              ],
              "conversionMethod": "pd.DataFrame",
              "ref": "65059b34-ac80-4ab6-8efa-0b20eaf4fe98",
              "rows": [
                [
                  "0",
                  "Xr7Yi3Hv6Bk8Yi6T",
                  "4174",
                  "1292.76",
                  "ATM Withdrawal",
                  "16.0",
                  "Tablet",
                  "mumbai",
                  "0",
                  "119",
                  "13",
                  "Debit Card",
                  "0"
                ],
                [
                  "1",
                  "Sj9Ik0Wt6Ky6Mu9U",
                  "4507",
                  "1554.58",
                  "ATM Withdrawal",
                  "13.0",
                  "Mobile",
                  "delhi",
                  "4",
                  "79",
                  "3",
                  "Credit Card",
                  "0"
                ],
                [
                  "2",
                  "Lh9Rf5Dq8Nm3Sx8W",
                  "1860",
                  "2395.02",
                  "ATM Withdrawal",
                  null,
                  "Mobile",
                  null,
                  "3",
                  "115",
                  "9",
                  null,
                  "0"
                ],
                [
                  "3",
                  "Mx3Tn2At7Es9Ox4P",
                  "2294",
                  "100.1",
                  "Bill Payment",
                  "15.0",
                  "Desktop",
                  "bangalore",
                  "4",
                  "3",
                  "4",
                  "UPI",
                  "0"
                ],
                [
                  "4",
                  "Zs2Kd7Vl3On1Gq5E",
                  "2130",
                  "1490.5",
                  "POS Payment",
                  "19.0",
                  "Mobile",
                  "mumbai",
                  "2",
                  "57",
                  "7",
                  "Credit Card",
                  "0"
                ]
              ],
              "shape": {
                "columns": 12,
                "rows": 5
              }
            },
            "text/html": [
              "<div>\n",
              "<style scoped>\n",
              "    .dataframe tbody tr th:only-of-type {\n",
              "        vertical-align: middle;\n",
              "    }\n",
              "\n",
              "    .dataframe tbody tr th {\n",
              "        vertical-align: top;\n",
              "    }\n",
              "\n",
              "    .dataframe thead th {\n",
              "        text-align: right;\n",
              "    }\n",
              "</style>\n",
              "<table border=\"1\" class=\"dataframe\">\n",
              "  <thead>\n",
              "    <tr style=\"text-align: right;\">\n",
              "      <th></th>\n",
              "      <th>Customer_name</th>\n",
              "      <th>User_ID</th>\n",
              "      <th>Transaction_Amount</th>\n",
              "      <th>Transaction_Type</th>\n",
              "      <th>Time_of_Transaction</th>\n",
              "      <th>Device_Used</th>\n",
              "      <th>Location</th>\n",
              "      <th>Previous_Fraudulent_Transactions</th>\n",
              "      <th>Account_Age</th>\n",
              "      <th>Number_of_Transactions_Last_24H</th>\n",
              "      <th>Payment_Method</th>\n",
              "      <th>Target</th>\n",
              "    </tr>\n",
              "  </thead>\n",
              "  <tbody>\n",
              "    <tr>\n",
              "      <th>0</th>\n",
              "      <td>Xr7Yi3Hv6Bk8Yi6T</td>\n",
              "      <td>4174</td>\n",
              "      <td>1292.76</td>\n",
              "      <td>ATM Withdrawal</td>\n",
              "      <td>16.0</td>\n",
              "      <td>Tablet</td>\n",
              "      <td>mumbai</td>\n",
              "      <td>0</td>\n",
              "      <td>119</td>\n",
              "      <td>13</td>\n",
              "      <td>Debit Card</td>\n",
              "      <td>0</td>\n",
              "    </tr>\n",
              "    <tr>\n",
              "      <th>1</th>\n",
              "      <td>Sj9Ik0Wt6Ky6Mu9U</td>\n",
              "      <td>4507</td>\n",
              "      <td>1554.58</td>\n",
              "      <td>ATM Withdrawal</td>\n",
              "      <td>13.0</td>\n",
              "      <td>Mobile</td>\n",
              "      <td>delhi</td>\n",
              "      <td>4</td>\n",
              "      <td>79</td>\n",
              "      <td>3</td>\n",
              "      <td>Credit Card</td>\n",
              "      <td>0</td>\n",
              "    </tr>\n",
              "    <tr>\n",
              "      <th>2</th>\n",
              "      <td>Lh9Rf5Dq8Nm3Sx8W</td>\n",
              "      <td>1860</td>\n",
              "      <td>2395.02</td>\n",
              "      <td>ATM Withdrawal</td>\n",
              "      <td>NaN</td>\n",
              "      <td>Mobile</td>\n",
              "      <td>NaN</td>\n",
              "      <td>3</td>\n",
              "      <td>115</td>\n",
              "      <td>9</td>\n",
              "      <td>NaN</td>\n",
              "      <td>0</td>\n",
              "    </tr>\n",
              "    <tr>\n",
              "      <th>3</th>\n",
              "      <td>Mx3Tn2At7Es9Ox4P</td>\n",
              "      <td>2294</td>\n",
              "      <td>100.10</td>\n",
              "      <td>Bill Payment</td>\n",
              "      <td>15.0</td>\n",
              "      <td>Desktop</td>\n",
              "      <td>bangalore</td>\n",
              "      <td>4</td>\n",
              "      <td>3</td>\n",
              "      <td>4</td>\n",
              "      <td>UPI</td>\n",
              "      <td>0</td>\n",
              "    </tr>\n",
              "    <tr>\n",
              "      <th>4</th>\n",
              "      <td>Zs2Kd7Vl3On1Gq5E</td>\n",
              "      <td>2130</td>\n",
              "      <td>1490.50</td>\n",
              "      <td>POS Payment</td>\n",
              "      <td>19.0</td>\n",
              "      <td>Mobile</td>\n",
              "      <td>mumbai</td>\n",
              "      <td>2</td>\n",
              "      <td>57</td>\n",
              "      <td>7</td>\n",
              "      <td>Credit Card</td>\n",
              "      <td>0</td>\n",
              "    </tr>\n",
              "  </tbody>\n",
              "</table>\n",
              "</div>"
            ],
            "text/plain": [
              "      Customer_name  User_ID  Transaction_Amount Transaction_Type  \\\n",
              "0  Xr7Yi3Hv6Bk8Yi6T     4174             1292.76   ATM Withdrawal   \n",
              "1  Sj9Ik0Wt6Ky6Mu9U     4507             1554.58   ATM Withdrawal   \n",
              "2  Lh9Rf5Dq8Nm3Sx8W     1860             2395.02   ATM Withdrawal   \n",
              "3  Mx3Tn2At7Es9Ox4P     2294              100.10     Bill Payment   \n",
              "4  Zs2Kd7Vl3On1Gq5E     2130             1490.50      POS Payment   \n",
              "\n",
              "   Time_of_Transaction Device_Used   Location  \\\n",
              "0                 16.0      Tablet     mumbai   \n",
              "1                 13.0      Mobile      delhi   \n",
              "2                  NaN      Mobile        NaN   \n",
              "3                 15.0     Desktop  bangalore   \n",
              "4                 19.0      Mobile     mumbai   \n",
              "\n",
              "   Previous_Fraudulent_Transactions  Account_Age  \\\n",
              "0                                 0          119   \n",
              "1                                 4           79   \n",
              "2                                 3          115   \n",
              "3                                 4            3   \n",
              "4                                 2           57   \n",
              "\n",
              "   Number_of_Transactions_Last_24H Payment_Method  Target  \n",
              "0                               13     Debit Card       0  \n",
              "1                                3    Credit Card       0  \n",
              "2                                9            NaN       0  \n",
              "3                                4            UPI       0  \n",
              "4                                7    Credit Card       0  "
            ]
          },
          "execution_count": 5,
          "metadata": {},
          "output_type": "execute_result"
        }
      ],
      "source": [
        "fraud_data.head()"
      ]
    },
    {
      "cell_type": "code",
      "execution_count": 6,
      "metadata": {},
      "outputs": [
        {
          "data": {
            "text/plain": [
              "(51000, 12)"
            ]
          },
          "execution_count": 6,
          "metadata": {},
          "output_type": "execute_result"
        }
      ],
      "source": [
        "fraud_data.shape"
      ]
    },
    {
      "cell_type": "code",
      "execution_count": 7,
      "metadata": {},
      "outputs": [
        {
          "data": {
            "application/vnd.microsoft.datawrangler.viewer.v0+json": {
              "columns": [
                {
                  "name": "index",
                  "rawType": "object",
                  "type": "string"
                },
                {
                  "name": "User_ID",
                  "rawType": "float64",
                  "type": "float"
                },
                {
                  "name": "Transaction_Amount",
                  "rawType": "float64",
                  "type": "float"
                },
                {
                  "name": "Time_of_Transaction",
                  "rawType": "float64",
                  "type": "float"
                },
                {
                  "name": "Previous_Fraudulent_Transactions",
                  "rawType": "float64",
                  "type": "float"
                },
                {
                  "name": "Account_Age",
                  "rawType": "float64",
                  "type": "float"
                },
                {
                  "name": "Number_of_Transactions_Last_24H",
                  "rawType": "float64",
                  "type": "float"
                },
                {
                  "name": "Target",
                  "rawType": "float64",
                  "type": "float"
                }
              ],
              "conversionMethod": "pd.DataFrame",
              "ref": "56f3f07b-d581-41aa-b6e8-17de4e64c045",
              "rows": [
                [
                  "count",
                  "51000.0",
                  "48480.0",
                  "48448.0",
                  "51000.0",
                  "51000.0",
                  "51000.0",
                  "51000.0"
                ],
                [
                  "mean",
                  "3005.110176470588",
                  "2996.249784447195",
                  "11.488399933949802",
                  "1.9957254901960784",
                  "60.03390196078431",
                  "7.495588235294117",
                  "0.049215686274509805"
                ],
                [
                  "std",
                  "1153.1211069519763",
                  "5043.932554753885",
                  "6.9229539419594435",
                  "1.415149620062465",
                  "34.384131272614916",
                  "4.020079914324841",
                  "0.216320179448628"
                ],
                [
                  "min",
                  "1000.0",
                  "5.03",
                  "0.0",
                  "0.0",
                  "1.0",
                  "1.0",
                  "0.0"
                ],
                [
                  "25%",
                  "2007.0",
                  "1270.5525",
                  "5.0",
                  "1.0",
                  "30.0",
                  "4.0",
                  "0.0"
                ],
                [
                  "50%",
                  "2996.0",
                  "2524.1000000000004",
                  "12.0",
                  "2.0",
                  "60.0",
                  "7.0",
                  "0.0"
                ],
                [
                  "75%",
                  "4006.0",
                  "3787.2400000000002",
                  "17.0",
                  "3.0",
                  "90.0",
                  "11.0",
                  "0.0"
                ],
                [
                  "max",
                  "4999.0",
                  "49997.8",
                  "23.0",
                  "4.0",
                  "119.0",
                  "14.0",
                  "1.0"
                ]
              ],
              "shape": {
                "columns": 7,
                "rows": 8
              }
            },
            "text/html": [
              "<div>\n",
              "<style scoped>\n",
              "    .dataframe tbody tr th:only-of-type {\n",
              "        vertical-align: middle;\n",
              "    }\n",
              "\n",
              "    .dataframe tbody tr th {\n",
              "        vertical-align: top;\n",
              "    }\n",
              "\n",
              "    .dataframe thead th {\n",
              "        text-align: right;\n",
              "    }\n",
              "</style>\n",
              "<table border=\"1\" class=\"dataframe\">\n",
              "  <thead>\n",
              "    <tr style=\"text-align: right;\">\n",
              "      <th></th>\n",
              "      <th>User_ID</th>\n",
              "      <th>Transaction_Amount</th>\n",
              "      <th>Time_of_Transaction</th>\n",
              "      <th>Previous_Fraudulent_Transactions</th>\n",
              "      <th>Account_Age</th>\n",
              "      <th>Number_of_Transactions_Last_24H</th>\n",
              "      <th>Target</th>\n",
              "    </tr>\n",
              "  </thead>\n",
              "  <tbody>\n",
              "    <tr>\n",
              "      <th>count</th>\n",
              "      <td>51000.000000</td>\n",
              "      <td>48480.000000</td>\n",
              "      <td>48448.000000</td>\n",
              "      <td>51000.000000</td>\n",
              "      <td>51000.000000</td>\n",
              "      <td>51000.000000</td>\n",
              "      <td>51000.000000</td>\n",
              "    </tr>\n",
              "    <tr>\n",
              "      <th>mean</th>\n",
              "      <td>3005.110176</td>\n",
              "      <td>2996.249784</td>\n",
              "      <td>11.488400</td>\n",
              "      <td>1.995725</td>\n",
              "      <td>60.033902</td>\n",
              "      <td>7.495588</td>\n",
              "      <td>0.049216</td>\n",
              "    </tr>\n",
              "    <tr>\n",
              "      <th>std</th>\n",
              "      <td>1153.121107</td>\n",
              "      <td>5043.932555</td>\n",
              "      <td>6.922954</td>\n",
              "      <td>1.415150</td>\n",
              "      <td>34.384131</td>\n",
              "      <td>4.020080</td>\n",
              "      <td>0.216320</td>\n",
              "    </tr>\n",
              "    <tr>\n",
              "      <th>min</th>\n",
              "      <td>1000.000000</td>\n",
              "      <td>5.030000</td>\n",
              "      <td>0.000000</td>\n",
              "      <td>0.000000</td>\n",
              "      <td>1.000000</td>\n",
              "      <td>1.000000</td>\n",
              "      <td>0.000000</td>\n",
              "    </tr>\n",
              "    <tr>\n",
              "      <th>25%</th>\n",
              "      <td>2007.000000</td>\n",
              "      <td>1270.552500</td>\n",
              "      <td>5.000000</td>\n",
              "      <td>1.000000</td>\n",
              "      <td>30.000000</td>\n",
              "      <td>4.000000</td>\n",
              "      <td>0.000000</td>\n",
              "    </tr>\n",
              "    <tr>\n",
              "      <th>50%</th>\n",
              "      <td>2996.000000</td>\n",
              "      <td>2524.100000</td>\n",
              "      <td>12.000000</td>\n",
              "      <td>2.000000</td>\n",
              "      <td>60.000000</td>\n",
              "      <td>7.000000</td>\n",
              "      <td>0.000000</td>\n",
              "    </tr>\n",
              "    <tr>\n",
              "      <th>75%</th>\n",
              "      <td>4006.000000</td>\n",
              "      <td>3787.240000</td>\n",
              "      <td>17.000000</td>\n",
              "      <td>3.000000</td>\n",
              "      <td>90.000000</td>\n",
              "      <td>11.000000</td>\n",
              "      <td>0.000000</td>\n",
              "    </tr>\n",
              "    <tr>\n",
              "      <th>max</th>\n",
              "      <td>4999.000000</td>\n",
              "      <td>49997.800000</td>\n",
              "      <td>23.000000</td>\n",
              "      <td>4.000000</td>\n",
              "      <td>119.000000</td>\n",
              "      <td>14.000000</td>\n",
              "      <td>1.000000</td>\n",
              "    </tr>\n",
              "  </tbody>\n",
              "</table>\n",
              "</div>"
            ],
            "text/plain": [
              "            User_ID  Transaction_Amount  Time_of_Transaction  \\\n",
              "count  51000.000000        48480.000000         48448.000000   \n",
              "mean    3005.110176         2996.249784            11.488400   \n",
              "std     1153.121107         5043.932555             6.922954   \n",
              "min     1000.000000            5.030000             0.000000   \n",
              "25%     2007.000000         1270.552500             5.000000   \n",
              "50%     2996.000000         2524.100000            12.000000   \n",
              "75%     4006.000000         3787.240000            17.000000   \n",
              "max     4999.000000        49997.800000            23.000000   \n",
              "\n",
              "       Previous_Fraudulent_Transactions   Account_Age  \\\n",
              "count                      51000.000000  51000.000000   \n",
              "mean                           1.995725     60.033902   \n",
              "std                            1.415150     34.384131   \n",
              "min                            0.000000      1.000000   \n",
              "25%                            1.000000     30.000000   \n",
              "50%                            2.000000     60.000000   \n",
              "75%                            3.000000     90.000000   \n",
              "max                            4.000000    119.000000   \n",
              "\n",
              "       Number_of_Transactions_Last_24H        Target  \n",
              "count                     51000.000000  51000.000000  \n",
              "mean                          7.495588      0.049216  \n",
              "std                           4.020080      0.216320  \n",
              "min                           1.000000      0.000000  \n",
              "25%                           4.000000      0.000000  \n",
              "50%                           7.000000      0.000000  \n",
              "75%                          11.000000      0.000000  \n",
              "max                          14.000000      1.000000  "
            ]
          },
          "execution_count": 7,
          "metadata": {},
          "output_type": "execute_result"
        }
      ],
      "source": [
        "fraud_data.describe()\n"
      ]
    },
    {
      "cell_type": "markdown",
      "metadata": {},
      "source": [
        "1. Create and analyze descriptive statistics for each column in the dataset. Include measures such as mean, median, standard deviation, min/max, 25th / 50th / 75th percentiles,skewness, and kurtosis values for numerical columns, and frequency counts and mode for categorical columns. Based on the descriptive statistics, summarize your findings about each feature."
      ]
    },
    {
      "cell_type": "code",
      "execution_count": null,
      "metadata": {},
      "outputs": [
        {
          "name": "stdout",
          "output_type": "stream",
          "text": [
            "Numerical Columns Descriptive Statistics:\n"
          ]
        },
        {
          "data": {
            "application/vnd.microsoft.datawrangler.viewer.v0+json": {
              "columns": [
                {
                  "name": "index",
                  "rawType": "object",
                  "type": "string"
                },
                {
                  "name": "count",
                  "rawType": "float64",
                  "type": "float"
                },
                {
                  "name": "mean",
                  "rawType": "float64",
                  "type": "float"
                },
                {
                  "name": "std",
                  "rawType": "float64",
                  "type": "float"
                },
                {
                  "name": "min",
                  "rawType": "float64",
                  "type": "float"
                },
                {
                  "name": "25%",
                  "rawType": "float64",
                  "type": "float"
                },
                {
                  "name": "50%",
                  "rawType": "float64",
                  "type": "float"
                },
                {
                  "name": "75%",
                  "rawType": "float64",
                  "type": "float"
                },
                {
                  "name": "max",
                  "rawType": "float64",
                  "type": "float"
                },
                {
                  "name": "skewness",
                  "rawType": "float64",
                  "type": "float"
                },
                {
                  "name": "kurtosis",
                  "rawType": "float64",
                  "type": "float"
                },
                {
                  "name": "mode",
                  "rawType": "float64",
                  "type": "float"
                }
              ],
              "conversionMethod": "pd.DataFrame",
              "ref": "8e15d2b5-139b-42db-ac8e-28102061ff8f",
              "rows": [
                [
                  "User_ID",
                  "51000.0",
                  "3005.110176470588",
                  "1153.1211069519763",
                  "1000.0",
                  "2007.0",
                  "2996.0",
                  "4006.0",
                  "4999.0",
                  "-0.0015652995935456276",
                  "-1.2012131685065124",
                  "3134.0"
                ],
                [
                  "Transaction_Amount",
                  "48480.0",
                  "2996.249784447195",
                  "5043.932554753885",
                  "5.03",
                  "1270.5525",
                  "2524.1000000000004",
                  "3787.2400000000002",
                  "49997.8",
                  null,
                  null,
                  null
                ],
                [
                  "Time_of_Transaction",
                  "48448.0",
                  "11.488399933949802",
                  "6.9229539419594435",
                  "0.0",
                  "5.0",
                  "12.0",
                  "17.0",
                  "23.0",
                  null,
                  null,
                  null
                ],
                [
                  "Previous_Fraudulent_Transactions",
                  "51000.0",
                  "1.9957254901960784",
                  "1.415149620062465",
                  "0.0",
                  "1.0",
                  "2.0",
                  "3.0",
                  "4.0",
                  "0.0044399143149363015",
                  "-1.2987859072927448",
                  "2.0"
                ],
                [
                  "Account_Age",
                  "51000.0",
                  "60.03390196078431",
                  "34.384131272614916",
                  "1.0",
                  "30.0",
                  "60.0",
                  "90.0",
                  "119.0",
                  "-0.0029704572181873225",
                  "-1.197096477888213",
                  "29.0"
                ],
                [
                  "Number_of_Transactions_Last_24H",
                  "51000.0",
                  "7.495588235294117",
                  "4.020079914324841",
                  "1.0",
                  "4.0",
                  "7.0",
                  "11.0",
                  "14.0",
                  "0.005220238508390981",
                  "-1.205375422309388",
                  "5.0"
                ],
                [
                  "Target",
                  "51000.0",
                  "0.049215686274509805",
                  "0.216320179448628",
                  "0.0",
                  "0.0",
                  "0.0",
                  "0.0",
                  "1.0",
                  "4.167791783397566",
                  "15.370488349756265",
                  "0.0"
                ]
              ],
              "shape": {
                "columns": 11,
                "rows": 7
              }
            },
            "text/html": [
              "<div>\n",
              "<style scoped>\n",
              "    .dataframe tbody tr th:only-of-type {\n",
              "        vertical-align: middle;\n",
              "    }\n",
              "\n",
              "    .dataframe tbody tr th {\n",
              "        vertical-align: top;\n",
              "    }\n",
              "\n",
              "    .dataframe thead th {\n",
              "        text-align: right;\n",
              "    }\n",
              "</style>\n",
              "<table border=\"1\" class=\"dataframe\">\n",
              "  <thead>\n",
              "    <tr style=\"text-align: right;\">\n",
              "      <th></th>\n",
              "      <th>count</th>\n",
              "      <th>mean</th>\n",
              "      <th>std</th>\n",
              "      <th>min</th>\n",
              "      <th>25%</th>\n",
              "      <th>50%</th>\n",
              "      <th>75%</th>\n",
              "      <th>max</th>\n",
              "      <th>skewness</th>\n",
              "      <th>kurtosis</th>\n",
              "      <th>mode</th>\n",
              "    </tr>\n",
              "  </thead>\n",
              "  <tbody>\n",
              "    <tr>\n",
              "      <th>User_ID</th>\n",
              "      <td>51000.0</td>\n",
              "      <td>3005.110176</td>\n",
              "      <td>1153.121107</td>\n",
              "      <td>1000.00</td>\n",
              "      <td>2007.0000</td>\n",
              "      <td>2996.0</td>\n",
              "      <td>4006.00</td>\n",
              "      <td>4999.0</td>\n",
              "      <td>-0.001565</td>\n",
              "      <td>-1.201213</td>\n",
              "      <td>3134.0</td>\n",
              "    </tr>\n",
              "    <tr>\n",
              "      <th>Transaction_Amount</th>\n",
              "      <td>48480.0</td>\n",
              "      <td>2996.249784</td>\n",
              "      <td>5043.932555</td>\n",
              "      <td>5.03</td>\n",
              "      <td>1270.5525</td>\n",
              "      <td>2524.1</td>\n",
              "      <td>3787.24</td>\n",
              "      <td>49997.8</td>\n",
              "      <td>NaN</td>\n",
              "      <td>NaN</td>\n",
              "      <td>NaN</td>\n",
              "    </tr>\n",
              "    <tr>\n",
              "      <th>Time_of_Transaction</th>\n",
              "      <td>48448.0</td>\n",
              "      <td>11.488400</td>\n",
              "      <td>6.922954</td>\n",
              "      <td>0.00</td>\n",
              "      <td>5.0000</td>\n",
              "      <td>12.0</td>\n",
              "      <td>17.00</td>\n",
              "      <td>23.0</td>\n",
              "      <td>NaN</td>\n",
              "      <td>NaN</td>\n",
              "      <td>NaN</td>\n",
              "    </tr>\n",
              "    <tr>\n",
              "      <th>Previous_Fraudulent_Transactions</th>\n",
              "      <td>51000.0</td>\n",
              "      <td>1.995725</td>\n",
              "      <td>1.415150</td>\n",
              "      <td>0.00</td>\n",
              "      <td>1.0000</td>\n",
              "      <td>2.0</td>\n",
              "      <td>3.00</td>\n",
              "      <td>4.0</td>\n",
              "      <td>0.004440</td>\n",
              "      <td>-1.298786</td>\n",
              "      <td>2.0</td>\n",
              "    </tr>\n",
              "    <tr>\n",
              "      <th>Account_Age</th>\n",
              "      <td>51000.0</td>\n",
              "      <td>60.033902</td>\n",
              "      <td>34.384131</td>\n",
              "      <td>1.00</td>\n",
              "      <td>30.0000</td>\n",
              "      <td>60.0</td>\n",
              "      <td>90.00</td>\n",
              "      <td>119.0</td>\n",
              "      <td>-0.002970</td>\n",
              "      <td>-1.197096</td>\n",
              "      <td>29.0</td>\n",
              "    </tr>\n",
              "    <tr>\n",
              "      <th>Number_of_Transactions_Last_24H</th>\n",
              "      <td>51000.0</td>\n",
              "      <td>7.495588</td>\n",
              "      <td>4.020080</td>\n",
              "      <td>1.00</td>\n",
              "      <td>4.0000</td>\n",
              "      <td>7.0</td>\n",
              "      <td>11.00</td>\n",
              "      <td>14.0</td>\n",
              "      <td>0.005220</td>\n",
              "      <td>-1.205375</td>\n",
              "      <td>5.0</td>\n",
              "    </tr>\n",
              "    <tr>\n",
              "      <th>Target</th>\n",
              "      <td>51000.0</td>\n",
              "      <td>0.049216</td>\n",
              "      <td>0.216320</td>\n",
              "      <td>0.00</td>\n",
              "      <td>0.0000</td>\n",
              "      <td>0.0</td>\n",
              "      <td>0.00</td>\n",
              "      <td>1.0</td>\n",
              "      <td>4.167792</td>\n",
              "      <td>15.370488</td>\n",
              "      <td>0.0</td>\n",
              "    </tr>\n",
              "  </tbody>\n",
              "</table>\n",
              "</div>"
            ],
            "text/plain": [
              "                                    count         mean          std      min  \\\n",
              "User_ID                           51000.0  3005.110176  1153.121107  1000.00   \n",
              "Transaction_Amount                48480.0  2996.249784  5043.932555     5.03   \n",
              "Time_of_Transaction               48448.0    11.488400     6.922954     0.00   \n",
              "Previous_Fraudulent_Transactions  51000.0     1.995725     1.415150     0.00   \n",
              "Account_Age                       51000.0    60.033902    34.384131     1.00   \n",
              "Number_of_Transactions_Last_24H   51000.0     7.495588     4.020080     1.00   \n",
              "Target                            51000.0     0.049216     0.216320     0.00   \n",
              "\n",
              "                                        25%     50%      75%      max  \\\n",
              "User_ID                           2007.0000  2996.0  4006.00   4999.0   \n",
              "Transaction_Amount                1270.5525  2524.1  3787.24  49997.8   \n",
              "Time_of_Transaction                  5.0000    12.0    17.00     23.0   \n",
              "Previous_Fraudulent_Transactions     1.0000     2.0     3.00      4.0   \n",
              "Account_Age                         30.0000    60.0    90.00    119.0   \n",
              "Number_of_Transactions_Last_24H      4.0000     7.0    11.00     14.0   \n",
              "Target                               0.0000     0.0     0.00      1.0   \n",
              "\n",
              "                                  skewness   kurtosis    mode  \n",
              "User_ID                          -0.001565  -1.201213  3134.0  \n",
              "Transaction_Amount                     NaN        NaN     NaN  \n",
              "Time_of_Transaction                    NaN        NaN     NaN  \n",
              "Previous_Fraudulent_Transactions  0.004440  -1.298786     2.0  \n",
              "Account_Age                      -0.002970  -1.197096    29.0  \n",
              "Number_of_Transactions_Last_24H   0.005220  -1.205375     5.0  \n",
              "Target                            4.167792  15.370488     0.0  "
            ]
          },
          "execution_count": 24,
          "metadata": {},
          "output_type": "execute_result"
        }
      ],
      "source": [
        "# Numerical Stats\n",
        "from scipy.stats import skew, kurtosis, mode\n",
        "num_fraud_data_col= fraud_data.select_dtypes(include=['float64','int64']).columns\n",
        "numerical_stats= fraud_data[num_fraud_data_col].describe().T\n",
        "numerical_stats['skewness']= fraud_data[num_fraud_data_col].apply(lambda x: skew(x))\n",
        "numerical_stats['kurtosis']= fraud_data[num_fraud_data_col].apply(lambda x: kurtosis(x))\n",
        "numerical_stats['mode']= fraud_data[num_fraud_data_col].apply(lambda x: mode(x)[0])\n",
        "\n",
        "print(\"Numerical Columns Descriptive Statistics:\")\n",
        "\n",
        "numerical_stats"
      ]
    },
    {
      "cell_type": "code",
      "execution_count": 39,
      "metadata": {},
      "outputs": [
        {
          "name": "stdout",
          "output_type": "stream",
          "text": [
            "\n",
            "Categorical Columns Descriptive Statistics:\n",
            "\n",
            "Column: Customer_name\n",
            "Mode: Aa0Cc2Gy9Df8Bj4Y\n",
            "Frequency Counts:\n",
            "Customer_name\n",
            "Ow9Nk7Ka1Mp3Qx4E    1\n",
            "Xr7Yi3Hv6Bk8Yi6T    1\n",
            "Sj9Ik0Wt6Ky6Mu9U    1\n",
            "Lh9Rf5Dq8Nm3Sx8W    1\n",
            "Mx3Tn2At7Es9Ox4P    1\n",
            "                   ..\n",
            "Qw4Cm9Bm0Vr2Ua4F    1\n",
            "Nr1Jd4Hj7Ye1Fw9X    1\n",
            "Zh8Nq2Ma3Sa2Cg3V    1\n",
            "Yi4Pk7Yx9Ka4Mo6G    1\n",
            "Sd7Pb7Kv0Qx9Jp2U    1\n",
            "Name: count, Length: 51000, dtype: int64\n",
            "\n",
            "Column: Transaction_Type\n",
            "Mode: Bill Payment\n",
            "Frequency Counts:\n",
            "Transaction_Type\n",
            "Bill Payment       10340\n",
            "Bank Transfer      10276\n",
            "ATM Withdrawal     10164\n",
            "POS Payment        10126\n",
            "Online Purchase    10094\n",
            "Name: count, dtype: int64\n",
            "\n",
            "Column: Device_Used\n",
            "Mode: Desktop\n",
            "Frequency Counts:\n",
            "Device_Used\n",
            "Desktop           15795\n",
            "Mobile            15614\n",
            "Tablet            15588\n",
            "Unknown Device     1530\n",
            "Name: count, dtype: int64\n",
            "\n",
            "Column: Location\n",
            "Mode: chennai\n",
            "Frequency Counts:\n",
            "Location\n",
            "chennai      6149\n",
            "delhi        6110\n",
            "pune         6104\n",
            "bangalore    6071\n",
            "kolkata      6031\n",
            "Ahmedabad    6012\n",
            "hydrabad     5991\n",
            "mumbai       5985\n",
            "Name: count, dtype: int64\n",
            "\n",
            "Column: Payment_Method\n",
            "Mode: UPI\n",
            "Frequency Counts:\n",
            "Payment_Method\n",
            "UPI               11887\n",
            "Debit Card        11802\n",
            "Net Banking       11666\n",
            "Credit Card       11646\n",
            "Invalid Method     1530\n",
            "Name: count, dtype: int64\n"
          ]
        }
      ],
      "source": [
        "# Categorical column stats\n",
        "\n",
        "cat_col= fraud_data.select_dtypes(include=['object']).columns\n",
        "cat_stats= {}\n",
        "\n",
        "\n",
        "for col in cat_col:\n",
        "    cat_stats[col]= {\n",
        "        'mode': fraud_data[col].mode()[0],\n",
        "        'frequency_counts': fraud_data[col].value_counts()\n",
        "    }\n",
        "\n",
        "print(\"\\nCategorical Columns Descriptive Statistics:\")\n",
        "for col, stats in cat_stats.items():\n",
        "    print(f\"\\nColumn: {col}\")\n",
        "    print(f\"Mode: {stats['mode']}\")\n",
        "    print(\"Frequency Counts:\")\n",
        "    print(stats['frequency_counts'])"
      ]
    },
    {
      "cell_type": "markdown",
      "metadata": {},
      "source": [
        "2. Analyze missing values in the dataset:\n",
        "(a) Identify which features contain missing values and quantify them both in terms of\n",
        "rows and columns.\n",
        "(b) Create appropriate visualization(s) to clearly display the pattern of missing values\n",
        "across the entire dataset. (Hint: can you create a plot which contains a rectangular\n",
        "block representing the entire dataset, with missing values highlighted in a different\n",
        "colour within this block?)\n",
        "(c) Based on your observations, propose and implement appropriate handling strategies for the missing values. Justify your approach for each feature.\n",
        "(d) After implementing your strategy, report the final data size. Are there any rows or\n",
        "columns that were completely dropped? Explain why."
      ]
    }
  ],
  "metadata": {
    "colab": {
      "provenance": []
    },
    "kernelspec": {
      "display_name": "local",
      "language": "python",
      "name": "python3"
    },
    "language_info": {
      "codemirror_mode": {
        "name": "ipython",
        "version": 3
      },
      "file_extension": ".py",
      "mimetype": "text/x-python",
      "name": "python",
      "nbconvert_exporter": "python",
      "pygments_lexer": "ipython3",
      "version": "3.12.3"
    }
  },
  "nbformat": 4,
  "nbformat_minor": 0
}
