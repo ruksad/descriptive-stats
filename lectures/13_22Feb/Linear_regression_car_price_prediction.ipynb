{
 "cells": [
  {
   "cell_type": "markdown",
   "metadata": {},
   "source": [
    "# Learn Linear regression \n",
    "https://medium.com/@diellorhoxhaj/linear-regression-car-price-prediction-and-data-analysis-112883cdd39b"
   ]
  },
  {
   "cell_type": "markdown",
   "metadata": {},
   "source": [
    "Consider there’s a client that specializes in trading used cars across different states in the US. As a Data Scientist, you are given the task of creating an automated system that predicts the selling price of cars based on various features (information) such as the car’s model name, manufacture year, the current price when bought new, kilometers driven, fuels type and owners it had.\n",
    "\n",
    "The price estimations from your system will be used to set a competitive selling price for the cars in the used car market, also it will gain trust from customers, by providing detailed explanations for the predicted selling price outputted by your system.\n",
    "\n",
    "You are given a CSV file containing accurate historical data, which includes features and their actual selling prices. Your task is to use this data to build a reliable system that can predict car prices of any other car you might want to sell that’s not part of this set."
   ]
  },
  {
   "cell_type": "code",
   "execution_count": null,
   "metadata": {},
   "outputs": [
    {
     "data": {
      "application/vnd.microsoft.datawrangler.viewer.v0+json": {
       "columns": [
        {
         "name": "index",
         "rawType": "int64",
         "type": "integer"
        },
        {
         "name": "Car_Name",
         "rawType": "object",
         "type": "string"
        },
        {
         "name": "Year",
         "rawType": "int64",
         "type": "integer"
        },
        {
         "name": "Selling_Price",
         "rawType": "float64",
         "type": "float"
        },
        {
         "name": "Present_Price",
         "rawType": "float64",
         "type": "float"
        },
        {
         "name": "Kms_Driven",
         "rawType": "int64",
         "type": "integer"
        },
        {
         "name": "Fuel_Type",
         "rawType": "object",
         "type": "string"
        },
        {
         "name": "Seller_Type",
         "rawType": "object",
         "type": "string"
        },
        {
         "name": "Transmission",
         "rawType": "object",
         "type": "string"
        },
        {
         "name": "Owner",
         "rawType": "int64",
         "type": "integer"
        }
       ],
       "conversionMethod": "pd.DataFrame",
       "ref": "a1cff5f3-ae91-458c-b8ba-2ccc8025aa4d",
       "rows": [
        [
         "0",
         "ritz",
         "2014",
         "3.35",
         "5.59",
         "27000",
         "Petrol",
         "Dealer",
         "Manual",
         "0"
        ],
        [
         "1",
         "sx4",
         "2013",
         "4.75",
         "9.54",
         "43000",
         "Diesel",
         "Dealer",
         "Manual",
         "0"
        ],
        [
         "2",
         "ciaz",
         "2017",
         "7.25",
         "9.85",
         "6900",
         "Petrol",
         "Dealer",
         "Manual",
         "0"
        ],
        [
         "3",
         "wagon r",
         "2011",
         "2.85",
         "4.15",
         "5200",
         "Petrol",
         "Dealer",
         "Manual",
         "0"
        ],
        [
         "4",
         "swift",
         "2014",
         "4.6",
         "6.87",
         "42450",
         "Diesel",
         "Dealer",
         "Manual",
         "0"
        ]
       ],
       "shape": {
        "columns": 9,
        "rows": 5
       }
      },
      "text/html": [
       "<div>\n",
       "<style scoped>\n",
       "    .dataframe tbody tr th:only-of-type {\n",
       "        vertical-align: middle;\n",
       "    }\n",
       "\n",
       "    .dataframe tbody tr th {\n",
       "        vertical-align: top;\n",
       "    }\n",
       "\n",
       "    .dataframe thead th {\n",
       "        text-align: right;\n",
       "    }\n",
       "</style>\n",
       "<table border=\"1\" class=\"dataframe\">\n",
       "  <thead>\n",
       "    <tr style=\"text-align: right;\">\n",
       "      <th></th>\n",
       "      <th>Car_Name</th>\n",
       "      <th>Year</th>\n",
       "      <th>Selling_Price</th>\n",
       "      <th>Present_Price</th>\n",
       "      <th>Kms_Driven</th>\n",
       "      <th>Fuel_Type</th>\n",
       "      <th>Seller_Type</th>\n",
       "      <th>Transmission</th>\n",
       "      <th>Owner</th>\n",
       "    </tr>\n",
       "  </thead>\n",
       "  <tbody>\n",
       "    <tr>\n",
       "      <th>0</th>\n",
       "      <td>ritz</td>\n",
       "      <td>2014</td>\n",
       "      <td>3.35</td>\n",
       "      <td>5.59</td>\n",
       "      <td>27000</td>\n",
       "      <td>Petrol</td>\n",
       "      <td>Dealer</td>\n",
       "      <td>Manual</td>\n",
       "      <td>0</td>\n",
       "    </tr>\n",
       "    <tr>\n",
       "      <th>1</th>\n",
       "      <td>sx4</td>\n",
       "      <td>2013</td>\n",
       "      <td>4.75</td>\n",
       "      <td>9.54</td>\n",
       "      <td>43000</td>\n",
       "      <td>Diesel</td>\n",
       "      <td>Dealer</td>\n",
       "      <td>Manual</td>\n",
       "      <td>0</td>\n",
       "    </tr>\n",
       "    <tr>\n",
       "      <th>2</th>\n",
       "      <td>ciaz</td>\n",
       "      <td>2017</td>\n",
       "      <td>7.25</td>\n",
       "      <td>9.85</td>\n",
       "      <td>6900</td>\n",
       "      <td>Petrol</td>\n",
       "      <td>Dealer</td>\n",
       "      <td>Manual</td>\n",
       "      <td>0</td>\n",
       "    </tr>\n",
       "    <tr>\n",
       "      <th>3</th>\n",
       "      <td>wagon r</td>\n",
       "      <td>2011</td>\n",
       "      <td>2.85</td>\n",
       "      <td>4.15</td>\n",
       "      <td>5200</td>\n",
       "      <td>Petrol</td>\n",
       "      <td>Dealer</td>\n",
       "      <td>Manual</td>\n",
       "      <td>0</td>\n",
       "    </tr>\n",
       "    <tr>\n",
       "      <th>4</th>\n",
       "      <td>swift</td>\n",
       "      <td>2014</td>\n",
       "      <td>4.60</td>\n",
       "      <td>6.87</td>\n",
       "      <td>42450</td>\n",
       "      <td>Diesel</td>\n",
       "      <td>Dealer</td>\n",
       "      <td>Manual</td>\n",
       "      <td>0</td>\n",
       "    </tr>\n",
       "  </tbody>\n",
       "</table>\n",
       "</div>"
      ],
      "text/plain": [
       "  Car_Name  Year  Selling_Price  Present_Price  Kms_Driven Fuel_Type  \\\n",
       "0     ritz  2014           3.35           5.59       27000    Petrol   \n",
       "1      sx4  2013           4.75           9.54       43000    Diesel   \n",
       "2     ciaz  2017           7.25           9.85        6900    Petrol   \n",
       "3  wagon r  2011           2.85           4.15        5200    Petrol   \n",
       "4    swift  2014           4.60           6.87       42450    Diesel   \n",
       "\n",
       "  Seller_Type Transmission  Owner  \n",
       "0      Dealer       Manual      0  \n",
       "1      Dealer       Manual      0  \n",
       "2      Dealer       Manual      0  \n",
       "3      Dealer       Manual      0  \n",
       "4      Dealer       Manual      0  "
      ]
     },
     "execution_count": 2,
     "metadata": {},
     "output_type": "execute_result"
    }
   ],
   "source": [
    "import pandas as pd \n",
    "\n",
    "car_data= pd.read_csv('car_data.csv')\n",
    "\n",
    "car_data.head() # shows the first 5 rows of the data"
   ]
  },
  {
   "cell_type": "code",
   "execution_count": 28,
   "metadata": {},
   "outputs": [
    {
     "name": "stdout",
     "output_type": "stream",
     "text": [
      "<class 'pandas.core.frame.DataFrame'>\n",
      "RangeIndex: 301 entries, 0 to 300\n",
      "Data columns (total 9 columns):\n",
      " #   Column         Non-Null Count  Dtype  \n",
      "---  ------         --------------  -----  \n",
      " 0   Car_Name       301 non-null    object \n",
      " 1   Year           301 non-null    int64  \n",
      " 2   Selling_Price  301 non-null    float64\n",
      " 3   Present_Price  301 non-null    float64\n",
      " 4   Kms_Driven     301 non-null    int64  \n",
      " 5   Fuel_Type      301 non-null    object \n",
      " 6   Seller_Type    301 non-null    object \n",
      " 7   Transmission   301 non-null    object \n",
      " 8   Owner          301 non-null    int64  \n",
      "dtypes: float64(2), int64(3), object(4)\n",
      "memory usage: 21.3+ KB\n",
      "car data shape: (301, 9)\n"
     ]
    },
    {
     "data": {
      "application/vnd.microsoft.datawrangler.viewer.v0+json": {
       "columns": [
        {
         "name": "index",
         "rawType": "int64",
         "type": "integer"
        },
        {
         "name": "Car_Name",
         "rawType": "object",
         "type": "string"
        },
        {
         "name": "Year",
         "rawType": "int64",
         "type": "integer"
        },
        {
         "name": "Selling_Price",
         "rawType": "float64",
         "type": "float"
        },
        {
         "name": "Present_Price",
         "rawType": "float64",
         "type": "float"
        },
        {
         "name": "Kms_Driven",
         "rawType": "int64",
         "type": "integer"
        },
        {
         "name": "Fuel_Type",
         "rawType": "object",
         "type": "string"
        },
        {
         "name": "Seller_Type",
         "rawType": "object",
         "type": "string"
        },
        {
         "name": "Transmission",
         "rawType": "object",
         "type": "string"
        },
        {
         "name": "Owner",
         "rawType": "int64",
         "type": "integer"
        }
       ],
       "conversionMethod": "pd.DataFrame",
       "ref": "e91bc30a-e4b9-4270-93ed-4ce62b188990",
       "rows": [
        [
         "0",
         "ritz",
         "2014",
         "3.35",
         "5.59",
         "27000",
         "Petrol",
         "Dealer",
         "Manual",
         "0"
        ],
        [
         "1",
         "sx4",
         "2013",
         "4.75",
         "9.54",
         "43000",
         "Diesel",
         "Dealer",
         "Manual",
         "0"
        ],
        [
         "2",
         "ciaz",
         "2017",
         "7.25",
         "9.85",
         "6900",
         "Petrol",
         "Dealer",
         "Manual",
         "0"
        ],
        [
         "3",
         "wagon r",
         "2011",
         "2.85",
         "4.15",
         "5200",
         "Petrol",
         "Dealer",
         "Manual",
         "0"
        ],
        [
         "4",
         "swift",
         "2014",
         "4.6",
         "6.87",
         "42450",
         "Diesel",
         "Dealer",
         "Manual",
         "0"
        ],
        [
         "5",
         "vitara brezza",
         "2018",
         "9.25",
         "9.83",
         "2071",
         "Diesel",
         "Dealer",
         "Manual",
         "0"
        ],
        [
         "6",
         "ciaz",
         "2015",
         "6.75",
         "8.12",
         "18796",
         "Petrol",
         "Dealer",
         "Manual",
         "0"
        ],
        [
         "7",
         "s cross",
         "2015",
         "6.5",
         "8.61",
         "33429",
         "Diesel",
         "Dealer",
         "Manual",
         "0"
        ],
        [
         "8",
         "ciaz",
         "2016",
         "8.75",
         "8.89",
         "20273",
         "Diesel",
         "Dealer",
         "Manual",
         "0"
        ],
        [
         "9",
         "ciaz",
         "2015",
         "7.45",
         "8.92",
         "42367",
         "Diesel",
         "Dealer",
         "Manual",
         "0"
        ],
        [
         "10",
         "alto 800",
         "2017",
         "2.85",
         "3.6",
         "2135",
         "Petrol",
         "Dealer",
         "Manual",
         "0"
        ],
        [
         "11",
         "ciaz",
         "2015",
         "6.85",
         "10.38",
         "51000",
         "Diesel",
         "Dealer",
         "Manual",
         "0"
        ],
        [
         "12",
         "ciaz",
         "2015",
         "7.5",
         "9.94",
         "15000",
         "Petrol",
         "Dealer",
         "Automatic",
         "0"
        ],
        [
         "13",
         "ertiga",
         "2015",
         "6.1",
         "7.71",
         "26000",
         "Petrol",
         "Dealer",
         "Manual",
         "0"
        ],
        [
         "14",
         "dzire",
         "2009",
         "2.25",
         "7.21",
         "77427",
         "Petrol",
         "Dealer",
         "Manual",
         "0"
        ],
        [
         "15",
         "ertiga",
         "2016",
         "7.75",
         "10.79",
         "43000",
         "Diesel",
         "Dealer",
         "Manual",
         "0"
        ],
        [
         "16",
         "ertiga",
         "2015",
         "7.25",
         "10.79",
         "41678",
         "Diesel",
         "Dealer",
         "Manual",
         "0"
        ],
        [
         "17",
         "ertiga",
         "2016",
         "7.75",
         "10.79",
         "43000",
         "Diesel",
         "Dealer",
         "Manual",
         "0"
        ],
        [
         "18",
         "wagon r",
         "2015",
         "3.25",
         "5.09",
         "35500",
         "CNG",
         "Dealer",
         "Manual",
         "0"
        ],
        [
         "19",
         "sx4",
         "2010",
         "2.65",
         "7.98",
         "41442",
         "Petrol",
         "Dealer",
         "Manual",
         "0"
        ],
        [
         "20",
         "alto k10",
         "2016",
         "2.85",
         "3.95",
         "25000",
         "Petrol",
         "Dealer",
         "Manual",
         "0"
        ],
        [
         "21",
         "ignis",
         "2017",
         "4.9",
         "5.71",
         "2400",
         "Petrol",
         "Dealer",
         "Manual",
         "0"
        ],
        [
         "22",
         "sx4",
         "2011",
         "4.4",
         "8.01",
         "50000",
         "Petrol",
         "Dealer",
         "Automatic",
         "0"
        ],
        [
         "23",
         "alto k10",
         "2014",
         "2.5",
         "3.46",
         "45280",
         "Petrol",
         "Dealer",
         "Manual",
         "0"
        ],
        [
         "24",
         "wagon r",
         "2013",
         "2.9",
         "4.41",
         "56879",
         "Petrol",
         "Dealer",
         "Manual",
         "0"
        ],
        [
         "25",
         "swift",
         "2011",
         "3.0",
         "4.99",
         "20000",
         "Petrol",
         "Dealer",
         "Manual",
         "0"
        ],
        [
         "26",
         "swift",
         "2013",
         "4.15",
         "5.87",
         "55138",
         "Petrol",
         "Dealer",
         "Manual",
         "0"
        ],
        [
         "27",
         "swift",
         "2017",
         "6.0",
         "6.49",
         "16200",
         "Petrol",
         "Individual",
         "Manual",
         "0"
        ],
        [
         "28",
         "alto k10",
         "2010",
         "1.95",
         "3.95",
         "44542",
         "Petrol",
         "Dealer",
         "Manual",
         "0"
        ],
        [
         "29",
         "ciaz",
         "2015",
         "7.45",
         "10.38",
         "45000",
         "Diesel",
         "Dealer",
         "Manual",
         "0"
        ],
        [
         "30",
         "ritz",
         "2012",
         "3.1",
         "5.98",
         "51439",
         "Diesel",
         "Dealer",
         "Manual",
         "0"
        ],
        [
         "31",
         "ritz",
         "2011",
         "2.35",
         "4.89",
         "54200",
         "Petrol",
         "Dealer",
         "Manual",
         "0"
        ],
        [
         "32",
         "swift",
         "2014",
         "4.95",
         "7.49",
         "39000",
         "Diesel",
         "Dealer",
         "Manual",
         "0"
        ],
        [
         "33",
         "ertiga",
         "2014",
         "6.0",
         "9.95",
         "45000",
         "Diesel",
         "Dealer",
         "Manual",
         "0"
        ],
        [
         "34",
         "dzire",
         "2014",
         "5.5",
         "8.06",
         "45000",
         "Diesel",
         "Dealer",
         "Manual",
         "0"
        ],
        [
         "35",
         "sx4",
         "2011",
         "2.95",
         "7.74",
         "49998",
         "CNG",
         "Dealer",
         "Manual",
         "0"
        ],
        [
         "36",
         "dzire",
         "2015",
         "4.65",
         "7.2",
         "48767",
         "Petrol",
         "Dealer",
         "Manual",
         "0"
        ],
        [
         "37",
         "800",
         "2003",
         "0.35",
         "2.28",
         "127000",
         "Petrol",
         "Individual",
         "Manual",
         "0"
        ],
        [
         "38",
         "alto k10",
         "2016",
         "3.0",
         "3.76",
         "10079",
         "Petrol",
         "Dealer",
         "Manual",
         "0"
        ],
        [
         "39",
         "sx4",
         "2003",
         "2.25",
         "7.98",
         "62000",
         "Petrol",
         "Dealer",
         "Manual",
         "0"
        ],
        [
         "40",
         "baleno",
         "2016",
         "5.85",
         "7.87",
         "24524",
         "Petrol",
         "Dealer",
         "Automatic",
         "0"
        ],
        [
         "41",
         "alto k10",
         "2014",
         "2.55",
         "3.98",
         "46706",
         "Petrol",
         "Dealer",
         "Manual",
         "0"
        ],
        [
         "42",
         "sx4",
         "2008",
         "1.95",
         "7.15",
         "58000",
         "Petrol",
         "Dealer",
         "Manual",
         "0"
        ],
        [
         "43",
         "dzire",
         "2014",
         "5.5",
         "8.06",
         "45780",
         "Diesel",
         "Dealer",
         "Manual",
         "0"
        ],
        [
         "44",
         "omni",
         "2012",
         "1.25",
         "2.69",
         "50000",
         "Petrol",
         "Dealer",
         "Manual",
         "0"
        ],
        [
         "45",
         "ciaz",
         "2014",
         "7.5",
         "12.04",
         "15000",
         "Petrol",
         "Dealer",
         "Automatic",
         "0"
        ],
        [
         "46",
         "ritz",
         "2013",
         "2.65",
         "4.89",
         "64532",
         "Petrol",
         "Dealer",
         "Manual",
         "0"
        ],
        [
         "47",
         "wagon r",
         "2006",
         "1.05",
         "4.15",
         "65000",
         "Petrol",
         "Dealer",
         "Manual",
         "0"
        ],
        [
         "48",
         "ertiga",
         "2015",
         "5.8",
         "7.71",
         "25870",
         "Petrol",
         "Dealer",
         "Manual",
         "0"
        ],
        [
         "49",
         "ciaz",
         "2017",
         "7.75",
         "9.29",
         "37000",
         "Petrol",
         "Dealer",
         "Automatic",
         "0"
        ]
       ],
       "shape": {
        "columns": 9,
        "rows": 301
       }
      },
      "text/html": [
       "<div>\n",
       "<style scoped>\n",
       "    .dataframe tbody tr th:only-of-type {\n",
       "        vertical-align: middle;\n",
       "    }\n",
       "\n",
       "    .dataframe tbody tr th {\n",
       "        vertical-align: top;\n",
       "    }\n",
       "\n",
       "    .dataframe thead th {\n",
       "        text-align: right;\n",
       "    }\n",
       "</style>\n",
       "<table border=\"1\" class=\"dataframe\">\n",
       "  <thead>\n",
       "    <tr style=\"text-align: right;\">\n",
       "      <th></th>\n",
       "      <th>Car_Name</th>\n",
       "      <th>Year</th>\n",
       "      <th>Selling_Price</th>\n",
       "      <th>Present_Price</th>\n",
       "      <th>Kms_Driven</th>\n",
       "      <th>Fuel_Type</th>\n",
       "      <th>Seller_Type</th>\n",
       "      <th>Transmission</th>\n",
       "      <th>Owner</th>\n",
       "    </tr>\n",
       "  </thead>\n",
       "  <tbody>\n",
       "    <tr>\n",
       "      <th>0</th>\n",
       "      <td>ritz</td>\n",
       "      <td>2014</td>\n",
       "      <td>3.35</td>\n",
       "      <td>5.59</td>\n",
       "      <td>27000</td>\n",
       "      <td>Petrol</td>\n",
       "      <td>Dealer</td>\n",
       "      <td>Manual</td>\n",
       "      <td>0</td>\n",
       "    </tr>\n",
       "    <tr>\n",
       "      <th>1</th>\n",
       "      <td>sx4</td>\n",
       "      <td>2013</td>\n",
       "      <td>4.75</td>\n",
       "      <td>9.54</td>\n",
       "      <td>43000</td>\n",
       "      <td>Diesel</td>\n",
       "      <td>Dealer</td>\n",
       "      <td>Manual</td>\n",
       "      <td>0</td>\n",
       "    </tr>\n",
       "    <tr>\n",
       "      <th>2</th>\n",
       "      <td>ciaz</td>\n",
       "      <td>2017</td>\n",
       "      <td>7.25</td>\n",
       "      <td>9.85</td>\n",
       "      <td>6900</td>\n",
       "      <td>Petrol</td>\n",
       "      <td>Dealer</td>\n",
       "      <td>Manual</td>\n",
       "      <td>0</td>\n",
       "    </tr>\n",
       "    <tr>\n",
       "      <th>3</th>\n",
       "      <td>wagon r</td>\n",
       "      <td>2011</td>\n",
       "      <td>2.85</td>\n",
       "      <td>4.15</td>\n",
       "      <td>5200</td>\n",
       "      <td>Petrol</td>\n",
       "      <td>Dealer</td>\n",
       "      <td>Manual</td>\n",
       "      <td>0</td>\n",
       "    </tr>\n",
       "    <tr>\n",
       "      <th>4</th>\n",
       "      <td>swift</td>\n",
       "      <td>2014</td>\n",
       "      <td>4.60</td>\n",
       "      <td>6.87</td>\n",
       "      <td>42450</td>\n",
       "      <td>Diesel</td>\n",
       "      <td>Dealer</td>\n",
       "      <td>Manual</td>\n",
       "      <td>0</td>\n",
       "    </tr>\n",
       "    <tr>\n",
       "      <th>...</th>\n",
       "      <td>...</td>\n",
       "      <td>...</td>\n",
       "      <td>...</td>\n",
       "      <td>...</td>\n",
       "      <td>...</td>\n",
       "      <td>...</td>\n",
       "      <td>...</td>\n",
       "      <td>...</td>\n",
       "      <td>...</td>\n",
       "    </tr>\n",
       "    <tr>\n",
       "      <th>296</th>\n",
       "      <td>city</td>\n",
       "      <td>2016</td>\n",
       "      <td>9.50</td>\n",
       "      <td>11.60</td>\n",
       "      <td>33988</td>\n",
       "      <td>Diesel</td>\n",
       "      <td>Dealer</td>\n",
       "      <td>Manual</td>\n",
       "      <td>0</td>\n",
       "    </tr>\n",
       "    <tr>\n",
       "      <th>297</th>\n",
       "      <td>brio</td>\n",
       "      <td>2015</td>\n",
       "      <td>4.00</td>\n",
       "      <td>5.90</td>\n",
       "      <td>60000</td>\n",
       "      <td>Petrol</td>\n",
       "      <td>Dealer</td>\n",
       "      <td>Manual</td>\n",
       "      <td>0</td>\n",
       "    </tr>\n",
       "    <tr>\n",
       "      <th>298</th>\n",
       "      <td>city</td>\n",
       "      <td>2009</td>\n",
       "      <td>3.35</td>\n",
       "      <td>11.00</td>\n",
       "      <td>87934</td>\n",
       "      <td>Petrol</td>\n",
       "      <td>Dealer</td>\n",
       "      <td>Manual</td>\n",
       "      <td>0</td>\n",
       "    </tr>\n",
       "    <tr>\n",
       "      <th>299</th>\n",
       "      <td>city</td>\n",
       "      <td>2017</td>\n",
       "      <td>11.50</td>\n",
       "      <td>12.50</td>\n",
       "      <td>9000</td>\n",
       "      <td>Diesel</td>\n",
       "      <td>Dealer</td>\n",
       "      <td>Manual</td>\n",
       "      <td>0</td>\n",
       "    </tr>\n",
       "    <tr>\n",
       "      <th>300</th>\n",
       "      <td>brio</td>\n",
       "      <td>2016</td>\n",
       "      <td>5.30</td>\n",
       "      <td>5.90</td>\n",
       "      <td>5464</td>\n",
       "      <td>Petrol</td>\n",
       "      <td>Dealer</td>\n",
       "      <td>Manual</td>\n",
       "      <td>0</td>\n",
       "    </tr>\n",
       "  </tbody>\n",
       "</table>\n",
       "<p>301 rows × 9 columns</p>\n",
       "</div>"
      ],
      "text/plain": [
       "    Car_Name  Year  Selling_Price  Present_Price  Kms_Driven Fuel_Type  \\\n",
       "0       ritz  2014           3.35           5.59       27000    Petrol   \n",
       "1        sx4  2013           4.75           9.54       43000    Diesel   \n",
       "2       ciaz  2017           7.25           9.85        6900    Petrol   \n",
       "3    wagon r  2011           2.85           4.15        5200    Petrol   \n",
       "4      swift  2014           4.60           6.87       42450    Diesel   \n",
       "..       ...   ...            ...            ...         ...       ...   \n",
       "296     city  2016           9.50          11.60       33988    Diesel   \n",
       "297     brio  2015           4.00           5.90       60000    Petrol   \n",
       "298     city  2009           3.35          11.00       87934    Petrol   \n",
       "299     city  2017          11.50          12.50        9000    Diesel   \n",
       "300     brio  2016           5.30           5.90        5464    Petrol   \n",
       "\n",
       "    Seller_Type Transmission  Owner  \n",
       "0        Dealer       Manual      0  \n",
       "1        Dealer       Manual      0  \n",
       "2        Dealer       Manual      0  \n",
       "3        Dealer       Manual      0  \n",
       "4        Dealer       Manual      0  \n",
       "..          ...          ...    ...  \n",
       "296      Dealer       Manual      0  \n",
       "297      Dealer       Manual      0  \n",
       "298      Dealer       Manual      0  \n",
       "299      Dealer       Manual      0  \n",
       "300      Dealer       Manual      0  \n",
       "\n",
       "[301 rows x 9 columns]"
      ]
     },
     "execution_count": 28,
     "metadata": {},
     "output_type": "execute_result"
    }
   ],
   "source": [
    "car_data.info() # gives the information about the data\n",
    "print(\"car data shape:\",car_data.shape)\n",
    "car_data "
   ]
  },
  {
   "cell_type": "markdown",
   "metadata": {},
   "source": [
    "The dataset contains 301 rows and 9 columns. Each row in the dataset contains information about one car. The task is to find a way to estimate the value in the “Selling_Price” column using the values in the other columns. If we can do this estimation for historical data, then we should be able to estimate selling_price for new cars that are not in this data too, simply by providing information like car name, year, present price, kilometers driven, fuel type, seller type, transmission and owner."
   ]
  },
  {
   "cell_type": "code",
   "execution_count": 11,
   "metadata": {},
   "outputs": [
    {
     "data": {
      "application/vnd.microsoft.datawrangler.viewer.v0+json": {
       "columns": [
        {
         "name": "index",
         "rawType": "object",
         "type": "string"
        },
        {
         "name": "Year",
         "rawType": "float64",
         "type": "float"
        },
        {
         "name": "Selling_Price",
         "rawType": "float64",
         "type": "float"
        },
        {
         "name": "Present_Price",
         "rawType": "float64",
         "type": "float"
        },
        {
         "name": "Kms_Driven",
         "rawType": "float64",
         "type": "float"
        },
        {
         "name": "Owner",
         "rawType": "float64",
         "type": "float"
        }
       ],
       "conversionMethod": "pd.DataFrame",
       "ref": "22dba557-ddb9-4f12-84f4-ad3bb1fcf6c8",
       "rows": [
        [
         "count",
         "301.0",
         "301.0",
         "301.0",
         "301.0",
         "301.0"
        ],
        [
         "mean",
         "2013.6279069767443",
         "4.661295681063123",
         "7.628471760797343",
         "36947.20598006644",
         "0.04318936877076412"
        ],
        [
         "std",
         "2.891554127336687",
         "5.082811556177803",
         "8.644115402015787",
         "38886.88388206788",
         "0.2479148926949197"
        ],
        [
         "min",
         "2003.0",
         "0.1",
         "0.32",
         "500.0",
         "0.0"
        ],
        [
         "25%",
         "2012.0",
         "0.9",
         "1.2",
         "15000.0",
         "0.0"
        ],
        [
         "50%",
         "2014.0",
         "3.6",
         "6.4",
         "32000.0",
         "0.0"
        ],
        [
         "75%",
         "2016.0",
         "6.0",
         "9.9",
         "48767.0",
         "0.0"
        ],
        [
         "max",
         "2018.0",
         "35.0",
         "92.6",
         "500000.0",
         "3.0"
        ]
       ],
       "shape": {
        "columns": 5,
        "rows": 8
       }
      },
      "text/html": [
       "<div>\n",
       "<style scoped>\n",
       "    .dataframe tbody tr th:only-of-type {\n",
       "        vertical-align: middle;\n",
       "    }\n",
       "\n",
       "    .dataframe tbody tr th {\n",
       "        vertical-align: top;\n",
       "    }\n",
       "\n",
       "    .dataframe thead th {\n",
       "        text-align: right;\n",
       "    }\n",
       "</style>\n",
       "<table border=\"1\" class=\"dataframe\">\n",
       "  <thead>\n",
       "    <tr style=\"text-align: right;\">\n",
       "      <th></th>\n",
       "      <th>Year</th>\n",
       "      <th>Selling_Price</th>\n",
       "      <th>Present_Price</th>\n",
       "      <th>Kms_Driven</th>\n",
       "      <th>Owner</th>\n",
       "    </tr>\n",
       "  </thead>\n",
       "  <tbody>\n",
       "    <tr>\n",
       "      <th>count</th>\n",
       "      <td>301.000000</td>\n",
       "      <td>301.000000</td>\n",
       "      <td>301.000000</td>\n",
       "      <td>301.000000</td>\n",
       "      <td>301.000000</td>\n",
       "    </tr>\n",
       "    <tr>\n",
       "      <th>mean</th>\n",
       "      <td>2013.627907</td>\n",
       "      <td>4.661296</td>\n",
       "      <td>7.628472</td>\n",
       "      <td>36947.205980</td>\n",
       "      <td>0.043189</td>\n",
       "    </tr>\n",
       "    <tr>\n",
       "      <th>std</th>\n",
       "      <td>2.891554</td>\n",
       "      <td>5.082812</td>\n",
       "      <td>8.644115</td>\n",
       "      <td>38886.883882</td>\n",
       "      <td>0.247915</td>\n",
       "    </tr>\n",
       "    <tr>\n",
       "      <th>min</th>\n",
       "      <td>2003.000000</td>\n",
       "      <td>0.100000</td>\n",
       "      <td>0.320000</td>\n",
       "      <td>500.000000</td>\n",
       "      <td>0.000000</td>\n",
       "    </tr>\n",
       "    <tr>\n",
       "      <th>25%</th>\n",
       "      <td>2012.000000</td>\n",
       "      <td>0.900000</td>\n",
       "      <td>1.200000</td>\n",
       "      <td>15000.000000</td>\n",
       "      <td>0.000000</td>\n",
       "    </tr>\n",
       "    <tr>\n",
       "      <th>50%</th>\n",
       "      <td>2014.000000</td>\n",
       "      <td>3.600000</td>\n",
       "      <td>6.400000</td>\n",
       "      <td>32000.000000</td>\n",
       "      <td>0.000000</td>\n",
       "    </tr>\n",
       "    <tr>\n",
       "      <th>75%</th>\n",
       "      <td>2016.000000</td>\n",
       "      <td>6.000000</td>\n",
       "      <td>9.900000</td>\n",
       "      <td>48767.000000</td>\n",
       "      <td>0.000000</td>\n",
       "    </tr>\n",
       "    <tr>\n",
       "      <th>max</th>\n",
       "      <td>2018.000000</td>\n",
       "      <td>35.000000</td>\n",
       "      <td>92.600000</td>\n",
       "      <td>500000.000000</td>\n",
       "      <td>3.000000</td>\n",
       "    </tr>\n",
       "  </tbody>\n",
       "</table>\n",
       "</div>"
      ],
      "text/plain": [
       "              Year  Selling_Price  Present_Price     Kms_Driven       Owner\n",
       "count   301.000000     301.000000     301.000000     301.000000  301.000000\n",
       "mean   2013.627907       4.661296       7.628472   36947.205980    0.043189\n",
       "std       2.891554       5.082812       8.644115   38886.883882    0.247915\n",
       "min    2003.000000       0.100000       0.320000     500.000000    0.000000\n",
       "25%    2012.000000       0.900000       1.200000   15000.000000    0.000000\n",
       "50%    2014.000000       3.600000       6.400000   32000.000000    0.000000\n",
       "75%    2016.000000       6.000000       9.900000   48767.000000    0.000000\n",
       "max    2018.000000      35.000000      92.600000  500000.000000    3.000000"
      ]
     },
     "execution_count": 11,
     "metadata": {},
     "output_type": "execute_result"
    }
   ],
   "source": [
    "car_data.describe() # gives the summary statistics of the data\n"
   ]
  },
  {
   "cell_type": "markdown",
   "metadata": {},
   "source": [
    "# Analysis of Numerical Features\n",
    "\n",
    "The year column is a numerical column, as we can see the max value is 2018, and the min is 2003, we can visualize using a histogram, with 16 bins (one bin for each year). So below we could see the number of cars available (count) for each year."
   ]
  },
  {
   "cell_type": "code",
   "execution_count": 16,
   "metadata": {},
   "outputs": [
    {
     "data": {
      "application/vnd.plotly.v1+json": {
       "config": {
        "plotlyServerURL": "https://plot.ly"
       },
       "data": [
        {
         "bingroup": "x",
         "hovertemplate": "Year=%{x}<br>count=%{y}<extra></extra>",
         "legendgroup": "",
         "marker": {
          "color": "#636efa",
          "pattern": {
           "shape": ""
          }
         },
         "name": "",
         "nbinsx": 16,
         "orientation": "v",
         "showlegend": false,
         "type": "histogram",
         "x": {
          "bdata": "3gfdB+EH2wfeB+IH3wffB+AH3wfhB98H3wffB9kH4AffB+AH3wfaB+AH4QfbB94H3QfbB90H4QfaB98H3AfbB94H3gfeB9sH3wfTB+AH0wfgB94H2AfeB9wH3gfdB9YH3wfhB9wH3wfhB90H1QfZB98H2gfeB94H3QffB94H3wfhB94H4QfaB9sH4AfeB9sH3QfbB94H3wfdB9QH2gfcB+AH3wfhB98H1QfWB9oH3AfdB94H2QfeB9UH3wfYB9wH4AfhB90H2gfgB+EH4QfhB+EH3wfeB90H4AfhB+AH4AfeB+AH3wffB90H3wffB90H4AfbB+AH3QfcB9kH4QfgB+EH4QfhB98H4QfgB+EH3wfeB90H4AffB90H4AffB+AH3gfcB94H3wfaB+AH2wfgB9wH3QfeB+EH4QffB+EH4QfbB94H3AfaB+AH4AfgB94H3QffB9wH3wfeB+EH3wfbB9sH4AfeB9oH3AfgB90H3QfYB9gH2gfdB90H1QfYB9wH1wfdB9gH3wfYB9oH2wfXB9YH2gffB9sH3wfgB+EH3wfhB98H3AffB+AH2wfhB9wH4AfgB94H3AfhB90H3gffB90H2wffB9sH3AfcB90H4QffB90H3wfhB+AH3wfdB9wH3AffB94H4AfdB9wH3AffB90H4AfgB90H3wfeB90H3AfgB98H3wfeB+AH4AffB+AH3wfhB94H4AfhB98H2wfZB98H2gfeB+AH3wffB+AH3gffB9YH3gfgB90H4AfgB98H3wfgB94H3wfgB9oH3gffB+AH3wfZB+EH4Ac=",
          "dtype": "i2"
         },
         "xaxis": "x",
         "yaxis": "y"
        },
        {
         "hovertemplate": "Year=%{x}<extra></extra>",
         "legendgroup": "",
         "marker": {
          "color": "#636efa"
         },
         "name": "",
         "notched": true,
         "showlegend": false,
         "type": "box",
         "x": {
          "bdata": "3gfdB+EH2wfeB+IH3wffB+AH3wfhB98H3wffB9kH4AffB+AH3wfaB+AH4QfbB94H3QfbB90H4QfaB98H3AfbB94H3gfeB9sH3wfTB+AH0wfgB94H2AfeB9wH3gfdB9YH3wfhB9wH3wfhB90H1QfZB98H2gfeB94H3QffB94H3wfhB94H4QfaB9sH4AfeB9sH3QfbB94H3wfdB9QH2gfcB+AH3wfhB98H1QfWB9oH3AfdB94H2QfeB9UH3wfYB9wH4AfhB90H2gfgB+EH4QfhB+EH3wfeB90H4AfhB+AH4AfeB+AH3wffB90H3wffB90H4AfbB+AH3QfcB9kH4QfgB+EH4QfhB98H4QfgB+EH3wfeB90H4AffB90H4AffB+AH3gfcB94H3wfaB+AH2wfgB9wH3QfeB+EH4QffB+EH4QfbB94H3AfaB+AH4AfgB94H3QffB9wH3wfeB+EH3wfbB9sH4AfeB9oH3AfgB90H3QfYB9gH2gfdB90H1QfYB9wH1wfdB9gH3wfYB9oH2wfXB9YH2gffB9sH3wfgB+EH3wfhB98H3AffB+AH2wfhB9wH4AfgB94H3AfhB90H3gffB90H2wffB9sH3AfcB90H4QffB90H3wfhB+AH3wfdB9wH3AffB94H4AfdB9wH3AffB90H4AfgB90H3wfeB90H3AfgB98H3wfeB+AH4AffB+AH3wfhB94H4AfhB98H2wfZB98H2gfeB+AH3wffB+AH3gffB9YH3gfgB90H4AfgB98H3wfgB94H3wfgB9oH3gffB+AH3wfZB+EH4Ac=",
          "dtype": "i2"
         },
         "xaxis": "x2",
         "yaxis": "y2"
        }
       ],
       "layout": {
        "bargap": 0.1,
        "barmode": "relative",
        "legend": {
         "tracegroupgap": 0
        },
        "template": {
         "data": {
          "bar": [
           {
            "error_x": {
             "color": "#2a3f5f"
            },
            "error_y": {
             "color": "#2a3f5f"
            },
            "marker": {
             "line": {
              "color": "#E5ECF6",
              "width": 0.5
             },
             "pattern": {
              "fillmode": "overlay",
              "size": 10,
              "solidity": 0.2
             }
            },
            "type": "bar"
           }
          ],
          "barpolar": [
           {
            "marker": {
             "line": {
              "color": "#E5ECF6",
              "width": 0.5
             },
             "pattern": {
              "fillmode": "overlay",
              "size": 10,
              "solidity": 0.2
             }
            },
            "type": "barpolar"
           }
          ],
          "carpet": [
           {
            "aaxis": {
             "endlinecolor": "#2a3f5f",
             "gridcolor": "white",
             "linecolor": "white",
             "minorgridcolor": "white",
             "startlinecolor": "#2a3f5f"
            },
            "baxis": {
             "endlinecolor": "#2a3f5f",
             "gridcolor": "white",
             "linecolor": "white",
             "minorgridcolor": "white",
             "startlinecolor": "#2a3f5f"
            },
            "type": "carpet"
           }
          ],
          "choropleth": [
           {
            "colorbar": {
             "outlinewidth": 0,
             "ticks": ""
            },
            "type": "choropleth"
           }
          ],
          "contour": [
           {
            "colorbar": {
             "outlinewidth": 0,
             "ticks": ""
            },
            "colorscale": [
             [
              0,
              "#0d0887"
             ],
             [
              0.1111111111111111,
              "#46039f"
             ],
             [
              0.2222222222222222,
              "#7201a8"
             ],
             [
              0.3333333333333333,
              "#9c179e"
             ],
             [
              0.4444444444444444,
              "#bd3786"
             ],
             [
              0.5555555555555556,
              "#d8576b"
             ],
             [
              0.6666666666666666,
              "#ed7953"
             ],
             [
              0.7777777777777778,
              "#fb9f3a"
             ],
             [
              0.8888888888888888,
              "#fdca26"
             ],
             [
              1,
              "#f0f921"
             ]
            ],
            "type": "contour"
           }
          ],
          "contourcarpet": [
           {
            "colorbar": {
             "outlinewidth": 0,
             "ticks": ""
            },
            "type": "contourcarpet"
           }
          ],
          "heatmap": [
           {
            "colorbar": {
             "outlinewidth": 0,
             "ticks": ""
            },
            "colorscale": [
             [
              0,
              "#0d0887"
             ],
             [
              0.1111111111111111,
              "#46039f"
             ],
             [
              0.2222222222222222,
              "#7201a8"
             ],
             [
              0.3333333333333333,
              "#9c179e"
             ],
             [
              0.4444444444444444,
              "#bd3786"
             ],
             [
              0.5555555555555556,
              "#d8576b"
             ],
             [
              0.6666666666666666,
              "#ed7953"
             ],
             [
              0.7777777777777778,
              "#fb9f3a"
             ],
             [
              0.8888888888888888,
              "#fdca26"
             ],
             [
              1,
              "#f0f921"
             ]
            ],
            "type": "heatmap"
           }
          ],
          "histogram": [
           {
            "marker": {
             "pattern": {
              "fillmode": "overlay",
              "size": 10,
              "solidity": 0.2
             }
            },
            "type": "histogram"
           }
          ],
          "histogram2d": [
           {
            "colorbar": {
             "outlinewidth": 0,
             "ticks": ""
            },
            "colorscale": [
             [
              0,
              "#0d0887"
             ],
             [
              0.1111111111111111,
              "#46039f"
             ],
             [
              0.2222222222222222,
              "#7201a8"
             ],
             [
              0.3333333333333333,
              "#9c179e"
             ],
             [
              0.4444444444444444,
              "#bd3786"
             ],
             [
              0.5555555555555556,
              "#d8576b"
             ],
             [
              0.6666666666666666,
              "#ed7953"
             ],
             [
              0.7777777777777778,
              "#fb9f3a"
             ],
             [
              0.8888888888888888,
              "#fdca26"
             ],
             [
              1,
              "#f0f921"
             ]
            ],
            "type": "histogram2d"
           }
          ],
          "histogram2dcontour": [
           {
            "colorbar": {
             "outlinewidth": 0,
             "ticks": ""
            },
            "colorscale": [
             [
              0,
              "#0d0887"
             ],
             [
              0.1111111111111111,
              "#46039f"
             ],
             [
              0.2222222222222222,
              "#7201a8"
             ],
             [
              0.3333333333333333,
              "#9c179e"
             ],
             [
              0.4444444444444444,
              "#bd3786"
             ],
             [
              0.5555555555555556,
              "#d8576b"
             ],
             [
              0.6666666666666666,
              "#ed7953"
             ],
             [
              0.7777777777777778,
              "#fb9f3a"
             ],
             [
              0.8888888888888888,
              "#fdca26"
             ],
             [
              1,
              "#f0f921"
             ]
            ],
            "type": "histogram2dcontour"
           }
          ],
          "mesh3d": [
           {
            "colorbar": {
             "outlinewidth": 0,
             "ticks": ""
            },
            "type": "mesh3d"
           }
          ],
          "parcoords": [
           {
            "line": {
             "colorbar": {
              "outlinewidth": 0,
              "ticks": ""
             }
            },
            "type": "parcoords"
           }
          ],
          "pie": [
           {
            "automargin": true,
            "type": "pie"
           }
          ],
          "scatter": [
           {
            "fillpattern": {
             "fillmode": "overlay",
             "size": 10,
             "solidity": 0.2
            },
            "type": "scatter"
           }
          ],
          "scatter3d": [
           {
            "line": {
             "colorbar": {
              "outlinewidth": 0,
              "ticks": ""
             }
            },
            "marker": {
             "colorbar": {
              "outlinewidth": 0,
              "ticks": ""
             }
            },
            "type": "scatter3d"
           }
          ],
          "scattercarpet": [
           {
            "marker": {
             "colorbar": {
              "outlinewidth": 0,
              "ticks": ""
             }
            },
            "type": "scattercarpet"
           }
          ],
          "scattergeo": [
           {
            "marker": {
             "colorbar": {
              "outlinewidth": 0,
              "ticks": ""
             }
            },
            "type": "scattergeo"
           }
          ],
          "scattergl": [
           {
            "marker": {
             "colorbar": {
              "outlinewidth": 0,
              "ticks": ""
             }
            },
            "type": "scattergl"
           }
          ],
          "scattermap": [
           {
            "marker": {
             "colorbar": {
              "outlinewidth": 0,
              "ticks": ""
             }
            },
            "type": "scattermap"
           }
          ],
          "scattermapbox": [
           {
            "marker": {
             "colorbar": {
              "outlinewidth": 0,
              "ticks": ""
             }
            },
            "type": "scattermapbox"
           }
          ],
          "scatterpolar": [
           {
            "marker": {
             "colorbar": {
              "outlinewidth": 0,
              "ticks": ""
             }
            },
            "type": "scatterpolar"
           }
          ],
          "scatterpolargl": [
           {
            "marker": {
             "colorbar": {
              "outlinewidth": 0,
              "ticks": ""
             }
            },
            "type": "scatterpolargl"
           }
          ],
          "scatterternary": [
           {
            "marker": {
             "colorbar": {
              "outlinewidth": 0,
              "ticks": ""
             }
            },
            "type": "scatterternary"
           }
          ],
          "surface": [
           {
            "colorbar": {
             "outlinewidth": 0,
             "ticks": ""
            },
            "colorscale": [
             [
              0,
              "#0d0887"
             ],
             [
              0.1111111111111111,
              "#46039f"
             ],
             [
              0.2222222222222222,
              "#7201a8"
             ],
             [
              0.3333333333333333,
              "#9c179e"
             ],
             [
              0.4444444444444444,
              "#bd3786"
             ],
             [
              0.5555555555555556,
              "#d8576b"
             ],
             [
              0.6666666666666666,
              "#ed7953"
             ],
             [
              0.7777777777777778,
              "#fb9f3a"
             ],
             [
              0.8888888888888888,
              "#fdca26"
             ],
             [
              1,
              "#f0f921"
             ]
            ],
            "type": "surface"
           }
          ],
          "table": [
           {
            "cells": {
             "fill": {
              "color": "#EBF0F8"
             },
             "line": {
              "color": "white"
             }
            },
            "header": {
             "fill": {
              "color": "#C8D4E3"
             },
             "line": {
              "color": "white"
             }
            },
            "type": "table"
           }
          ]
         },
         "layout": {
          "annotationdefaults": {
           "arrowcolor": "#2a3f5f",
           "arrowhead": 0,
           "arrowwidth": 1
          },
          "autotypenumbers": "strict",
          "coloraxis": {
           "colorbar": {
            "outlinewidth": 0,
            "ticks": ""
           }
          },
          "colorscale": {
           "diverging": [
            [
             0,
             "#8e0152"
            ],
            [
             0.1,
             "#c51b7d"
            ],
            [
             0.2,
             "#de77ae"
            ],
            [
             0.3,
             "#f1b6da"
            ],
            [
             0.4,
             "#fde0ef"
            ],
            [
             0.5,
             "#f7f7f7"
            ],
            [
             0.6,
             "#e6f5d0"
            ],
            [
             0.7,
             "#b8e186"
            ],
            [
             0.8,
             "#7fbc41"
            ],
            [
             0.9,
             "#4d9221"
            ],
            [
             1,
             "#276419"
            ]
           ],
           "sequential": [
            [
             0,
             "#0d0887"
            ],
            [
             0.1111111111111111,
             "#46039f"
            ],
            [
             0.2222222222222222,
             "#7201a8"
            ],
            [
             0.3333333333333333,
             "#9c179e"
            ],
            [
             0.4444444444444444,
             "#bd3786"
            ],
            [
             0.5555555555555556,
             "#d8576b"
            ],
            [
             0.6666666666666666,
             "#ed7953"
            ],
            [
             0.7777777777777778,
             "#fb9f3a"
            ],
            [
             0.8888888888888888,
             "#fdca26"
            ],
            [
             1,
             "#f0f921"
            ]
           ],
           "sequentialminus": [
            [
             0,
             "#0d0887"
            ],
            [
             0.1111111111111111,
             "#46039f"
            ],
            [
             0.2222222222222222,
             "#7201a8"
            ],
            [
             0.3333333333333333,
             "#9c179e"
            ],
            [
             0.4444444444444444,
             "#bd3786"
            ],
            [
             0.5555555555555556,
             "#d8576b"
            ],
            [
             0.6666666666666666,
             "#ed7953"
            ],
            [
             0.7777777777777778,
             "#fb9f3a"
            ],
            [
             0.8888888888888888,
             "#fdca26"
            ],
            [
             1,
             "#f0f921"
            ]
           ]
          },
          "colorway": [
           "#636efa",
           "#EF553B",
           "#00cc96",
           "#ab63fa",
           "#FFA15A",
           "#19d3f3",
           "#FF6692",
           "#B6E880",
           "#FF97FF",
           "#FECB52"
          ],
          "font": {
           "color": "#2a3f5f"
          },
          "geo": {
           "bgcolor": "white",
           "lakecolor": "white",
           "landcolor": "#E5ECF6",
           "showlakes": true,
           "showland": true,
           "subunitcolor": "white"
          },
          "hoverlabel": {
           "align": "left"
          },
          "hovermode": "closest",
          "mapbox": {
           "style": "light"
          },
          "paper_bgcolor": "white",
          "plot_bgcolor": "#E5ECF6",
          "polar": {
           "angularaxis": {
            "gridcolor": "white",
            "linecolor": "white",
            "ticks": ""
           },
           "bgcolor": "#E5ECF6",
           "radialaxis": {
            "gridcolor": "white",
            "linecolor": "white",
            "ticks": ""
           }
          },
          "scene": {
           "xaxis": {
            "backgroundcolor": "#E5ECF6",
            "gridcolor": "white",
            "gridwidth": 2,
            "linecolor": "white",
            "showbackground": true,
            "ticks": "",
            "zerolinecolor": "white"
           },
           "yaxis": {
            "backgroundcolor": "#E5ECF6",
            "gridcolor": "white",
            "gridwidth": 2,
            "linecolor": "white",
            "showbackground": true,
            "ticks": "",
            "zerolinecolor": "white"
           },
           "zaxis": {
            "backgroundcolor": "#E5ECF6",
            "gridcolor": "white",
            "gridwidth": 2,
            "linecolor": "white",
            "showbackground": true,
            "ticks": "",
            "zerolinecolor": "white"
           }
          },
          "shapedefaults": {
           "line": {
            "color": "#2a3f5f"
           }
          },
          "ternary": {
           "aaxis": {
            "gridcolor": "white",
            "linecolor": "white",
            "ticks": ""
           },
           "baxis": {
            "gridcolor": "white",
            "linecolor": "white",
            "ticks": ""
           },
           "bgcolor": "#E5ECF6",
           "caxis": {
            "gridcolor": "white",
            "linecolor": "white",
            "ticks": ""
           }
          },
          "title": {
           "x": 0.05
          },
          "xaxis": {
           "automargin": true,
           "gridcolor": "white",
           "linecolor": "white",
           "ticks": "",
           "title": {
            "standoff": 15
           },
           "zerolinecolor": "white",
           "zerolinewidth": 2
          },
          "yaxis": {
           "automargin": true,
           "gridcolor": "white",
           "linecolor": "white",
           "ticks": "",
           "title": {
            "standoff": 15
           },
           "zerolinecolor": "white",
           "zerolinewidth": 2
          }
         }
        },
        "title": {
         "text": "car data of the year"
        },
        "xaxis": {
         "anchor": "y",
         "domain": [
          0,
          1
         ],
         "title": {
          "text": "Year"
         }
        },
        "xaxis2": {
         "anchor": "y2",
         "domain": [
          0,
          1
         ],
         "matches": "x",
         "showgrid": true,
         "showticklabels": false
        },
        "yaxis": {
         "anchor": "x",
         "domain": [
          0,
          0.8316
         ],
         "title": {
          "text": "count"
         }
        },
        "yaxis2": {
         "anchor": "x2",
         "domain": [
          0.8416,
          1
         ],
         "matches": "y2",
         "showgrid": false,
         "showline": false,
         "showticklabels": false,
         "ticks": ""
        }
       }
      }
     },
     "metadata": {},
     "output_type": "display_data"
    }
   ],
   "source": [
    "import plotly.express as px\n",
    "\n",
    "fig= px.histogram(car_data, x='Year', title='car data of the year', nbins=16, marginal='box')\n",
    "fig.update_layout(bargap=0.1)\n",
    "fig.show()"
   ]
  },
  {
   "cell_type": "code",
   "execution_count": 30,
   "metadata": {},
   "outputs": [
    {
     "data": {
      "image/png": "[encoded data removed]",
      "text/plain": [
       "<Figure size 640x480 with 1 Axes>"
      ]
     },
     "metadata": {},
     "output_type": "display_data"
    }
   ],
   "source": [
    "import matplotlib.pyplot as plt\n",
    "\n",
    "plt.hist(car_data['Year'], bins=16, color='blue', edgecolor='black')\n",
    "plt.xlabel('Year')\n",
    "plt.ylabel('Frequency')\n",
    "plt.title('Histogram of Year')\n",
    "plt.show()"
   ]
  },
  {
   "cell_type": "markdown",
   "metadata": {},
   "source": [
    "# Selling Price\n",
    "\n",
    "Let’s visualize the Selling Price, and also include the categorical column Transmission to distinguish selling prices for Manual cars and Automatic cars"
   ]
  },
  {
   "cell_type": "code",
   "execution_count": 29,
   "metadata": {},
   "outputs": [
    {
     "data": {
      "application/vnd.plotly.v1+json": {
       "config": {
        "plotlyServerURL": "https://plot.ly"
       },
       "data": [
        {
         "bingroup": "x",
         "hovertemplate": "Transmission=Manual<br>Selling_Price=%{x}<br>count=%{y}<extra></extra>",
         "legendgroup": "Manual",
         "marker": {
          "color": "#636efa",
          "pattern": {
           "shape": ""
          }
         },
         "name": "Manual",
         "orientation": "v",
         "showlegend": true,
         "type": "histogram",
         "x": {
          "bdata": "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",
          "dtype": "f8"
         },
         "xaxis": "x",
         "yaxis": "y"
        },
        {
         "hovertemplate": "Transmission=Manual<br>Selling_Price=%{x}<extra></extra>",
         "legendgroup": "Manual",
         "marker": {
          "color": "#636efa"
         },
         "name": "Manual",
         "notched": true,
         "showlegend": false,
         "type": "box",
         "x": {
          "bdata": "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",
          "dtype": "f8"
         },
         "xaxis": "x2",
         "yaxis": "y2"
        },
        {
         "bingroup": "x",
         "hovertemplate": "Transmission=Automatic<br>Selling_Price=%{x}<br>count=%{y}<extra></extra>",
         "legendgroup": "Automatic",
         "marker": {
          "color": "#EF553B",
          "pattern": {
           "shape": ""
          }
         },
         "name": "Automatic",
         "orientation": "v",
         "showlegend": true,
         "type": "histogram",
         "x": {
          "bdata": "AAAAAAAAHkCamZmZmZkRQGZmZmZmZhdAAAAAAAAAHkAAAAAAAAAfQM3MzMzMzC1AAAAAAAAAN0AAAAAAAAAyQAAAAAAAADBAzczMzMzMDEA9CtejcP0zQAAAAAAAwDJAAAAAAACAN0AAAAAAAIBAQAAAAAAAwDNAAAAAAAAA+D8AAAAAAAAVQAAAAAAAAC1AAAAAAAAAN0AAAAAAAAAEQAAAAAAAADdAAAAAAAAAEEAAAAAAAMA0QLgehetRuN4/zczMzMzM3D/NzMzMzMzcP5qZmZmZmdk/ZmZmZmZm1j9mZmZmZmbWPwAAAAAAANA/AAAAAAAA0D/D9Shcj8LFP5qZmZmZmRRAAAAAAAAAEkBxPQrXo3AUQGZmZmZm5iZAmpmZmZmZFUDNzMzMzMwlQJqZmZmZmR1AAAAAAAAAF0A=",
          "dtype": "f8"
         },
         "xaxis": "x",
         "yaxis": "y"
        },
        {
         "hovertemplate": "Transmission=Automatic<br>Selling_Price=%{x}<extra></extra>",
         "legendgroup": "Automatic",
         "marker": {
          "color": "#EF553B"
         },
         "name": "Automatic",
         "notched": true,
         "showlegend": false,
         "type": "box",
         "x": {
          "bdata": "AAAAAAAAHkCamZmZmZkRQGZmZmZmZhdAAAAAAAAAHkAAAAAAAAAfQM3MzMzMzC1AAAAAAAAAN0AAAAAAAAAyQAAAAAAAADBAzczMzMzMDEA9CtejcP0zQAAAAAAAwDJAAAAAAACAN0AAAAAAAIBAQAAAAAAAwDNAAAAAAAAA+D8AAAAAAAAVQAAAAAAAAC1AAAAAAAAAN0AAAAAAAAAEQAAAAAAAADdAAAAAAAAAEEAAAAAAAMA0QLgehetRuN4/zczMzMzM3D/NzMzMzMzcP5qZmZmZmdk/ZmZmZmZm1j9mZmZmZmbWPwAAAAAAANA/AAAAAAAA0D/D9Shcj8LFP5qZmZmZmRRAAAAAAAAAEkBxPQrXo3AUQGZmZmZm5iZAmpmZmZmZFUDNzMzMzMwlQJqZmZmZmR1AAAAAAAAAF0A=",
          "dtype": "f8"
         },
         "xaxis": "x2",
         "yaxis": "y2"
        }
       ],
       "layout": {
        "bargap": 0.1,
        "barmode": "relative",
        "legend": {
         "title": {
          "text": "Transmission"
         },
         "tracegroupgap": 0
        },
        "template": {
         "data": {
          "bar": [
           {
            "error_x": {
             "color": "#2a3f5f"
            },
            "error_y": {
             "color": "#2a3f5f"
            },
            "marker": {
             "line": {
              "color": "#E5ECF6",
              "width": 0.5
             },
             "pattern": {
              "fillmode": "overlay",
              "size": 10,
              "solidity": 0.2
             }
            },
            "type": "bar"
           }
          ],
          "barpolar": [
           {
            "marker": {
             "line": {
              "color": "#E5ECF6",
              "width": 0.5
             },
             "pattern": {
              "fillmode": "overlay",
              "size": 10,
              "solidity": 0.2
             }
            },
            "type": "barpolar"
           }
          ],
          "carpet": [
           {
            "aaxis": {
             "endlinecolor": "#2a3f5f",
             "gridcolor": "white",
             "linecolor": "white",
             "minorgridcolor": "white",
             "startlinecolor": "#2a3f5f"
            },
            "baxis": {
             "endlinecolor": "#2a3f5f",
             "gridcolor": "white",
             "linecolor": "white",
             "minorgridcolor": "white",
             "startlinecolor": "#2a3f5f"
            },
            "type": "carpet"
           }
          ],
          "choropleth": [
           {
            "colorbar": {
             "outlinewidth": 0,
             "ticks": ""
            },
            "type": "choropleth"
           }
          ],
          "contour": [
           {
            "colorbar": {
             "outlinewidth": 0,
             "ticks": ""
            },
            "colorscale": [
             [
              0,
              "#0d0887"
             ],
             [
              0.1111111111111111,
              "#46039f"
             ],
             [
              0.2222222222222222,
              "#7201a8"
             ],
             [
              0.3333333333333333,
              "#9c179e"
             ],
             [
              0.4444444444444444,
              "#bd3786"
             ],
             [
              0.5555555555555556,
              "#d8576b"
             ],
             [
              0.6666666666666666,
              "#ed7953"
             ],
             [
              0.7777777777777778,
              "#fb9f3a"
             ],
             [
              0.8888888888888888,
              "#fdca26"
             ],
             [
              1,
              "#f0f921"
             ]
            ],
            "type": "contour"
           }
          ],
          "contourcarpet": [
           {
            "colorbar": {
             "outlinewidth": 0,
             "ticks": ""
            },
            "type": "contourcarpet"
           }
          ],
          "heatmap": [
           {
            "colorbar": {
             "outlinewidth": 0,
             "ticks": ""
            },
            "colorscale": [
             [
              0,
              "#0d0887"
             ],
             [
              0.1111111111111111,
              "#46039f"
             ],
             [
              0.2222222222222222,
              "#7201a8"
             ],
             [
              0.3333333333333333,
              "#9c179e"
             ],
             [
              0.4444444444444444,
              "#bd3786"
             ],
             [
              0.5555555555555556,
              "#d8576b"
             ],
             [
              0.6666666666666666,
              "#ed7953"
             ],
             [
              0.7777777777777778,
              "#fb9f3a"
             ],
             [
              0.8888888888888888,
              "#fdca26"
             ],
             [
              1,
              "#f0f921"
             ]
            ],
            "type": "heatmap"
           }
          ],
          "histogram": [
           {
            "marker": {
             "pattern": {
              "fillmode": "overlay",
              "size": 10,
              "solidity": 0.2
             }
            },
            "type": "histogram"
           }
          ],
          "histogram2d": [
           {
            "colorbar": {
             "outlinewidth": 0,
             "ticks": ""
            },
            "colorscale": [
             [
              0,
              "#0d0887"
             ],
             [
              0.1111111111111111,
              "#46039f"
             ],
             [
              0.2222222222222222,
              "#7201a8"
             ],
             [
              0.3333333333333333,
              "#9c179e"
             ],
             [
              0.4444444444444444,
              "#bd3786"
             ],
             [
              0.5555555555555556,
              "#d8576b"
             ],
             [
              0.6666666666666666,
              "#ed7953"
             ],
             [
              0.7777777777777778,
              "#fb9f3a"
             ],
             [
              0.8888888888888888,
              "#fdca26"
             ],
             [
              1,
              "#f0f921"
             ]
            ],
            "type": "histogram2d"
           }
          ],
          "histogram2dcontour": [
           {
            "colorbar": {
             "outlinewidth": 0,
             "ticks": ""
            },
            "colorscale": [
             [
              0,
              "#0d0887"
             ],
             [
              0.1111111111111111,
              "#46039f"
             ],
             [
              0.2222222222222222,
              "#7201a8"
             ],
             [
              0.3333333333333333,
              "#9c179e"
             ],
             [
              0.4444444444444444,
              "#bd3786"
             ],
             [
              0.5555555555555556,
              "#d8576b"
             ],
             [
              0.6666666666666666,
              "#ed7953"
             ],
             [
              0.7777777777777778,
              "#fb9f3a"
             ],
             [
              0.8888888888888888,
              "#fdca26"
             ],
             [
              1,
              "#f0f921"
             ]
            ],
            "type": "histogram2dcontour"
           }
          ],
          "mesh3d": [
           {
            "colorbar": {
             "outlinewidth": 0,
             "ticks": ""
            },
            "type": "mesh3d"
           }
          ],
          "parcoords": [
           {
            "line": {
             "colorbar": {
              "outlinewidth": 0,
              "ticks": ""
             }
            },
            "type": "parcoords"
           }
          ],
          "pie": [
           {
            "automargin": true,
            "type": "pie"
           }
          ],
          "scatter": [
           {
            "fillpattern": {
             "fillmode": "overlay",
             "size": 10,
             "solidity": 0.2
            },
            "type": "scatter"
           }
          ],
          "scatter3d": [
           {
            "line": {
             "colorbar": {
              "outlinewidth": 0,
              "ticks": ""
             }
            },
            "marker": {
             "colorbar": {
              "outlinewidth": 0,
              "ticks": ""
             }
            },
            "type": "scatter3d"
           }
          ],
          "scattercarpet": [
           {
            "marker": {
             "colorbar": {
              "outlinewidth": 0,
              "ticks": ""
             }
            },
            "type": "scattercarpet"
           }
          ],
          "scattergeo": [
           {
            "marker": {
             "colorbar": {
              "outlinewidth": 0,
              "ticks": ""
             }
            },
            "type": "scattergeo"
           }
          ],
          "scattergl": [
           {
            "marker": {
             "colorbar": {
              "outlinewidth": 0,
              "ticks": ""
             }
            },
            "type": "scattergl"
           }
          ],
          "scattermap": [
           {
            "marker": {
             "colorbar": {
              "outlinewidth": 0,
              "ticks": ""
             }
            },
            "type": "scattermap"
           }
          ],
          "scattermapbox": [
           {
            "marker": {
             "colorbar": {
              "outlinewidth": 0,
              "ticks": ""
             }
            },
            "type": "scattermapbox"
           }
          ],
          "scatterpolar": [
           {
            "marker": {
             "colorbar": {
              "outlinewidth": 0,
              "ticks": ""
             }
            },
            "type": "scatterpolar"
           }
          ],
          "scatterpolargl": [
           {
            "marker": {
             "colorbar": {
              "outlinewidth": 0,
              "ticks": ""
             }
            },
            "type": "scatterpolargl"
           }
          ],
          "scatterternary": [
           {
            "marker": {
             "colorbar": {
              "outlinewidth": 0,
              "ticks": ""
             }
            },
            "type": "scatterternary"
           }
          ],
          "surface": [
           {
            "colorbar": {
             "outlinewidth": 0,
             "ticks": ""
            },
            "colorscale": [
             [
              0,
              "#0d0887"
             ],
             [
              0.1111111111111111,
              "#46039f"
             ],
             [
              0.2222222222222222,
              "#7201a8"
             ],
             [
              0.3333333333333333,
              "#9c179e"
             ],
             [
              0.4444444444444444,
              "#bd3786"
             ],
             [
              0.5555555555555556,
              "#d8576b"
             ],
             [
              0.6666666666666666,
              "#ed7953"
             ],
             [
              0.7777777777777778,
              "#fb9f3a"
             ],
             [
              0.8888888888888888,
              "#fdca26"
             ],
             [
              1,
              "#f0f921"
             ]
            ],
            "type": "surface"
           }
          ],
          "table": [
           {
            "cells": {
             "fill": {
              "color": "#EBF0F8"
             },
             "line": {
              "color": "white"
             }
            },
            "header": {
             "fill": {
              "color": "#C8D4E3"
             },
             "line": {
              "color": "white"
             }
            },
            "type": "table"
           }
          ]
         },
         "layout": {
          "annotationdefaults": {
           "arrowcolor": "#2a3f5f",
           "arrowhead": 0,
           "arrowwidth": 1
          },
          "autotypenumbers": "strict",
          "coloraxis": {
           "colorbar": {
            "outlinewidth": 0,
            "ticks": ""
           }
          },
          "colorscale": {
           "diverging": [
            [
             0,
             "#8e0152"
            ],
            [
             0.1,
             "#c51b7d"
            ],
            [
             0.2,
             "#de77ae"
            ],
            [
             0.3,
             "#f1b6da"
            ],
            [
             0.4,
             "#fde0ef"
            ],
            [
             0.5,
             "#f7f7f7"
            ],
            [
             0.6,
             "#e6f5d0"
            ],
            [
             0.7,
             "#b8e186"
            ],
            [
             0.8,
             "#7fbc41"
            ],
            [
             0.9,
             "#4d9221"
            ],
            [
             1,
             "#276419"
            ]
           ],
           "sequential": [
            [
             0,
             "#0d0887"
            ],
            [
             0.1111111111111111,
             "#46039f"
            ],
            [
             0.2222222222222222,
             "#7201a8"
            ],
            [
             0.3333333333333333,
             "#9c179e"
            ],
            [
             0.4444444444444444,
             "#bd3786"
            ],
            [
             0.5555555555555556,
             "#d8576b"
            ],
            [
             0.6666666666666666,
             "#ed7953"
            ],
            [
             0.7777777777777778,
             "#fb9f3a"
            ],
            [
             0.8888888888888888,
             "#fdca26"
            ],
            [
             1,
             "#f0f921"
            ]
           ],
           "sequentialminus": [
            [
             0,
             "#0d0887"
            ],
            [
             0.1111111111111111,
             "#46039f"
            ],
            [
             0.2222222222222222,
             "#7201a8"
            ],
            [
             0.3333333333333333,
             "#9c179e"
            ],
            [
             0.4444444444444444,
             "#bd3786"
            ],
            [
             0.5555555555555556,
             "#d8576b"
            ],
            [
             0.6666666666666666,
             "#ed7953"
            ],
            [
             0.7777777777777778,
             "#fb9f3a"
            ],
            [
             0.8888888888888888,
             "#fdca26"
            ],
            [
             1,
             "#f0f921"
            ]
           ]
          },
          "colorway": [
           "#636efa",
           "#EF553B",
           "#00cc96",
           "#ab63fa",
           "#FFA15A",
           "#19d3f3",
           "#FF6692",
           "#B6E880",
           "#FF97FF",
           "#FECB52"
          ],
          "font": {
           "color": "#2a3f5f"
          },
          "geo": {
           "bgcolor": "white",
           "lakecolor": "white",
           "landcolor": "#E5ECF6",
           "showlakes": true,
           "showland": true,
           "subunitcolor": "white"
          },
          "hoverlabel": {
           "align": "left"
          },
          "hovermode": "closest",
          "mapbox": {
           "style": "light"
          },
          "paper_bgcolor": "white",
          "plot_bgcolor": "#E5ECF6",
          "polar": {
           "angularaxis": {
            "gridcolor": "white",
            "linecolor": "white",
            "ticks": ""
           },
           "bgcolor": "#E5ECF6",
           "radialaxis": {
            "gridcolor": "white",
            "linecolor": "white",
            "ticks": ""
           }
          },
          "scene": {
           "xaxis": {
            "backgroundcolor": "#E5ECF6",
            "gridcolor": "white",
            "gridwidth": 2,
            "linecolor": "white",
            "showbackground": true,
            "ticks": "",
            "zerolinecolor": "white"
           },
           "yaxis": {
            "backgroundcolor": "#E5ECF6",
            "gridcolor": "white",
            "gridwidth": 2,
            "linecolor": "white",
            "showbackground": true,
            "ticks": "",
            "zerolinecolor": "white"
           },
           "zaxis": {
            "backgroundcolor": "#E5ECF6",
            "gridcolor": "white",
            "gridwidth": 2,
            "linecolor": "white",
            "showbackground": true,
            "ticks": "",
            "zerolinecolor": "white"
           }
          },
          "shapedefaults": {
           "line": {
            "color": "#2a3f5f"
           }
          },
          "ternary": {
           "aaxis": {
            "gridcolor": "white",
            "linecolor": "white",
            "ticks": ""
           },
           "baxis": {
            "gridcolor": "white",
            "linecolor": "white",
            "ticks": ""
           },
           "bgcolor": "#E5ECF6",
           "caxis": {
            "gridcolor": "white",
            "linecolor": "white",
            "ticks": ""
           }
          },
          "title": {
           "x": 0.05
          },
          "xaxis": {
           "automargin": true,
           "gridcolor": "white",
           "linecolor": "white",
           "ticks": "",
           "title": {
            "standoff": 15
           },
           "zerolinecolor": "white",
           "zerolinewidth": 2
          },
          "yaxis": {
           "automargin": true,
           "gridcolor": "white",
           "linecolor": "white",
           "ticks": "",
           "title": {
            "standoff": 15
           },
           "zerolinecolor": "white",
           "zerolinewidth": 2
          }
         }
        },
        "title": {
         "text": "car data of the selling price with transmission consideration"
        },
        "xaxis": {
         "anchor": "y",
         "domain": [
          0,
          1
         ],
         "title": {
          "text": "Selling_Price"
         }
        },
        "xaxis2": {
         "anchor": "y2",
         "domain": [
          0,
          1
         ],
         "matches": "x",
         "showgrid": true,
         "showticklabels": false
        },
        "yaxis": {
         "anchor": "x",
         "domain": [
          0,
          0.7326
         ],
         "title": {
          "text": "count"
         }
        },
        "yaxis2": {
         "anchor": "x2",
         "domain": [
          0.7426,
          1
         ],
         "matches": "y2",
         "showgrid": false,
         "showline": false,
         "showticklabels": false,
         "ticks": ""
        }
       }
      }
     },
     "metadata": {},
     "output_type": "display_data"
    }
   ],
   "source": [
    "import plotly.express as px\n",
    "\n",
    "fig= px.histogram(car_data, \n",
    "                  x='Selling_Price', \n",
    "                  title='car data of the selling price with transmission consideration',\n",
    "                  color='Transmission',\n",
    "                  marginal='box')\n",
    "fig.update_layout(bargap=0.1)\n",
    "fig.show()"
   ]
  },
  {
   "cell_type": "markdown",
   "metadata": {},
   "source": [
    "The distribution is skewed and we also can observe that automatic cars are more expensive. As the selling price increases, we could see this in ur box plot above."
   ]
  },
  {
   "cell_type": "markdown",
   "metadata": {},
   "source": [
    "# Kilometers Driven"
   ]
  },
  {
   "cell_type": "code",
   "execution_count": 32,
   "metadata": {},
   "outputs": [
    {
     "data": {
      "application/vnd.plotly.v1+json": {
       "config": {
        "plotlyServerURL": "https://plot.ly"
       },
       "data": [
        {
         "bingroup": "x",
         "hovertemplate": "Fuel_Type=Petrol<br>Kms_Driven=%{x}<br>count=%{y}<extra></extra>",
         "legendgroup": "Petrol",
         "marker": {
          "color": "#636efa",
          "pattern": {
           "shape": ""
          }
         },
         "name": "Petrol",
         "orientation": "v",
         "showlegend": true,
         "type": "histogram",
         "x": {
          "bdata": "eGkAAPQaAABQFAAAbEkAAFcIAACYOgAAkGUAAHMuAQDioQAAqGEAAGAJAABQwwAA4LAAAC/eAAAgTgAAYtcAAEg/AAD+rQAAuNMAAH++AAAY8AEAXycAADDyAADMXwAAcrYAAJDiAABQwwAAmDoAABT8AADo/QAADmUAAIiQAACQXwEAcBEBAFaeAABQwwAAPZoAAEGcAACMngAA+CoAAMBXAQDgLgAAwdoAAPinAACgjAAAQBkBAPIPAgCAOAEAsCoCAMDaAACYtwAAQJwAADDyAAD4JAEAqFsBAEAZAQD8IQAAyK8AALgLAAB4BQAAoA8AALAEAAAEEAAAxFQAAHRAAACYOgAAUEYAAPgqAABwFwAA/CEAAFgbAAC4iAAAaEIAAFxEAADogAAAsDYAAJBlAAAYFQAARBYAAPQaAABwFwAApLUAAOwsAABAnAAAFAUAAFgbAAC4CwAAiBMAAPgqAABQRgAArA0AAPQBAAAYLgAAiBMAAMxbAACAPgAAmDoAANhAAAAAfQAAIE4AAEhxAACoYQAAqGEAADhKAACYOgAAkOIAAMivAADAXQAAcBcAABh5AADIMgAAyK8AAEAfAADMEAAAmDoAANhZAACYIQAAoA8AAMBdAADYWQAApDgAAHhpAACwNgAA9AEAAOgDAAAQpAAA4C4AALA2AAB8FQAALBoAAIQ1AAAUBQAAyJYAAPgkAQAwdQAAwF0AADhKAAAIQAMAYOoAAFDDAAAwdQAACFIAAJBlAABsBwAA8FUAAAB9AABQRgAA2NYAAGDqAACoYQAAaL8AAMBdAABQwwAAuIgAACChBwDogAAAuIgAAAjPAABJaAEAKG4AANTQAAB6bgAApQ0AAL8wAADthwAAaw0AAL+LAACPWAAAdHsAAJJOAAAEjQAA1DAAAJg6AAAWsAAAoIwAAFiWAAAAfQAAZo0AAPVXAABmYAAAqN4AAJk6AABkMgAAjBEAACU7AABJLgAAUesAAJ1cAAAajAAA0IQAAFgbAAC4iAAAoIwAADB1AABoQgAAfd0AAMN6AADi0wAAq9EAAJrBAACEnQAAqGEAANaMAAAncgAA4BUAAFecAACCPgAAWpwAANBSAAC4iAAAOEoAAIxJAADdDgEAug8BANBrAAAT7wAAdEAAACF4AADgYAAAFFUAAKAPAAC+nAAAgTgAABjFAAAyIwAASCYAANM6AACZbwAA4KsAANCEAADkKgAAOEoAAMN6AADgLgAAcJQAAPuAAABg6gAAflcBAFgVAAA=",
          "dtype": "i4"
         },
         "xaxis": "x",
         "yaxis": "y"
        },
        {
         "hovertemplate": "Fuel_Type=Petrol<br>Kms_Driven=%{x}<extra></extra>",
         "legendgroup": "Petrol",
         "marker": {
          "color": "#636efa"
         },
         "name": "Petrol",
         "notched": true,
         "showlegend": false,
         "type": "box",
         "x": {
          "bdata": "eGkAAPQaAABQFAAAbEkAAFcIAACYOgAAkGUAAHMuAQDioQAAqGEAAGAJAABQwwAA4LAAAC/eAAAgTgAAYtcAAEg/AAD+rQAAuNMAAH++AAAY8AEAXycAADDyAADMXwAAcrYAAJDiAABQwwAAmDoAABT8AADo/QAADmUAAIiQAACQXwEAcBEBAFaeAABQwwAAPZoAAEGcAACMngAA+CoAAMBXAQDgLgAAwdoAAPinAACgjAAAQBkBAPIPAgCAOAEAsCoCAMDaAACYtwAAQJwAADDyAAD4JAEAqFsBAEAZAQD8IQAAyK8AALgLAAB4BQAAoA8AALAEAAAEEAAAxFQAAHRAAACYOgAAUEYAAPgqAABwFwAA/CEAAFgbAAC4iAAAaEIAAFxEAADogAAAsDYAAJBlAAAYFQAARBYAAPQaAABwFwAApLUAAOwsAABAnAAAFAUAAFgbAAC4CwAAiBMAAPgqAABQRgAArA0AAPQBAAAYLgAAiBMAAMxbAACAPgAAmDoAANhAAAAAfQAAIE4AAEhxAACoYQAAqGEAADhKAACYOgAAkOIAAMivAADAXQAAcBcAABh5AADIMgAAyK8AAEAfAADMEAAAmDoAANhZAACYIQAAoA8AAMBdAADYWQAApDgAAHhpAACwNgAA9AEAAOgDAAAQpAAA4C4AALA2AAB8FQAALBoAAIQ1AAAUBQAAyJYAAPgkAQAwdQAAwF0AADhKAAAIQAMAYOoAAFDDAAAwdQAACFIAAJBlAABsBwAA8FUAAAB9AABQRgAA2NYAAGDqAACoYQAAaL8AAMBdAABQwwAAuIgAACChBwDogAAAuIgAAAjPAABJaAEAKG4AANTQAAB6bgAApQ0AAL8wAADthwAAaw0AAL+LAACPWAAAdHsAAJJOAAAEjQAA1DAAAJg6AAAWsAAAoIwAAFiWAAAAfQAAZo0AAPVXAABmYAAAqN4AAJk6AABkMgAAjBEAACU7AABJLgAAUesAAJ1cAAAajAAA0IQAAFgbAAC4iAAAoIwAADB1AABoQgAAfd0AAMN6AADi0wAAq9EAAJrBAACEnQAAqGEAANaMAAAncgAA4BUAAFecAACCPgAAWpwAANBSAAC4iAAAOEoAAIxJAADdDgEAug8BANBrAAAT7wAAdEAAACF4AADgYAAAFFUAAKAPAAC+nAAAgTgAABjFAAAyIwAASCYAANM6AACZbwAA4KsAANCEAADkKgAAOEoAAMN6AADgLgAAcJQAAPuAAABg6gAAflcBAFgVAAA=",
          "dtype": "i4"
         },
         "xaxis": "x2",
         "yaxis": "y2"
        },
        {
         "bingroup": "x",
         "hovertemplate": "Fuel_Type=Diesel<br>Kms_Driven=%{x}<br>count=%{y}<extra></extra>",
         "legendgroup": "Diesel",
         "marker": {
          "color": "#EF553B",
          "pattern": {
           "shape": ""
          }
         },
         "name": "Diesel",
         "orientation": "v",
         "showlegend": true,
         "type": "histogram",
         "x": {
          "bdata": "+KcAANKlAAAXCAAAlYIAADFPAAB/pQAAOMcAAPinAADOogAA+KcAAMivAADvyAAAWJgAAMivAADIrwAA1LIAAAOZAQBAnAAAmDoAAFgPAgAooAAAsDABAJi3AABwFwAAyK8AAHjmAABYFQEAyK8AADhEAQCoWwEA2FkAAECcAACYOgAAcJQAADgCAwCwMAEAguMAAECcAABIcQAAaMMAAJDiAACFUgAAD6oAAEAvAQDF7wAAYOoAAKTLAADIrwAACM8AAKAJAQBCfgAAaL8AAFgVAQBejAAAgLsAAOpLAAAY9gAArOoAAMSEAAAoIwAA",
          "dtype": "i4"
         },
         "xaxis": "x",
         "yaxis": "y"
        },
        {
         "hovertemplate": "Fuel_Type=Diesel<br>Kms_Driven=%{x}<extra></extra>",
         "legendgroup": "Diesel",
         "marker": {
          "color": "#EF553B"
         },
         "name": "Diesel",
         "notched": true,
         "showlegend": false,
         "type": "box",
         "x": {
          "bdata": "+KcAANKlAAAXCAAAlYIAADFPAAB/pQAAOMcAAPinAADOogAA+KcAAMivAADvyAAAWJgAAMivAADIrwAA1LIAAAOZAQBAnAAAmDoAAFgPAgAooAAAsDABAJi3AABwFwAAyK8AAHjmAABYFQEAyK8AADhEAQCoWwEA2FkAAECcAACYOgAAcJQAADgCAwCwMAEAguMAAECcAABIcQAAaMMAAJDiAACFUgAAD6oAAEAvAQDF7wAAYOoAAKTLAADIrwAACM8AAKAJAQBCfgAAaL8AAFgVAQBejAAAgLsAAOpLAAAY9gAArOoAAMSEAAAoIwAA",
          "dtype": "i4"
         },
         "xaxis": "x2",
         "yaxis": "y2"
        },
        {
         "bingroup": "x",
         "hovertemplate": "Fuel_Type=CNG<br>Kms_Driven=%{x}<br>count=%{y}<extra></extra>",
         "legendgroup": "CNG",
         "marker": {
          "color": "#00cc96",
          "pattern": {
           "shape": ""
          }
         },
         "name": "CNG",
         "orientation": "v",
         "showlegend": true,
         "type": "histogram",
         "x": {
          "bdata": "rIoAAE7DAAA=",
          "dtype": "i4"
         },
         "xaxis": "x",
         "yaxis": "y"
        },
        {
         "hovertemplate": "Fuel_Type=CNG<br>Kms_Driven=%{x}<extra></extra>",
         "legendgroup": "CNG",
         "marker": {
          "color": "#00cc96"
         },
         "name": "CNG",
         "notched": true,
         "showlegend": false,
         "type": "box",
         "x": {
          "bdata": "rIoAAE7DAAA=",
          "dtype": "i4"
         },
         "xaxis": "x2",
         "yaxis": "y2"
        }
       ],
       "layout": {
        "bargap": 0.1,
        "barmode": "relative",
        "legend": {
         "title": {
          "text": "Fuel_Type"
         },
         "tracegroupgap": 0
        },
        "template": {
         "data": {
          "bar": [
           {
            "error_x": {
             "color": "#2a3f5f"
            },
            "error_y": {
             "color": "#2a3f5f"
            },
            "marker": {
             "line": {
              "color": "#E5ECF6",
              "width": 0.5
             },
             "pattern": {
              "fillmode": "overlay",
              "size": 10,
              "solidity": 0.2
             }
            },
            "type": "bar"
           }
          ],
          "barpolar": [
           {
            "marker": {
             "line": {
              "color": "#E5ECF6",
              "width": 0.5
             },
             "pattern": {
              "fillmode": "overlay",
              "size": 10,
              "solidity": 0.2
             }
            },
            "type": "barpolar"
           }
          ],
          "carpet": [
           {
            "aaxis": {
             "endlinecolor": "#2a3f5f",
             "gridcolor": "white",
             "linecolor": "white",
             "minorgridcolor": "white",
             "startlinecolor": "#2a3f5f"
            },
            "baxis": {
             "endlinecolor": "#2a3f5f",
             "gridcolor": "white",
             "linecolor": "white",
             "minorgridcolor": "white",
             "startlinecolor": "#2a3f5f"
            },
            "type": "carpet"
           }
          ],
          "choropleth": [
           {
            "colorbar": {
             "outlinewidth": 0,
             "ticks": ""
            },
            "type": "choropleth"
           }
          ],
          "contour": [
           {
            "colorbar": {
             "outlinewidth": 0,
             "ticks": ""
            },
            "colorscale": [
             [
              0,
              "#0d0887"
             ],
             [
              0.1111111111111111,
              "#46039f"
             ],
             [
              0.2222222222222222,
              "#7201a8"
             ],
             [
              0.3333333333333333,
              "#9c179e"
             ],
             [
              0.4444444444444444,
              "#bd3786"
             ],
             [
              0.5555555555555556,
              "#d8576b"
             ],
             [
              0.6666666666666666,
              "#ed7953"
             ],
             [
              0.7777777777777778,
              "#fb9f3a"
             ],
             [
              0.8888888888888888,
              "#fdca26"
             ],
             [
              1,
              "#f0f921"
             ]
            ],
            "type": "contour"
           }
          ],
          "contourcarpet": [
           {
            "colorbar": {
             "outlinewidth": 0,
             "ticks": ""
            },
            "type": "contourcarpet"
           }
          ],
          "heatmap": [
           {
            "colorbar": {
             "outlinewidth": 0,
             "ticks": ""
            },
            "colorscale": [
             [
              0,
              "#0d0887"
             ],
             [
              0.1111111111111111,
              "#46039f"
             ],
             [
              0.2222222222222222,
              "#7201a8"
             ],
             [
              0.3333333333333333,
              "#9c179e"
             ],
             [
              0.4444444444444444,
              "#bd3786"
             ],
             [
              0.5555555555555556,
              "#d8576b"
             ],
             [
              0.6666666666666666,
              "#ed7953"
             ],
             [
              0.7777777777777778,
              "#fb9f3a"
             ],
             [
              0.8888888888888888,
              "#fdca26"
             ],
             [
              1,
              "#f0f921"
             ]
            ],
            "type": "heatmap"
           }
          ],
          "histogram": [
           {
            "marker": {
             "pattern": {
              "fillmode": "overlay",
              "size": 10,
              "solidity": 0.2
             }
            },
            "type": "histogram"
           }
          ],
          "histogram2d": [
           {
            "colorbar": {
             "outlinewidth": 0,
             "ticks": ""
            },
            "colorscale": [
             [
              0,
              "#0d0887"
             ],
             [
              0.1111111111111111,
              "#46039f"
             ],
             [
              0.2222222222222222,
              "#7201a8"
             ],
             [
              0.3333333333333333,
              "#9c179e"
             ],
             [
              0.4444444444444444,
              "#bd3786"
             ],
             [
              0.5555555555555556,
              "#d8576b"
             ],
             [
              0.6666666666666666,
              "#ed7953"
             ],
             [
              0.7777777777777778,
              "#fb9f3a"
             ],
             [
              0.8888888888888888,
              "#fdca26"
             ],
             [
              1,
              "#f0f921"
             ]
            ],
            "type": "histogram2d"
           }
          ],
          "histogram2dcontour": [
           {
            "colorbar": {
             "outlinewidth": 0,
             "ticks": ""
            },
            "colorscale": [
             [
              0,
              "#0d0887"
             ],
             [
              0.1111111111111111,
              "#46039f"
             ],
             [
              0.2222222222222222,
              "#7201a8"
             ],
             [
              0.3333333333333333,
              "#9c179e"
             ],
             [
              0.4444444444444444,
              "#bd3786"
             ],
             [
              0.5555555555555556,
              "#d8576b"
             ],
             [
              0.6666666666666666,
              "#ed7953"
             ],
             [
              0.7777777777777778,
              "#fb9f3a"
             ],
             [
              0.8888888888888888,
              "#fdca26"
             ],
             [
              1,
              "#f0f921"
             ]
            ],
            "type": "histogram2dcontour"
           }
          ],
          "mesh3d": [
           {
            "colorbar": {
             "outlinewidth": 0,
             "ticks": ""
            },
            "type": "mesh3d"
           }
          ],
          "parcoords": [
           {
            "line": {
             "colorbar": {
              "outlinewidth": 0,
              "ticks": ""
             }
            },
            "type": "parcoords"
           }
          ],
          "pie": [
           {
            "automargin": true,
            "type": "pie"
           }
          ],
          "scatter": [
           {
            "fillpattern": {
             "fillmode": "overlay",
             "size": 10,
             "solidity": 0.2
            },
            "type": "scatter"
           }
          ],
          "scatter3d": [
           {
            "line": {
             "colorbar": {
              "outlinewidth": 0,
              "ticks": ""
             }
            },
            "marker": {
             "colorbar": {
              "outlinewidth": 0,
              "ticks": ""
             }
            },
            "type": "scatter3d"
           }
          ],
          "scattercarpet": [
           {
            "marker": {
             "colorbar": {
              "outlinewidth": 0,
              "ticks": ""
             }
            },
            "type": "scattercarpet"
           }
          ],
          "scattergeo": [
           {
            "marker": {
             "colorbar": {
              "outlinewidth": 0,
              "ticks": ""
             }
            },
            "type": "scattergeo"
           }
          ],
          "scattergl": [
           {
            "marker": {
             "colorbar": {
              "outlinewidth": 0,
              "ticks": ""
             }
            },
            "type": "scattergl"
           }
          ],
          "scattermap": [
           {
            "marker": {
             "colorbar": {
              "outlinewidth": 0,
              "ticks": ""
             }
            },
            "type": "scattermap"
           }
          ],
          "scattermapbox": [
           {
            "marker": {
             "colorbar": {
              "outlinewidth": 0,
              "ticks": ""
             }
            },
            "type": "scattermapbox"
           }
          ],
          "scatterpolar": [
           {
            "marker": {
             "colorbar": {
              "outlinewidth": 0,
              "ticks": ""
             }
            },
            "type": "scatterpolar"
           }
          ],
          "scatterpolargl": [
           {
            "marker": {
             "colorbar": {
              "outlinewidth": 0,
              "ticks": ""
             }
            },
            "type": "scatterpolargl"
           }
          ],
          "scatterternary": [
           {
            "marker": {
             "colorbar": {
              "outlinewidth": 0,
              "ticks": ""
             }
            },
            "type": "scatterternary"
           }
          ],
          "surface": [
           {
            "colorbar": {
             "outlinewidth": 0,
             "ticks": ""
            },
            "colorscale": [
             [
              0,
              "#0d0887"
             ],
             [
              0.1111111111111111,
              "#46039f"
             ],
             [
              0.2222222222222222,
              "#7201a8"
             ],
             [
              0.3333333333333333,
              "#9c179e"
             ],
             [
              0.4444444444444444,
              "#bd3786"
             ],
             [
              0.5555555555555556,
              "#d8576b"
             ],
             [
              0.6666666666666666,
              "#ed7953"
             ],
             [
              0.7777777777777778,
              "#fb9f3a"
             ],
             [
              0.8888888888888888,
              "#fdca26"
             ],
             [
              1,
              "#f0f921"
             ]
            ],
            "type": "surface"
           }
          ],
          "table": [
           {
            "cells": {
             "fill": {
              "color": "#EBF0F8"
             },
             "line": {
              "color": "white"
             }
            },
            "header": {
             "fill": {
              "color": "#C8D4E3"
             },
             "line": {
              "color": "white"
             }
            },
            "type": "table"
           }
          ]
         },
         "layout": {
          "annotationdefaults": {
           "arrowcolor": "#2a3f5f",
           "arrowhead": 0,
           "arrowwidth": 1
          },
          "autotypenumbers": "strict",
          "coloraxis": {
           "colorbar": {
            "outlinewidth": 0,
            "ticks": ""
           }
          },
          "colorscale": {
           "diverging": [
            [
             0,
             "#8e0152"
            ],
            [
             0.1,
             "#c51b7d"
            ],
            [
             0.2,
             "#de77ae"
            ],
            [
             0.3,
             "#f1b6da"
            ],
            [
             0.4,
             "#fde0ef"
            ],
            [
             0.5,
             "#f7f7f7"
            ],
            [
             0.6,
             "#e6f5d0"
            ],
            [
             0.7,
             "#b8e186"
            ],
            [
             0.8,
             "#7fbc41"
            ],
            [
             0.9,
             "#4d9221"
            ],
            [
             1,
             "#276419"
            ]
           ],
           "sequential": [
            [
             0,
             "#0d0887"
            ],
            [
             0.1111111111111111,
             "#46039f"
            ],
            [
             0.2222222222222222,
             "#7201a8"
            ],
            [
             0.3333333333333333,
             "#9c179e"
            ],
            [
             0.4444444444444444,
             "#bd3786"
            ],
            [
             0.5555555555555556,
             "#d8576b"
            ],
            [
             0.6666666666666666,
             "#ed7953"
            ],
            [
             0.7777777777777778,
             "#fb9f3a"
            ],
            [
             0.8888888888888888,
             "#fdca26"
            ],
            [
             1,
             "#f0f921"
            ]
           ],
           "sequentialminus": [
            [
             0,
             "#0d0887"
            ],
            [
             0.1111111111111111,
             "#46039f"
            ],
            [
             0.2222222222222222,
             "#7201a8"
            ],
            [
             0.3333333333333333,
             "#9c179e"
            ],
            [
             0.4444444444444444,
             "#bd3786"
            ],
            [
             0.5555555555555556,
             "#d8576b"
            ],
            [
             0.6666666666666666,
             "#ed7953"
            ],
            [
             0.7777777777777778,
             "#fb9f3a"
            ],
            [
             0.8888888888888888,
             "#fdca26"
            ],
            [
             1,
             "#f0f921"
            ]
           ]
          },
          "colorway": [
           "#636efa",
           "#EF553B",
           "#00cc96",
           "#ab63fa",
           "#FFA15A",
           "#19d3f3",
           "#FF6692",
           "#B6E880",
           "#FF97FF",
           "#FECB52"
          ],
          "font": {
           "color": "#2a3f5f"
          },
          "geo": {
           "bgcolor": "white",
           "lakecolor": "white",
           "landcolor": "#E5ECF6",
           "showlakes": true,
           "showland": true,
           "subunitcolor": "white"
          },
          "hoverlabel": {
           "align": "left"
          },
          "hovermode": "closest",
          "mapbox": {
           "style": "light"
          },
          "paper_bgcolor": "white",
          "plot_bgcolor": "#E5ECF6",
          "polar": {
           "angularaxis": {
            "gridcolor": "white",
            "linecolor": "white",
            "ticks": ""
           },
           "bgcolor": "#E5ECF6",
           "radialaxis": {
            "gridcolor": "white",
            "linecolor": "white",
            "ticks": ""
           }
          },
          "scene": {
           "xaxis": {
            "backgroundcolor": "#E5ECF6",
            "gridcolor": "white",
            "gridwidth": 2,
            "linecolor": "white",
            "showbackground": true,
            "ticks": "",
            "zerolinecolor": "white"
           },
           "yaxis": {
            "backgroundcolor": "#E5ECF6",
            "gridcolor": "white",
            "gridwidth": 2,
            "linecolor": "white",
            "showbackground": true,
            "ticks": "",
            "zerolinecolor": "white"
           },
           "zaxis": {
            "backgroundcolor": "#E5ECF6",
            "gridcolor": "white",
            "gridwidth": 2,
            "linecolor": "white",
            "showbackground": true,
            "ticks": "",
            "zerolinecolor": "white"
           }
          },
          "shapedefaults": {
           "line": {
            "color": "#2a3f5f"
           }
          },
          "ternary": {
           "aaxis": {
            "gridcolor": "white",
            "linecolor": "white",
            "ticks": ""
           },
           "baxis": {
            "gridcolor": "white",
            "linecolor": "white",
            "ticks": ""
           },
           "bgcolor": "#E5ECF6",
           "caxis": {
            "gridcolor": "white",
            "linecolor": "white",
            "ticks": ""
           }
          },
          "title": {
           "x": 0.05
          },
          "xaxis": {
           "automargin": true,
           "gridcolor": "white",
           "linecolor": "white",
           "ticks": "",
           "title": {
            "standoff": 15
           },
           "zerolinecolor": "white",
           "zerolinewidth": 2
          },
          "yaxis": {
           "automargin": true,
           "gridcolor": "white",
           "linecolor": "white",
           "ticks": "",
           "title": {
            "standoff": 15
           },
           "zerolinecolor": "white",
           "zerolinewidth": 2
          }
         }
        },
        "title": {
         "text": " car data for KMS driven"
        },
        "xaxis": {
         "anchor": "y",
         "domain": [
          0,
          1
         ],
         "title": {
          "text": "Kms_Driven"
         }
        },
        "xaxis2": {
         "anchor": "y2",
         "domain": [
          0,
          1
         ],
         "matches": "x",
         "showgrid": true,
         "showticklabels": false
        },
        "yaxis": {
         "anchor": "x",
         "domain": [
          0,
          0.7326
         ],
         "title": {
          "text": "count"
         }
        },
        "yaxis2": {
         "anchor": "x2",
         "domain": [
          0.7426,
          1
         ],
         "matches": "y2",
         "showgrid": false,
         "showline": false,
         "showticklabels": false,
         "ticks": ""
        }
       }
      }
     },
     "metadata": {},
     "output_type": "display_data"
    }
   ],
   "source": [
    "fig= px.histogram(car_data, x='Kms_Driven', \n",
    "             title=' car data for KMS driven',\n",
    "              marginal='box',\n",
    "              color='Fuel_Type')\n",
    "fig.update_layout(bargap=0.1)\n",
    "fig.show()"
   ]
  },
  {
   "cell_type": "markdown",
   "metadata": {},
   "source": [
    "Most of the vaules range in 0 to 100k, and some are outliers and the petrol is the most significat used Fuel. \n",
    "# KMS driven vs selling price \n",
    "\n",
    "Another intuitive hypothesis that we could make is that the more kilometers a car has, the lower its price will be. Let’s see if this is true. We can use a scatter plot to visualize the relationship between two numerical features."
   ]
  },
  {
   "cell_type": "code",
   "execution_count": 47,
   "metadata": {},
   "outputs": [
    {
     "data": {
      "application/vnd.plotly.v1+json": {
       "config": {
        "plotlyServerURL": "https://plot.ly"
       },
       "data": [
        {
         "hovertemplate": "Fuel_Type=Petrol<br>Kms_Driven=%{x}<br>Selling_Price=%{y}<extra></extra>",
         "legendgroup": "Petrol",
         "marker": {
          "color": "#636efa",
          "opacity": 0.7,
          "size": 6,
          "symbol": "circle"
         },
         "mode": "markers",
         "name": "Petrol",
         "orientation": "v",
         "showlegend": true,
         "type": "scatter",
         "x": {
          "bdata": "eGkAAPQaAABQFAAAbEkAAFcIAACYOgAAkGUAAHMuAQDioQAAqGEAAGAJAABQwwAA4LAAAC/eAAAgTgAAYtcAAEg/AAD+rQAAuNMAAH++AAAY8AEAXycAADDyAADMXwAAcrYAAJDiAABQwwAAmDoAABT8AADo/QAADmUAAIiQAACQXwEAcBEBAFaeAABQwwAAPZoAAEGcAACMngAA+CoAAMBXAQDgLgAAwdoAAPinAACgjAAAQBkBAPIPAgCAOAEAsCoCAMDaAACYtwAAQJwAADDyAAD4JAEAqFsBAEAZAQD8IQAAyK8AALgLAAB4BQAAoA8AALAEAAAEEAAAxFQAAHRAAACYOgAAUEYAAPgqAABwFwAA/CEAAFgbAAC4iAAAaEIAAFxEAADogAAAsDYAAJBlAAAYFQAARBYAAPQaAABwFwAApLUAAOwsAABAnAAAFAUAAFgbAAC4CwAAiBMAAPgqAABQRgAArA0AAPQBAAAYLgAAiBMAAMxbAACAPgAAmDoAANhAAAAAfQAAIE4AAEhxAACoYQAAqGEAADhKAACYOgAAkOIAAMivAADAXQAAcBcAABh5AADIMgAAyK8AAEAfAADMEAAAmDoAANhZAACYIQAAoA8AAMBdAADYWQAApDgAAHhpAACwNgAA9AEAAOgDAAAQpAAA4C4AALA2AAB8FQAALBoAAIQ1AAAUBQAAyJYAAPgkAQAwdQAAwF0AADhKAAAIQAMAYOoAAFDDAAAwdQAACFIAAJBlAABsBwAA8FUAAAB9AABQRgAA2NYAAGDqAACoYQAAaL8AAMBdAABQwwAAuIgAACChBwDogAAAuIgAAAjPAABJaAEAKG4AANTQAAB6bgAApQ0AAL8wAADthwAAaw0AAL+LAACPWAAAdHsAAJJOAAAEjQAA1DAAAJg6AAAWsAAAoIwAAFiWAAAAfQAAZo0AAPVXAABmYAAAqN4AAJk6AABkMgAAjBEAACU7AABJLgAAUesAAJ1cAAAajAAA0IQAAFgbAAC4iAAAoIwAADB1AABoQgAAfd0AAMN6AADi0wAAq9EAAJrBAACEnQAAqGEAANaMAAAncgAA4BUAAFecAACCPgAAWpwAANBSAAC4iAAAOEoAAIxJAADdDgEAug8BANBrAAAT7wAAdEAAACF4AADgYAAAFFUAAKAPAAC+nAAAgTgAABjFAAAyIwAASCYAANM6AACZbwAA4KsAANCEAADkKgAAOEoAAMN6AADgLgAAcJQAAPuAAABg6gAAflcBAFgVAAA=",
          "dtype": "i4"
         },
         "xaxis": "x",
         "y": {
          "bdata": "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",
          "dtype": "f8"
         },
         "yaxis": "y"
        },
        {
         "hovertemplate": "Fuel_Type=Diesel<br>Kms_Driven=%{x}<br>Selling_Price=%{y}<extra></extra>",
         "legendgroup": "Diesel",
         "marker": {
          "color": "#EF553B",
          "opacity": 0.7,
          "size": 6,
          "symbol": "circle"
         },
         "mode": "markers",
         "name": "Diesel",
         "orientation": "v",
         "showlegend": true,
         "type": "scatter",
         "x": {
          "bdata": "+KcAANKlAAAXCAAAlYIAADFPAAB/pQAAOMcAAPinAADOogAA+KcAAMivAADvyAAAWJgAAMivAADIrwAA1LIAAAOZAQBAnAAAmDoAAFgPAgAooAAAsDABAJi3AABwFwAAyK8AAHjmAABYFQEAyK8AADhEAQCoWwEA2FkAAECcAACYOgAAcJQAADgCAwCwMAEAguMAAECcAABIcQAAaMMAAJDiAACFUgAAD6oAAEAvAQDF7wAAYOoAAKTLAADIrwAACM8AAKAJAQBCfgAAaL8AAFgVAQBejAAAgLsAAOpLAAAY9gAArOoAAMSEAAAoIwAA",
          "dtype": "i4"
         },
         "xaxis": "x",
         "y": {
          "bdata": "AAAAAAAAE0BmZmZmZmYSQAAAAAAAgCJAAAAAAAAAGkAAAAAAAIAhQM3MzMzMzB1AZmZmZmZmG0AAAAAAAAAfQAAAAAAAAB1AAAAAAAAAH0DNzMzMzMwdQM3MzMzMzAhAzczMzMzME0AAAAAAAAAYQAAAAAAAABZAAAAAAAAAFkDNzMzMzMwtQAAAAAAAADdAAAAAAAAAMkAAAAAAAAAwQD0K16Nw/TNAAAAAAADAMkAAAAAAAIA3QAAAAAAAgEBAAAAAAAAAE0AAAAAAAIAiQJqZmZmZmQ9AAAAAAAAAEkCamZmZmZkTQAAAAAAAAC1A9ihcj8J1LUAAAAAAAAATQAAAAAAAADdAAAAAAAAAKUDsUbgehesLQAAAAAAAgEFAAAAAAACAJkAAAAAAAAA3QAAAAAAAwDRAzczMzMxMI0AAAAAAAAAKQGZmZmZmZhNAAAAAAACAJ0AAAAAAAAAYQAAAAAAAgCBAzczMzMzME0DNzMzMzMwIQJqZmZmZmRhAMzMzMzMzD0AAAAAAAIAmQGZmZmZmZhVAzczMzMzMF0DNzMzMzMwUQM3MzMzMzClAzczMzMzMHEAzMzMzM7MgQAAAAAAAgCBAmpmZmZkZIUAAAAAAAAAjQAAAAAAAACdA",
          "dtype": "f8"
         },
         "yaxis": "y"
        },
        {
         "hovertemplate": "Fuel_Type=CNG<br>Kms_Driven=%{x}<br>Selling_Price=%{y}<extra></extra>",
         "legendgroup": "CNG",
         "marker": {
          "color": "#00cc96",
          "opacity": 0.7,
          "size": 6,
          "symbol": "circle"
         },
         "mode": "markers",
         "name": "CNG",
         "orientation": "v",
         "showlegend": true,
         "type": "scatter",
         "x": {
          "bdata": "rIoAAE7DAAA=",
          "dtype": "i4"
         },
         "xaxis": "x",
         "y": {
          "bdata": "AAAAAAAACkCamZmZmZkHQA==",
          "dtype": "f8"
         },
         "yaxis": "y"
        }
       ],
       "layout": {
        "legend": {
         "title": {
          "text": "Fuel_Type"
         },
         "tracegroupgap": 0
        },
        "template": {
         "data": {
          "bar": [
           {
            "error_x": {
             "color": "#2a3f5f"
            },
            "error_y": {
             "color": "#2a3f5f"
            },
            "marker": {
             "line": {
              "color": "#E5ECF6",
              "width": 0.5
             },
             "pattern": {
              "fillmode": "overlay",
              "size": 10,
              "solidity": 0.2
             }
            },
            "type": "bar"
           }
          ],
          "barpolar": [
           {
            "marker": {
             "line": {
              "color": "#E5ECF6",
              "width": 0.5
             },
             "pattern": {
              "fillmode": "overlay",
              "size": 10,
              "solidity": 0.2
             }
            },
            "type": "barpolar"
           }
          ],
          "carpet": [
           {
            "aaxis": {
             "endlinecolor": "#2a3f5f",
             "gridcolor": "white",
             "linecolor": "white",
             "minorgridcolor": "white",
             "startlinecolor": "#2a3f5f"
            },
            "baxis": {
             "endlinecolor": "#2a3f5f",
             "gridcolor": "white",
             "linecolor": "white",
             "minorgridcolor": "white",
             "startlinecolor": "#2a3f5f"
            },
            "type": "carpet"
           }
          ],
          "choropleth": [
           {
            "colorbar": {
             "outlinewidth": 0,
             "ticks": ""
            },
            "type": "choropleth"
           }
          ],
          "contour": [
           {
            "colorbar": {
             "outlinewidth": 0,
             "ticks": ""
            },
            "colorscale": [
             [
              0,
              "#0d0887"
             ],
             [
              0.1111111111111111,
              "#46039f"
             ],
             [
              0.2222222222222222,
              "#7201a8"
             ],
             [
              0.3333333333333333,
              "#9c179e"
             ],
             [
              0.4444444444444444,
              "#bd3786"
             ],
             [
              0.5555555555555556,
              "#d8576b"
             ],
             [
              0.6666666666666666,
              "#ed7953"
             ],
             [
              0.7777777777777778,
              "#fb9f3a"
             ],
             [
              0.8888888888888888,
              "#fdca26"
             ],
             [
              1,
              "#f0f921"
             ]
            ],
            "type": "contour"
           }
          ],
          "contourcarpet": [
           {
            "colorbar": {
             "outlinewidth": 0,
             "ticks": ""
            },
            "type": "contourcarpet"
           }
          ],
          "heatmap": [
           {
            "colorbar": {
             "outlinewidth": 0,
             "ticks": ""
            },
            "colorscale": [
             [
              0,
              "#0d0887"
             ],
             [
              0.1111111111111111,
              "#46039f"
             ],
             [
              0.2222222222222222,
              "#7201a8"
             ],
             [
              0.3333333333333333,
              "#9c179e"
             ],
             [
              0.4444444444444444,
              "#bd3786"
             ],
             [
              0.5555555555555556,
              "#d8576b"
             ],
             [
              0.6666666666666666,
              "#ed7953"
             ],
             [
              0.7777777777777778,
              "#fb9f3a"
             ],
             [
              0.8888888888888888,
              "#fdca26"
             ],
             [
              1,
              "#f0f921"
             ]
            ],
            "type": "heatmap"
           }
          ],
          "histogram": [
           {
            "marker": {
             "pattern": {
              "fillmode": "overlay",
              "size": 10,
              "solidity": 0.2
             }
            },
            "type": "histogram"
           }
          ],
          "histogram2d": [
           {
            "colorbar": {
             "outlinewidth": 0,
             "ticks": ""
            },
            "colorscale": [
             [
              0,
              "#0d0887"
             ],
             [
              0.1111111111111111,
              "#46039f"
             ],
             [
              0.2222222222222222,
              "#7201a8"
             ],
             [
              0.3333333333333333,
              "#9c179e"
             ],
             [
              0.4444444444444444,
              "#bd3786"
             ],
             [
              0.5555555555555556,
              "#d8576b"
             ],
             [
              0.6666666666666666,
              "#ed7953"
             ],
             [
              0.7777777777777778,
              "#fb9f3a"
             ],
             [
              0.8888888888888888,
              "#fdca26"
             ],
             [
              1,
              "#f0f921"
             ]
            ],
            "type": "histogram2d"
           }
          ],
          "histogram2dcontour": [
           {
            "colorbar": {
             "outlinewidth": 0,
             "ticks": ""
            },
            "colorscale": [
             [
              0,
              "#0d0887"
             ],
             [
              0.1111111111111111,
              "#46039f"
             ],
             [
              0.2222222222222222,
              "#7201a8"
             ],
             [
              0.3333333333333333,
              "#9c179e"
             ],
             [
              0.4444444444444444,
              "#bd3786"
             ],
             [
              0.5555555555555556,
              "#d8576b"
             ],
             [
              0.6666666666666666,
              "#ed7953"
             ],
             [
              0.7777777777777778,
              "#fb9f3a"
             ],
             [
              0.8888888888888888,
              "#fdca26"
             ],
             [
              1,
              "#f0f921"
             ]
            ],
            "type": "histogram2dcontour"
           }
          ],
          "mesh3d": [
           {
            "colorbar": {
             "outlinewidth": 0,
             "ticks": ""
            },
            "type": "mesh3d"
           }
          ],
          "parcoords": [
           {
            "line": {
             "colorbar": {
              "outlinewidth": 0,
              "ticks": ""
             }
            },
            "type": "parcoords"
           }
          ],
          "pie": [
           {
            "automargin": true,
            "type": "pie"
           }
          ],
          "scatter": [
           {
            "fillpattern": {
             "fillmode": "overlay",
             "size": 10,
             "solidity": 0.2
            },
            "type": "scatter"
           }
          ],
          "scatter3d": [
           {
            "line": {
             "colorbar": {
              "outlinewidth": 0,
              "ticks": ""
             }
            },
            "marker": {
             "colorbar": {
              "outlinewidth": 0,
              "ticks": ""
             }
            },
            "type": "scatter3d"
           }
          ],
          "scattercarpet": [
           {
            "marker": {
             "colorbar": {
              "outlinewidth": 0,
              "ticks": ""
             }
            },
            "type": "scattercarpet"
           }
          ],
          "scattergeo": [
           {
            "marker": {
             "colorbar": {
              "outlinewidth": 0,
              "ticks": ""
             }
            },
            "type": "scattergeo"
           }
          ],
          "scattergl": [
           {
            "marker": {
             "colorbar": {
              "outlinewidth": 0,
              "ticks": ""
             }
            },
            "type": "scattergl"
           }
          ],
          "scattermap": [
           {
            "marker": {
             "colorbar": {
              "outlinewidth": 0,
              "ticks": ""
             }
            },
            "type": "scattermap"
           }
          ],
          "scattermapbox": [
           {
            "marker": {
             "colorbar": {
              "outlinewidth": 0,
              "ticks": ""
             }
            },
            "type": "scattermapbox"
           }
          ],
          "scatterpolar": [
           {
            "marker": {
             "colorbar": {
              "outlinewidth": 0,
              "ticks": ""
             }
            },
            "type": "scatterpolar"
           }
          ],
          "scatterpolargl": [
           {
            "marker": {
             "colorbar": {
              "outlinewidth": 0,
              "ticks": ""
             }
            },
            "type": "scatterpolargl"
           }
          ],
          "scatterternary": [
           {
            "marker": {
             "colorbar": {
              "outlinewidth": 0,
              "ticks": ""
             }
            },
            "type": "scatterternary"
           }
          ],
          "surface": [
           {
            "colorbar": {
             "outlinewidth": 0,
             "ticks": ""
            },
            "colorscale": [
             [
              0,
              "#0d0887"
             ],
             [
              0.1111111111111111,
              "#46039f"
             ],
             [
              0.2222222222222222,
              "#7201a8"
             ],
             [
              0.3333333333333333,
              "#9c179e"
             ],
             [
              0.4444444444444444,
              "#bd3786"
             ],
             [
              0.5555555555555556,
              "#d8576b"
             ],
             [
              0.6666666666666666,
              "#ed7953"
             ],
             [
              0.7777777777777778,
              "#fb9f3a"
             ],
             [
              0.8888888888888888,
              "#fdca26"
             ],
             [
              1,
              "#f0f921"
             ]
            ],
            "type": "surface"
           }
          ],
          "table": [
           {
            "cells": {
             "fill": {
              "color": "#EBF0F8"
             },
             "line": {
              "color": "white"
             }
            },
            "header": {
             "fill": {
              "color": "#C8D4E3"
             },
             "line": {
              "color": "white"
             }
            },
            "type": "table"
           }
          ]
         },
         "layout": {
          "annotationdefaults": {
           "arrowcolor": "#2a3f5f",
           "arrowhead": 0,
           "arrowwidth": 1
          },
          "autotypenumbers": "strict",
          "coloraxis": {
           "colorbar": {
            "outlinewidth": 0,
            "ticks": ""
           }
          },
          "colorscale": {
           "diverging": [
            [
             0,
             "#8e0152"
            ],
            [
             0.1,
             "#c51b7d"
            ],
            [
             0.2,
             "#de77ae"
            ],
            [
             0.3,
             "#f1b6da"
            ],
            [
             0.4,
             "#fde0ef"
            ],
            [
             0.5,
             "#f7f7f7"
            ],
            [
             0.6,
             "#e6f5d0"
            ],
            [
             0.7,
             "#b8e186"
            ],
            [
             0.8,
             "#7fbc41"
            ],
            [
             0.9,
             "#4d9221"
            ],
            [
             1,
             "#276419"
            ]
           ],
           "sequential": [
            [
             0,
             "#0d0887"
            ],
            [
             0.1111111111111111,
             "#46039f"
            ],
            [
             0.2222222222222222,
             "#7201a8"
            ],
            [
             0.3333333333333333,
             "#9c179e"
            ],
            [
             0.4444444444444444,
             "#bd3786"
            ],
            [
             0.5555555555555556,
             "#d8576b"
            ],
            [
             0.6666666666666666,
             "#ed7953"
            ],
            [
             0.7777777777777778,
             "#fb9f3a"
            ],
            [
             0.8888888888888888,
             "#fdca26"
            ],
            [
             1,
             "#f0f921"
            ]
           ],
           "sequentialminus": [
            [
             0,
             "#0d0887"
            ],
            [
             0.1111111111111111,
             "#46039f"
            ],
            [
             0.2222222222222222,
             "#7201a8"
            ],
            [
             0.3333333333333333,
             "#9c179e"
            ],
            [
             0.4444444444444444,
             "#bd3786"
            ],
            [
             0.5555555555555556,
             "#d8576b"
            ],
            [
             0.6666666666666666,
             "#ed7953"
            ],
            [
             0.7777777777777778,
             "#fb9f3a"
            ],
            [
             0.8888888888888888,
             "#fdca26"
            ],
            [
             1,
             "#f0f921"
            ]
           ]
          },
          "colorway": [
           "#636efa",
           "#EF553B",
           "#00cc96",
           "#ab63fa",
           "#FFA15A",
           "#19d3f3",
           "#FF6692",
           "#B6E880",
           "#FF97FF",
           "#FECB52"
          ],
          "font": {
           "color": "#2a3f5f"
          },
          "geo": {
           "bgcolor": "white",
           "lakecolor": "white",
           "landcolor": "#E5ECF6",
           "showlakes": true,
           "showland": true,
           "subunitcolor": "white"
          },
          "hoverlabel": {
           "align": "left"
          },
          "hovermode": "closest",
          "mapbox": {
           "style": "light"
          },
          "paper_bgcolor": "white",
          "plot_bgcolor": "#E5ECF6",
          "polar": {
           "angularaxis": {
            "gridcolor": "white",
            "linecolor": "white",
            "ticks": ""
           },
           "bgcolor": "#E5ECF6",
           "radialaxis": {
            "gridcolor": "white",
            "linecolor": "white",
            "ticks": ""
           }
          },
          "scene": {
           "xaxis": {
            "backgroundcolor": "#E5ECF6",
            "gridcolor": "white",
            "gridwidth": 2,
            "linecolor": "white",
            "showbackground": true,
            "ticks": "",
            "zerolinecolor": "white"
           },
           "yaxis": {
            "backgroundcolor": "#E5ECF6",
            "gridcolor": "white",
            "gridwidth": 2,
            "linecolor": "white",
            "showbackground": true,
            "ticks": "",
            "zerolinecolor": "white"
           },
           "zaxis": {
            "backgroundcolor": "#E5ECF6",
            "gridcolor": "white",
            "gridwidth": 2,
            "linecolor": "white",
            "showbackground": true,
            "ticks": "",
            "zerolinecolor": "white"
           }
          },
          "shapedefaults": {
           "line": {
            "color": "#2a3f5f"
           }
          },
          "ternary": {
           "aaxis": {
            "gridcolor": "white",
            "linecolor": "white",
            "ticks": ""
           },
           "baxis": {
            "gridcolor": "white",
            "linecolor": "white",
            "ticks": ""
           },
           "bgcolor": "#E5ECF6",
           "caxis": {
            "gridcolor": "white",
            "linecolor": "white",
            "ticks": ""
           }
          },
          "title": {
           "x": 0.05
          },
          "xaxis": {
           "automargin": true,
           "gridcolor": "white",
           "linecolor": "white",
           "ticks": "",
           "title": {
            "standoff": 15
           },
           "zerolinecolor": "white",
           "zerolinewidth": 2
          },
          "yaxis": {
           "automargin": true,
           "gridcolor": "white",
           "linecolor": "white",
           "ticks": "",
           "title": {
            "standoff": 15
           },
           "zerolinecolor": "white",
           "zerolinewidth": 2
          }
         }
        },
        "title": {
         "text": "car data for KMS driven vs Selling price"
        },
        "xaxis": {
         "anchor": "y",
         "domain": [
          0,
          1
         ],
         "title": {
          "text": "Kms_Driven"
         }
        },
        "yaxis": {
         "anchor": "x",
         "domain": [
          0,
          1
         ],
         "title": {
          "text": "Selling_Price"
         }
        }
       }
      }
     },
     "metadata": {},
     "output_type": "display_data"
    }
   ],
   "source": [
    "import matplotlib.pyplot as plt\n",
    "import plotly.express as px\n",
    "\n",
    "fig= px.scatter(car_data, \n",
    "                x='Kms_Driven', \n",
    "                y='Selling_Price', \n",
    "                color='Fuel_Type', \n",
    "                opacity=.7,\n",
    "                title='car data for KMS driven vs Selling price')\n",
    "fig.update_traces(marker_size=6)\n",
    "\n",
    "fig.show()"
   ]
  },
  {
   "cell_type": "markdown",
   "metadata": {},
   "source": [
    "We can’t say that from this plot above we can’t conclude that the more kilometers the cheaper the prices. But this can also be because of the distribution of Kms since most of the values are in 0–100k.\n",
    "\n",
    "# Selling price vs current price"
   ]
  },
  {
   "cell_type": "code",
   "execution_count": 50,
   "metadata": {},
   "outputs": [
    {
     "data": {
      "application/vnd.plotly.v1+json": {
       "config": {
        "plotlyServerURL": "https://plot.ly"
       },
       "data": [
        {
         "hovertemplate": "Present_Price=%{x}<br>Selling_Price=%{y}<extra></extra>",
         "legendgroup": "",
         "marker": {
          "color": "#636efa",
          "opacity": 0.7,
          "size": 6,
          "symbol": "circle"
         },
         "mode": "markers",
         "name": "",
         "orientation": "v",
         "showlegend": false,
         "type": "scatter",
         "x": {
          "bdata": "XI/C9ShcFkAUrkfhehQjQDMzMzMzsyNAmpmZmZmZEEB7FK5H4XobQClcj8L1qCNAPQrXo3A9IEC4HoXrUTghQEjhehSuxyFA16NwPQrXIUDNzMzMzMwMQMP1KFyPwiRA4XoUrkfhI0DXo3A9CtceQNejcD0K1xxAFK5H4XqUJUAUrkfhepQlQBSuR+F6lCVAXI/C9ShcFEDsUbgehesfQJqZmZmZmQ9A16NwPQrXFkCF61G4HgUgQK5H4XoUrgtApHA9CtejEUD2KFyPwvUTQHsUrkfhehdA9ihcj8L1GUCamZmZmZkPQMP1KFyPwiRA7FG4HoXrF0CPwvUoXI8TQPYoXI/C9R1AZmZmZmbmI0AfhetRuB4gQPYoXI/C9R5AzczMzMzMHEA9CtejcD0CQBSuR+F6FA5A7FG4HoXrH0B7FK5H4XofQNejcD0K1w9AmpmZmZmZHEAfhetRuB4gQIXrUbgehQVAFK5H4XoUKECPwvUoXI8TQJqZmZmZmRBA16NwPQrXHkAUrkfhepQiQFyPwvUonD5AXI/C9SicPkCF61G4HsUzQFyPwvUonD5A7FG4HoVrJEAUrkfhehQuQBSuR+F6FB1ACtejcD2KMkAzMzMzMzMbQHsUrkfh+kFAXI/C9SicMkDNzMzMzMweQHsUrkfh+kFAexSuR+H6QUA9CtejcB1CQM3MzMzMzBtAZmZmZmYmN0AzMzMzM3M0QHsUrkfheitAKVyPwvXoNEAK16NwPQobQPYoXI/C9ShAXI/C9SicMkDXo3A9CtcWQFyPwvUo3CFAMzMzMzMzG0Bcj8L1KFwtQDMzMzMzsyhAFK5H4XrUNkBcj8L1KJw+QEjhehSuxy1AZmZmZmZmH0CkcD0K12M5QOxRuB6F6ypA7FG4HoXrKkB7FK5H4bo3QGZmZmZmJldAexSuR+F6K0AzMzMzMzMYQArXo3A9ChtAXI/C9SicMkDXo3A9ChcwQGZmZmZmZitAXI/C9SicPkBI4XoUrsc2QFyPwvUonDJApHA9CtdjOUCkcD0K16MyQFyPwvUonDJAMzMzMzNzNEBmZmZmZmb+Px+F61G4Hv0/exSuR+F6/D+amZmZmZn5P4XrUbgehfc/9ihcj8L1AkCamZmZmZkLQAAAAAAAAPg/AAAAAAAA+D+F61G4HoX3P3sUrkfhevw/AAAAAAAA+D8zMzMzMzMDQGZmZmZmZvY/hetRuB6F9z+F61G4HoX3P4XrUbgehfc/ZmZmZmZm/j+F61G4HoX3P2ZmZmZmZv4/KVyPwvUo9D8AAAAAAAD4P7gehetRuPI/hetRuB6F9z8AAAAAAAD8PwAAAAAAAPw/ZmZmZmZm7j+amZmZmZnpP9ejcD0K1+s/4XoUrkfh6j/Xo3A9CtfrPz0K16NwPeo/ZmZmZmZm7j9mZmZmZmbuP+xRuB6F6+k/rkfhehSu5z8zMzMzMzPzP8l2vp8aL+k/16NwPQrX6z9mZmZmZmbuPzMzMzMzM/M/mpmZmZmZ6T/hehSuR+HqP+F6FK5H4eo/rkfhehSu7z/sUbgehevpP8l2vp8aL+k/4XoUrkfh6j8UrkfhehTuPxSuR+F6FO4/O99PjZdu6j+amZmZmZnhP65H4XoUru8/rkfhehSu7z8pXI/C9SjsP1K4HoXrUeA/pHA9Ctej4D/hehSuR+HqP0jhehSuR+E/UrgehetR4D9mZmZmZmbuPzvfT42Xbuo/rkfhehSu7z9mZmZmZmbuP0jhehSuR+E/SOF6FK5H4T+amZmZmZnhP+xRuB6F6+k/XI/C9Shc5z9I4XoUrkfhP4/C9Shcj+o/mpmZmZmZ4T97FK5H4XrkP1K4HoXrUeA/CtejcD0K5z/Jdr6fGi/pP83MzMzMzPA/PQrXo3A94j+kcD0K16PgP83MzMzMzPA/UrgehetR4D+4HoXrUbjeP4/C9Shcj+I/FK5H4XoU3j8AAAAAAADoP4/C9Shcj+I/pHA9Ctej4D9SuB6F61HgPz0K16NwPeI/PQrXo3A94j8AAAAAAADoPz0K16NwPeI/AAAAAAAA6D/NzMzMzMzkP8l2vp8aL+k/exSuR+F61D+kcD0K16PgP1K4HoXrUeA/PQrXo3A94j+PwvUoXI/iPwAAAAAAAOg/KVyPwvUoG0DNzMzMzMwWQGZmZmZmZhJAuB6F61G4EUDNzMzMzMwWQIXrUbgehRxAzczMzMzMFkAzMzMzMzMgQM3MzMzMzBZAZmZmZmZmEkAUrkfhepQtQDMzMzMzMytAKVyPwvUoG0DNzMzMzMwWQM3MzMzMzCJAuB6F61G4EUC4HoXrUbgRQM3MzMzMzCJAzczMzMzMIkC4HoXrUbgRQClcj8L1KBtAZmZmZmZmHkDNzMzMzMwiQM3MzMzMzCJAZmZmZmZmEkDNzMzMzMwWQLgehetRuBFAzczMzMzMIkApXI/C9SgbQM3MzMzMzCJAzczMzMzMIkAUrkfhepQtQM3MzMzMzBZAzczMzMzMFkDNzMzMzMwiQLgehetRuBFAMzMzMzMzK0DNzMzMzMwiQLgehetRuBFAzczMzMzMIkCF61G4HoUcQIXrUbgehRxAZmZmZmZmHkDNzMzMzMwiQM3MzMzMzCJAKVyPwvUoG0DNzMzMzMwiQGZmZmZmZhJAZmZmZmZmHkAzMzMzMzMrQM3MzMzMzCNASOF6FK5HG0DNzMzMzMwjQM3MzMzMzCNAZmZmZmZmFUAzMzMzMzMrQDMzMzMzMytAMzMzMzMzK0AAAAAAAAAcQDMzMzMzMytA4XoUrkfhF0AzMzMzMzMXQM3MzMzMzB5AAAAAAAAAHEBmZmZmZmYhQAAAAAAAABxAzczMzMzMIkAzMzMzMzMXQAAAAAAAACRAAAAAAAAAJEAAAAAAAAAkQAAAAAAAACRAAAAAAAAAHkAzMzMzMzMbQDMzMzMzMytAMzMzMzMzK0AzMzMzMzMrQM3MzMzMzCBAMzMzMzMzK0CamZmZmZkXQGZmZmZmZh5AAAAAAAAALECamZmZmZknQJqZmZmZmRdAAAAAAAAAIUCamZmZmZkfQAAAAAAAAB5AMzMzMzMzK0AzMzMzMzMrQJqZmZmZmRlAZmZmZmZmGEDNzMzMzMwgQM3MzMzMzCNAMzMzMzMzG0CuR+F6FC4qQDMzMzMzMydAmpmZmZmZF0AAAAAAAAAmQAAAAAAAAClAmpmZmZmZF0A=",
          "dtype": "f8"
         },
         "xaxis": "x",
         "y": {
          "bdata": "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",
          "dtype": "f8"
         },
         "yaxis": "y"
        }
       ],
       "layout": {
        "legend": {
         "tracegroupgap": 0
        },
        "template": {
         "data": {
          "bar": [
           {
            "error_x": {
             "color": "#2a3f5f"
            },
            "error_y": {
             "color": "#2a3f5f"
            },
            "marker": {
             "line": {
              "color": "#E5ECF6",
              "width": 0.5
             },
             "pattern": {
              "fillmode": "overlay",
              "size": 10,
              "solidity": 0.2
             }
            },
            "type": "bar"
           }
          ],
          "barpolar": [
           {
            "marker": {
             "line": {
              "color": "#E5ECF6",
              "width": 0.5
             },
             "pattern": {
              "fillmode": "overlay",
              "size": 10,
              "solidity": 0.2
             }
            },
            "type": "barpolar"
           }
          ],
          "carpet": [
           {
            "aaxis": {
             "endlinecolor": "#2a3f5f",
             "gridcolor": "white",
             "linecolor": "white",
             "minorgridcolor": "white",
             "startlinecolor": "#2a3f5f"
            },
            "baxis": {
             "endlinecolor": "#2a3f5f",
             "gridcolor": "white",
             "linecolor": "white",
             "minorgridcolor": "white",
             "startlinecolor": "#2a3f5f"
            },
            "type": "carpet"
           }
          ],
          "choropleth": [
           {
            "colorbar": {
             "outlinewidth": 0,
             "ticks": ""
            },
            "type": "choropleth"
           }
          ],
          "contour": [
           {
            "colorbar": {
             "outlinewidth": 0,
             "ticks": ""
            },
            "colorscale": [
             [
              0,
              "#0d0887"
             ],
             [
              0.1111111111111111,
              "#46039f"
             ],
             [
              0.2222222222222222,
              "#7201a8"
             ],
             [
              0.3333333333333333,
              "#9c179e"
             ],
             [
              0.4444444444444444,
              "#bd3786"
             ],
             [
              0.5555555555555556,
              "#d8576b"
             ],
             [
              0.6666666666666666,
              "#ed7953"
             ],
             [
              0.7777777777777778,
              "#fb9f3a"
             ],
             [
              0.8888888888888888,
              "#fdca26"
             ],
             [
              1,
              "#f0f921"
             ]
            ],
            "type": "contour"
           }
          ],
          "contourcarpet": [
           {
            "colorbar": {
             "outlinewidth": 0,
             "ticks": ""
            },
            "type": "contourcarpet"
           }
          ],
          "heatmap": [
           {
            "colorbar": {
             "outlinewidth": 0,
             "ticks": ""
            },
            "colorscale": [
             [
              0,
              "#0d0887"
             ],
             [
              0.1111111111111111,
              "#46039f"
             ],
             [
              0.2222222222222222,
              "#7201a8"
             ],
             [
              0.3333333333333333,
              "#9c179e"
             ],
             [
              0.4444444444444444,
              "#bd3786"
             ],
             [
              0.5555555555555556,
              "#d8576b"
             ],
             [
              0.6666666666666666,
              "#ed7953"
             ],
             [
              0.7777777777777778,
              "#fb9f3a"
             ],
             [
              0.8888888888888888,
              "#fdca26"
             ],
             [
              1,
              "#f0f921"
             ]
            ],
            "type": "heatmap"
           }
          ],
          "histogram": [
           {
            "marker": {
             "pattern": {
              "fillmode": "overlay",
              "size": 10,
              "solidity": 0.2
             }
            },
            "type": "histogram"
           }
          ],
          "histogram2d": [
           {
            "colorbar": {
             "outlinewidth": 0,
             "ticks": ""
            },
            "colorscale": [
             [
              0,
              "#0d0887"
             ],
             [
              0.1111111111111111,
              "#46039f"
             ],
             [
              0.2222222222222222,
              "#7201a8"
             ],
             [
              0.3333333333333333,
              "#9c179e"
             ],
             [
              0.4444444444444444,
              "#bd3786"
             ],
             [
              0.5555555555555556,
              "#d8576b"
             ],
             [
              0.6666666666666666,
              "#ed7953"
             ],
             [
              0.7777777777777778,
              "#fb9f3a"
             ],
             [
              0.8888888888888888,
              "#fdca26"
             ],
             [
              1,
              "#f0f921"
             ]
            ],
            "type": "histogram2d"
           }
          ],
          "histogram2dcontour": [
           {
            "colorbar": {
             "outlinewidth": 0,
             "ticks": ""
            },
            "colorscale": [
             [
              0,
              "#0d0887"
             ],
             [
              0.1111111111111111,
              "#46039f"
             ],
             [
              0.2222222222222222,
              "#7201a8"
             ],
             [
              0.3333333333333333,
              "#9c179e"
             ],
             [
              0.4444444444444444,
              "#bd3786"
             ],
             [
              0.5555555555555556,
              "#d8576b"
             ],
             [
              0.6666666666666666,
              "#ed7953"
             ],
             [
              0.7777777777777778,
              "#fb9f3a"
             ],
             [
              0.8888888888888888,
              "#fdca26"
             ],
             [
              1,
              "#f0f921"
             ]
            ],
            "type": "histogram2dcontour"
           }
          ],
          "mesh3d": [
           {
            "colorbar": {
             "outlinewidth": 0,
             "ticks": ""
            },
            "type": "mesh3d"
           }
          ],
          "parcoords": [
           {
            "line": {
             "colorbar": {
              "outlinewidth": 0,
              "ticks": ""
             }
            },
            "type": "parcoords"
           }
          ],
          "pie": [
           {
            "automargin": true,
            "type": "pie"
           }
          ],
          "scatter": [
           {
            "fillpattern": {
             "fillmode": "overlay",
             "size": 10,
             "solidity": 0.2
            },
            "type": "scatter"
           }
          ],
          "scatter3d": [
           {
            "line": {
             "colorbar": {
              "outlinewidth": 0,
              "ticks": ""
             }
            },
            "marker": {
             "colorbar": {
              "outlinewidth": 0,
              "ticks": ""
             }
            },
            "type": "scatter3d"
           }
          ],
          "scattercarpet": [
           {
            "marker": {
             "colorbar": {
              "outlinewidth": 0,
              "ticks": ""
             }
            },
            "type": "scattercarpet"
           }
          ],
          "scattergeo": [
           {
            "marker": {
             "colorbar": {
              "outlinewidth": 0,
              "ticks": ""
             }
            },
            "type": "scattergeo"
           }
          ],
          "scattergl": [
           {
            "marker": {
             "colorbar": {
              "outlinewidth": 0,
              "ticks": ""
             }
            },
            "type": "scattergl"
           }
          ],
          "scattermap": [
           {
            "marker": {
             "colorbar": {
              "outlinewidth": 0,
              "ticks": ""
             }
            },
            "type": "scattermap"
           }
          ],
          "scattermapbox": [
           {
            "marker": {
             "colorbar": {
              "outlinewidth": 0,
              "ticks": ""
             }
            },
            "type": "scattermapbox"
           }
          ],
          "scatterpolar": [
           {
            "marker": {
             "colorbar": {
              "outlinewidth": 0,
              "ticks": ""
             }
            },
            "type": "scatterpolar"
           }
          ],
          "scatterpolargl": [
           {
            "marker": {
             "colorbar": {
              "outlinewidth": 0,
              "ticks": ""
             }
            },
            "type": "scatterpolargl"
           }
          ],
          "scatterternary": [
           {
            "marker": {
             "colorbar": {
              "outlinewidth": 0,
              "ticks": ""
             }
            },
            "type": "scatterternary"
           }
          ],
          "surface": [
           {
            "colorbar": {
             "outlinewidth": 0,
             "ticks": ""
            },
            "colorscale": [
             [
              0,
              "#0d0887"
             ],
             [
              0.1111111111111111,
              "#46039f"
             ],
             [
              0.2222222222222222,
              "#7201a8"
             ],
             [
              0.3333333333333333,
              "#9c179e"
             ],
             [
              0.4444444444444444,
              "#bd3786"
             ],
             [
              0.5555555555555556,
              "#d8576b"
             ],
             [
              0.6666666666666666,
              "#ed7953"
             ],
             [
              0.7777777777777778,
              "#fb9f3a"
             ],
             [
              0.8888888888888888,
              "#fdca26"
             ],
             [
              1,
              "#f0f921"
             ]
            ],
            "type": "surface"
           }
          ],
          "table": [
           {
            "cells": {
             "fill": {
              "color": "#EBF0F8"
             },
             "line": {
              "color": "white"
             }
            },
            "header": {
             "fill": {
              "color": "#C8D4E3"
             },
             "line": {
              "color": "white"
             }
            },
            "type": "table"
           }
          ]
         },
         "layout": {
          "annotationdefaults": {
           "arrowcolor": "#2a3f5f",
           "arrowhead": 0,
           "arrowwidth": 1
          },
          "autotypenumbers": "strict",
          "coloraxis": {
           "colorbar": {
            "outlinewidth": 0,
            "ticks": ""
           }
          },
          "colorscale": {
           "diverging": [
            [
             0,
             "#8e0152"
            ],
            [
             0.1,
             "#c51b7d"
            ],
            [
             0.2,
             "#de77ae"
            ],
            [
             0.3,
             "#f1b6da"
            ],
            [
             0.4,
             "#fde0ef"
            ],
            [
             0.5,
             "#f7f7f7"
            ],
            [
             0.6,
             "#e6f5d0"
            ],
            [
             0.7,
             "#b8e186"
            ],
            [
             0.8,
             "#7fbc41"
            ],
            [
             0.9,
             "#4d9221"
            ],
            [
             1,
             "#276419"
            ]
           ],
           "sequential": [
            [
             0,
             "#0d0887"
            ],
            [
             0.1111111111111111,
             "#46039f"
            ],
            [
             0.2222222222222222,
             "#7201a8"
            ],
            [
             0.3333333333333333,
             "#9c179e"
            ],
            [
             0.4444444444444444,
             "#bd3786"
            ],
            [
             0.5555555555555556,
             "#d8576b"
            ],
            [
             0.6666666666666666,
             "#ed7953"
            ],
            [
             0.7777777777777778,
             "#fb9f3a"
            ],
            [
             0.8888888888888888,
             "#fdca26"
            ],
            [
             1,
             "#f0f921"
            ]
           ],
           "sequentialminus": [
            [
             0,
             "#0d0887"
            ],
            [
             0.1111111111111111,
             "#46039f"
            ],
            [
             0.2222222222222222,
             "#7201a8"
            ],
            [
             0.3333333333333333,
             "#9c179e"
            ],
            [
             0.4444444444444444,
             "#bd3786"
            ],
            [
             0.5555555555555556,
             "#d8576b"
            ],
            [
             0.6666666666666666,
             "#ed7953"
            ],
            [
             0.7777777777777778,
             "#fb9f3a"
            ],
            [
             0.8888888888888888,
             "#fdca26"
            ],
            [
             1,
             "#f0f921"
            ]
           ]
          },
          "colorway": [
           "#636efa",
           "#EF553B",
           "#00cc96",
           "#ab63fa",
           "#FFA15A",
           "#19d3f3",
           "#FF6692",
           "#B6E880",
           "#FF97FF",
           "#FECB52"
          ],
          "font": {
           "color": "#2a3f5f"
          },
          "geo": {
           "bgcolor": "white",
           "lakecolor": "white",
           "landcolor": "#E5ECF6",
           "showlakes": true,
           "showland": true,
           "subunitcolor": "white"
          },
          "hoverlabel": {
           "align": "left"
          },
          "hovermode": "closest",
          "mapbox": {
           "style": "light"
          },
          "paper_bgcolor": "white",
          "plot_bgcolor": "#E5ECF6",
          "polar": {
           "angularaxis": {
            "gridcolor": "white",
            "linecolor": "white",
            "ticks": ""
           },
           "bgcolor": "#E5ECF6",
           "radialaxis": {
            "gridcolor": "white",
            "linecolor": "white",
            "ticks": ""
           }
          },
          "scene": {
           "xaxis": {
            "backgroundcolor": "#E5ECF6",
            "gridcolor": "white",
            "gridwidth": 2,
            "linecolor": "white",
            "showbackground": true,
            "ticks": "",
            "zerolinecolor": "white"
           },
           "yaxis": {
            "backgroundcolor": "#E5ECF6",
            "gridcolor": "white",
            "gridwidth": 2,
            "linecolor": "white",
            "showbackground": true,
            "ticks": "",
            "zerolinecolor": "white"
           },
           "zaxis": {
            "backgroundcolor": "#E5ECF6",
            "gridcolor": "white",
            "gridwidth": 2,
            "linecolor": "white",
            "showbackground": true,
            "ticks": "",
            "zerolinecolor": "white"
           }
          },
          "shapedefaults": {
           "line": {
            "color": "#2a3f5f"
           }
          },
          "ternary": {
           "aaxis": {
            "gridcolor": "white",
            "linecolor": "white",
            "ticks": ""
           },
           "baxis": {
            "gridcolor": "white",
            "linecolor": "white",
            "ticks": ""
           },
           "bgcolor": "#E5ECF6",
           "caxis": {
            "gridcolor": "white",
            "linecolor": "white",
            "ticks": ""
           }
          },
          "title": {
           "x": 0.05
          },
          "xaxis": {
           "automargin": true,
           "gridcolor": "white",
           "linecolor": "white",
           "ticks": "",
           "title": {
            "standoff": 15
           },
           "zerolinecolor": "white",
           "zerolinewidth": 2
          },
          "yaxis": {
           "automargin": true,
           "gridcolor": "white",
           "linecolor": "white",
           "ticks": "",
           "title": {
            "standoff": 15
           },
           "zerolinecolor": "white",
           "zerolinewidth": 2
          }
         }
        },
        "title": {
         "text": "Selling price vs Present_Price"
        },
        "xaxis": {
         "anchor": "y",
         "domain": [
          0,
          1
         ],
         "title": {
          "text": "Present_Price"
         }
        },
        "yaxis": {
         "anchor": "x",
         "domain": [
          0,
          1
         ],
         "title": {
          "text": "Selling_Price"
         }
        }
       }
      }
     },
     "metadata": {},
     "output_type": "display_data"
    }
   ],
   "source": [
    "fig= px.scatter(car_data,\n",
    "                y='Selling_Price', \n",
    "                x='Present_Price',\n",
    "                title='Selling price vs Present_Price',\n",
    "                opacity=.7)\n",
    "fig.update_traces(marker_size=6)\n",
    "fig.show()"
   ]
  },
  {
   "cell_type": "markdown",
   "metadata": {},
   "source": [
    "As we can see, the greater the present price the greater the selling price, this is also intuitive because the cars that are expensive, will probably also be sold at higher prices.\n",
    "\n",
    "# Kilometer driven vs selling price \n",
    "see below, newer the car higher the selling price is "
   ]
  },
  {
   "cell_type": "code",
   "execution_count": 57,
   "metadata": {},
   "outputs": [
    {
     "data": {
      "application/vnd.plotly.v1+json": {
       "config": {
        "plotlyServerURL": "https://plot.ly"
       },
       "data": [
        {
         "hovertemplate": "Fuel_Type=Petrol<br>Year=%{x}<br>Selling_Price=%{y}<extra></extra>",
         "legendgroup": "Petrol",
         "marker": {
          "color": "#636efa",
          "opacity": 0.7,
          "size": 6,
          "symbol": "circle"
         },
         "mode": "markers",
         "name": "Petrol",
         "orientation": "v",
         "showlegend": true,
         "type": "scatter",
         "x": {
          "bdata": "3gfhB9sH3wfhB98H3wfZB9oH4AfhB9sH3gfdB9sH3QfhB9oH2wffB9MH4AfTB+AH3gfYB9wH3gfdB9YH3wfhB9UH2QffB9oH3gfdB98H4QfbB+AH3QfbB98H3QfUB9oH1gfcB90H3gfZB9UH2AfcB+EH3QfgB+EH4QfhB+EH3wfeB90H4AfhB+AH4AfeB+AH3wffB90H3wffB90H4AfbB+AH3QfcB9kH4QfgB+EH4QfhB98H4QfgB+EH3wfeB90H4AffB90H4AffB+AH3gfcB94H3wfaB+AH2wfgB9wH3QfeB+EH4QffB+EH4QfbB94H3AfaB+AH4AfgB94H3QffB9wH3wfeB+EH3wfbB9sH4AfeB9oH3AfgB90H3QfYB9gH2gfdB90H1QfYB9wH1wfdB9gH3wfYB9oH2wfXB9YH3wfbB98H4AfhB98H4QfcB+AH2wfhB9wH4AfgB94H3AfhB90H3QfbB98H2wfhB98H3wfhB+AH3QfcB98H3gfgB9wH3wfdB+AH3QffB90H3AfgB98H3wfeB+AH4AffB+AH3wfhB94H4QffB9sH2QffB9oH3gfgB98H3wfgB94H3wfWB+AH3QfgB+AH3wffB+AH3gffB+AH2gfeB98H2QfgBw==",
          "dtype": "i2"
         },
         "xaxis": "x",
         "y": {
          "bdata": "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",
          "dtype": "f8"
         },
         "yaxis": "y"
        },
        {
         "hovertemplate": "Fuel_Type=Diesel<br>Year=%{x}<br>Selling_Price=%{y}<extra></extra>",
         "legendgroup": "Diesel",
         "marker": {
          "color": "#EF553B",
          "opacity": 0.7,
          "size": 6,
          "symbol": "circle"
         },
         "mode": "markers",
         "name": "Diesel",
         "orientation": "v",
         "showlegend": true,
         "type": "scatter",
         "x": {
          "bdata": "3QfeB+IH3wfgB98H3wfgB98H4AffB9wH3gfeB94H3gfcB98H4QfdB94H3gffB+EH3gfaB94H2wfeB9wH4AffB+EH3wfVB9oH3gffB+AH2gfaB98H3wfeB98H3AfcB90H3QffB9wH3QfcB+AH3gfgB94H3wfgB+EH",
          "dtype": "i2"
         },
         "xaxis": "x",
         "y": {
          "bdata": "AAAAAAAAE0BmZmZmZmYSQAAAAAAAgCJAAAAAAAAAGkAAAAAAAIAhQM3MzMzMzB1AZmZmZmZmG0AAAAAAAAAfQAAAAAAAAB1AAAAAAAAAH0DNzMzMzMwdQM3MzMzMzAhAzczMzMzME0AAAAAAAAAYQAAAAAAAABZAAAAAAAAAFkDNzMzMzMwtQAAAAAAAADdAAAAAAAAAMkAAAAAAAAAwQD0K16Nw/TNAAAAAAADAMkAAAAAAAIA3QAAAAAAAgEBAAAAAAAAAE0AAAAAAAIAiQJqZmZmZmQ9AAAAAAAAAEkCamZmZmZkTQAAAAAAAAC1A9ihcj8J1LUAAAAAAAAATQAAAAAAAADdAAAAAAAAAKUDsUbgehesLQAAAAAAAgEFAAAAAAACAJkAAAAAAAAA3QAAAAAAAwDRAzczMzMxMI0AAAAAAAAAKQGZmZmZmZhNAAAAAAACAJ0AAAAAAAAAYQAAAAAAAgCBAzczMzMzME0DNzMzMzMwIQJqZmZmZmRhAMzMzMzMzD0AAAAAAAIAmQGZmZmZmZhVAzczMzMzMF0DNzMzMzMwUQM3MzMzMzClAzczMzMzMHEAzMzMzM7MgQAAAAAAAgCBAmpmZmZkZIUAAAAAAAAAjQAAAAAAAACdA",
          "dtype": "f8"
         },
         "yaxis": "y"
        },
        {
         "hovertemplate": "Fuel_Type=CNG<br>Year=%{x}<br>Selling_Price=%{y}<extra></extra>",
         "legendgroup": "CNG",
         "marker": {
          "color": "#00cc96",
          "opacity": 0.7,
          "size": 6,
          "symbol": "circle"
         },
         "mode": "markers",
         "name": "CNG",
         "orientation": "v",
         "showlegend": true,
         "type": "scatter",
         "x": {
          "bdata": "3wfbBw==",
          "dtype": "i2"
         },
         "xaxis": "x",
         "y": {
          "bdata": "AAAAAAAACkCamZmZmZkHQA==",
          "dtype": "f8"
         },
         "yaxis": "y"
        }
       ],
       "layout": {
        "legend": {
         "title": {
          "text": "Fuel_Type"
         },
         "tracegroupgap": 0
        },
        "template": {
         "data": {
          "bar": [
           {
            "error_x": {
             "color": "#2a3f5f"
            },
            "error_y": {
             "color": "#2a3f5f"
            },
            "marker": {
             "line": {
              "color": "#E5ECF6",
              "width": 0.5
             },
             "pattern": {
              "fillmode": "overlay",
              "size": 10,
              "solidity": 0.2
             }
            },
            "type": "bar"
           }
          ],
          "barpolar": [
           {
            "marker": {
             "line": {
              "color": "#E5ECF6",
              "width": 0.5
             },
             "pattern": {
              "fillmode": "overlay",
              "size": 10,
              "solidity": 0.2
             }
            },
            "type": "barpolar"
           }
          ],
          "carpet": [
           {
            "aaxis": {
             "endlinecolor": "#2a3f5f",
             "gridcolor": "white",
             "linecolor": "white",
             "minorgridcolor": "white",
             "startlinecolor": "#2a3f5f"
            },
            "baxis": {
             "endlinecolor": "#2a3f5f",
             "gridcolor": "white",
             "linecolor": "white",
             "minorgridcolor": "white",
             "startlinecolor": "#2a3f5f"
            },
            "type": "carpet"
           }
          ],
          "choropleth": [
           {
            "colorbar": {
             "outlinewidth": 0,
             "ticks": ""
            },
            "type": "choropleth"
           }
          ],
          "contour": [
           {
            "colorbar": {
             "outlinewidth": 0,
             "ticks": ""
            },
            "colorscale": [
             [
              0,
              "#0d0887"
             ],
             [
              0.1111111111111111,
              "#46039f"
             ],
             [
              0.2222222222222222,
              "#7201a8"
             ],
             [
              0.3333333333333333,
              "#9c179e"
             ],
             [
              0.4444444444444444,
              "#bd3786"
             ],
             [
              0.5555555555555556,
              "#d8576b"
             ],
             [
              0.6666666666666666,
              "#ed7953"
             ],
             [
              0.7777777777777778,
              "#fb9f3a"
             ],
             [
              0.8888888888888888,
              "#fdca26"
             ],
             [
              1,
              "#f0f921"
             ]
            ],
            "type": "contour"
           }
          ],
          "contourcarpet": [
           {
            "colorbar": {
             "outlinewidth": 0,
             "ticks": ""
            },
            "type": "contourcarpet"
           }
          ],
          "heatmap": [
           {
            "colorbar": {
             "outlinewidth": 0,
             "ticks": ""
            },
            "colorscale": [
             [
              0,
              "#0d0887"
             ],
             [
              0.1111111111111111,
              "#46039f"
             ],
             [
              0.2222222222222222,
              "#7201a8"
             ],
             [
              0.3333333333333333,
              "#9c179e"
             ],
             [
              0.4444444444444444,
              "#bd3786"
             ],
             [
              0.5555555555555556,
              "#d8576b"
             ],
             [
              0.6666666666666666,
              "#ed7953"
             ],
             [
              0.7777777777777778,
              "#fb9f3a"
             ],
             [
              0.8888888888888888,
              "#fdca26"
             ],
             [
              1,
              "#f0f921"
             ]
            ],
            "type": "heatmap"
           }
          ],
          "histogram": [
           {
            "marker": {
             "pattern": {
              "fillmode": "overlay",
              "size": 10,
              "solidity": 0.2
             }
            },
            "type": "histogram"
           }
          ],
          "histogram2d": [
           {
            "colorbar": {
             "outlinewidth": 0,
             "ticks": ""
            },
            "colorscale": [
             [
              0,
              "#0d0887"
             ],
             [
              0.1111111111111111,
              "#46039f"
             ],
             [
              0.2222222222222222,
              "#7201a8"
             ],
             [
              0.3333333333333333,
              "#9c179e"
             ],
             [
              0.4444444444444444,
              "#bd3786"
             ],
             [
              0.5555555555555556,
              "#d8576b"
             ],
             [
              0.6666666666666666,
              "#ed7953"
             ],
             [
              0.7777777777777778,
              "#fb9f3a"
             ],
             [
              0.8888888888888888,
              "#fdca26"
             ],
             [
              1,
              "#f0f921"
             ]
            ],
            "type": "histogram2d"
           }
          ],
          "histogram2dcontour": [
           {
            "colorbar": {
             "outlinewidth": 0,
             "ticks": ""
            },
            "colorscale": [
             [
              0,
              "#0d0887"
             ],
             [
              0.1111111111111111,
              "#46039f"
             ],
             [
              0.2222222222222222,
              "#7201a8"
             ],
             [
              0.3333333333333333,
              "#9c179e"
             ],
             [
              0.4444444444444444,
              "#bd3786"
             ],
             [
              0.5555555555555556,
              "#d8576b"
             ],
             [
              0.6666666666666666,
              "#ed7953"
             ],
             [
              0.7777777777777778,
              "#fb9f3a"
             ],
             [
              0.8888888888888888,
              "#fdca26"
             ],
             [
              1,
              "#f0f921"
             ]
            ],
            "type": "histogram2dcontour"
           }
          ],
          "mesh3d": [
           {
            "colorbar": {
             "outlinewidth": 0,
             "ticks": ""
            },
            "type": "mesh3d"
           }
          ],
          "parcoords": [
           {
            "line": {
             "colorbar": {
              "outlinewidth": 0,
              "ticks": ""
             }
            },
            "type": "parcoords"
           }
          ],
          "pie": [
           {
            "automargin": true,
            "type": "pie"
           }
          ],
          "scatter": [
           {
            "fillpattern": {
             "fillmode": "overlay",
             "size": 10,
             "solidity": 0.2
            },
            "type": "scatter"
           }
          ],
          "scatter3d": [
           {
            "line": {
             "colorbar": {
              "outlinewidth": 0,
              "ticks": ""
             }
            },
            "marker": {
             "colorbar": {
              "outlinewidth": 0,
              "ticks": ""
             }
            },
            "type": "scatter3d"
           }
          ],
          "scattercarpet": [
           {
            "marker": {
             "colorbar": {
              "outlinewidth": 0,
              "ticks": ""
             }
            },
            "type": "scattercarpet"
           }
          ],
          "scattergeo": [
           {
            "marker": {
             "colorbar": {
              "outlinewidth": 0,
              "ticks": ""
             }
            },
            "type": "scattergeo"
           }
          ],
          "scattergl": [
           {
            "marker": {
             "colorbar": {
              "outlinewidth": 0,
              "ticks": ""
             }
            },
            "type": "scattergl"
           }
          ],
          "scattermap": [
           {
            "marker": {
             "colorbar": {
              "outlinewidth": 0,
              "ticks": ""
             }
            },
            "type": "scattermap"
           }
          ],
          "scattermapbox": [
           {
            "marker": {
             "colorbar": {
              "outlinewidth": 0,
              "ticks": ""
             }
            },
            "type": "scattermapbox"
           }
          ],
          "scatterpolar": [
           {
            "marker": {
             "colorbar": {
              "outlinewidth": 0,
              "ticks": ""
             }
            },
            "type": "scatterpolar"
           }
          ],
          "scatterpolargl": [
           {
            "marker": {
             "colorbar": {
              "outlinewidth": 0,
              "ticks": ""
             }
            },
            "type": "scatterpolargl"
           }
          ],
          "scatterternary": [
           {
            "marker": {
             "colorbar": {
              "outlinewidth": 0,
              "ticks": ""
             }
            },
            "type": "scatterternary"
           }
          ],
          "surface": [
           {
            "colorbar": {
             "outlinewidth": 0,
             "ticks": ""
            },
            "colorscale": [
             [
              0,
              "#0d0887"
             ],
             [
              0.1111111111111111,
              "#46039f"
             ],
             [
              0.2222222222222222,
              "#7201a8"
             ],
             [
              0.3333333333333333,
              "#9c179e"
             ],
             [
              0.4444444444444444,
              "#bd3786"
             ],
             [
              0.5555555555555556,
              "#d8576b"
             ],
             [
              0.6666666666666666,
              "#ed7953"
             ],
             [
              0.7777777777777778,
              "#fb9f3a"
             ],
             [
              0.8888888888888888,
              "#fdca26"
             ],
             [
              1,
              "#f0f921"
             ]
            ],
            "type": "surface"
           }
          ],
          "table": [
           {
            "cells": {
             "fill": {
              "color": "#EBF0F8"
             },
             "line": {
              "color": "white"
             }
            },
            "header": {
             "fill": {
              "color": "#C8D4E3"
             },
             "line": {
              "color": "white"
             }
            },
            "type": "table"
           }
          ]
         },
         "layout": {
          "annotationdefaults": {
           "arrowcolor": "#2a3f5f",
           "arrowhead": 0,
           "arrowwidth": 1
          },
          "autotypenumbers": "strict",
          "coloraxis": {
           "colorbar": {
            "outlinewidth": 0,
            "ticks": ""
           }
          },
          "colorscale": {
           "diverging": [
            [
             0,
             "#8e0152"
            ],
            [
             0.1,
             "#c51b7d"
            ],
            [
             0.2,
             "#de77ae"
            ],
            [
             0.3,
             "#f1b6da"
            ],
            [
             0.4,
             "#fde0ef"
            ],
            [
             0.5,
             "#f7f7f7"
            ],
            [
             0.6,
             "#e6f5d0"
            ],
            [
             0.7,
             "#b8e186"
            ],
            [
             0.8,
             "#7fbc41"
            ],
            [
             0.9,
             "#4d9221"
            ],
            [
             1,
             "#276419"
            ]
           ],
           "sequential": [
            [
             0,
             "#0d0887"
            ],
            [
             0.1111111111111111,
             "#46039f"
            ],
            [
             0.2222222222222222,
             "#7201a8"
            ],
            [
             0.3333333333333333,
             "#9c179e"
            ],
            [
             0.4444444444444444,
             "#bd3786"
            ],
            [
             0.5555555555555556,
             "#d8576b"
            ],
            [
             0.6666666666666666,
             "#ed7953"
            ],
            [
             0.7777777777777778,
             "#fb9f3a"
            ],
            [
             0.8888888888888888,
             "#fdca26"
            ],
            [
             1,
             "#f0f921"
            ]
           ],
           "sequentialminus": [
            [
             0,
             "#0d0887"
            ],
            [
             0.1111111111111111,
             "#46039f"
            ],
            [
             0.2222222222222222,
             "#7201a8"
            ],
            [
             0.3333333333333333,
             "#9c179e"
            ],
            [
             0.4444444444444444,
             "#bd3786"
            ],
            [
             0.5555555555555556,
             "#d8576b"
            ],
            [
             0.6666666666666666,
             "#ed7953"
            ],
            [
             0.7777777777777778,
             "#fb9f3a"
            ],
            [
             0.8888888888888888,
             "#fdca26"
            ],
            [
             1,
             "#f0f921"
            ]
           ]
          },
          "colorway": [
           "#636efa",
           "#EF553B",
           "#00cc96",
           "#ab63fa",
           "#FFA15A",
           "#19d3f3",
           "#FF6692",
           "#B6E880",
           "#FF97FF",
           "#FECB52"
          ],
          "font": {
           "color": "#2a3f5f"
          },
          "geo": {
           "bgcolor": "white",
           "lakecolor": "white",
           "landcolor": "#E5ECF6",
           "showlakes": true,
           "showland": true,
           "subunitcolor": "white"
          },
          "hoverlabel": {
           "align": "left"
          },
          "hovermode": "closest",
          "mapbox": {
           "style": "light"
          },
          "paper_bgcolor": "white",
          "plot_bgcolor": "#E5ECF6",
          "polar": {
           "angularaxis": {
            "gridcolor": "white",
            "linecolor": "white",
            "ticks": ""
           },
           "bgcolor": "#E5ECF6",
           "radialaxis": {
            "gridcolor": "white",
            "linecolor": "white",
            "ticks": ""
           }
          },
          "scene": {
           "xaxis": {
            "backgroundcolor": "#E5ECF6",
            "gridcolor": "white",
            "gridwidth": 2,
            "linecolor": "white",
            "showbackground": true,
            "ticks": "",
            "zerolinecolor": "white"
           },
           "yaxis": {
            "backgroundcolor": "#E5ECF6",
            "gridcolor": "white",
            "gridwidth": 2,
            "linecolor": "white",
            "showbackground": true,
            "ticks": "",
            "zerolinecolor": "white"
           },
           "zaxis": {
            "backgroundcolor": "#E5ECF6",
            "gridcolor": "white",
            "gridwidth": 2,
            "linecolor": "white",
            "showbackground": true,
            "ticks": "",
            "zerolinecolor": "white"
           }
          },
          "shapedefaults": {
           "line": {
            "color": "#2a3f5f"
           }
          },
          "ternary": {
           "aaxis": {
            "gridcolor": "white",
            "linecolor": "white",
            "ticks": ""
           },
           "baxis": {
            "gridcolor": "white",
            "linecolor": "white",
            "ticks": ""
           },
           "bgcolor": "#E5ECF6",
           "caxis": {
            "gridcolor": "white",
            "linecolor": "white",
            "ticks": ""
           }
          },
          "title": {
           "x": 0.05
          },
          "xaxis": {
           "automargin": true,
           "gridcolor": "white",
           "linecolor": "white",
           "ticks": "",
           "title": {
            "standoff": 15
           },
           "zerolinecolor": "white",
           "zerolinewidth": 2
          },
          "yaxis": {
           "automargin": true,
           "gridcolor": "white",
           "linecolor": "white",
           "ticks": "",
           "title": {
            "standoff": 15
           },
           "zerolinecolor": "white",
           "zerolinewidth": 2
          }
         }
        },
        "title": {
         "text": "KMS driven vs Selling price"
        },
        "xaxis": {
         "anchor": "y",
         "domain": [
          0,
          1
         ],
         "title": {
          "text": "Year"
         }
        },
        "yaxis": {
         "anchor": "x",
         "domain": [
          0,
          1
         ],
         "title": {
          "text": "Selling_Price"
         }
        }
       }
      }
     },
     "metadata": {},
     "output_type": "display_data"
    }
   ],
   "source": [
    "fig= px.scatter(car_data,\n",
    "                x='Year',\n",
    "                y='Selling_Price',\n",
    "                opacity=.7,\n",
    "                title='KMS driven vs Selling price',\n",
    "                color='Fuel_Type')\n",
    "fig.update_traces(marker_size=6)\n",
    "fig.show()"
   ]
  },
  {
   "cell_type": "markdown",
   "metadata": {},
   "source": [
    "# Correlation \n",
    "To interpret correlation coefficients:\n",
    "\n",
    "Strength: The values can range between -1 and 1 indicating a perfectly linear relationship where a change in one variable is followed by a perfectly consistent change to the other. In practice, you usually won’t see this kind of relationship.\n",
    "A zero value of the coefficient represents no linear relationship.\n",
    "Let’s say the coefficient value between two features is r:\n",
    "\n",
    "When the value of ‘r’ is between 0 and +1/-1, it indicates that there is a relationship between the two variables, but it’s not perfectly linear — the data points don’t all fall on a straight line.\n",
    "\n",
    "If ‘r’ is close to +1, it indicates a strong positive linear relationship. That means as one variable increases, the other variable also tends to increase, and the data points will cluster tightly around a rising straight line.\n",
    "\n",
    "If ‘r’ is close to -1, it signifies a strong negative linear relationship. This means that as one variable increases, the other tends to decrease, with data points clustering tightly around a falling straight line.\n",
    "\n",
    "An ‘r’ value near 0 indicates that there’s little or no linear relationship between the two variables. The data points will be spread out and won’t fall close to a line in either an increasing or decreasing direction."
   ]
  },
  {
   "cell_type": "code",
   "execution_count": null,
   "metadata": {},
   "outputs": [
    {
     "name": "stdout",
     "output_type": "stream",
     "text": [
      " selling price vs present price 0.8789825451614951\n",
      " selling price vs kilometers driven 0.029187090674291236\n"
     ]
    }
   ],
   "source": [
    "print(f\" selling price vs present price: {car_data['Selling_Price'].corr(car_data['Present_Price'])}\")\n",
    "print(f\" selling price vs kilometers driven: {car_data['Selling_Price'].corr(car_data['Kms_Driven'])}\")"
   ]
  },
  {
   "cell_type": "code",
   "execution_count": 64,
   "metadata": {},
   "outputs": [
    {
     "data": {
      "application/vnd.microsoft.datawrangler.viewer.v0+json": {
       "columns": [
        {
         "name": "index",
         "rawType": "object",
         "type": "string"
        },
        {
         "name": "Year",
         "rawType": "float64",
         "type": "float"
        },
        {
         "name": "Selling_Price",
         "rawType": "float64",
         "type": "float"
        },
        {
         "name": "Present_Price",
         "rawType": "float64",
         "type": "float"
        },
        {
         "name": "Kms_Driven",
         "rawType": "float64",
         "type": "float"
        },
        {
         "name": "Owner",
         "rawType": "float64",
         "type": "float"
        }
       ],
       "conversionMethod": "pd.DataFrame",
       "ref": "687f55fb-55ed-433f-b5e6-38abc72e36cb",
       "rows": [
        [
         "Year",
         "1.0",
         "0.2361409801604347",
         "-0.04758420974573064",
         "-0.5243420406957324",
         "-0.18210355920226318"
        ],
        [
         "Selling_Price",
         "0.2361409801604347",
         "1.0",
         "0.8789825451614949",
         "0.02918709067429123",
         "-0.08834409908720228"
        ],
        [
         "Present_Price",
         "-0.04758420974573064",
         "0.8789825451614949",
         "1.0",
         "0.20364703400913206",
         "0.008057015342196454"
        ],
        [
         "Kms_Driven",
         "-0.5243420406957324",
         "0.02918709067429123",
         "0.20364703400913206",
         "1.0",
         "0.08921620186144577"
        ],
        [
         "Owner",
         "-0.18210355920226318",
         "-0.08834409908720228",
         "0.008057015342196454",
         "0.08921620186144577",
         "1.0"
        ]
       ],
       "shape": {
        "columns": 5,
        "rows": 5
       }
      },
      "text/html": [
       "<div>\n",
       "<style scoped>\n",
       "    .dataframe tbody tr th:only-of-type {\n",
       "        vertical-align: middle;\n",
       "    }\n",
       "\n",
       "    .dataframe tbody tr th {\n",
       "        vertical-align: top;\n",
       "    }\n",
       "\n",
       "    .dataframe thead th {\n",
       "        text-align: right;\n",
       "    }\n",
       "</style>\n",
       "<table border=\"1\" class=\"dataframe\">\n",
       "  <thead>\n",
       "    <tr style=\"text-align: right;\">\n",
       "      <th></th>\n",
       "      <th>Year</th>\n",
       "      <th>Selling_Price</th>\n",
       "      <th>Present_Price</th>\n",
       "      <th>Kms_Driven</th>\n",
       "      <th>Owner</th>\n",
       "    </tr>\n",
       "  </thead>\n",
       "  <tbody>\n",
       "    <tr>\n",
       "      <th>Year</th>\n",
       "      <td>1.000000</td>\n",
       "      <td>0.236141</td>\n",
       "      <td>-0.047584</td>\n",
       "      <td>-0.524342</td>\n",
       "      <td>-0.182104</td>\n",
       "    </tr>\n",
       "    <tr>\n",
       "      <th>Selling_Price</th>\n",
       "      <td>0.236141</td>\n",
       "      <td>1.000000</td>\n",
       "      <td>0.878983</td>\n",
       "      <td>0.029187</td>\n",
       "      <td>-0.088344</td>\n",
       "    </tr>\n",
       "    <tr>\n",
       "      <th>Present_Price</th>\n",
       "      <td>-0.047584</td>\n",
       "      <td>0.878983</td>\n",
       "      <td>1.000000</td>\n",
       "      <td>0.203647</td>\n",
       "      <td>0.008057</td>\n",
       "    </tr>\n",
       "    <tr>\n",
       "      <th>Kms_Driven</th>\n",
       "      <td>-0.524342</td>\n",
       "      <td>0.029187</td>\n",
       "      <td>0.203647</td>\n",
       "      <td>1.000000</td>\n",
       "      <td>0.089216</td>\n",
       "    </tr>\n",
       "    <tr>\n",
       "      <th>Owner</th>\n",
       "      <td>-0.182104</td>\n",
       "      <td>-0.088344</td>\n",
       "      <td>0.008057</td>\n",
       "      <td>0.089216</td>\n",
       "      <td>1.000000</td>\n",
       "    </tr>\n",
       "  </tbody>\n",
       "</table>\n",
       "</div>"
      ],
      "text/plain": [
       "                   Year  Selling_Price  Present_Price  Kms_Driven     Owner\n",
       "Year           1.000000       0.236141      -0.047584   -0.524342 -0.182104\n",
       "Selling_Price  0.236141       1.000000       0.878983    0.029187 -0.088344\n",
       "Present_Price -0.047584       0.878983       1.000000    0.203647  0.008057\n",
       "Kms_Driven    -0.524342       0.029187       0.203647    1.000000  0.089216\n",
       "Owner         -0.182104      -0.088344       0.008057    0.089216  1.000000"
      ]
     },
     "execution_count": 64,
     "metadata": {},
     "output_type": "execute_result"
    }
   ],
   "source": [
    "# drop car_data non numerical columns and find the correlation betwenn them\n",
    "import numpy as np\n",
    "\n",
    "numerical_data= car_data.select_dtypes(include=[np.number])\n",
    "numerical_data.corr()\n"
   ]
  },
  {
   "cell_type": "markdown",
   "metadata": {},
   "source": [
    "# Correlation matrix"
   ]
  },
  {
   "cell_type": "code",
   "execution_count": 68,
   "metadata": {},
   "outputs": [
    {
     "data": {
      "text/plain": [
       "Text(0.5, 1.0, 'correlation matrix')"
      ]
     },
     "execution_count": 68,
     "metadata": {},
     "output_type": "execute_result"
    },
    {
     "data": {
      "image/png": "[encoded data removed]",
      "text/plain": [
       "<Figure size 640x480 with 2 Axes>"
      ]
     },
     "metadata": {},
     "output_type": "display_data"
    }
   ],
   "source": [
    "import seaborn as sns\n",
    "import matplotlib.pyplot as plt\n",
    "\n",
    "fig= sns.heatmap(numerical_data.corr(), annot=True, cmap='coolwarm')\n",
    "plt.title('correlation matrix')"
   ]
  }
 ],
 "metadata": {
  "kernelspec": {
   "display_name": "local",
   "language": "python",
   "name": "python3"
  },
  "language_info": {
   "codemirror_mode": {
    "name": "ipython",
    "version": 3
   },
   "file_extension": ".py",
   "mimetype": "text/x-python",
   "name": "python",
   "nbconvert_exporter": "python",
   "pygments_lexer": "ipython3",
   "version": "3.12.3"
  }
 },
 "nbformat": 4,
 "nbformat_minor": 2
}
