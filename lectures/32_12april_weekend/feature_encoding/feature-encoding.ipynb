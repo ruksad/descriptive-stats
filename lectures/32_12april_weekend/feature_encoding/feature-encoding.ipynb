{
 "cells": [
  {
   "cell_type": "code",
   "execution_count": 57,
   "id": "948fa5c1",
   "metadata": {},
   "outputs": [
    {
     "name": "stdout",
     "output_type": "stream",
     "text": [
      "<class 'pandas.core.frame.DataFrame'>\n",
      "RangeIndex: 1728 entries, 0 to 1727\n",
      "Data columns (total 7 columns):\n",
      " #   Column    Non-Null Count  Dtype \n",
      "---  ------    --------------  ----- \n",
      " 0   buying    1728 non-null   object\n",
      " 1   maint     1728 non-null   object\n",
      " 2   doors     1728 non-null   object\n",
      " 3   persons   1728 non-null   object\n",
      " 4   lug_boot  1728 non-null   object\n",
      " 5   safety    1728 non-null   object\n",
      " 6   class     1728 non-null   object\n",
      "dtypes: object(7)\n",
      "memory usage: 94.6+ KB\n"
     ]
    }
   ],
   "source": [
    "import pandas as pd\n",
    "import numpy as np\n",
    "\n",
    "data= pd.read_excel('../../../source/car-data-category-encoding.xlsx', sheet_name='Sheet1')\n",
    "data.info()"
   ]
  },
  {
   "cell_type": "code",
   "execution_count": 58,
   "id": "fb55e486",
   "metadata": {},
   "outputs": [
    {
     "data": {
      "application/vnd.microsoft.datawrangler.viewer.v0+json": {
       "columns": [
        {
         "name": "index",
         "rawType": "int64",
         "type": "integer"
        },
        {
         "name": "buying",
         "rawType": "object",
         "type": "string"
        },
        {
         "name": "maint",
         "rawType": "object",
         "type": "string"
        },
        {
         "name": "doors",
         "rawType": "object",
         "type": "string"
        },
        {
         "name": "persons",
         "rawType": "object",
         "type": "string"
        },
        {
         "name": "lug_boot",
         "rawType": "object",
         "type": "string"
        },
        {
         "name": "safety",
         "rawType": "object",
         "type": "string"
        },
        {
         "name": "class",
         "rawType": "object",
         "type": "string"
        }
       ],
       "conversionMethod": "pd.DataFrame",
       "ref": "55a9ae53-4bde-4682-8709-3de24362cbd1",
       "rows": [
        [
         "0",
         "vhigh",
         "vhigh",
         "2",
         "2",
         "small",
         "low",
         "unacc"
        ],
        [
         "1",
         "vhigh",
         "vhigh",
         "2",
         "2",
         "small",
         "med",
         "unacc"
        ],
        [
         "2",
         "vhigh",
         "vhigh",
         "2",
         "2",
         "small",
         "high",
         "unacc"
        ],
        [
         "3",
         "vhigh",
         "vhigh",
         "2",
         "2",
         "med",
         "low",
         "unacc"
        ],
        [
         "4",
         "vhigh",
         "vhigh",
         "2",
         "2",
         "med",
         "med",
         "unacc"
        ]
       ],
       "shape": {
        "columns": 7,
        "rows": 5
       }
      },
      "text/html": [
       "<div>\n",
       "<style scoped>\n",
       "    .dataframe tbody tr th:only-of-type {\n",
       "        vertical-align: middle;\n",
       "    }\n",
       "\n",
       "    .dataframe tbody tr th {\n",
       "        vertical-align: top;\n",
       "    }\n",
       "\n",
       "    .dataframe thead th {\n",
       "        text-align: right;\n",
       "    }\n",
       "</style>\n",
       "<table border=\"1\" class=\"dataframe\">\n",
       "  <thead>\n",
       "    <tr style=\"text-align: right;\">\n",
       "      <th></th>\n",
       "      <th>buying</th>\n",
       "      <th>maint</th>\n",
       "      <th>doors</th>\n",
       "      <th>persons</th>\n",
       "      <th>lug_boot</th>\n",
       "      <th>safety</th>\n",
       "      <th>class</th>\n",
       "    </tr>\n",
       "  </thead>\n",
       "  <tbody>\n",
       "    <tr>\n",
       "      <th>0</th>\n",
       "      <td>vhigh</td>\n",
       "      <td>vhigh</td>\n",
       "      <td>2</td>\n",
       "      <td>2</td>\n",
       "      <td>small</td>\n",
       "      <td>low</td>\n",
       "      <td>unacc</td>\n",
       "    </tr>\n",
       "    <tr>\n",
       "      <th>1</th>\n",
       "      <td>vhigh</td>\n",
       "      <td>vhigh</td>\n",
       "      <td>2</td>\n",
       "      <td>2</td>\n",
       "      <td>small</td>\n",
       "      <td>med</td>\n",
       "      <td>unacc</td>\n",
       "    </tr>\n",
       "    <tr>\n",
       "      <th>2</th>\n",
       "      <td>vhigh</td>\n",
       "      <td>vhigh</td>\n",
       "      <td>2</td>\n",
       "      <td>2</td>\n",
       "      <td>small</td>\n",
       "      <td>high</td>\n",
       "      <td>unacc</td>\n",
       "    </tr>\n",
       "    <tr>\n",
       "      <th>3</th>\n",
       "      <td>vhigh</td>\n",
       "      <td>vhigh</td>\n",
       "      <td>2</td>\n",
       "      <td>2</td>\n",
       "      <td>med</td>\n",
       "      <td>low</td>\n",
       "      <td>unacc</td>\n",
       "    </tr>\n",
       "    <tr>\n",
       "      <th>4</th>\n",
       "      <td>vhigh</td>\n",
       "      <td>vhigh</td>\n",
       "      <td>2</td>\n",
       "      <td>2</td>\n",
       "      <td>med</td>\n",
       "      <td>med</td>\n",
       "      <td>unacc</td>\n",
       "    </tr>\n",
       "  </tbody>\n",
       "</table>\n",
       "</div>"
      ],
      "text/plain": [
       "  buying  maint doors persons lug_boot safety  class\n",
       "0  vhigh  vhigh     2       2    small    low  unacc\n",
       "1  vhigh  vhigh     2       2    small    med  unacc\n",
       "2  vhigh  vhigh     2       2    small   high  unacc\n",
       "3  vhigh  vhigh     2       2      med    low  unacc\n",
       "4  vhigh  vhigh     2       2      med    med  unacc"
      ]
     },
     "execution_count": 58,
     "metadata": {},
     "output_type": "execute_result"
    }
   ],
   "source": [
    "data.head()"
   ]
  },
  {
   "cell_type": "markdown",
   "id": "9a819f70",
   "metadata": {},
   "source": [
    "# 2 Create Python functions (one for each of the encoding methods) \n",
    "to accept as inputs a dataframe and a target column, and return a new dataframe with all columns encoded, except the target column, using the following methods: (Can you create just one function to handle all the below methods, instead of creating separate one for each?) (Which Python module implements all the below methods? Find out)\n",
    "a. Integer or Ordinal encoding\n",
    "b. One-hot encoding\n",
    "c. Binary encoding\n",
    "d. Target encoding\n",
    "e. Frequency encoding"
   ]
  },
  {
   "cell_type": "code",
   "execution_count": 59,
   "id": "d4b614fa",
   "metadata": {},
   "outputs": [],
   "source": [
    "from category_encoders import OrdinalEncoder, OneHotEncoder, BinaryEncoder, TargetEncoder\n",
    "import pandas as pd\n",
    "\n",
    "def encode_dataframe(df, target_column, method):\n",
    "    \"\"\"\n",
    "    Encodes all columns in the DataFrame except the target column using the specified method.\n",
    "\n",
    "    Parameters:\n",
    "        df (pd.DataFrame): The input DataFrame.\n",
    "        target_column (str): The name of the target column to exclude from encoding.\n",
    "        method (str): The encoding method to use. Options are:\n",
    "                      'integer', 'onehot', 'binary', 'target', 'frequency'.\n",
    "\n",
    "    Returns:\n",
    "        pd.DataFrame: A new DataFrame with the specified encoding applied.\n",
    "    \"\"\"\n",
    "    encoded_df = df.copy()\n",
    "    \n",
    "    if method == 'integer' or method == 'ordinal':\n",
    "        encoder = OrdinalEncoder(cols=[col for col in df.columns if col != target_column])\n",
    "        encoded_df = encoder.fit_transform(encoded_df)\n",
    "    \n",
    "    elif method == 'onehot':\n",
    "        encoder = OneHotEncoder(cols=[col for col in df.columns if col != target_column], use_cat_names=True)\n",
    "        encoded_df = encoder.fit_transform(encoded_df)\n",
    "    \n",
    "    elif method == 'binary':\n",
    "        encoder = BinaryEncoder(cols=[col for col in df.columns if col != target_column])\n",
    "        encoded_df = encoder.fit_transform(encoded_df)\n",
    "    \n",
    "    elif method == 'target':\n",
    "        encoder = TargetEncoder(cols=[col for col in df.columns if col != target_column])\n",
    "        encoded_df = encoder.fit_transform(encoded_df, encoded_df[target_column])\n",
    "    \n",
    "    elif method == 'frequency':\n",
    "        for col in df.columns:\n",
    "            if col != target_column:\n",
    "                freq = df[col].value_counts() / len(df)\n",
    "                encoded_df[col] = df[col].map(freq)\n",
    "    \n",
    "    else:\n",
    "        raise ValueError(\"Unsupported encoding method. Choose from 'integer', 'onehot', 'binary', 'target', or 'frequency'.\")\n",
    "    \n",
    "    return encoded_df"
   ]
  },
  {
   "cell_type": "code",
   "execution_count": 61,
   "id": "8018d5dc",
   "metadata": {},
   "outputs": [
    {
     "data": {
      "application/vnd.microsoft.datawrangler.viewer.v0+json": {
       "columns": [
        {
         "name": "index",
         "rawType": "int64",
         "type": "integer"
        },
        {
         "name": "buying",
         "rawType": "int64",
         "type": "integer"
        },
        {
         "name": "maint",
         "rawType": "int64",
         "type": "integer"
        },
        {
         "name": "doors",
         "rawType": "int64",
         "type": "integer"
        },
        {
         "name": "persons",
         "rawType": "int64",
         "type": "integer"
        },
        {
         "name": "lug_boot",
         "rawType": "int64",
         "type": "integer"
        },
        {
         "name": "safety",
         "rawType": "int64",
         "type": "integer"
        },
        {
         "name": "class",
         "rawType": "object",
         "type": "string"
        }
       ],
       "conversionMethod": "pd.DataFrame",
       "ref": "b28bc114-f0f7-4c60-8992-6d1f0077606f",
       "rows": [
        [
         "0",
         "1",
         "1",
         "1",
         "1",
         "1",
         "1",
         "unacc"
        ],
        [
         "1",
         "1",
         "1",
         "1",
         "1",
         "1",
         "2",
         "unacc"
        ],
        [
         "2",
         "1",
         "1",
         "1",
         "1",
         "1",
         "3",
         "unacc"
        ],
        [
         "3",
         "1",
         "1",
         "1",
         "1",
         "2",
         "1",
         "unacc"
        ],
        [
         "4",
         "1",
         "1",
         "1",
         "1",
         "2",
         "2",
         "unacc"
        ]
       ],
       "shape": {
        "columns": 7,
        "rows": 5
       }
      },
      "text/html": [
       "<div>\n",
       "<style scoped>\n",
       "    .dataframe tbody tr th:only-of-type {\n",
       "        vertical-align: middle;\n",
       "    }\n",
       "\n",
       "    .dataframe tbody tr th {\n",
       "        vertical-align: top;\n",
       "    }\n",
       "\n",
       "    .dataframe thead th {\n",
       "        text-align: right;\n",
       "    }\n",
       "</style>\n",
       "<table border=\"1\" class=\"dataframe\">\n",
       "  <thead>\n",
       "    <tr style=\"text-align: right;\">\n",
       "      <th></th>\n",
       "      <th>buying</th>\n",
       "      <th>maint</th>\n",
       "      <th>doors</th>\n",
       "      <th>persons</th>\n",
       "      <th>lug_boot</th>\n",
       "      <th>safety</th>\n",
       "      <th>class</th>\n",
       "    </tr>\n",
       "  </thead>\n",
       "  <tbody>\n",
       "    <tr>\n",
       "      <th>0</th>\n",
       "      <td>1</td>\n",
       "      <td>1</td>\n",
       "      <td>1</td>\n",
       "      <td>1</td>\n",
       "      <td>1</td>\n",
       "      <td>1</td>\n",
       "      <td>unacc</td>\n",
       "    </tr>\n",
       "    <tr>\n",
       "      <th>1</th>\n",
       "      <td>1</td>\n",
       "      <td>1</td>\n",
       "      <td>1</td>\n",
       "      <td>1</td>\n",
       "      <td>1</td>\n",
       "      <td>2</td>\n",
       "      <td>unacc</td>\n",
       "    </tr>\n",
       "    <tr>\n",
       "      <th>2</th>\n",
       "      <td>1</td>\n",
       "      <td>1</td>\n",
       "      <td>1</td>\n",
       "      <td>1</td>\n",
       "      <td>1</td>\n",
       "      <td>3</td>\n",
       "      <td>unacc</td>\n",
       "    </tr>\n",
       "    <tr>\n",
       "      <th>3</th>\n",
       "      <td>1</td>\n",
       "      <td>1</td>\n",
       "      <td>1</td>\n",
       "      <td>1</td>\n",
       "      <td>2</td>\n",
       "      <td>1</td>\n",
       "      <td>unacc</td>\n",
       "    </tr>\n",
       "    <tr>\n",
       "      <th>4</th>\n",
       "      <td>1</td>\n",
       "      <td>1</td>\n",
       "      <td>1</td>\n",
       "      <td>1</td>\n",
       "      <td>2</td>\n",
       "      <td>2</td>\n",
       "      <td>unacc</td>\n",
       "    </tr>\n",
       "  </tbody>\n",
       "</table>\n",
       "</div>"
      ],
      "text/plain": [
       "   buying  maint  doors  persons  lug_boot  safety  class\n",
       "0       1      1      1        1         1       1  unacc\n",
       "1       1      1      1        1         1       2  unacc\n",
       "2       1      1      1        1         1       3  unacc\n",
       "3       1      1      1        1         2       1  unacc\n",
       "4       1      1      1        1         2       2  unacc"
      ]
     },
     "execution_count": 61,
     "metadata": {},
     "output_type": "execute_result"
    }
   ],
   "source": [
    "# Example usage:\n",
    "encoded_data_one_integer = encode_dataframe(data, target_column='class', method='integer')\n",
    "\n",
    "encoded_data_one_integer.head()"
   ]
  },
  {
   "cell_type": "code",
   "execution_count": 62,
   "id": "323a859b",
   "metadata": {},
   "outputs": [
    {
     "data": {
      "application/vnd.microsoft.datawrangler.viewer.v0+json": {
       "columns": [
        {
         "name": "index",
         "rawType": "int64",
         "type": "integer"
        },
        {
         "name": "buying_vhigh",
         "rawType": "int64",
         "type": "integer"
        },
        {
         "name": "buying_high",
         "rawType": "int64",
         "type": "integer"
        },
        {
         "name": "buying_med",
         "rawType": "int64",
         "type": "integer"
        },
        {
         "name": "buying_low",
         "rawType": "int64",
         "type": "integer"
        },
        {
         "name": "maint_vhigh",
         "rawType": "int64",
         "type": "integer"
        },
        {
         "name": "maint_high",
         "rawType": "int64",
         "type": "integer"
        },
        {
         "name": "maint_med",
         "rawType": "int64",
         "type": "integer"
        },
        {
         "name": "maint_low",
         "rawType": "int64",
         "type": "integer"
        },
        {
         "name": "doors_2",
         "rawType": "int64",
         "type": "integer"
        },
        {
         "name": "doors_3",
         "rawType": "int64",
         "type": "integer"
        },
        {
         "name": "doors_4",
         "rawType": "int64",
         "type": "integer"
        },
        {
         "name": "doors_5more",
         "rawType": "int64",
         "type": "integer"
        },
        {
         "name": "persons_2",
         "rawType": "int64",
         "type": "integer"
        },
        {
         "name": "persons_4",
         "rawType": "int64",
         "type": "integer"
        },
        {
         "name": "persons_more",
         "rawType": "int64",
         "type": "integer"
        },
        {
         "name": "lug_boot_small",
         "rawType": "int64",
         "type": "integer"
        },
        {
         "name": "lug_boot_med",
         "rawType": "int64",
         "type": "integer"
        },
        {
         "name": "lug_boot_big",
         "rawType": "int64",
         "type": "integer"
        },
        {
         "name": "safety_low",
         "rawType": "int64",
         "type": "integer"
        },
        {
         "name": "safety_med",
         "rawType": "int64",
         "type": "integer"
        },
        {
         "name": "safety_high",
         "rawType": "int64",
         "type": "integer"
        },
        {
         "name": "class",
         "rawType": "object",
         "type": "string"
        }
       ],
       "conversionMethod": "pd.DataFrame",
       "ref": "dac9820b-14f3-4bbf-a9b5-cffcdcb36138",
       "rows": [
        [
         "0",
         "1",
         "0",
         "0",
         "0",
         "1",
         "0",
         "0",
         "0",
         "1",
         "0",
         "0",
         "0",
         "1",
         "0",
         "0",
         "1",
         "0",
         "0",
         "1",
         "0",
         "0",
         "unacc"
        ],
        [
         "1",
         "1",
         "0",
         "0",
         "0",
         "1",
         "0",
         "0",
         "0",
         "1",
         "0",
         "0",
         "0",
         "1",
         "0",
         "0",
         "1",
         "0",
         "0",
         "0",
         "1",
         "0",
         "unacc"
        ],
        [
         "2",
         "1",
         "0",
         "0",
         "0",
         "1",
         "0",
         "0",
         "0",
         "1",
         "0",
         "0",
         "0",
         "1",
         "0",
         "0",
         "1",
         "0",
         "0",
         "0",
         "0",
         "1",
         "unacc"
        ],
        [
         "3",
         "1",
         "0",
         "0",
         "0",
         "1",
         "0",
         "0",
         "0",
         "1",
         "0",
         "0",
         "0",
         "1",
         "0",
         "0",
         "0",
         "1",
         "0",
         "1",
         "0",
         "0",
         "unacc"
        ],
        [
         "4",
         "1",
         "0",
         "0",
         "0",
         "1",
         "0",
         "0",
         "0",
         "1",
         "0",
         "0",
         "0",
         "1",
         "0",
         "0",
         "0",
         "1",
         "0",
         "0",
         "1",
         "0",
         "unacc"
        ]
       ],
       "shape": {
        "columns": 22,
        "rows": 5
       }
      },
      "text/html": [
       "<div>\n",
       "<style scoped>\n",
       "    .dataframe tbody tr th:only-of-type {\n",
       "        vertical-align: middle;\n",
       "    }\n",
       "\n",
       "    .dataframe tbody tr th {\n",
       "        vertical-align: top;\n",
       "    }\n",
       "\n",
       "    .dataframe thead th {\n",
       "        text-align: right;\n",
       "    }\n",
       "</style>\n",
       "<table border=\"1\" class=\"dataframe\">\n",
       "  <thead>\n",
       "    <tr style=\"text-align: right;\">\n",
       "      <th></th>\n",
       "      <th>buying_vhigh</th>\n",
       "      <th>buying_high</th>\n",
       "      <th>buying_med</th>\n",
       "      <th>buying_low</th>\n",
       "      <th>maint_vhigh</th>\n",
       "      <th>maint_high</th>\n",
       "      <th>maint_med</th>\n",
       "      <th>maint_low</th>\n",
       "      <th>doors_2</th>\n",
       "      <th>doors_3</th>\n",
       "      <th>...</th>\n",
       "      <th>persons_2</th>\n",
       "      <th>persons_4</th>\n",
       "      <th>persons_more</th>\n",
       "      <th>lug_boot_small</th>\n",
       "      <th>lug_boot_med</th>\n",
       "      <th>lug_boot_big</th>\n",
       "      <th>safety_low</th>\n",
       "      <th>safety_med</th>\n",
       "      <th>safety_high</th>\n",
       "      <th>class</th>\n",
       "    </tr>\n",
       "  </thead>\n",
       "  <tbody>\n",
       "    <tr>\n",
       "      <th>0</th>\n",
       "      <td>1</td>\n",
       "      <td>0</td>\n",
       "      <td>0</td>\n",
       "      <td>0</td>\n",
       "      <td>1</td>\n",
       "      <td>0</td>\n",
       "      <td>0</td>\n",
       "      <td>0</td>\n",
       "      <td>1</td>\n",
       "      <td>0</td>\n",
       "      <td>...</td>\n",
       "      <td>1</td>\n",
       "      <td>0</td>\n",
       "      <td>0</td>\n",
       "      <td>1</td>\n",
       "      <td>0</td>\n",
       "      <td>0</td>\n",
       "      <td>1</td>\n",
       "      <td>0</td>\n",
       "      <td>0</td>\n",
       "      <td>unacc</td>\n",
       "    </tr>\n",
       "    <tr>\n",
       "      <th>1</th>\n",
       "      <td>1</td>\n",
       "      <td>0</td>\n",
       "      <td>0</td>\n",
       "      <td>0</td>\n",
       "      <td>1</td>\n",
       "      <td>0</td>\n",
       "      <td>0</td>\n",
       "      <td>0</td>\n",
       "      <td>1</td>\n",
       "      <td>0</td>\n",
       "      <td>...</td>\n",
       "      <td>1</td>\n",
       "      <td>0</td>\n",
       "      <td>0</td>\n",
       "      <td>1</td>\n",
       "      <td>0</td>\n",
       "      <td>0</td>\n",
       "      <td>0</td>\n",
       "      <td>1</td>\n",
       "      <td>0</td>\n",
       "      <td>unacc</td>\n",
       "    </tr>\n",
       "    <tr>\n",
       "      <th>2</th>\n",
       "      <td>1</td>\n",
       "      <td>0</td>\n",
       "      <td>0</td>\n",
       "      <td>0</td>\n",
       "      <td>1</td>\n",
       "      <td>0</td>\n",
       "      <td>0</td>\n",
       "      <td>0</td>\n",
       "      <td>1</td>\n",
       "      <td>0</td>\n",
       "      <td>...</td>\n",
       "      <td>1</td>\n",
       "      <td>0</td>\n",
       "      <td>0</td>\n",
       "      <td>1</td>\n",
       "      <td>0</td>\n",
       "      <td>0</td>\n",
       "      <td>0</td>\n",
       "      <td>0</td>\n",
       "      <td>1</td>\n",
       "      <td>unacc</td>\n",
       "    </tr>\n",
       "    <tr>\n",
       "      <th>3</th>\n",
       "      <td>1</td>\n",
       "      <td>0</td>\n",
       "      <td>0</td>\n",
       "      <td>0</td>\n",
       "      <td>1</td>\n",
       "      <td>0</td>\n",
       "      <td>0</td>\n",
       "      <td>0</td>\n",
       "      <td>1</td>\n",
       "      <td>0</td>\n",
       "      <td>...</td>\n",
       "      <td>1</td>\n",
       "      <td>0</td>\n",
       "      <td>0</td>\n",
       "      <td>0</td>\n",
       "      <td>1</td>\n",
       "      <td>0</td>\n",
       "      <td>1</td>\n",
       "      <td>0</td>\n",
       "      <td>0</td>\n",
       "      <td>unacc</td>\n",
       "    </tr>\n",
       "    <tr>\n",
       "      <th>4</th>\n",
       "      <td>1</td>\n",
       "      <td>0</td>\n",
       "      <td>0</td>\n",
       "      <td>0</td>\n",
       "      <td>1</td>\n",
       "      <td>0</td>\n",
       "      <td>0</td>\n",
       "      <td>0</td>\n",
       "      <td>1</td>\n",
       "      <td>0</td>\n",
       "      <td>...</td>\n",
       "      <td>1</td>\n",
       "      <td>0</td>\n",
       "      <td>0</td>\n",
       "      <td>0</td>\n",
       "      <td>1</td>\n",
       "      <td>0</td>\n",
       "      <td>0</td>\n",
       "      <td>1</td>\n",
       "      <td>0</td>\n",
       "      <td>unacc</td>\n",
       "    </tr>\n",
       "  </tbody>\n",
       "</table>\n",
       "<p>5 rows × 22 columns</p>\n",
       "</div>"
      ],
      "text/plain": [
       "   buying_vhigh  buying_high  buying_med  buying_low  maint_vhigh  maint_high  \\\n",
       "0             1            0           0           0            1           0   \n",
       "1             1            0           0           0            1           0   \n",
       "2             1            0           0           0            1           0   \n",
       "3             1            0           0           0            1           0   \n",
       "4             1            0           0           0            1           0   \n",
       "\n",
       "   maint_med  maint_low  doors_2  doors_3  ...  persons_2  persons_4  \\\n",
       "0          0          0        1        0  ...          1          0   \n",
       "1          0          0        1        0  ...          1          0   \n",
       "2          0          0        1        0  ...          1          0   \n",
       "3          0          0        1        0  ...          1          0   \n",
       "4          0          0        1        0  ...          1          0   \n",
       "\n",
       "   persons_more  lug_boot_small  lug_boot_med  lug_boot_big  safety_low  \\\n",
       "0             0               1             0             0           1   \n",
       "1             0               1             0             0           0   \n",
       "2             0               1             0             0           0   \n",
       "3             0               0             1             0           1   \n",
       "4             0               0             1             0           0   \n",
       "\n",
       "   safety_med  safety_high  class  \n",
       "0           0            0  unacc  \n",
       "1           1            0  unacc  \n",
       "2           0            1  unacc  \n",
       "3           0            0  unacc  \n",
       "4           1            0  unacc  \n",
       "\n",
       "[5 rows x 22 columns]"
      ]
     },
     "execution_count": 62,
     "metadata": {},
     "output_type": "execute_result"
    }
   ],
   "source": [
    "# Example usage:\n",
    "encoded_data_one_hot = encode_dataframe(data, target_column='class', method='onehot')\n",
    "\n",
    "encoded_data_one_hot.head()"
   ]
  },
  {
   "cell_type": "code",
   "execution_count": 63,
   "id": "1e572120",
   "metadata": {},
   "outputs": [
    {
     "data": {
      "application/vnd.microsoft.datawrangler.viewer.v0+json": {
       "columns": [
        {
         "name": "index",
         "rawType": "int64",
         "type": "integer"
        },
        {
         "name": "buying_0",
         "rawType": "int64",
         "type": "integer"
        },
        {
         "name": "buying_1",
         "rawType": "int64",
         "type": "integer"
        },
        {
         "name": "buying_2",
         "rawType": "int64",
         "type": "integer"
        },
        {
         "name": "maint_0",
         "rawType": "int64",
         "type": "integer"
        },
        {
         "name": "maint_1",
         "rawType": "int64",
         "type": "integer"
        },
        {
         "name": "maint_2",
         "rawType": "int64",
         "type": "integer"
        },
        {
         "name": "doors_0",
         "rawType": "int64",
         "type": "integer"
        },
        {
         "name": "doors_1",
         "rawType": "int64",
         "type": "integer"
        },
        {
         "name": "doors_2",
         "rawType": "int64",
         "type": "integer"
        },
        {
         "name": "persons_0",
         "rawType": "int64",
         "type": "integer"
        },
        {
         "name": "persons_1",
         "rawType": "int64",
         "type": "integer"
        },
        {
         "name": "lug_boot_0",
         "rawType": "int64",
         "type": "integer"
        },
        {
         "name": "lug_boot_1",
         "rawType": "int64",
         "type": "integer"
        },
        {
         "name": "safety_0",
         "rawType": "int64",
         "type": "integer"
        },
        {
         "name": "safety_1",
         "rawType": "int64",
         "type": "integer"
        },
        {
         "name": "class",
         "rawType": "object",
         "type": "string"
        }
       ],
       "conversionMethod": "pd.DataFrame",
       "ref": "396518fb-4eb2-43e1-ab12-baafa2826e35",
       "rows": [
        [
         "0",
         "0",
         "0",
         "1",
         "0",
         "0",
         "1",
         "0",
         "0",
         "1",
         "0",
         "1",
         "0",
         "1",
         "0",
         "1",
         "unacc"
        ],
        [
         "1",
         "0",
         "0",
         "1",
         "0",
         "0",
         "1",
         "0",
         "0",
         "1",
         "0",
         "1",
         "0",
         "1",
         "1",
         "0",
         "unacc"
        ],
        [
         "2",
         "0",
         "0",
         "1",
         "0",
         "0",
         "1",
         "0",
         "0",
         "1",
         "0",
         "1",
         "0",
         "1",
         "1",
         "1",
         "unacc"
        ],
        [
         "3",
         "0",
         "0",
         "1",
         "0",
         "0",
         "1",
         "0",
         "0",
         "1",
         "0",
         "1",
         "1",
         "0",
         "0",
         "1",
         "unacc"
        ],
        [
         "4",
         "0",
         "0",
         "1",
         "0",
         "0",
         "1",
         "0",
         "0",
         "1",
         "0",
         "1",
         "1",
         "0",
         "1",
         "0",
         "unacc"
        ]
       ],
       "shape": {
        "columns": 16,
        "rows": 5
       }
      },
      "text/html": [
       "<div>\n",
       "<style scoped>\n",
       "    .dataframe tbody tr th:only-of-type {\n",
       "        vertical-align: middle;\n",
       "    }\n",
       "\n",
       "    .dataframe tbody tr th {\n",
       "        vertical-align: top;\n",
       "    }\n",
       "\n",
       "    .dataframe thead th {\n",
       "        text-align: right;\n",
       "    }\n",
       "</style>\n",
       "<table border=\"1\" class=\"dataframe\">\n",
       "  <thead>\n",
       "    <tr style=\"text-align: right;\">\n",
       "      <th></th>\n",
       "      <th>buying_0</th>\n",
       "      <th>buying_1</th>\n",
       "      <th>buying_2</th>\n",
       "      <th>maint_0</th>\n",
       "      <th>maint_1</th>\n",
       "      <th>maint_2</th>\n",
       "      <th>doors_0</th>\n",
       "      <th>doors_1</th>\n",
       "      <th>doors_2</th>\n",
       "      <th>persons_0</th>\n",
       "      <th>persons_1</th>\n",
       "      <th>lug_boot_0</th>\n",
       "      <th>lug_boot_1</th>\n",
       "      <th>safety_0</th>\n",
       "      <th>safety_1</th>\n",
       "      <th>class</th>\n",
       "    </tr>\n",
       "  </thead>\n",
       "  <tbody>\n",
       "    <tr>\n",
       "      <th>0</th>\n",
       "      <td>0</td>\n",
       "      <td>0</td>\n",
       "      <td>1</td>\n",
       "      <td>0</td>\n",
       "      <td>0</td>\n",
       "      <td>1</td>\n",
       "      <td>0</td>\n",
       "      <td>0</td>\n",
       "      <td>1</td>\n",
       "      <td>0</td>\n",
       "      <td>1</td>\n",
       "      <td>0</td>\n",
       "      <td>1</td>\n",
       "      <td>0</td>\n",
       "      <td>1</td>\n",
       "      <td>unacc</td>\n",
       "    </tr>\n",
       "    <tr>\n",
       "      <th>1</th>\n",
       "      <td>0</td>\n",
       "      <td>0</td>\n",
       "      <td>1</td>\n",
       "      <td>0</td>\n",
       "      <td>0</td>\n",
       "      <td>1</td>\n",
       "      <td>0</td>\n",
       "      <td>0</td>\n",
       "      <td>1</td>\n",
       "      <td>0</td>\n",
       "      <td>1</td>\n",
       "      <td>0</td>\n",
       "      <td>1</td>\n",
       "      <td>1</td>\n",
       "      <td>0</td>\n",
       "      <td>unacc</td>\n",
       "    </tr>\n",
       "    <tr>\n",
       "      <th>2</th>\n",
       "      <td>0</td>\n",
       "      <td>0</td>\n",
       "      <td>1</td>\n",
       "      <td>0</td>\n",
       "      <td>0</td>\n",
       "      <td>1</td>\n",
       "      <td>0</td>\n",
       "      <td>0</td>\n",
       "      <td>1</td>\n",
       "      <td>0</td>\n",
       "      <td>1</td>\n",
       "      <td>0</td>\n",
       "      <td>1</td>\n",
       "      <td>1</td>\n",
       "      <td>1</td>\n",
       "      <td>unacc</td>\n",
       "    </tr>\n",
       "    <tr>\n",
       "      <th>3</th>\n",
       "      <td>0</td>\n",
       "      <td>0</td>\n",
       "      <td>1</td>\n",
       "      <td>0</td>\n",
       "      <td>0</td>\n",
       "      <td>1</td>\n",
       "      <td>0</td>\n",
       "      <td>0</td>\n",
       "      <td>1</td>\n",
       "      <td>0</td>\n",
       "      <td>1</td>\n",
       "      <td>1</td>\n",
       "      <td>0</td>\n",
       "      <td>0</td>\n",
       "      <td>1</td>\n",
       "      <td>unacc</td>\n",
       "    </tr>\n",
       "    <tr>\n",
       "      <th>4</th>\n",
       "      <td>0</td>\n",
       "      <td>0</td>\n",
       "      <td>1</td>\n",
       "      <td>0</td>\n",
       "      <td>0</td>\n",
       "      <td>1</td>\n",
       "      <td>0</td>\n",
       "      <td>0</td>\n",
       "      <td>1</td>\n",
       "      <td>0</td>\n",
       "      <td>1</td>\n",
       "      <td>1</td>\n",
       "      <td>0</td>\n",
       "      <td>1</td>\n",
       "      <td>0</td>\n",
       "      <td>unacc</td>\n",
       "    </tr>\n",
       "  </tbody>\n",
       "</table>\n",
       "</div>"
      ],
      "text/plain": [
       "   buying_0  buying_1  buying_2  maint_0  maint_1  maint_2  doors_0  doors_1  \\\n",
       "0         0         0         1        0        0        1        0        0   \n",
       "1         0         0         1        0        0        1        0        0   \n",
       "2         0         0         1        0        0        1        0        0   \n",
       "3         0         0         1        0        0        1        0        0   \n",
       "4         0         0         1        0        0        1        0        0   \n",
       "\n",
       "   doors_2  persons_0  persons_1  lug_boot_0  lug_boot_1  safety_0  safety_1  \\\n",
       "0        1          0          1           0           1         0         1   \n",
       "1        1          0          1           0           1         1         0   \n",
       "2        1          0          1           0           1         1         1   \n",
       "3        1          0          1           1           0         0         1   \n",
       "4        1          0          1           1           0         1         0   \n",
       "\n",
       "   class  \n",
       "0  unacc  \n",
       "1  unacc  \n",
       "2  unacc  \n",
       "3  unacc  \n",
       "4  unacc  "
      ]
     },
     "execution_count": 63,
     "metadata": {},
     "output_type": "execute_result"
    }
   ],
   "source": [
    "# Example usage:\n",
    "encoded_data_binary = encode_dataframe(data, target_column='class', method='binary')\n",
    "\n",
    "encoded_data_binary.head()"
   ]
  },
  {
   "cell_type": "code",
   "execution_count": 9,
   "id": "e4bac1ba",
   "metadata": {},
   "outputs": [
    {
     "data": {
      "application/vnd.microsoft.datawrangler.viewer.v0+json": {
       "columns": [
        {
         "name": "index",
         "rawType": "int64",
         "type": "integer"
        },
        {
         "name": "buying",
         "rawType": "float64",
         "type": "float"
        },
        {
         "name": "maint",
         "rawType": "float64",
         "type": "float"
        },
        {
         "name": "doors",
         "rawType": "float64",
         "type": "float"
        },
        {
         "name": "persons",
         "rawType": "float64",
         "type": "float"
        },
        {
         "name": "lug_boot",
         "rawType": "float64",
         "type": "float"
        },
        {
         "name": "safety",
         "rawType": "float64",
         "type": "float"
        },
        {
         "name": "class",
         "rawType": "object",
         "type": "string"
        }
       ],
       "conversionMethod": "pd.DataFrame",
       "ref": "1d9fd49e-fc6d-4a94-b404-73c8fb750c86",
       "rows": [
        [
         "0",
         "1.6666666666666667",
         "1.6666666666666667",
         "1.6134259259259258",
         "2.0",
         "1.5989583333333333",
         "2.0",
         "unacc"
        ],
        [
         "1",
         "1.6666666666666667",
         "1.6666666666666667",
         "1.6134259259259258",
         "2.0",
         "1.5989583333333333",
         "1.3072916666666667",
         "unacc"
        ],
        [
         "2",
         "1.6666666666666667",
         "1.6666666666666667",
         "1.6134259259259258",
         "2.0",
         "1.5989583333333333",
         "1.3524305555555556",
         "unacc"
        ],
        [
         "3",
         "1.6666666666666667",
         "1.6666666666666667",
         "1.6134259259259258",
         "2.0",
         "1.5329861111111112",
         "2.0",
         "unacc"
        ],
        [
         "4",
         "1.6666666666666667",
         "1.6666666666666667",
         "1.6134259259259258",
         "2.0",
         "1.5329861111111112",
         "1.3072916666666667",
         "unacc"
        ]
       ],
       "shape": {
        "columns": 7,
        "rows": 5
       }
      },
      "text/html": [
       "<div>\n",
       "<style scoped>\n",
       "    .dataframe tbody tr th:only-of-type {\n",
       "        vertical-align: middle;\n",
       "    }\n",
       "\n",
       "    .dataframe tbody tr th {\n",
       "        vertical-align: top;\n",
       "    }\n",
       "\n",
       "    .dataframe thead th {\n",
       "        text-align: right;\n",
       "    }\n",
       "</style>\n",
       "<table border=\"1\" class=\"dataframe\">\n",
       "  <thead>\n",
       "    <tr style=\"text-align: right;\">\n",
       "      <th></th>\n",
       "      <th>buying</th>\n",
       "      <th>maint</th>\n",
       "      <th>doors</th>\n",
       "      <th>persons</th>\n",
       "      <th>lug_boot</th>\n",
       "      <th>safety</th>\n",
       "      <th>class</th>\n",
       "    </tr>\n",
       "  </thead>\n",
       "  <tbody>\n",
       "    <tr>\n",
       "      <th>0</th>\n",
       "      <td>1.666667</td>\n",
       "      <td>1.666667</td>\n",
       "      <td>1.613426</td>\n",
       "      <td>2.0</td>\n",
       "      <td>1.598958</td>\n",
       "      <td>2.000000</td>\n",
       "      <td>unacc</td>\n",
       "    </tr>\n",
       "    <tr>\n",
       "      <th>1</th>\n",
       "      <td>1.666667</td>\n",
       "      <td>1.666667</td>\n",
       "      <td>1.613426</td>\n",
       "      <td>2.0</td>\n",
       "      <td>1.598958</td>\n",
       "      <td>1.307292</td>\n",
       "      <td>unacc</td>\n",
       "    </tr>\n",
       "    <tr>\n",
       "      <th>2</th>\n",
       "      <td>1.666667</td>\n",
       "      <td>1.666667</td>\n",
       "      <td>1.613426</td>\n",
       "      <td>2.0</td>\n",
       "      <td>1.598958</td>\n",
       "      <td>1.352431</td>\n",
       "      <td>unacc</td>\n",
       "    </tr>\n",
       "    <tr>\n",
       "      <th>3</th>\n",
       "      <td>1.666667</td>\n",
       "      <td>1.666667</td>\n",
       "      <td>1.613426</td>\n",
       "      <td>2.0</td>\n",
       "      <td>1.532986</td>\n",
       "      <td>2.000000</td>\n",
       "      <td>unacc</td>\n",
       "    </tr>\n",
       "    <tr>\n",
       "      <th>4</th>\n",
       "      <td>1.666667</td>\n",
       "      <td>1.666667</td>\n",
       "      <td>1.613426</td>\n",
       "      <td>2.0</td>\n",
       "      <td>1.532986</td>\n",
       "      <td>1.307292</td>\n",
       "      <td>unacc</td>\n",
       "    </tr>\n",
       "  </tbody>\n",
       "</table>\n",
       "</div>"
      ],
      "text/plain": [
       "     buying     maint     doors  persons  lug_boot    safety  class\n",
       "0  1.666667  1.666667  1.613426      2.0  1.598958  2.000000  unacc\n",
       "1  1.666667  1.666667  1.613426      2.0  1.598958  1.307292  unacc\n",
       "2  1.666667  1.666667  1.613426      2.0  1.598958  1.352431  unacc\n",
       "3  1.666667  1.666667  1.613426      2.0  1.532986  2.000000  unacc\n",
       "4  1.666667  1.666667  1.613426      2.0  1.532986  1.307292  unacc"
      ]
     },
     "execution_count": 9,
     "metadata": {},
     "output_type": "execute_result"
    }
   ],
   "source": [
    "# Example usage:\n",
    "encoded_data_target = encode_dataframe(data, target_column='class', method='target')\n",
    "\n",
    "encoded_data_target.head()"
   ]
  },
  {
   "cell_type": "code",
   "execution_count": 97,
   "id": "00fe4ca9",
   "metadata": {},
   "outputs": [
    {
     "data": {
      "application/vnd.microsoft.datawrangler.viewer.v0+json": {
       "columns": [
        {
         "name": "index",
         "rawType": "int64",
         "type": "integer"
        },
        {
         "name": "buying",
         "rawType": "float64",
         "type": "float"
        },
        {
         "name": "maint",
         "rawType": "float64",
         "type": "float"
        },
        {
         "name": "doors",
         "rawType": "float64",
         "type": "float"
        },
        {
         "name": "persons",
         "rawType": "float64",
         "type": "float"
        },
        {
         "name": "lug_boot",
         "rawType": "float64",
         "type": "float"
        },
        {
         "name": "safety",
         "rawType": "float64",
         "type": "float"
        },
        {
         "name": "class",
         "rawType": "object",
         "type": "string"
        }
       ],
       "conversionMethod": "pd.DataFrame",
       "ref": "745b8b30-8330-4236-80e6-30df5b95da03",
       "rows": [
        [
         "0",
         "0.25",
         "0.25",
         "0.25",
         "0.3333333333333333",
         "0.3333333333333333",
         "0.3333333333333333",
         "unacc"
        ],
        [
         "1",
         "0.25",
         "0.25",
         "0.25",
         "0.3333333333333333",
         "0.3333333333333333",
         "0.3333333333333333",
         "unacc"
        ],
        [
         "2",
         "0.25",
         "0.25",
         "0.25",
         "0.3333333333333333",
         "0.3333333333333333",
         "0.3333333333333333",
         "unacc"
        ],
        [
         "3",
         "0.25",
         "0.25",
         "0.25",
         "0.3333333333333333",
         "0.3333333333333333",
         "0.3333333333333333",
         "unacc"
        ],
        [
         "4",
         "0.25",
         "0.25",
         "0.25",
         "0.3333333333333333",
         "0.3333333333333333",
         "0.3333333333333333",
         "unacc"
        ]
       ],
       "shape": {
        "columns": 7,
        "rows": 5
       }
      },
      "text/html": [
       "<div>\n",
       "<style scoped>\n",
       "    .dataframe tbody tr th:only-of-type {\n",
       "        vertical-align: middle;\n",
       "    }\n",
       "\n",
       "    .dataframe tbody tr th {\n",
       "        vertical-align: top;\n",
       "    }\n",
       "\n",
       "    .dataframe thead th {\n",
       "        text-align: right;\n",
       "    }\n",
       "</style>\n",
       "<table border=\"1\" class=\"dataframe\">\n",
       "  <thead>\n",
       "    <tr style=\"text-align: right;\">\n",
       "      <th></th>\n",
       "      <th>buying</th>\n",
       "      <th>maint</th>\n",
       "      <th>doors</th>\n",
       "      <th>persons</th>\n",
       "      <th>lug_boot</th>\n",
       "      <th>safety</th>\n",
       "      <th>class</th>\n",
       "    </tr>\n",
       "  </thead>\n",
       "  <tbody>\n",
       "    <tr>\n",
       "      <th>0</th>\n",
       "      <td>0.25</td>\n",
       "      <td>0.25</td>\n",
       "      <td>0.25</td>\n",
       "      <td>0.333333</td>\n",
       "      <td>0.333333</td>\n",
       "      <td>0.333333</td>\n",
       "      <td>unacc</td>\n",
       "    </tr>\n",
       "    <tr>\n",
       "      <th>1</th>\n",
       "      <td>0.25</td>\n",
       "      <td>0.25</td>\n",
       "      <td>0.25</td>\n",
       "      <td>0.333333</td>\n",
       "      <td>0.333333</td>\n",
       "      <td>0.333333</td>\n",
       "      <td>unacc</td>\n",
       "    </tr>\n",
       "    <tr>\n",
       "      <th>2</th>\n",
       "      <td>0.25</td>\n",
       "      <td>0.25</td>\n",
       "      <td>0.25</td>\n",
       "      <td>0.333333</td>\n",
       "      <td>0.333333</td>\n",
       "      <td>0.333333</td>\n",
       "      <td>unacc</td>\n",
       "    </tr>\n",
       "    <tr>\n",
       "      <th>3</th>\n",
       "      <td>0.25</td>\n",
       "      <td>0.25</td>\n",
       "      <td>0.25</td>\n",
       "      <td>0.333333</td>\n",
       "      <td>0.333333</td>\n",
       "      <td>0.333333</td>\n",
       "      <td>unacc</td>\n",
       "    </tr>\n",
       "    <tr>\n",
       "      <th>4</th>\n",
       "      <td>0.25</td>\n",
       "      <td>0.25</td>\n",
       "      <td>0.25</td>\n",
       "      <td>0.333333</td>\n",
       "      <td>0.333333</td>\n",
       "      <td>0.333333</td>\n",
       "      <td>unacc</td>\n",
       "    </tr>\n",
       "  </tbody>\n",
       "</table>\n",
       "</div>"
      ],
      "text/plain": [
       "   buying  maint  doors   persons  lug_boot    safety  class\n",
       "0    0.25   0.25   0.25  0.333333  0.333333  0.333333  unacc\n",
       "1    0.25   0.25   0.25  0.333333  0.333333  0.333333  unacc\n",
       "2    0.25   0.25   0.25  0.333333  0.333333  0.333333  unacc\n",
       "3    0.25   0.25   0.25  0.333333  0.333333  0.333333  unacc\n",
       "4    0.25   0.25   0.25  0.333333  0.333333  0.333333  unacc"
      ]
     },
     "execution_count": 97,
     "metadata": {},
     "output_type": "execute_result"
    }
   ],
   "source": [
    "# Example usage:\n",
    "encoded_data_frequency = encode_dataframe(data, target_column='class', method='frequency')\n",
    "\n",
    "encoded_data_frequency.head()"
   ]
  },
  {
   "cell_type": "markdown",
   "id": "7ecf14bf",
   "metadata": {},
   "source": [
    "# 3 Using each of the above encoded dataframes carry out the following steps:\n",
    "\n",
    "a. Split the available data into train / test sets\n",
    "b. Create a classification model (e.g. Random Forest Classification) to predict the “class” using all the other columns.\n",
    "c. Derive the test and train metrics for each class: Precision, recall, F1-score, overall accuracy, and save these metrics in a dataframe.\n",
    "d. Create and print the Confusion Matrix."
   ]
  },
  {
   "cell_type": "code",
   "execution_count": 64,
   "id": "35e11395",
   "metadata": {},
   "outputs": [],
   "source": [
    "from sklearn.model_selection import train_test_split\n",
    "from sklearn.ensemble import RandomForestClassifier\n",
    "from sklearn.metrics import classification_report, accuracy_score, confusion_matrix\n",
    "import pandas as pd\n",
    "\n",
    "def evaluate_model(encoded_df, target_column):\n",
    "    \"\"\"\n",
    "    Splits the data, trains a Random Forest Classifier, and evaluates the model.\n",
    "    \n",
    "    Parameters:\n",
    "        encoded_df (pd.DataFrame): The encoded DataFrame.\n",
    "        target_column (str): The target column name.\n",
    "    \n",
    "    Returns:\n",
    "        pd.DataFrame: DataFrame containing precision, recall, F1-score, and accuracy.\n",
    "        np.ndarray: Confusion matrix.\n",
    "    \"\"\"\n",
    "    # Split data into features (X) and target (y)\n",
    "    X = encoded_df.drop(columns=[target_column])\n",
    "    y = encoded_df[target_column]\n",
    "    \n",
    "    # Split into train and test sets\n",
    "    X_train, X_test, y_train, y_test = train_test_split(X, y, test_size=0.3, random_state=42)\n",
    "    \n",
    "    # Train Random Forest Classifier\n",
    "    model = RandomForestClassifier(random_state=42)\n",
    "    model.fit(X_train, y_train)\n",
    "    \n",
    "    # Make predictions\n",
    "    y_pred = model.predict(X_test)\n",
    "    \n",
    "    # Calculate metrics\n",
    "    report = classification_report(y_test, y_pred, output_dict=True)\n",
    "    metrics_df = pd.DataFrame(report).transpose()\n",
    "    overall_accuracy = accuracy_score(y_test, y_pred)\n",
    "    \n",
    "    \n",
    "    # Confusion Matrix\n",
    "    conf_matrix = confusion_matrix(y_test, y_pred)\n",
    "    \n",
    "    return overall_accuracy, metrics_df, conf_matrix"
   ]
  },
  {
   "cell_type": "code",
   "execution_count": 82,
   "id": "3144e8f1",
   "metadata": {},
   "outputs": [
    {
     "name": "stdout",
     "output_type": "stream",
     "text": [
      "Metrics for Integer/Ordinal Encoding:\n"
     ]
    },
    {
     "data": {
      "application/vnd.microsoft.datawrangler.viewer.v0+json": {
       "columns": [
        {
         "name": "index",
         "rawType": "object",
         "type": "string"
        },
        {
         "name": "precision",
         "rawType": "float64",
         "type": "float"
        },
        {
         "name": "recall",
         "rawType": "float64",
         "type": "float"
        },
        {
         "name": "f1-score",
         "rawType": "float64",
         "type": "float"
        },
        {
         "name": "support",
         "rawType": "float64",
         "type": "float"
        }
       ],
       "conversionMethod": "pd.DataFrame",
       "ref": "a8e4f7d6-6690-4413-900c-bf5e49f3591c",
       "rows": [
        [
         "acc",
         "0.9310344827586207",
         "0.9152542372881356",
         "0.9230769230769231",
         "118.0"
        ],
        [
         "good",
         "0.7619047619047619",
         "0.8421052631578947",
         "0.8",
         "19.0"
        ],
        [
         "unacc",
         "0.9888579387186629",
         "0.9916201117318436",
         "0.9902370990237099",
         "358.0"
        ],
        [
         "vgood",
         "0.9130434782608695",
         "0.875",
         "0.8936170212765957",
         "24.0"
        ],
        [
         "accuracy",
         "0.9633911368015414",
         "0.9633911368015414",
         "0.9633911368015414",
         "0.9633911368015414"
        ],
        [
         "macro avg",
         "0.8987101654107287",
         "0.9059949030444685",
         "0.9017327608443071",
         "519.0"
        ],
        [
         "weighted avg",
         "0.9638968111392099",
         "0.9633911368015414",
         "0.963535196308677",
         "519.0"
        ]
       ],
       "shape": {
        "columns": 4,
        "rows": 7
       }
      },
      "text/html": [
       "<div>\n",
       "<style scoped>\n",
       "    .dataframe tbody tr th:only-of-type {\n",
       "        vertical-align: middle;\n",
       "    }\n",
       "\n",
       "    .dataframe tbody tr th {\n",
       "        vertical-align: top;\n",
       "    }\n",
       "\n",
       "    .dataframe thead th {\n",
       "        text-align: right;\n",
       "    }\n",
       "</style>\n",
       "<table border=\"1\" class=\"dataframe\">\n",
       "  <thead>\n",
       "    <tr style=\"text-align: right;\">\n",
       "      <th></th>\n",
       "      <th>precision</th>\n",
       "      <th>recall</th>\n",
       "      <th>f1-score</th>\n",
       "      <th>support</th>\n",
       "    </tr>\n",
       "  </thead>\n",
       "  <tbody>\n",
       "    <tr>\n",
       "      <th>acc</th>\n",
       "      <td>0.931034</td>\n",
       "      <td>0.915254</td>\n",
       "      <td>0.923077</td>\n",
       "      <td>118.000000</td>\n",
       "    </tr>\n",
       "    <tr>\n",
       "      <th>good</th>\n",
       "      <td>0.761905</td>\n",
       "      <td>0.842105</td>\n",
       "      <td>0.800000</td>\n",
       "      <td>19.000000</td>\n",
       "    </tr>\n",
       "    <tr>\n",
       "      <th>unacc</th>\n",
       "      <td>0.988858</td>\n",
       "      <td>0.991620</td>\n",
       "      <td>0.990237</td>\n",
       "      <td>358.000000</td>\n",
       "    </tr>\n",
       "    <tr>\n",
       "      <th>vgood</th>\n",
       "      <td>0.913043</td>\n",
       "      <td>0.875000</td>\n",
       "      <td>0.893617</td>\n",
       "      <td>24.000000</td>\n",
       "    </tr>\n",
       "    <tr>\n",
       "      <th>accuracy</th>\n",
       "      <td>0.963391</td>\n",
       "      <td>0.963391</td>\n",
       "      <td>0.963391</td>\n",
       "      <td>0.963391</td>\n",
       "    </tr>\n",
       "    <tr>\n",
       "      <th>macro avg</th>\n",
       "      <td>0.898710</td>\n",
       "      <td>0.905995</td>\n",
       "      <td>0.901733</td>\n",
       "      <td>519.000000</td>\n",
       "    </tr>\n",
       "    <tr>\n",
       "      <th>weighted avg</th>\n",
       "      <td>0.963897</td>\n",
       "      <td>0.963391</td>\n",
       "      <td>0.963535</td>\n",
       "      <td>519.000000</td>\n",
       "    </tr>\n",
       "  </tbody>\n",
       "</table>\n",
       "</div>"
      ],
      "text/plain": [
       "              precision    recall  f1-score     support\n",
       "acc            0.931034  0.915254  0.923077  118.000000\n",
       "good           0.761905  0.842105  0.800000   19.000000\n",
       "unacc          0.988858  0.991620  0.990237  358.000000\n",
       "vgood          0.913043  0.875000  0.893617   24.000000\n",
       "accuracy       0.963391  0.963391  0.963391    0.963391\n",
       "macro avg      0.898710  0.905995  0.901733  519.000000\n",
       "weighted avg   0.963897  0.963391  0.963535  519.000000"
      ]
     },
     "execution_count": 82,
     "metadata": {},
     "output_type": "execute_result"
    }
   ],
   "source": [
    "# Example usage for each encoded DataFrame\n",
    "\n",
    "# Integer/Ordinal Encoding\n",
    "overall_accuracy_iteger, metrics_integer, conf_matrix_integer = evaluate_model(encoded_data_one_integer, target_column='class')\n",
    "print(\"Metrics for Integer/Ordinal Encoding:\")\n",
    "metrics_integer\n",
    "\n",
    "# print(\"Accuracy:\", metrics_integer.loc['accuracy'])\n"
   ]
  },
  {
   "cell_type": "code",
   "execution_count": 83,
   "id": "e1966990",
   "metadata": {},
   "outputs": [
    {
     "name": "stdout",
     "output_type": "stream",
     "text": [
      "\n",
      "Confusion Matrix:\n"
     ]
    },
    {
     "data": {
      "text/plain": [
       "array([[108,   5,   4,   1],\n",
       "       [  2,  16,   0,   1],\n",
       "       [  3,   0, 355,   0],\n",
       "       [  3,   0,   0,  21]])"
      ]
     },
     "execution_count": 83,
     "metadata": {},
     "output_type": "execute_result"
    }
   ],
   "source": [
    "print(\"\\nConfusion Matrix:\")\n",
    "conf_matrix_integer"
   ]
  },
  {
   "cell_type": "code",
   "execution_count": 98,
   "id": "1fab16a0",
   "metadata": {},
   "outputs": [
    {
     "data": {
      "text/plain": [
       "0.9633911368015414"
      ]
     },
     "execution_count": 98,
     "metadata": {},
     "output_type": "execute_result"
    }
   ],
   "source": [
    "# overall accuracy \n",
    "\n",
    "overall_accuracy_iteger"
   ]
  },
  {
   "cell_type": "code",
   "execution_count": 86,
   "id": "422c6695",
   "metadata": {},
   "outputs": [
    {
     "name": "stdout",
     "output_type": "stream",
     "text": [
      "Metrics for Integer/Ordinal Encoding:\n"
     ]
    },
    {
     "data": {
      "application/vnd.microsoft.datawrangler.viewer.v0+json": {
       "columns": [
        {
         "name": "index",
         "rawType": "object",
         "type": "string"
        },
        {
         "name": "precision",
         "rawType": "float64",
         "type": "float"
        },
        {
         "name": "recall",
         "rawType": "float64",
         "type": "float"
        },
        {
         "name": "f1-score",
         "rawType": "float64",
         "type": "float"
        },
        {
         "name": "support",
         "rawType": "float64",
         "type": "float"
        }
       ],
       "conversionMethod": "pd.DataFrame",
       "ref": "cd9d8575-71f1-4b95-83ca-4c080f87754c",
       "rows": [
        [
         "acc",
         "0.9016393442622951",
         "0.9322033898305084",
         "0.9166666666666666",
         "118.0"
        ],
        [
         "good",
         "0.6818181818181818",
         "0.7894736842105263",
         "0.7317073170731707",
         "19.0"
        ],
        [
         "unacc",
         "0.9971830985915493",
         "0.9888268156424581",
         "0.9929873772791024",
         "358.0"
        ],
        [
         "vgood",
         "0.9",
         "0.75",
         "0.8181818181818182",
         "24.0"
        ],
        [
         "accuracy",
         "0.9576107899807321",
         "0.9576107899807321",
         "0.9576107899807321",
         "0.9576107899807321"
        ],
        [
         "macro avg",
         "0.8701601561680065",
         "0.8651259724208732",
         "0.8648857948001896",
         "519.0"
        ],
        [
         "weighted avg",
         "0.9594210739369382",
         "0.9576107899807321",
         "0.95798641694285",
         "519.0"
        ]
       ],
       "shape": {
        "columns": 4,
        "rows": 7
       }
      },
      "text/html": [
       "<div>\n",
       "<style scoped>\n",
       "    .dataframe tbody tr th:only-of-type {\n",
       "        vertical-align: middle;\n",
       "    }\n",
       "\n",
       "    .dataframe tbody tr th {\n",
       "        vertical-align: top;\n",
       "    }\n",
       "\n",
       "    .dataframe thead th {\n",
       "        text-align: right;\n",
       "    }\n",
       "</style>\n",
       "<table border=\"1\" class=\"dataframe\">\n",
       "  <thead>\n",
       "    <tr style=\"text-align: right;\">\n",
       "      <th></th>\n",
       "      <th>precision</th>\n",
       "      <th>recall</th>\n",
       "      <th>f1-score</th>\n",
       "      <th>support</th>\n",
       "    </tr>\n",
       "  </thead>\n",
       "  <tbody>\n",
       "    <tr>\n",
       "      <th>acc</th>\n",
       "      <td>0.901639</td>\n",
       "      <td>0.932203</td>\n",
       "      <td>0.916667</td>\n",
       "      <td>118.000000</td>\n",
       "    </tr>\n",
       "    <tr>\n",
       "      <th>good</th>\n",
       "      <td>0.681818</td>\n",
       "      <td>0.789474</td>\n",
       "      <td>0.731707</td>\n",
       "      <td>19.000000</td>\n",
       "    </tr>\n",
       "    <tr>\n",
       "      <th>unacc</th>\n",
       "      <td>0.997183</td>\n",
       "      <td>0.988827</td>\n",
       "      <td>0.992987</td>\n",
       "      <td>358.000000</td>\n",
       "    </tr>\n",
       "    <tr>\n",
       "      <th>vgood</th>\n",
       "      <td>0.900000</td>\n",
       "      <td>0.750000</td>\n",
       "      <td>0.818182</td>\n",
       "      <td>24.000000</td>\n",
       "    </tr>\n",
       "    <tr>\n",
       "      <th>accuracy</th>\n",
       "      <td>0.957611</td>\n",
       "      <td>0.957611</td>\n",
       "      <td>0.957611</td>\n",
       "      <td>0.957611</td>\n",
       "    </tr>\n",
       "    <tr>\n",
       "      <th>macro avg</th>\n",
       "      <td>0.870160</td>\n",
       "      <td>0.865126</td>\n",
       "      <td>0.864886</td>\n",
       "      <td>519.000000</td>\n",
       "    </tr>\n",
       "    <tr>\n",
       "      <th>weighted avg</th>\n",
       "      <td>0.959421</td>\n",
       "      <td>0.957611</td>\n",
       "      <td>0.957986</td>\n",
       "      <td>519.000000</td>\n",
       "    </tr>\n",
       "  </tbody>\n",
       "</table>\n",
       "</div>"
      ],
      "text/plain": [
       "              precision    recall  f1-score     support\n",
       "acc            0.901639  0.932203  0.916667  118.000000\n",
       "good           0.681818  0.789474  0.731707   19.000000\n",
       "unacc          0.997183  0.988827  0.992987  358.000000\n",
       "vgood          0.900000  0.750000  0.818182   24.000000\n",
       "accuracy       0.957611  0.957611  0.957611    0.957611\n",
       "macro avg      0.870160  0.865126  0.864886  519.000000\n",
       "weighted avg   0.959421  0.957611  0.957986  519.000000"
      ]
     },
     "execution_count": 86,
     "metadata": {},
     "output_type": "execute_result"
    }
   ],
   "source": [
    "# Example usage for each encoded DataFrame\n",
    "\n",
    "# Integer/Ordinal Encoding\n",
    "overall_accuracy_one_hot, metrics_one_hot, conf_matrix_one_hot = evaluate_model(encoded_data_one_hot, target_column='class')\n",
    "print(\"Metrics for Integer/Ordinal Encoding:\")\n",
    "metrics_one_hot\n",
    "\n",
    "# print(\"Accuracy:\", metrics_integer.loc['accuracy'])\n"
   ]
  },
  {
   "cell_type": "code",
   "execution_count": 87,
   "id": "c1203f3e",
   "metadata": {},
   "outputs": [
    {
     "name": "stdout",
     "output_type": "stream",
     "text": [
      "\n",
      "Confusion Matrix:\n"
     ]
    },
    {
     "data": {
      "text/plain": [
       "array([[110,   6,   1,   1],\n",
       "       [  3,  15,   0,   1],\n",
       "       [  4,   0, 354,   0],\n",
       "       [  5,   1,   0,  18]])"
      ]
     },
     "execution_count": 87,
     "metadata": {},
     "output_type": "execute_result"
    }
   ],
   "source": [
    "print(\"\\nConfusion Matrix:\")\n",
    "conf_matrix_one_hot"
   ]
  },
  {
   "cell_type": "code",
   "execution_count": 88,
   "id": "b51f8692",
   "metadata": {},
   "outputs": [
    {
     "data": {
      "text/plain": [
       "0.9576107899807321"
      ]
     },
     "execution_count": 88,
     "metadata": {},
     "output_type": "execute_result"
    }
   ],
   "source": [
    "overall_accuracy_one_hot"
   ]
  },
  {
   "cell_type": "code",
   "execution_count": 89,
   "id": "a1ce6a9e",
   "metadata": {},
   "outputs": [
    {
     "name": "stdout",
     "output_type": "stream",
     "text": [
      "\n",
      "Metrics for Binary Encoding:\n"
     ]
    },
    {
     "data": {
      "application/vnd.microsoft.datawrangler.viewer.v0+json": {
       "columns": [
        {
         "name": "index",
         "rawType": "object",
         "type": "string"
        },
        {
         "name": "precision",
         "rawType": "float64",
         "type": "float"
        },
        {
         "name": "recall",
         "rawType": "float64",
         "type": "float"
        },
        {
         "name": "f1-score",
         "rawType": "float64",
         "type": "float"
        },
        {
         "name": "support",
         "rawType": "float64",
         "type": "float"
        }
       ],
       "conversionMethod": "pd.DataFrame",
       "ref": "7278e552-95ad-414e-be93-22c25badf0c1",
       "rows": [
        [
         "acc",
         "0.7293233082706767",
         "0.8220338983050848",
         "0.7729083665338645",
         "118.0"
        ],
        [
         "good",
         "0.2857142857142857",
         "0.21052631578947367",
         "0.24242424242424243",
         "19.0"
        ],
        [
         "unacc",
         "0.9613259668508287",
         "0.9720670391061452",
         "0.9666666666666667",
         "358.0"
        ],
        [
         "vgood",
         "0.9",
         "0.375",
         "0.5294117647058824",
         "24.0"
        ],
        [
         "accuracy",
         "0.882466281310212",
         "0.882466281310212",
         "0.882466281310212",
         "0.882466281310212"
        ],
        [
         "macro avg",
         "0.7190908902089478",
         "0.5949068133001759",
         "0.627852760082664",
         "519.0"
        ],
        [
         "weighted avg",
         "0.8810085124029055",
         "0.882466281310212",
         "0.8758801481245942",
         "519.0"
        ]
       ],
       "shape": {
        "columns": 4,
        "rows": 7
       }
      },
      "text/html": [
       "<div>\n",
       "<style scoped>\n",
       "    .dataframe tbody tr th:only-of-type {\n",
       "        vertical-align: middle;\n",
       "    }\n",
       "\n",
       "    .dataframe tbody tr th {\n",
       "        vertical-align: top;\n",
       "    }\n",
       "\n",
       "    .dataframe thead th {\n",
       "        text-align: right;\n",
       "    }\n",
       "</style>\n",
       "<table border=\"1\" class=\"dataframe\">\n",
       "  <thead>\n",
       "    <tr style=\"text-align: right;\">\n",
       "      <th></th>\n",
       "      <th>precision</th>\n",
       "      <th>recall</th>\n",
       "      <th>f1-score</th>\n",
       "      <th>support</th>\n",
       "    </tr>\n",
       "  </thead>\n",
       "  <tbody>\n",
       "    <tr>\n",
       "      <th>acc</th>\n",
       "      <td>0.729323</td>\n",
       "      <td>0.822034</td>\n",
       "      <td>0.772908</td>\n",
       "      <td>118.000000</td>\n",
       "    </tr>\n",
       "    <tr>\n",
       "      <th>good</th>\n",
       "      <td>0.285714</td>\n",
       "      <td>0.210526</td>\n",
       "      <td>0.242424</td>\n",
       "      <td>19.000000</td>\n",
       "    </tr>\n",
       "    <tr>\n",
       "      <th>unacc</th>\n",
       "      <td>0.961326</td>\n",
       "      <td>0.972067</td>\n",
       "      <td>0.966667</td>\n",
       "      <td>358.000000</td>\n",
       "    </tr>\n",
       "    <tr>\n",
       "      <th>vgood</th>\n",
       "      <td>0.900000</td>\n",
       "      <td>0.375000</td>\n",
       "      <td>0.529412</td>\n",
       "      <td>24.000000</td>\n",
       "    </tr>\n",
       "    <tr>\n",
       "      <th>accuracy</th>\n",
       "      <td>0.882466</td>\n",
       "      <td>0.882466</td>\n",
       "      <td>0.882466</td>\n",
       "      <td>0.882466</td>\n",
       "    </tr>\n",
       "    <tr>\n",
       "      <th>macro avg</th>\n",
       "      <td>0.719091</td>\n",
       "      <td>0.594907</td>\n",
       "      <td>0.627853</td>\n",
       "      <td>519.000000</td>\n",
       "    </tr>\n",
       "    <tr>\n",
       "      <th>weighted avg</th>\n",
       "      <td>0.881009</td>\n",
       "      <td>0.882466</td>\n",
       "      <td>0.875880</td>\n",
       "      <td>519.000000</td>\n",
       "    </tr>\n",
       "  </tbody>\n",
       "</table>\n",
       "</div>"
      ],
      "text/plain": [
       "              precision    recall  f1-score     support\n",
       "acc            0.729323  0.822034  0.772908  118.000000\n",
       "good           0.285714  0.210526  0.242424   19.000000\n",
       "unacc          0.961326  0.972067  0.966667  358.000000\n",
       "vgood          0.900000  0.375000  0.529412   24.000000\n",
       "accuracy       0.882466  0.882466  0.882466    0.882466\n",
       "macro avg      0.719091  0.594907  0.627853  519.000000\n",
       "weighted avg   0.881009  0.882466  0.875880  519.000000"
      ]
     },
     "execution_count": 89,
     "metadata": {},
     "output_type": "execute_result"
    }
   ],
   "source": [
    "\n",
    "# Binary Encoding\n",
    "overall_accuracy_binary, metrics_binary, conf_matrix_binary = evaluate_model(encoded_data_binary, target_column='class')\n",
    "print(\"\\nMetrics for Binary Encoding:\")\n",
    "metrics_binary"
   ]
  },
  {
   "cell_type": "code",
   "execution_count": 90,
   "id": "10d75306",
   "metadata": {},
   "outputs": [
    {
     "name": "stdout",
     "output_type": "stream",
     "text": [
      "\n",
      "Confusion Matrix:\n"
     ]
    },
    {
     "data": {
      "text/plain": [
       "array([[ 97,   7,  14,   0],\n",
       "       [ 14,   4,   0,   1],\n",
       "       [ 10,   0, 348,   0],\n",
       "       [ 12,   3,   0,   9]])"
      ]
     },
     "execution_count": 90,
     "metadata": {},
     "output_type": "execute_result"
    }
   ],
   "source": [
    "print(\"\\nConfusion Matrix:\")\n",
    "conf_matrix_binary"
   ]
  },
  {
   "cell_type": "code",
   "execution_count": 91,
   "id": "72538128",
   "metadata": {},
   "outputs": [
    {
     "data": {
      "text/plain": [
       "0.882466281310212"
      ]
     },
     "execution_count": 91,
     "metadata": {},
     "output_type": "execute_result"
    }
   ],
   "source": [
    "overall_accuracy_binary"
   ]
  },
  {
   "cell_type": "code",
   "execution_count": null,
   "id": "085b6c9e",
   "metadata": {},
   "outputs": [
    {
     "name": "stdout",
     "output_type": "stream",
     "text": [
      "\n",
      "Metrics for Target Encoding:\n"
     ]
    },
    {
     "data": {
      "application/vnd.microsoft.datawrangler.viewer.v0+json": {
       "columns": [
        {
         "name": "index",
         "rawType": "object",
         "type": "string"
        },
        {
         "name": "precision",
         "rawType": "float64",
         "type": "float"
        },
        {
         "name": "recall",
         "rawType": "float64",
         "type": "float"
        },
        {
         "name": "f1-score",
         "rawType": "float64",
         "type": "float"
        },
        {
         "name": "support",
         "rawType": "float64",
         "type": "float"
        }
       ],
       "conversionMethod": "pd.DataFrame",
       "ref": "a1c6b274-7bb5-483c-9389-761722af894a",
       "rows": [
        [
         "acc",
         "0.940677966101695",
         "0.940677966101695",
         "0.940677966101695",
         "118.0"
        ],
        [
         "good",
         "0.8",
         "0.8421052631578947",
         "0.8205128205128205",
         "19.0"
        ],
        [
         "unacc",
         "0.9943820224719101",
         "0.9888268156424581",
         "0.9915966386554622",
         "358.0"
        ],
        [
         "vgood",
         "0.92",
         "0.9583333333333334",
         "0.9387755102040817",
         "24.0"
        ],
        [
         "accuracy",
         "0.9710982658959537",
         "0.9710982658959537",
         "0.9710982658959537",
         "0.9710982658959537"
        ],
        [
         "macro avg",
         "0.9137649971434012",
         "0.9324858445588453",
         "0.9228907338685148",
         "519.0"
        ],
        [
         "weighted avg",
         "0.9716161156935333",
         "0.9710982658959537",
         "0.9713139739369885",
         "519.0"
        ]
       ],
       "shape": {
        "columns": 4,
        "rows": 7
       }
      },
      "text/html": [
       "<div>\n",
       "<style scoped>\n",
       "    .dataframe tbody tr th:only-of-type {\n",
       "        vertical-align: middle;\n",
       "    }\n",
       "\n",
       "    .dataframe tbody tr th {\n",
       "        vertical-align: top;\n",
       "    }\n",
       "\n",
       "    .dataframe thead th {\n",
       "        text-align: right;\n",
       "    }\n",
       "</style>\n",
       "<table border=\"1\" class=\"dataframe\">\n",
       "  <thead>\n",
       "    <tr style=\"text-align: right;\">\n",
       "      <th></th>\n",
       "      <th>precision</th>\n",
       "      <th>recall</th>\n",
       "      <th>f1-score</th>\n",
       "      <th>support</th>\n",
       "    </tr>\n",
       "  </thead>\n",
       "  <tbody>\n",
       "    <tr>\n",
       "      <th>acc</th>\n",
       "      <td>0.940678</td>\n",
       "      <td>0.940678</td>\n",
       "      <td>0.940678</td>\n",
       "      <td>118.000000</td>\n",
       "    </tr>\n",
       "    <tr>\n",
       "      <th>good</th>\n",
       "      <td>0.800000</td>\n",
       "      <td>0.842105</td>\n",
       "      <td>0.820513</td>\n",
       "      <td>19.000000</td>\n",
       "    </tr>\n",
       "    <tr>\n",
       "      <th>unacc</th>\n",
       "      <td>0.994382</td>\n",
       "      <td>0.988827</td>\n",
       "      <td>0.991597</td>\n",
       "      <td>358.000000</td>\n",
       "    </tr>\n",
       "    <tr>\n",
       "      <th>vgood</th>\n",
       "      <td>0.920000</td>\n",
       "      <td>0.958333</td>\n",
       "      <td>0.938776</td>\n",
       "      <td>24.000000</td>\n",
       "    </tr>\n",
       "    <tr>\n",
       "      <th>accuracy</th>\n",
       "      <td>0.971098</td>\n",
       "      <td>0.971098</td>\n",
       "      <td>0.971098</td>\n",
       "      <td>0.971098</td>\n",
       "    </tr>\n",
       "    <tr>\n",
       "      <th>macro avg</th>\n",
       "      <td>0.913765</td>\n",
       "      <td>0.932486</td>\n",
       "      <td>0.922891</td>\n",
       "      <td>519.000000</td>\n",
       "    </tr>\n",
       "    <tr>\n",
       "      <th>weighted avg</th>\n",
       "      <td>0.971616</td>\n",
       "      <td>0.971098</td>\n",
       "      <td>0.971314</td>\n",
       "      <td>519.000000</td>\n",
       "    </tr>\n",
       "  </tbody>\n",
       "</table>\n",
       "</div>"
      ],
      "text/plain": [
       "              precision    recall  f1-score     support\n",
       "acc            0.940678  0.940678  0.940678  118.000000\n",
       "good           0.800000  0.842105  0.820513   19.000000\n",
       "unacc          0.994382  0.988827  0.991597  358.000000\n",
       "vgood          0.920000  0.958333  0.938776   24.000000\n",
       "accuracy       0.971098  0.971098  0.971098    0.971098\n",
       "macro avg      0.913765  0.932486  0.922891  519.000000\n",
       "weighted avg   0.971616  0.971098  0.971314  519.000000"
      ]
     },
     "execution_count": 92,
     "metadata": {},
     "output_type": "execute_result"
    }
   ],
   "source": [
    "# Target Encoding \n",
    "overall_accuracy_target, metrics_target, conf_matrix_target = evaluate_model(encoded_data_target, target_column='class')\n",
    "print(\"\\nMetrics for Target Encoding:\")\n",
    "metrics_target"
   ]
  },
  {
   "cell_type": "code",
   "execution_count": 93,
   "id": "ba696b9b",
   "metadata": {},
   "outputs": [
    {
     "name": "stdout",
     "output_type": "stream",
     "text": [
      "\n",
      "Confusion Matrix:\n"
     ]
    },
    {
     "data": {
      "text/plain": [
       "array([[111,   4,   2,   1],\n",
       "       [  2,  16,   0,   1],\n",
       "       [  4,   0, 354,   0],\n",
       "       [  1,   0,   0,  23]])"
      ]
     },
     "execution_count": 93,
     "metadata": {},
     "output_type": "execute_result"
    }
   ],
   "source": [
    "\n",
    "print(\"\\nConfusion Matrix:\")\n",
    "conf_matrix_target"
   ]
  },
  {
   "cell_type": "code",
   "execution_count": 94,
   "id": "9f15c6d1",
   "metadata": {},
   "outputs": [
    {
     "data": {
      "text/plain": [
       "0.9710982658959537"
      ]
     },
     "execution_count": 94,
     "metadata": {},
     "output_type": "execute_result"
    }
   ],
   "source": [
    "overall_accuracy_target"
   ]
  },
  {
   "cell_type": "code",
   "execution_count": 99,
   "id": "710a4a51",
   "metadata": {},
   "outputs": [
    {
     "name": "stdout",
     "output_type": "stream",
     "text": [
      "\n",
      "Metrics for frequency Encoding:\n"
     ]
    },
    {
     "name": "stderr",
     "output_type": "stream",
     "text": [
      "/home/ruksad/Documents/learn/AIandContent/GL-selflearning/descriptive-stats/local/lib/python3.12/site-packages/sklearn/metrics/_classification.py:1565: UndefinedMetricWarning: Precision is ill-defined and being set to 0.0 in labels with no predicted samples. Use `zero_division` parameter to control this behavior.\n",
      "  _warn_prf(average, modifier, f\"{metric.capitalize()} is\", len(result))\n",
      "/home/ruksad/Documents/learn/AIandContent/GL-selflearning/descriptive-stats/local/lib/python3.12/site-packages/sklearn/metrics/_classification.py:1565: UndefinedMetricWarning: Precision is ill-defined and being set to 0.0 in labels with no predicted samples. Use `zero_division` parameter to control this behavior.\n",
      "  _warn_prf(average, modifier, f\"{metric.capitalize()} is\", len(result))\n",
      "/home/ruksad/Documents/learn/AIandContent/GL-selflearning/descriptive-stats/local/lib/python3.12/site-packages/sklearn/metrics/_classification.py:1565: UndefinedMetricWarning: Precision is ill-defined and being set to 0.0 in labels with no predicted samples. Use `zero_division` parameter to control this behavior.\n",
      "  _warn_prf(average, modifier, f\"{metric.capitalize()} is\", len(result))\n"
     ]
    },
    {
     "data": {
      "application/vnd.microsoft.datawrangler.viewer.v0+json": {
       "columns": [
        {
         "name": "index",
         "rawType": "object",
         "type": "string"
        },
        {
         "name": "precision",
         "rawType": "float64",
         "type": "float"
        },
        {
         "name": "recall",
         "rawType": "float64",
         "type": "float"
        },
        {
         "name": "f1-score",
         "rawType": "float64",
         "type": "float"
        },
        {
         "name": "support",
         "rawType": "float64",
         "type": "float"
        }
       ],
       "conversionMethod": "pd.DataFrame",
       "ref": "6d1c93c5-85c8-4083-a774-afc6a1860b58",
       "rows": [
        [
         "acc",
         "0.0",
         "0.0",
         "0.0",
         "118.0"
        ],
        [
         "good",
         "0.0",
         "0.0",
         "0.0",
         "19.0"
        ],
        [
         "unacc",
         "0.6897880539499036",
         "1.0",
         "0.8164196123147093",
         "358.0"
        ],
        [
         "vgood",
         "0.0",
         "0.0",
         "0.0",
         "24.0"
        ],
        [
         "accuracy",
         "0.6897880539499036",
         "0.6897880539499036",
         "0.6897880539499036",
         "0.6897880539499036"
        ],
        [
         "macro avg",
         "0.1724470134874759",
         "0.25",
         "0.20410490307867732",
         "519.0"
        ],
        [
         "weighted avg",
         "0.4758075593719952",
         "0.6897880539499036",
         "0.5631564955850981",
         "519.0"
        ]
       ],
       "shape": {
        "columns": 4,
        "rows": 7
       }
      },
      "text/html": [
       "<div>\n",
       "<style scoped>\n",
       "    .dataframe tbody tr th:only-of-type {\n",
       "        vertical-align: middle;\n",
       "    }\n",
       "\n",
       "    .dataframe tbody tr th {\n",
       "        vertical-align: top;\n",
       "    }\n",
       "\n",
       "    .dataframe thead th {\n",
       "        text-align: right;\n",
       "    }\n",
       "</style>\n",
       "<table border=\"1\" class=\"dataframe\">\n",
       "  <thead>\n",
       "    <tr style=\"text-align: right;\">\n",
       "      <th></th>\n",
       "      <th>precision</th>\n",
       "      <th>recall</th>\n",
       "      <th>f1-score</th>\n",
       "      <th>support</th>\n",
       "    </tr>\n",
       "  </thead>\n",
       "  <tbody>\n",
       "    <tr>\n",
       "      <th>acc</th>\n",
       "      <td>0.000000</td>\n",
       "      <td>0.000000</td>\n",
       "      <td>0.000000</td>\n",
       "      <td>118.000000</td>\n",
       "    </tr>\n",
       "    <tr>\n",
       "      <th>good</th>\n",
       "      <td>0.000000</td>\n",
       "      <td>0.000000</td>\n",
       "      <td>0.000000</td>\n",
       "      <td>19.000000</td>\n",
       "    </tr>\n",
       "    <tr>\n",
       "      <th>unacc</th>\n",
       "      <td>0.689788</td>\n",
       "      <td>1.000000</td>\n",
       "      <td>0.816420</td>\n",
       "      <td>358.000000</td>\n",
       "    </tr>\n",
       "    <tr>\n",
       "      <th>vgood</th>\n",
       "      <td>0.000000</td>\n",
       "      <td>0.000000</td>\n",
       "      <td>0.000000</td>\n",
       "      <td>24.000000</td>\n",
       "    </tr>\n",
       "    <tr>\n",
       "      <th>accuracy</th>\n",
       "      <td>0.689788</td>\n",
       "      <td>0.689788</td>\n",
       "      <td>0.689788</td>\n",
       "      <td>0.689788</td>\n",
       "    </tr>\n",
       "    <tr>\n",
       "      <th>macro avg</th>\n",
       "      <td>0.172447</td>\n",
       "      <td>0.250000</td>\n",
       "      <td>0.204105</td>\n",
       "      <td>519.000000</td>\n",
       "    </tr>\n",
       "    <tr>\n",
       "      <th>weighted avg</th>\n",
       "      <td>0.475808</td>\n",
       "      <td>0.689788</td>\n",
       "      <td>0.563156</td>\n",
       "      <td>519.000000</td>\n",
       "    </tr>\n",
       "  </tbody>\n",
       "</table>\n",
       "</div>"
      ],
      "text/plain": [
       "              precision    recall  f1-score     support\n",
       "acc            0.000000  0.000000  0.000000  118.000000\n",
       "good           0.000000  0.000000  0.000000   19.000000\n",
       "unacc          0.689788  1.000000  0.816420  358.000000\n",
       "vgood          0.000000  0.000000  0.000000   24.000000\n",
       "accuracy       0.689788  0.689788  0.689788    0.689788\n",
       "macro avg      0.172447  0.250000  0.204105  519.000000\n",
       "weighted avg   0.475808  0.689788  0.563156  519.000000"
      ]
     },
     "execution_count": 99,
     "metadata": {},
     "output_type": "execute_result"
    }
   ],
   "source": [
    "# frequency Encoding \n",
    "overall_accuracy_frequency, metrics_frequency, conf_matrix_frequency = evaluate_model(encoded_data_frequency, target_column='class')\n",
    "print(\"\\nMetrics for frequency Encoding:\")\n",
    "metrics_frequency"
   ]
  },
  {
   "cell_type": "code",
   "execution_count": 101,
   "id": "4a36e295",
   "metadata": {},
   "outputs": [
    {
     "name": "stdout",
     "output_type": "stream",
     "text": [
      "Summary of Metrics for Each Encoding Method:\n"
     ]
    },
    {
     "data": {
      "application/vnd.microsoft.datawrangler.viewer.v0+json": {
       "columns": [
        {
         "name": "index",
         "rawType": "int64",
         "type": "integer"
        },
        {
         "name": "Encoding Method",
         "rawType": "object",
         "type": "string"
        },
        {
         "name": "Accuracy",
         "rawType": "float64",
         "type": "float"
        },
        {
         "name": "Precision (Macro Avg)",
         "rawType": "float64",
         "type": "float"
        },
        {
         "name": "Recall (Macro Avg)",
         "rawType": "float64",
         "type": "float"
        },
        {
         "name": "F1-Score (Macro Avg)",
         "rawType": "float64",
         "type": "float"
        }
       ],
       "conversionMethod": "pd.DataFrame",
       "ref": "418ca143-3dfe-4fe5-8fcd-52b9edb8394b",
       "rows": [
        [
         "0",
         "Integer/Ordinal",
         "0.9633911368015414",
         "0.8987101654107287",
         "0.9059949030444685",
         "0.9017327608443071"
        ],
        [
         "1",
         "One-hot",
         "0.9576107899807321",
         "0.8701601561680065",
         "0.8651259724208732",
         "0.8648857948001896"
        ],
        [
         "2",
         "Binary",
         "0.882466281310212",
         "0.7190908902089478",
         "0.5949068133001759",
         "0.627852760082664"
        ],
        [
         "3",
         "Target",
         "0.9710982658959537",
         "0.9137649971434012",
         "0.9324858445588453",
         "0.9228907338685148"
        ],
        [
         "4",
         "Frequency",
         "0.6897880539499036",
         "0.1724470134874759",
         "0.25",
         "0.20410490307867732"
        ]
       ],
       "shape": {
        "columns": 5,
        "rows": 5
       }
      },
      "text/html": [
       "<div>\n",
       "<style scoped>\n",
       "    .dataframe tbody tr th:only-of-type {\n",
       "        vertical-align: middle;\n",
       "    }\n",
       "\n",
       "    .dataframe tbody tr th {\n",
       "        vertical-align: top;\n",
       "    }\n",
       "\n",
       "    .dataframe thead th {\n",
       "        text-align: right;\n",
       "    }\n",
       "</style>\n",
       "<table border=\"1\" class=\"dataframe\">\n",
       "  <thead>\n",
       "    <tr style=\"text-align: right;\">\n",
       "      <th></th>\n",
       "      <th>Encoding Method</th>\n",
       "      <th>Accuracy</th>\n",
       "      <th>Precision (Macro Avg)</th>\n",
       "      <th>Recall (Macro Avg)</th>\n",
       "      <th>F1-Score (Macro Avg)</th>\n",
       "    </tr>\n",
       "  </thead>\n",
       "  <tbody>\n",
       "    <tr>\n",
       "      <th>0</th>\n",
       "      <td>Integer/Ordinal</td>\n",
       "      <td>0.963391</td>\n",
       "      <td>0.898710</td>\n",
       "      <td>0.905995</td>\n",
       "      <td>0.901733</td>\n",
       "    </tr>\n",
       "    <tr>\n",
       "      <th>1</th>\n",
       "      <td>One-hot</td>\n",
       "      <td>0.957611</td>\n",
       "      <td>0.870160</td>\n",
       "      <td>0.865126</td>\n",
       "      <td>0.864886</td>\n",
       "    </tr>\n",
       "    <tr>\n",
       "      <th>2</th>\n",
       "      <td>Binary</td>\n",
       "      <td>0.882466</td>\n",
       "      <td>0.719091</td>\n",
       "      <td>0.594907</td>\n",
       "      <td>0.627853</td>\n",
       "    </tr>\n",
       "    <tr>\n",
       "      <th>3</th>\n",
       "      <td>Target</td>\n",
       "      <td>0.971098</td>\n",
       "      <td>0.913765</td>\n",
       "      <td>0.932486</td>\n",
       "      <td>0.922891</td>\n",
       "    </tr>\n",
       "    <tr>\n",
       "      <th>4</th>\n",
       "      <td>Frequency</td>\n",
       "      <td>0.689788</td>\n",
       "      <td>0.172447</td>\n",
       "      <td>0.250000</td>\n",
       "      <td>0.204105</td>\n",
       "    </tr>\n",
       "  </tbody>\n",
       "</table>\n",
       "</div>"
      ],
      "text/plain": [
       "   Encoding Method  Accuracy  Precision (Macro Avg)  Recall (Macro Avg)  \\\n",
       "0  Integer/Ordinal  0.963391               0.898710            0.905995   \n",
       "1          One-hot  0.957611               0.870160            0.865126   \n",
       "2           Binary  0.882466               0.719091            0.594907   \n",
       "3           Target  0.971098               0.913765            0.932486   \n",
       "4        Frequency  0.689788               0.172447            0.250000   \n",
       "\n",
       "   F1-Score (Macro Avg)  \n",
       "0              0.901733  \n",
       "1              0.864886  \n",
       "2              0.627853  \n",
       "3              0.922891  \n",
       "4              0.204105  "
      ]
     },
     "execution_count": 101,
     "metadata": {},
     "output_type": "execute_result"
    }
   ],
   "source": [
    "# Consolidate metrics for comparison\n",
    "summary_metrics = pd.DataFrame({\n",
    "    \"Encoding Method\": [\"Integer/Ordinal\", \"One-hot\", \"Binary\", \"Target\", \"Frequency\"],\n",
    "    \"Accuracy\": [\n",
    "        overall_accuracy_iteger,\n",
    "        overall_accuracy_one_hot,\n",
    "        overall_accuracy_binary,\n",
    "        overall_accuracy_target,\n",
    "        overall_accuracy_frequency\n",
    "    ],\n",
    "    \"Precision (Macro Avg)\": [\n",
    "        metrics_integer.loc[\"macro avg\", \"precision\"],\n",
    "        metrics_one_hot.loc[\"macro avg\", \"precision\"],\n",
    "        metrics_binary.loc[\"macro avg\", \"precision\"],\n",
    "        metrics_target.loc[\"macro avg\", \"precision\"],\n",
    "        metrics_frequency.loc[\"macro avg\", \"precision\"]\n",
    "    ],\n",
    "    \"Recall (Macro Avg)\": [\n",
    "        metrics_integer.loc[\"macro avg\", \"recall\"],\n",
    "        metrics_one_hot.loc[\"macro avg\", \"recall\"],\n",
    "        metrics_binary.loc[\"macro avg\", \"recall\"],\n",
    "        metrics_target.loc[\"macro avg\", \"recall\"],\n",
    "        metrics_frequency.loc[\"macro avg\", \"recall\"]\n",
    "    ],\n",
    "    \"F1-Score (Macro Avg)\": [\n",
    "        metrics_integer.loc[\"macro avg\", \"f1-score\"],\n",
    "        metrics_one_hot.loc[\"macro avg\", \"f1-score\"],\n",
    "        metrics_binary.loc[\"macro avg\", \"f1-score\"],\n",
    "        metrics_target.loc[\"macro avg\", \"f1-score\"],\n",
    "        metrics_frequency.loc[\"macro avg\", \"f1-score\"]\n",
    "    ]\n",
    "})\n",
    "\n",
    "# Display the summary metrics\n",
    "print(\"Summary of Metrics for Each Encoding Method:\")\n",
    "summary_metrics"
   ]
  }
 ],
 "metadata": {
  "kernelspec": {
   "display_name": "local",
   "language": "python",
   "name": "python3"
  },
  "language_info": {
   "codemirror_mode": {
    "name": "ipython",
    "version": 3
   },
   "file_extension": ".py",
   "mimetype": "text/x-python",
   "name": "python",
   "nbconvert_exporter": "python",
   "pygments_lexer": "ipython3",
   "version": "3.12.3"
  }
 },
 "nbformat": 4,
 "nbformat_minor": 5
}
