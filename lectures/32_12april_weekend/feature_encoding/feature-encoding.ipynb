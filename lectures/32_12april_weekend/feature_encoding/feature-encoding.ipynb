{
 "cells": [
  {
   "cell_type": "code",
   "execution_count": 1,
   "id": "948fa5c1",
   "metadata": {},
   "outputs": [
    {
     "name": "stdout",
     "output_type": "stream",
     "text": [
      "<class 'pandas.core.frame.DataFrame'>\n",
      "RangeIndex: 1728 entries, 0 to 1727\n",
      "Data columns (total 7 columns):\n",
      " #   Column    Non-Null Count  Dtype \n",
      "---  ------    --------------  ----- \n",
      " 0   buying    1728 non-null   object\n",
      " 1   maint     1728 non-null   object\n",
      " 2   doors     1728 non-null   object\n",
      " 3   persons   1728 non-null   object\n",
      " 4   lug_boot  1728 non-null   object\n",
      " 5   safety    1728 non-null   object\n",
      " 6   class     1728 non-null   object\n",
      "dtypes: object(7)\n",
      "memory usage: 94.6+ KB\n"
     ]
    }
   ],
   "source": [
    "import pandas as pd\n",
    "import numpy as np\n",
    "\n",
    "data= pd.read_excel('../../../source/car-data-category-encoding.xlsx', sheet_name='Sheet1')\n",
    "data.info()"
   ]
  },
  {
   "cell_type": "code",
   "execution_count": 4,
   "id": "fb55e486",
   "metadata": {},
   "outputs": [
    {
     "data": {
      "application/vnd.microsoft.datawrangler.viewer.v0+json": {
       "columns": [
        {
         "name": "index",
         "rawType": "int64",
         "type": "integer"
        },
        {
         "name": "buying",
         "rawType": "object",
         "type": "string"
        },
        {
         "name": "maint",
         "rawType": "object",
         "type": "string"
        },
        {
         "name": "doors",
         "rawType": "object",
         "type": "string"
        },
        {
         "name": "persons",
         "rawType": "object",
         "type": "string"
        },
        {
         "name": "lug_boot",
         "rawType": "object",
         "type": "string"
        },
        {
         "name": "safety",
         "rawType": "object",
         "type": "string"
        },
        {
         "name": "class",
         "rawType": "object",
         "type": "string"
        }
       ],
       "conversionMethod": "pd.DataFrame",
       "ref": "ea36abc0-c4db-45ce-ad17-0311bb44e16f",
       "rows": [
        [
         "0",
         "vhigh",
         "vhigh",
         "2",
         "2",
         "small",
         "low",
         "unacc"
        ],
        [
         "1",
         "vhigh",
         "vhigh",
         "2",
         "2",
         "small",
         "med",
         "unacc"
        ],
        [
         "2",
         "vhigh",
         "vhigh",
         "2",
         "2",
         "small",
         "high",
         "unacc"
        ],
        [
         "3",
         "vhigh",
         "vhigh",
         "2",
         "2",
         "med",
         "low",
         "unacc"
        ],
        [
         "4",
         "vhigh",
         "vhigh",
         "2",
         "2",
         "med",
         "med",
         "unacc"
        ]
       ],
       "shape": {
        "columns": 7,
        "rows": 5
       }
      },
      "text/html": [
       "<div>\n",
       "<style scoped>\n",
       "    .dataframe tbody tr th:only-of-type {\n",
       "        vertical-align: middle;\n",
       "    }\n",
       "\n",
       "    .dataframe tbody tr th {\n",
       "        vertical-align: top;\n",
       "    }\n",
       "\n",
       "    .dataframe thead th {\n",
       "        text-align: right;\n",
       "    }\n",
       "</style>\n",
       "<table border=\"1\" class=\"dataframe\">\n",
       "  <thead>\n",
       "    <tr style=\"text-align: right;\">\n",
       "      <th></th>\n",
       "      <th>buying</th>\n",
       "      <th>maint</th>\n",
       "      <th>doors</th>\n",
       "      <th>persons</th>\n",
       "      <th>lug_boot</th>\n",
       "      <th>safety</th>\n",
       "      <th>class</th>\n",
       "    </tr>\n",
       "  </thead>\n",
       "  <tbody>\n",
       "    <tr>\n",
       "      <th>0</th>\n",
       "      <td>vhigh</td>\n",
       "      <td>vhigh</td>\n",
       "      <td>2</td>\n",
       "      <td>2</td>\n",
       "      <td>small</td>\n",
       "      <td>low</td>\n",
       "      <td>unacc</td>\n",
       "    </tr>\n",
       "    <tr>\n",
       "      <th>1</th>\n",
       "      <td>vhigh</td>\n",
       "      <td>vhigh</td>\n",
       "      <td>2</td>\n",
       "      <td>2</td>\n",
       "      <td>small</td>\n",
       "      <td>med</td>\n",
       "      <td>unacc</td>\n",
       "    </tr>\n",
       "    <tr>\n",
       "      <th>2</th>\n",
       "      <td>vhigh</td>\n",
       "      <td>vhigh</td>\n",
       "      <td>2</td>\n",
       "      <td>2</td>\n",
       "      <td>small</td>\n",
       "      <td>high</td>\n",
       "      <td>unacc</td>\n",
       "    </tr>\n",
       "    <tr>\n",
       "      <th>3</th>\n",
       "      <td>vhigh</td>\n",
       "      <td>vhigh</td>\n",
       "      <td>2</td>\n",
       "      <td>2</td>\n",
       "      <td>med</td>\n",
       "      <td>low</td>\n",
       "      <td>unacc</td>\n",
       "    </tr>\n",
       "    <tr>\n",
       "      <th>4</th>\n",
       "      <td>vhigh</td>\n",
       "      <td>vhigh</td>\n",
       "      <td>2</td>\n",
       "      <td>2</td>\n",
       "      <td>med</td>\n",
       "      <td>med</td>\n",
       "      <td>unacc</td>\n",
       "    </tr>\n",
       "  </tbody>\n",
       "</table>\n",
       "</div>"
      ],
      "text/plain": [
       "  buying  maint doors persons lug_boot safety  class\n",
       "0  vhigh  vhigh     2       2    small    low  unacc\n",
       "1  vhigh  vhigh     2       2    small    med  unacc\n",
       "2  vhigh  vhigh     2       2    small   high  unacc\n",
       "3  vhigh  vhigh     2       2      med    low  unacc\n",
       "4  vhigh  vhigh     2       2      med    med  unacc"
      ]
     },
     "execution_count": 4,
     "metadata": {},
     "output_type": "execute_result"
    }
   ],
   "source": [
    "data.head()"
   ]
  },
  {
   "cell_type": "markdown",
   "id": "9a819f70",
   "metadata": {},
   "source": [
    "# 2 Create Python functions (one for each of the encoding methods) to accept as inputs a\n",
    "dataframe and a target column, and return a new dataframe with all columns encoded, except the target column, using the following methods: (Can you create just one function to handle all the below methods, instead of creating separate one for each?) (Which Python module implements all the below methods? Find out)\n",
    "a. Integer or Ordinal encoding\n",
    "b. One-hot encoding\n",
    "c. Binary encoding\n",
    "d. Target encoding\n",
    "e. Frequency encoding"
   ]
  },
  {
   "cell_type": "code",
   "execution_count": 2,
   "id": "d4b614fa",
   "metadata": {},
   "outputs": [],
   "source": [
    "from category_encoders import OrdinalEncoder, OneHotEncoder, BinaryEncoder, TargetEncoder\n",
    "import pandas as pd\n",
    "\n",
    "def encode_dataframe(df, target_column, method):\n",
    "    \"\"\"\n",
    "    Encodes all columns in the DataFrame except the target column using the specified method.\n",
    "\n",
    "    Parameters:\n",
    "        df (pd.DataFrame): The input DataFrame.\n",
    "        target_column (str): The name of the target column to exclude from encoding.\n",
    "        method (str): The encoding method to use. Options are:\n",
    "                      'integer', 'onehot', 'binary', 'target', 'frequency'.\n",
    "\n",
    "    Returns:\n",
    "        pd.DataFrame: A new DataFrame with the specified encoding applied.\n",
    "    \"\"\"\n",
    "    encoded_df = df.copy()\n",
    "    \n",
    "    if method == 'integer' or method == 'ordinal':\n",
    "        encoder = OrdinalEncoder(cols=[col for col in df.columns if col != target_column])\n",
    "        encoded_df = encoder.fit_transform(encoded_df)\n",
    "    \n",
    "    elif method == 'onehot':\n",
    "        encoder = OneHotEncoder(cols=[col for col in df.columns if col != target_column], use_cat_names=True)\n",
    "        encoded_df = encoder.fit_transform(encoded_df)\n",
    "    \n",
    "    elif method == 'binary':\n",
    "        encoder = BinaryEncoder(cols=[col for col in df.columns if col != target_column])\n",
    "        encoded_df = encoder.fit_transform(encoded_df)\n",
    "    \n",
    "    elif method == 'target':\n",
    "        encoder = TargetEncoder(cols=[col for col in df.columns if col != target_column])\n",
    "        encoded_df = encoder.fit_transform(encoded_df, encoded_df[target_column])\n",
    "    \n",
    "    elif method == 'frequency':\n",
    "        for col in df.columns:\n",
    "            if col != target_column:\n",
    "                freq = df[col].value_counts() / len(df)\n",
    "                encoded_df[col] = df[col].map(freq)\n",
    "    \n",
    "    else:\n",
    "        raise ValueError(\"Unsupported encoding method. Choose from 'integer', 'onehot', 'binary', 'target', or 'frequency'.\")\n",
    "    \n",
    "    return encoded_df"
   ]
  },
  {
   "cell_type": "code",
   "execution_count": 6,
   "id": "8018d5dc",
   "metadata": {},
   "outputs": [
    {
     "data": {
      "application/vnd.microsoft.datawrangler.viewer.v0+json": {
       "columns": [
        {
         "name": "index",
         "rawType": "int64",
         "type": "integer"
        },
        {
         "name": "buying",
         "rawType": "int64",
         "type": "integer"
        },
        {
         "name": "maint",
         "rawType": "int64",
         "type": "integer"
        },
        {
         "name": "doors",
         "rawType": "int64",
         "type": "integer"
        },
        {
         "name": "persons",
         "rawType": "int64",
         "type": "integer"
        },
        {
         "name": "lug_boot",
         "rawType": "int64",
         "type": "integer"
        },
        {
         "name": "safety",
         "rawType": "int64",
         "type": "integer"
        },
        {
         "name": "class",
         "rawType": "object",
         "type": "string"
        }
       ],
       "conversionMethod": "pd.DataFrame",
       "ref": "9e734307-2fdc-4bbc-bcf4-1524076bf575",
       "rows": [
        [
         "0",
         "1",
         "1",
         "1",
         "1",
         "1",
         "1",
         "unacc"
        ],
        [
         "1",
         "1",
         "1",
         "1",
         "1",
         "1",
         "2",
         "unacc"
        ],
        [
         "2",
         "1",
         "1",
         "1",
         "1",
         "1",
         "3",
         "unacc"
        ],
        [
         "3",
         "1",
         "1",
         "1",
         "1",
         "2",
         "1",
         "unacc"
        ],
        [
         "4",
         "1",
         "1",
         "1",
         "1",
         "2",
         "2",
         "unacc"
        ]
       ],
       "shape": {
        "columns": 7,
        "rows": 5
       }
      },
      "text/html": [
       "<div>\n",
       "<style scoped>\n",
       "    .dataframe tbody tr th:only-of-type {\n",
       "        vertical-align: middle;\n",
       "    }\n",
       "\n",
       "    .dataframe tbody tr th {\n",
       "        vertical-align: top;\n",
       "    }\n",
       "\n",
       "    .dataframe thead th {\n",
       "        text-align: right;\n",
       "    }\n",
       "</style>\n",
       "<table border=\"1\" class=\"dataframe\">\n",
       "  <thead>\n",
       "    <tr style=\"text-align: right;\">\n",
       "      <th></th>\n",
       "      <th>buying</th>\n",
       "      <th>maint</th>\n",
       "      <th>doors</th>\n",
       "      <th>persons</th>\n",
       "      <th>lug_boot</th>\n",
       "      <th>safety</th>\n",
       "      <th>class</th>\n",
       "    </tr>\n",
       "  </thead>\n",
       "  <tbody>\n",
       "    <tr>\n",
       "      <th>0</th>\n",
       "      <td>1</td>\n",
       "      <td>1</td>\n",
       "      <td>1</td>\n",
       "      <td>1</td>\n",
       "      <td>1</td>\n",
       "      <td>1</td>\n",
       "      <td>unacc</td>\n",
       "    </tr>\n",
       "    <tr>\n",
       "      <th>1</th>\n",
       "      <td>1</td>\n",
       "      <td>1</td>\n",
       "      <td>1</td>\n",
       "      <td>1</td>\n",
       "      <td>1</td>\n",
       "      <td>2</td>\n",
       "      <td>unacc</td>\n",
       "    </tr>\n",
       "    <tr>\n",
       "      <th>2</th>\n",
       "      <td>1</td>\n",
       "      <td>1</td>\n",
       "      <td>1</td>\n",
       "      <td>1</td>\n",
       "      <td>1</td>\n",
       "      <td>3</td>\n",
       "      <td>unacc</td>\n",
       "    </tr>\n",
       "    <tr>\n",
       "      <th>3</th>\n",
       "      <td>1</td>\n",
       "      <td>1</td>\n",
       "      <td>1</td>\n",
       "      <td>1</td>\n",
       "      <td>2</td>\n",
       "      <td>1</td>\n",
       "      <td>unacc</td>\n",
       "    </tr>\n",
       "    <tr>\n",
       "      <th>4</th>\n",
       "      <td>1</td>\n",
       "      <td>1</td>\n",
       "      <td>1</td>\n",
       "      <td>1</td>\n",
       "      <td>2</td>\n",
       "      <td>2</td>\n",
       "      <td>unacc</td>\n",
       "    </tr>\n",
       "  </tbody>\n",
       "</table>\n",
       "</div>"
      ],
      "text/plain": [
       "   buying  maint  doors  persons  lug_boot  safety  class\n",
       "0       1      1      1        1         1       1  unacc\n",
       "1       1      1      1        1         1       2  unacc\n",
       "2       1      1      1        1         1       3  unacc\n",
       "3       1      1      1        1         2       1  unacc\n",
       "4       1      1      1        1         2       2  unacc"
      ]
     },
     "execution_count": 6,
     "metadata": {},
     "output_type": "execute_result"
    }
   ],
   "source": [
    "# Example usage:\n",
    "encoded_data_one_integer = encode_dataframe(data, target_column='class', method='integer')\n",
    "\n",
    "encoded_data_one_integer.head()"
   ]
  },
  {
   "cell_type": "code",
   "execution_count": 7,
   "id": "323a859b",
   "metadata": {},
   "outputs": [
    {
     "data": {
      "application/vnd.microsoft.datawrangler.viewer.v0+json": {
       "columns": [
        {
         "name": "index",
         "rawType": "int64",
         "type": "integer"
        },
        {
         "name": "buying_vhigh",
         "rawType": "int64",
         "type": "integer"
        },
        {
         "name": "buying_high",
         "rawType": "int64",
         "type": "integer"
        },
        {
         "name": "buying_med",
         "rawType": "int64",
         "type": "integer"
        },
        {
         "name": "buying_low",
         "rawType": "int64",
         "type": "integer"
        },
        {
         "name": "maint_vhigh",
         "rawType": "int64",
         "type": "integer"
        },
        {
         "name": "maint_high",
         "rawType": "int64",
         "type": "integer"
        },
        {
         "name": "maint_med",
         "rawType": "int64",
         "type": "integer"
        },
        {
         "name": "maint_low",
         "rawType": "int64",
         "type": "integer"
        },
        {
         "name": "doors_2",
         "rawType": "int64",
         "type": "integer"
        },
        {
         "name": "doors_3",
         "rawType": "int64",
         "type": "integer"
        },
        {
         "name": "doors_4",
         "rawType": "int64",
         "type": "integer"
        },
        {
         "name": "doors_5more",
         "rawType": "int64",
         "type": "integer"
        },
        {
         "name": "persons_2",
         "rawType": "int64",
         "type": "integer"
        },
        {
         "name": "persons_4",
         "rawType": "int64",
         "type": "integer"
        },
        {
         "name": "persons_more",
         "rawType": "int64",
         "type": "integer"
        },
        {
         "name": "lug_boot_small",
         "rawType": "int64",
         "type": "integer"
        },
        {
         "name": "lug_boot_med",
         "rawType": "int64",
         "type": "integer"
        },
        {
         "name": "lug_boot_big",
         "rawType": "int64",
         "type": "integer"
        },
        {
         "name": "safety_low",
         "rawType": "int64",
         "type": "integer"
        },
        {
         "name": "safety_med",
         "rawType": "int64",
         "type": "integer"
        },
        {
         "name": "safety_high",
         "rawType": "int64",
         "type": "integer"
        },
        {
         "name": "class",
         "rawType": "object",
         "type": "string"
        }
       ],
       "conversionMethod": "pd.DataFrame",
       "ref": "aac4341f-0587-4d3e-8eb7-811c6b938d10",
       "rows": [
        [
         "0",
         "1",
         "0",
         "0",
         "0",
         "1",
         "0",
         "0",
         "0",
         "1",
         "0",
         "0",
         "0",
         "1",
         "0",
         "0",
         "1",
         "0",
         "0",
         "1",
         "0",
         "0",
         "unacc"
        ],
        [
         "1",
         "1",
         "0",
         "0",
         "0",
         "1",
         "0",
         "0",
         "0",
         "1",
         "0",
         "0",
         "0",
         "1",
         "0",
         "0",
         "1",
         "0",
         "0",
         "0",
         "1",
         "0",
         "unacc"
        ],
        [
         "2",
         "1",
         "0",
         "0",
         "0",
         "1",
         "0",
         "0",
         "0",
         "1",
         "0",
         "0",
         "0",
         "1",
         "0",
         "0",
         "1",
         "0",
         "0",
         "0",
         "0",
         "1",
         "unacc"
        ],
        [
         "3",
         "1",
         "0",
         "0",
         "0",
         "1",
         "0",
         "0",
         "0",
         "1",
         "0",
         "0",
         "0",
         "1",
         "0",
         "0",
         "0",
         "1",
         "0",
         "1",
         "0",
         "0",
         "unacc"
        ],
        [
         "4",
         "1",
         "0",
         "0",
         "0",
         "1",
         "0",
         "0",
         "0",
         "1",
         "0",
         "0",
         "0",
         "1",
         "0",
         "0",
         "0",
         "1",
         "0",
         "0",
         "1",
         "0",
         "unacc"
        ]
       ],
       "shape": {
        "columns": 22,
        "rows": 5
       }
      },
      "text/html": [
       "<div>\n",
       "<style scoped>\n",
       "    .dataframe tbody tr th:only-of-type {\n",
       "        vertical-align: middle;\n",
       "    }\n",
       "\n",
       "    .dataframe tbody tr th {\n",
       "        vertical-align: top;\n",
       "    }\n",
       "\n",
       "    .dataframe thead th {\n",
       "        text-align: right;\n",
       "    }\n",
       "</style>\n",
       "<table border=\"1\" class=\"dataframe\">\n",
       "  <thead>\n",
       "    <tr style=\"text-align: right;\">\n",
       "      <th></th>\n",
       "      <th>buying_vhigh</th>\n",
       "      <th>buying_high</th>\n",
       "      <th>buying_med</th>\n",
       "      <th>buying_low</th>\n",
       "      <th>maint_vhigh</th>\n",
       "      <th>maint_high</th>\n",
       "      <th>maint_med</th>\n",
       "      <th>maint_low</th>\n",
       "      <th>doors_2</th>\n",
       "      <th>doors_3</th>\n",
       "      <th>...</th>\n",
       "      <th>persons_2</th>\n",
       "      <th>persons_4</th>\n",
       "      <th>persons_more</th>\n",
       "      <th>lug_boot_small</th>\n",
       "      <th>lug_boot_med</th>\n",
       "      <th>lug_boot_big</th>\n",
       "      <th>safety_low</th>\n",
       "      <th>safety_med</th>\n",
       "      <th>safety_high</th>\n",
       "      <th>class</th>\n",
       "    </tr>\n",
       "  </thead>\n",
       "  <tbody>\n",
       "    <tr>\n",
       "      <th>0</th>\n",
       "      <td>1</td>\n",
       "      <td>0</td>\n",
       "      <td>0</td>\n",
       "      <td>0</td>\n",
       "      <td>1</td>\n",
       "      <td>0</td>\n",
       "      <td>0</td>\n",
       "      <td>0</td>\n",
       "      <td>1</td>\n",
       "      <td>0</td>\n",
       "      <td>...</td>\n",
       "      <td>1</td>\n",
       "      <td>0</td>\n",
       "      <td>0</td>\n",
       "      <td>1</td>\n",
       "      <td>0</td>\n",
       "      <td>0</td>\n",
       "      <td>1</td>\n",
       "      <td>0</td>\n",
       "      <td>0</td>\n",
       "      <td>unacc</td>\n",
       "    </tr>\n",
       "    <tr>\n",
       "      <th>1</th>\n",
       "      <td>1</td>\n",
       "      <td>0</td>\n",
       "      <td>0</td>\n",
       "      <td>0</td>\n",
       "      <td>1</td>\n",
       "      <td>0</td>\n",
       "      <td>0</td>\n",
       "      <td>0</td>\n",
       "      <td>1</td>\n",
       "      <td>0</td>\n",
       "      <td>...</td>\n",
       "      <td>1</td>\n",
       "      <td>0</td>\n",
       "      <td>0</td>\n",
       "      <td>1</td>\n",
       "      <td>0</td>\n",
       "      <td>0</td>\n",
       "      <td>0</td>\n",
       "      <td>1</td>\n",
       "      <td>0</td>\n",
       "      <td>unacc</td>\n",
       "    </tr>\n",
       "    <tr>\n",
       "      <th>2</th>\n",
       "      <td>1</td>\n",
       "      <td>0</td>\n",
       "      <td>0</td>\n",
       "      <td>0</td>\n",
       "      <td>1</td>\n",
       "      <td>0</td>\n",
       "      <td>0</td>\n",
       "      <td>0</td>\n",
       "      <td>1</td>\n",
       "      <td>0</td>\n",
       "      <td>...</td>\n",
       "      <td>1</td>\n",
       "      <td>0</td>\n",
       "      <td>0</td>\n",
       "      <td>1</td>\n",
       "      <td>0</td>\n",
       "      <td>0</td>\n",
       "      <td>0</td>\n",
       "      <td>0</td>\n",
       "      <td>1</td>\n",
       "      <td>unacc</td>\n",
       "    </tr>\n",
       "    <tr>\n",
       "      <th>3</th>\n",
       "      <td>1</td>\n",
       "      <td>0</td>\n",
       "      <td>0</td>\n",
       "      <td>0</td>\n",
       "      <td>1</td>\n",
       "      <td>0</td>\n",
       "      <td>0</td>\n",
       "      <td>0</td>\n",
       "      <td>1</td>\n",
       "      <td>0</td>\n",
       "      <td>...</td>\n",
       "      <td>1</td>\n",
       "      <td>0</td>\n",
       "      <td>0</td>\n",
       "      <td>0</td>\n",
       "      <td>1</td>\n",
       "      <td>0</td>\n",
       "      <td>1</td>\n",
       "      <td>0</td>\n",
       "      <td>0</td>\n",
       "      <td>unacc</td>\n",
       "    </tr>\n",
       "    <tr>\n",
       "      <th>4</th>\n",
       "      <td>1</td>\n",
       "      <td>0</td>\n",
       "      <td>0</td>\n",
       "      <td>0</td>\n",
       "      <td>1</td>\n",
       "      <td>0</td>\n",
       "      <td>0</td>\n",
       "      <td>0</td>\n",
       "      <td>1</td>\n",
       "      <td>0</td>\n",
       "      <td>...</td>\n",
       "      <td>1</td>\n",
       "      <td>0</td>\n",
       "      <td>0</td>\n",
       "      <td>0</td>\n",
       "      <td>1</td>\n",
       "      <td>0</td>\n",
       "      <td>0</td>\n",
       "      <td>1</td>\n",
       "      <td>0</td>\n",
       "      <td>unacc</td>\n",
       "    </tr>\n",
       "  </tbody>\n",
       "</table>\n",
       "<p>5 rows × 22 columns</p>\n",
       "</div>"
      ],
      "text/plain": [
       "   buying_vhigh  buying_high  buying_med  buying_low  maint_vhigh  maint_high  \\\n",
       "0             1            0           0           0            1           0   \n",
       "1             1            0           0           0            1           0   \n",
       "2             1            0           0           0            1           0   \n",
       "3             1            0           0           0            1           0   \n",
       "4             1            0           0           0            1           0   \n",
       "\n",
       "   maint_med  maint_low  doors_2  doors_3  ...  persons_2  persons_4  \\\n",
       "0          0          0        1        0  ...          1          0   \n",
       "1          0          0        1        0  ...          1          0   \n",
       "2          0          0        1        0  ...          1          0   \n",
       "3          0          0        1        0  ...          1          0   \n",
       "4          0          0        1        0  ...          1          0   \n",
       "\n",
       "   persons_more  lug_boot_small  lug_boot_med  lug_boot_big  safety_low  \\\n",
       "0             0               1             0             0           1   \n",
       "1             0               1             0             0           0   \n",
       "2             0               1             0             0           0   \n",
       "3             0               0             1             0           1   \n",
       "4             0               0             1             0           0   \n",
       "\n",
       "   safety_med  safety_high  class  \n",
       "0           0            0  unacc  \n",
       "1           1            0  unacc  \n",
       "2           0            1  unacc  \n",
       "3           0            0  unacc  \n",
       "4           1            0  unacc  \n",
       "\n",
       "[5 rows x 22 columns]"
      ]
     },
     "execution_count": 7,
     "metadata": {},
     "output_type": "execute_result"
    }
   ],
   "source": [
    "# Example usage:\n",
    "encoded_data_one_hot = encode_dataframe(data, target_column='class', method='onehot')\n",
    "\n",
    "encoded_data_one_hot.head()"
   ]
  },
  {
   "cell_type": "code",
   "execution_count": 8,
   "id": "1e572120",
   "metadata": {},
   "outputs": [
    {
     "data": {
      "application/vnd.microsoft.datawrangler.viewer.v0+json": {
       "columns": [
        {
         "name": "index",
         "rawType": "int64",
         "type": "integer"
        },
        {
         "name": "buying_0",
         "rawType": "int64",
         "type": "integer"
        },
        {
         "name": "buying_1",
         "rawType": "int64",
         "type": "integer"
        },
        {
         "name": "buying_2",
         "rawType": "int64",
         "type": "integer"
        },
        {
         "name": "maint_0",
         "rawType": "int64",
         "type": "integer"
        },
        {
         "name": "maint_1",
         "rawType": "int64",
         "type": "integer"
        },
        {
         "name": "maint_2",
         "rawType": "int64",
         "type": "integer"
        },
        {
         "name": "doors_0",
         "rawType": "int64",
         "type": "integer"
        },
        {
         "name": "doors_1",
         "rawType": "int64",
         "type": "integer"
        },
        {
         "name": "doors_2",
         "rawType": "int64",
         "type": "integer"
        },
        {
         "name": "persons_0",
         "rawType": "int64",
         "type": "integer"
        },
        {
         "name": "persons_1",
         "rawType": "int64",
         "type": "integer"
        },
        {
         "name": "lug_boot_0",
         "rawType": "int64",
         "type": "integer"
        },
        {
         "name": "lug_boot_1",
         "rawType": "int64",
         "type": "integer"
        },
        {
         "name": "safety_0",
         "rawType": "int64",
         "type": "integer"
        },
        {
         "name": "safety_1",
         "rawType": "int64",
         "type": "integer"
        },
        {
         "name": "class",
         "rawType": "object",
         "type": "string"
        }
       ],
       "conversionMethod": "pd.DataFrame",
       "ref": "21bfbcfb-d2f0-4d21-ba7e-d741fbfa0aae",
       "rows": [
        [
         "0",
         "0",
         "0",
         "1",
         "0",
         "0",
         "1",
         "0",
         "0",
         "1",
         "0",
         "1",
         "0",
         "1",
         "0",
         "1",
         "unacc"
        ],
        [
         "1",
         "0",
         "0",
         "1",
         "0",
         "0",
         "1",
         "0",
         "0",
         "1",
         "0",
         "1",
         "0",
         "1",
         "1",
         "0",
         "unacc"
        ],
        [
         "2",
         "0",
         "0",
         "1",
         "0",
         "0",
         "1",
         "0",
         "0",
         "1",
         "0",
         "1",
         "0",
         "1",
         "1",
         "1",
         "unacc"
        ],
        [
         "3",
         "0",
         "0",
         "1",
         "0",
         "0",
         "1",
         "0",
         "0",
         "1",
         "0",
         "1",
         "1",
         "0",
         "0",
         "1",
         "unacc"
        ],
        [
         "4",
         "0",
         "0",
         "1",
         "0",
         "0",
         "1",
         "0",
         "0",
         "1",
         "0",
         "1",
         "1",
         "0",
         "1",
         "0",
         "unacc"
        ]
       ],
       "shape": {
        "columns": 16,
        "rows": 5
       }
      },
      "text/html": [
       "<div>\n",
       "<style scoped>\n",
       "    .dataframe tbody tr th:only-of-type {\n",
       "        vertical-align: middle;\n",
       "    }\n",
       "\n",
       "    .dataframe tbody tr th {\n",
       "        vertical-align: top;\n",
       "    }\n",
       "\n",
       "    .dataframe thead th {\n",
       "        text-align: right;\n",
       "    }\n",
       "</style>\n",
       "<table border=\"1\" class=\"dataframe\">\n",
       "  <thead>\n",
       "    <tr style=\"text-align: right;\">\n",
       "      <th></th>\n",
       "      <th>buying_0</th>\n",
       "      <th>buying_1</th>\n",
       "      <th>buying_2</th>\n",
       "      <th>maint_0</th>\n",
       "      <th>maint_1</th>\n",
       "      <th>maint_2</th>\n",
       "      <th>doors_0</th>\n",
       "      <th>doors_1</th>\n",
       "      <th>doors_2</th>\n",
       "      <th>persons_0</th>\n",
       "      <th>persons_1</th>\n",
       "      <th>lug_boot_0</th>\n",
       "      <th>lug_boot_1</th>\n",
       "      <th>safety_0</th>\n",
       "      <th>safety_1</th>\n",
       "      <th>class</th>\n",
       "    </tr>\n",
       "  </thead>\n",
       "  <tbody>\n",
       "    <tr>\n",
       "      <th>0</th>\n",
       "      <td>0</td>\n",
       "      <td>0</td>\n",
       "      <td>1</td>\n",
       "      <td>0</td>\n",
       "      <td>0</td>\n",
       "      <td>1</td>\n",
       "      <td>0</td>\n",
       "      <td>0</td>\n",
       "      <td>1</td>\n",
       "      <td>0</td>\n",
       "      <td>1</td>\n",
       "      <td>0</td>\n",
       "      <td>1</td>\n",
       "      <td>0</td>\n",
       "      <td>1</td>\n",
       "      <td>unacc</td>\n",
       "    </tr>\n",
       "    <tr>\n",
       "      <th>1</th>\n",
       "      <td>0</td>\n",
       "      <td>0</td>\n",
       "      <td>1</td>\n",
       "      <td>0</td>\n",
       "      <td>0</td>\n",
       "      <td>1</td>\n",
       "      <td>0</td>\n",
       "      <td>0</td>\n",
       "      <td>1</td>\n",
       "      <td>0</td>\n",
       "      <td>1</td>\n",
       "      <td>0</td>\n",
       "      <td>1</td>\n",
       "      <td>1</td>\n",
       "      <td>0</td>\n",
       "      <td>unacc</td>\n",
       "    </tr>\n",
       "    <tr>\n",
       "      <th>2</th>\n",
       "      <td>0</td>\n",
       "      <td>0</td>\n",
       "      <td>1</td>\n",
       "      <td>0</td>\n",
       "      <td>0</td>\n",
       "      <td>1</td>\n",
       "      <td>0</td>\n",
       "      <td>0</td>\n",
       "      <td>1</td>\n",
       "      <td>0</td>\n",
       "      <td>1</td>\n",
       "      <td>0</td>\n",
       "      <td>1</td>\n",
       "      <td>1</td>\n",
       "      <td>1</td>\n",
       "      <td>unacc</td>\n",
       "    </tr>\n",
       "    <tr>\n",
       "      <th>3</th>\n",
       "      <td>0</td>\n",
       "      <td>0</td>\n",
       "      <td>1</td>\n",
       "      <td>0</td>\n",
       "      <td>0</td>\n",
       "      <td>1</td>\n",
       "      <td>0</td>\n",
       "      <td>0</td>\n",
       "      <td>1</td>\n",
       "      <td>0</td>\n",
       "      <td>1</td>\n",
       "      <td>1</td>\n",
       "      <td>0</td>\n",
       "      <td>0</td>\n",
       "      <td>1</td>\n",
       "      <td>unacc</td>\n",
       "    </tr>\n",
       "    <tr>\n",
       "      <th>4</th>\n",
       "      <td>0</td>\n",
       "      <td>0</td>\n",
       "      <td>1</td>\n",
       "      <td>0</td>\n",
       "      <td>0</td>\n",
       "      <td>1</td>\n",
       "      <td>0</td>\n",
       "      <td>0</td>\n",
       "      <td>1</td>\n",
       "      <td>0</td>\n",
       "      <td>1</td>\n",
       "      <td>1</td>\n",
       "      <td>0</td>\n",
       "      <td>1</td>\n",
       "      <td>0</td>\n",
       "      <td>unacc</td>\n",
       "    </tr>\n",
       "  </tbody>\n",
       "</table>\n",
       "</div>"
      ],
      "text/plain": [
       "   buying_0  buying_1  buying_2  maint_0  maint_1  maint_2  doors_0  doors_1  \\\n",
       "0         0         0         1        0        0        1        0        0   \n",
       "1         0         0         1        0        0        1        0        0   \n",
       "2         0         0         1        0        0        1        0        0   \n",
       "3         0         0         1        0        0        1        0        0   \n",
       "4         0         0         1        0        0        1        0        0   \n",
       "\n",
       "   doors_2  persons_0  persons_1  lug_boot_0  lug_boot_1  safety_0  safety_1  \\\n",
       "0        1          0          1           0           1         0         1   \n",
       "1        1          0          1           0           1         1         0   \n",
       "2        1          0          1           0           1         1         1   \n",
       "3        1          0          1           1           0         0         1   \n",
       "4        1          0          1           1           0         1         0   \n",
       "\n",
       "   class  \n",
       "0  unacc  \n",
       "1  unacc  \n",
       "2  unacc  \n",
       "3  unacc  \n",
       "4  unacc  "
      ]
     },
     "execution_count": 8,
     "metadata": {},
     "output_type": "execute_result"
    }
   ],
   "source": [
    "# Example usage:\n",
    "encoded_data_binary = encode_dataframe(data, target_column='class', method='binary')\n",
    "\n",
    "encoded_data_binary.head()"
   ]
  },
  {
   "cell_type": "code",
   "execution_count": 9,
   "id": "e4bac1ba",
   "metadata": {},
   "outputs": [
    {
     "data": {
      "application/vnd.microsoft.datawrangler.viewer.v0+json": {
       "columns": [
        {
         "name": "index",
         "rawType": "int64",
         "type": "integer"
        },
        {
         "name": "buying",
         "rawType": "float64",
         "type": "float"
        },
        {
         "name": "maint",
         "rawType": "float64",
         "type": "float"
        },
        {
         "name": "doors",
         "rawType": "float64",
         "type": "float"
        },
        {
         "name": "persons",
         "rawType": "float64",
         "type": "float"
        },
        {
         "name": "lug_boot",
         "rawType": "float64",
         "type": "float"
        },
        {
         "name": "safety",
         "rawType": "float64",
         "type": "float"
        },
        {
         "name": "class",
         "rawType": "object",
         "type": "string"
        }
       ],
       "conversionMethod": "pd.DataFrame",
       "ref": "1d9fd49e-fc6d-4a94-b404-73c8fb750c86",
       "rows": [
        [
         "0",
         "1.6666666666666667",
         "1.6666666666666667",
         "1.6134259259259258",
         "2.0",
         "1.5989583333333333",
         "2.0",
         "unacc"
        ],
        [
         "1",
         "1.6666666666666667",
         "1.6666666666666667",
         "1.6134259259259258",
         "2.0",
         "1.5989583333333333",
         "1.3072916666666667",
         "unacc"
        ],
        [
         "2",
         "1.6666666666666667",
         "1.6666666666666667",
         "1.6134259259259258",
         "2.0",
         "1.5989583333333333",
         "1.3524305555555556",
         "unacc"
        ],
        [
         "3",
         "1.6666666666666667",
         "1.6666666666666667",
         "1.6134259259259258",
         "2.0",
         "1.5329861111111112",
         "2.0",
         "unacc"
        ],
        [
         "4",
         "1.6666666666666667",
         "1.6666666666666667",
         "1.6134259259259258",
         "2.0",
         "1.5329861111111112",
         "1.3072916666666667",
         "unacc"
        ]
       ],
       "shape": {
        "columns": 7,
        "rows": 5
       }
      },
      "text/html": [
       "<div>\n",
       "<style scoped>\n",
       "    .dataframe tbody tr th:only-of-type {\n",
       "        vertical-align: middle;\n",
       "    }\n",
       "\n",
       "    .dataframe tbody tr th {\n",
       "        vertical-align: top;\n",
       "    }\n",
       "\n",
       "    .dataframe thead th {\n",
       "        text-align: right;\n",
       "    }\n",
       "</style>\n",
       "<table border=\"1\" class=\"dataframe\">\n",
       "  <thead>\n",
       "    <tr style=\"text-align: right;\">\n",
       "      <th></th>\n",
       "      <th>buying</th>\n",
       "      <th>maint</th>\n",
       "      <th>doors</th>\n",
       "      <th>persons</th>\n",
       "      <th>lug_boot</th>\n",
       "      <th>safety</th>\n",
       "      <th>class</th>\n",
       "    </tr>\n",
       "  </thead>\n",
       "  <tbody>\n",
       "    <tr>\n",
       "      <th>0</th>\n",
       "      <td>1.666667</td>\n",
       "      <td>1.666667</td>\n",
       "      <td>1.613426</td>\n",
       "      <td>2.0</td>\n",
       "      <td>1.598958</td>\n",
       "      <td>2.000000</td>\n",
       "      <td>unacc</td>\n",
       "    </tr>\n",
       "    <tr>\n",
       "      <th>1</th>\n",
       "      <td>1.666667</td>\n",
       "      <td>1.666667</td>\n",
       "      <td>1.613426</td>\n",
       "      <td>2.0</td>\n",
       "      <td>1.598958</td>\n",
       "      <td>1.307292</td>\n",
       "      <td>unacc</td>\n",
       "    </tr>\n",
       "    <tr>\n",
       "      <th>2</th>\n",
       "      <td>1.666667</td>\n",
       "      <td>1.666667</td>\n",
       "      <td>1.613426</td>\n",
       "      <td>2.0</td>\n",
       "      <td>1.598958</td>\n",
       "      <td>1.352431</td>\n",
       "      <td>unacc</td>\n",
       "    </tr>\n",
       "    <tr>\n",
       "      <th>3</th>\n",
       "      <td>1.666667</td>\n",
       "      <td>1.666667</td>\n",
       "      <td>1.613426</td>\n",
       "      <td>2.0</td>\n",
       "      <td>1.532986</td>\n",
       "      <td>2.000000</td>\n",
       "      <td>unacc</td>\n",
       "    </tr>\n",
       "    <tr>\n",
       "      <th>4</th>\n",
       "      <td>1.666667</td>\n",
       "      <td>1.666667</td>\n",
       "      <td>1.613426</td>\n",
       "      <td>2.0</td>\n",
       "      <td>1.532986</td>\n",
       "      <td>1.307292</td>\n",
       "      <td>unacc</td>\n",
       "    </tr>\n",
       "  </tbody>\n",
       "</table>\n",
       "</div>"
      ],
      "text/plain": [
       "     buying     maint     doors  persons  lug_boot    safety  class\n",
       "0  1.666667  1.666667  1.613426      2.0  1.598958  2.000000  unacc\n",
       "1  1.666667  1.666667  1.613426      2.0  1.598958  1.307292  unacc\n",
       "2  1.666667  1.666667  1.613426      2.0  1.598958  1.352431  unacc\n",
       "3  1.666667  1.666667  1.613426      2.0  1.532986  2.000000  unacc\n",
       "4  1.666667  1.666667  1.613426      2.0  1.532986  1.307292  unacc"
      ]
     },
     "execution_count": 9,
     "metadata": {},
     "output_type": "execute_result"
    }
   ],
   "source": [
    "# Example usage:\n",
    "encoded_data_target = encode_dataframe(data, target_column='class', method='target')\n",
    "\n",
    "encoded_data_target.head()"
   ]
  },
  {
   "cell_type": "markdown",
   "id": "7ecf14bf",
   "metadata": {},
   "source": [
    "# 3 Using each of the above encoded dataframes carry out the following steps:\n",
    "\n",
    "a. Split the available data into train / test sets\n",
    "b. Create a classification model (e.g. Random Forest Classification) to predict the “class” using all the other columns.\n",
    "c. Derive the test and train metrics for each class: Precision, recall, F1-score, overall accuracy, and save these metrics in a dataframe.\n",
    "d. Create and print the Confusion Matrix."
   ]
  },
  {
   "cell_type": "code",
   "execution_count": 10,
   "id": "35e11395",
   "metadata": {},
   "outputs": [],
   "source": [
    "from sklearn.model_selection import train_test_split\n",
    "from sklearn.ensemble import RandomForestClassifier\n",
    "from sklearn.metrics import classification_report, accuracy_score, confusion_matrix\n",
    "import pandas as pd\n",
    "\n",
    "def evaluate_model(encoded_df, target_column):\n",
    "    \"\"\"\n",
    "    Splits the data, trains a Random Forest Classifier, and evaluates the model.\n",
    "    \n",
    "    Parameters:\n",
    "        encoded_df (pd.DataFrame): The encoded DataFrame.\n",
    "        target_column (str): The target column name.\n",
    "    \n",
    "    Returns:\n",
    "        pd.DataFrame: DataFrame containing precision, recall, F1-score, and accuracy.\n",
    "        np.ndarray: Confusion matrix.\n",
    "    \"\"\"\n",
    "    # Split data into features (X) and target (y)\n",
    "    X = encoded_df.drop(columns=[target_column])\n",
    "    y = encoded_df[target_column]\n",
    "    \n",
    "    # Split into train and test sets\n",
    "    X_train, X_test, y_train, y_test = train_test_split(X, y, test_size=0.3, random_state=42)\n",
    "    \n",
    "    # Train Random Forest Classifier\n",
    "    model = RandomForestClassifier(random_state=42)\n",
    "    model.fit(X_train, y_train)\n",
    "    \n",
    "    # Make predictions\n",
    "    y_pred = model.predict(X_test)\n",
    "    \n",
    "    # Calculate metrics\n",
    "    report = classification_report(y_test, y_pred, output_dict=True)\n",
    "    metrics_df = pd.DataFrame(report).transpose()\n",
    "    overall_accuracy = accuracy_score(y_test, y_pred)\n",
    "    metrics_df.loc['accuracy'] = [overall_accuracy, None, None, None]\n",
    "    \n",
    "    # Confusion Matrix\n",
    "    conf_matrix = confusion_matrix(y_test, y_pred)\n",
    "    \n",
    "    return metrics_df, conf_matrix"
   ]
  },
  {
   "cell_type": "code",
   "execution_count": 21,
   "id": "3144e8f1",
   "metadata": {},
   "outputs": [
    {
     "name": "stdout",
     "output_type": "stream",
     "text": [
      "Metrics for Integer/Ordinal Encoding:\n"
     ]
    },
    {
     "data": {
      "application/vnd.microsoft.datawrangler.viewer.v0+json": {
       "columns": [
        {
         "name": "index",
         "rawType": "object",
         "type": "string"
        },
        {
         "name": "precision",
         "rawType": "float64",
         "type": "float"
        },
        {
         "name": "recall",
         "rawType": "float64",
         "type": "float"
        },
        {
         "name": "f1-score",
         "rawType": "float64",
         "type": "float"
        },
        {
         "name": "support",
         "rawType": "float64",
         "type": "float"
        }
       ],
       "conversionMethod": "pd.DataFrame",
       "ref": "1e6812d8-0e52-4b54-be9c-91e1e6f4613f",
       "rows": [
        [
         "acc",
         "0.9310344827586207",
         "0.9152542372881356",
         "0.9230769230769231",
         "118.0"
        ],
        [
         "good",
         "0.7619047619047619",
         "0.8421052631578947",
         "0.8",
         "19.0"
        ],
        [
         "unacc",
         "0.9888579387186629",
         "0.9916201117318436",
         "0.9902370990237099",
         "358.0"
        ],
        [
         "vgood",
         "0.9130434782608695",
         "0.875",
         "0.8936170212765957",
         "24.0"
        ],
        [
         "accuracy",
         "0.9633911368015414",
         null,
         null,
         null
        ],
        [
         "macro avg",
         "0.8987101654107287",
         "0.9059949030444685",
         "0.9017327608443071",
         "519.0"
        ],
        [
         "weighted avg",
         "0.9638968111392099",
         "0.9633911368015414",
         "0.963535196308677",
         "519.0"
        ]
       ],
       "shape": {
        "columns": 4,
        "rows": 7
       }
      },
      "text/html": [
       "<div>\n",
       "<style scoped>\n",
       "    .dataframe tbody tr th:only-of-type {\n",
       "        vertical-align: middle;\n",
       "    }\n",
       "\n",
       "    .dataframe tbody tr th {\n",
       "        vertical-align: top;\n",
       "    }\n",
       "\n",
       "    .dataframe thead th {\n",
       "        text-align: right;\n",
       "    }\n",
       "</style>\n",
       "<table border=\"1\" class=\"dataframe\">\n",
       "  <thead>\n",
       "    <tr style=\"text-align: right;\">\n",
       "      <th></th>\n",
       "      <th>precision</th>\n",
       "      <th>recall</th>\n",
       "      <th>f1-score</th>\n",
       "      <th>support</th>\n",
       "    </tr>\n",
       "  </thead>\n",
       "  <tbody>\n",
       "    <tr>\n",
       "      <th>acc</th>\n",
       "      <td>0.931034</td>\n",
       "      <td>0.915254</td>\n",
       "      <td>0.923077</td>\n",
       "      <td>118.0</td>\n",
       "    </tr>\n",
       "    <tr>\n",
       "      <th>good</th>\n",
       "      <td>0.761905</td>\n",
       "      <td>0.842105</td>\n",
       "      <td>0.800000</td>\n",
       "      <td>19.0</td>\n",
       "    </tr>\n",
       "    <tr>\n",
       "      <th>unacc</th>\n",
       "      <td>0.988858</td>\n",
       "      <td>0.991620</td>\n",
       "      <td>0.990237</td>\n",
       "      <td>358.0</td>\n",
       "    </tr>\n",
       "    <tr>\n",
       "      <th>vgood</th>\n",
       "      <td>0.913043</td>\n",
       "      <td>0.875000</td>\n",
       "      <td>0.893617</td>\n",
       "      <td>24.0</td>\n",
       "    </tr>\n",
       "    <tr>\n",
       "      <th>accuracy</th>\n",
       "      <td>0.963391</td>\n",
       "      <td>NaN</td>\n",
       "      <td>NaN</td>\n",
       "      <td>NaN</td>\n",
       "    </tr>\n",
       "    <tr>\n",
       "      <th>macro avg</th>\n",
       "      <td>0.898710</td>\n",
       "      <td>0.905995</td>\n",
       "      <td>0.901733</td>\n",
       "      <td>519.0</td>\n",
       "    </tr>\n",
       "    <tr>\n",
       "      <th>weighted avg</th>\n",
       "      <td>0.963897</td>\n",
       "      <td>0.963391</td>\n",
       "      <td>0.963535</td>\n",
       "      <td>519.0</td>\n",
       "    </tr>\n",
       "  </tbody>\n",
       "</table>\n",
       "</div>"
      ],
      "text/plain": [
       "              precision    recall  f1-score  support\n",
       "acc            0.931034  0.915254  0.923077    118.0\n",
       "good           0.761905  0.842105  0.800000     19.0\n",
       "unacc          0.988858  0.991620  0.990237    358.0\n",
       "vgood          0.913043  0.875000  0.893617     24.0\n",
       "accuracy       0.963391       NaN       NaN      NaN\n",
       "macro avg      0.898710  0.905995  0.901733    519.0\n",
       "weighted avg   0.963897  0.963391  0.963535    519.0"
      ]
     },
     "execution_count": 21,
     "metadata": {},
     "output_type": "execute_result"
    }
   ],
   "source": [
    "# Example usage for each encoded DataFrame\n",
    "\n",
    "# Integer/Ordinal Encoding\n",
    "metrics_integer, conf_matrix_integer = evaluate_model(encoded_data_one_integer, target_column='class')\n",
    "print(\"Metrics for Integer/Ordinal Encoding:\")\n",
    "metrics_integer\n"
   ]
  },
  {
   "cell_type": "code",
   "execution_count": 22,
   "id": "e1966990",
   "metadata": {},
   "outputs": [
    {
     "name": "stdout",
     "output_type": "stream",
     "text": [
      "\n",
      "Confusion Matrix:\n"
     ]
    },
    {
     "data": {
      "text/plain": [
       "array([[108,   5,   4,   1],\n",
       "       [  2,  16,   0,   1],\n",
       "       [  3,   0, 355,   0],\n",
       "       [  3,   0,   0,  21]])"
      ]
     },
     "execution_count": 22,
     "metadata": {},
     "output_type": "execute_result"
    }
   ],
   "source": [
    "print(\"\\nConfusion Matrix:\")\n",
    "conf_matrix_integer"
   ]
  },
  {
   "cell_type": "code",
   "execution_count": 23,
   "id": "a1ce6a9e",
   "metadata": {},
   "outputs": [
    {
     "name": "stdout",
     "output_type": "stream",
     "text": [
      "\n",
      "Metrics for Binary Encoding:\n"
     ]
    },
    {
     "data": {
      "application/vnd.microsoft.datawrangler.viewer.v0+json": {
       "columns": [
        {
         "name": "index",
         "rawType": "object",
         "type": "string"
        },
        {
         "name": "precision",
         "rawType": "float64",
         "type": "float"
        },
        {
         "name": "recall",
         "rawType": "float64",
         "type": "float"
        },
        {
         "name": "f1-score",
         "rawType": "float64",
         "type": "float"
        },
        {
         "name": "support",
         "rawType": "float64",
         "type": "float"
        }
       ],
       "conversionMethod": "pd.DataFrame",
       "ref": "7c38f4ba-cac3-47ee-a6d3-a149ee03326a",
       "rows": [
        [
         "acc",
         "0.7293233082706767",
         "0.8220338983050848",
         "0.7729083665338645",
         "118.0"
        ],
        [
         "good",
         "0.2857142857142857",
         "0.21052631578947367",
         "0.24242424242424243",
         "19.0"
        ],
        [
         "unacc",
         "0.9613259668508287",
         "0.9720670391061452",
         "0.9666666666666667",
         "358.0"
        ],
        [
         "vgood",
         "0.9",
         "0.375",
         "0.5294117647058824",
         "24.0"
        ],
        [
         "accuracy",
         "0.882466281310212",
         null,
         null,
         null
        ],
        [
         "macro avg",
         "0.7190908902089478",
         "0.5949068133001759",
         "0.627852760082664",
         "519.0"
        ],
        [
         "weighted avg",
         "0.8810085124029055",
         "0.882466281310212",
         "0.8758801481245942",
         "519.0"
        ]
       ],
       "shape": {
        "columns": 4,
        "rows": 7
       }
      },
      "text/html": [
       "<div>\n",
       "<style scoped>\n",
       "    .dataframe tbody tr th:only-of-type {\n",
       "        vertical-align: middle;\n",
       "    }\n",
       "\n",
       "    .dataframe tbody tr th {\n",
       "        vertical-align: top;\n",
       "    }\n",
       "\n",
       "    .dataframe thead th {\n",
       "        text-align: right;\n",
       "    }\n",
       "</style>\n",
       "<table border=\"1\" class=\"dataframe\">\n",
       "  <thead>\n",
       "    <tr style=\"text-align: right;\">\n",
       "      <th></th>\n",
       "      <th>precision</th>\n",
       "      <th>recall</th>\n",
       "      <th>f1-score</th>\n",
       "      <th>support</th>\n",
       "    </tr>\n",
       "  </thead>\n",
       "  <tbody>\n",
       "    <tr>\n",
       "      <th>acc</th>\n",
       "      <td>0.729323</td>\n",
       "      <td>0.822034</td>\n",
       "      <td>0.772908</td>\n",
       "      <td>118.0</td>\n",
       "    </tr>\n",
       "    <tr>\n",
       "      <th>good</th>\n",
       "      <td>0.285714</td>\n",
       "      <td>0.210526</td>\n",
       "      <td>0.242424</td>\n",
       "      <td>19.0</td>\n",
       "    </tr>\n",
       "    <tr>\n",
       "      <th>unacc</th>\n",
       "      <td>0.961326</td>\n",
       "      <td>0.972067</td>\n",
       "      <td>0.966667</td>\n",
       "      <td>358.0</td>\n",
       "    </tr>\n",
       "    <tr>\n",
       "      <th>vgood</th>\n",
       "      <td>0.900000</td>\n",
       "      <td>0.375000</td>\n",
       "      <td>0.529412</td>\n",
       "      <td>24.0</td>\n",
       "    </tr>\n",
       "    <tr>\n",
       "      <th>accuracy</th>\n",
       "      <td>0.882466</td>\n",
       "      <td>NaN</td>\n",
       "      <td>NaN</td>\n",
       "      <td>NaN</td>\n",
       "    </tr>\n",
       "    <tr>\n",
       "      <th>macro avg</th>\n",
       "      <td>0.719091</td>\n",
       "      <td>0.594907</td>\n",
       "      <td>0.627853</td>\n",
       "      <td>519.0</td>\n",
       "    </tr>\n",
       "    <tr>\n",
       "      <th>weighted avg</th>\n",
       "      <td>0.881009</td>\n",
       "      <td>0.882466</td>\n",
       "      <td>0.875880</td>\n",
       "      <td>519.0</td>\n",
       "    </tr>\n",
       "  </tbody>\n",
       "</table>\n",
       "</div>"
      ],
      "text/plain": [
       "              precision    recall  f1-score  support\n",
       "acc            0.729323  0.822034  0.772908    118.0\n",
       "good           0.285714  0.210526  0.242424     19.0\n",
       "unacc          0.961326  0.972067  0.966667    358.0\n",
       "vgood          0.900000  0.375000  0.529412     24.0\n",
       "accuracy       0.882466       NaN       NaN      NaN\n",
       "macro avg      0.719091  0.594907  0.627853    519.0\n",
       "weighted avg   0.881009  0.882466  0.875880    519.0"
      ]
     },
     "execution_count": 23,
     "metadata": {},
     "output_type": "execute_result"
    }
   ],
   "source": [
    "\n",
    "# Binary Encoding\n",
    "metrics_binary, conf_matrix_binary = evaluate_model(encoded_data_binary, target_column='class')\n",
    "print(\"\\nMetrics for Binary Encoding:\")\n",
    "metrics_binary"
   ]
  },
  {
   "cell_type": "code",
   "execution_count": 25,
   "id": "10d75306",
   "metadata": {},
   "outputs": [
    {
     "name": "stdout",
     "output_type": "stream",
     "text": [
      "\n",
      "Confusion Matrix:\n"
     ]
    },
    {
     "data": {
      "text/plain": [
       "array([[ 97,   7,  14,   0],\n",
       "       [ 14,   4,   0,   1],\n",
       "       [ 10,   0, 348,   0],\n",
       "       [ 12,   3,   0,   9]])"
      ]
     },
     "execution_count": 25,
     "metadata": {},
     "output_type": "execute_result"
    }
   ],
   "source": [
    "print(\"\\nConfusion Matrix:\")\n",
    "conf_matrix_binary"
   ]
  },
  {
   "cell_type": "code",
   "execution_count": 26,
   "id": "085b6c9e",
   "metadata": {},
   "outputs": [
    {
     "name": "stdout",
     "output_type": "stream",
     "text": [
      "\n",
      "Metrics for Target Encoding:\n"
     ]
    },
    {
     "data": {
      "application/vnd.microsoft.datawrangler.viewer.v0+json": {
       "columns": [
        {
         "name": "index",
         "rawType": "object",
         "type": "string"
        },
        {
         "name": "precision",
         "rawType": "float64",
         "type": "float"
        },
        {
         "name": "recall",
         "rawType": "float64",
         "type": "float"
        },
        {
         "name": "f1-score",
         "rawType": "float64",
         "type": "float"
        },
        {
         "name": "support",
         "rawType": "float64",
         "type": "float"
        }
       ],
       "conversionMethod": "pd.DataFrame",
       "ref": "17f4c1e5-9637-4172-a765-63c786177cb0",
       "rows": [
        [
         "acc",
         "0.940677966101695",
         "0.940677966101695",
         "0.940677966101695",
         "118.0"
        ],
        [
         "good",
         "0.8",
         "0.8421052631578947",
         "0.8205128205128205",
         "19.0"
        ],
        [
         "unacc",
         "0.9943820224719101",
         "0.9888268156424581",
         "0.9915966386554622",
         "358.0"
        ],
        [
         "vgood",
         "0.92",
         "0.9583333333333334",
         "0.9387755102040817",
         "24.0"
        ],
        [
         "accuracy",
         "0.9710982658959537",
         null,
         null,
         null
        ],
        [
         "macro avg",
         "0.9137649971434012",
         "0.9324858445588453",
         "0.9228907338685148",
         "519.0"
        ],
        [
         "weighted avg",
         "0.9716161156935333",
         "0.9710982658959537",
         "0.9713139739369885",
         "519.0"
        ]
       ],
       "shape": {
        "columns": 4,
        "rows": 7
       }
      },
      "text/html": [
       "<div>\n",
       "<style scoped>\n",
       "    .dataframe tbody tr th:only-of-type {\n",
       "        vertical-align: middle;\n",
       "    }\n",
       "\n",
       "    .dataframe tbody tr th {\n",
       "        vertical-align: top;\n",
       "    }\n",
       "\n",
       "    .dataframe thead th {\n",
       "        text-align: right;\n",
       "    }\n",
       "</style>\n",
       "<table border=\"1\" class=\"dataframe\">\n",
       "  <thead>\n",
       "    <tr style=\"text-align: right;\">\n",
       "      <th></th>\n",
       "      <th>precision</th>\n",
       "      <th>recall</th>\n",
       "      <th>f1-score</th>\n",
       "      <th>support</th>\n",
       "    </tr>\n",
       "  </thead>\n",
       "  <tbody>\n",
       "    <tr>\n",
       "      <th>acc</th>\n",
       "      <td>0.940678</td>\n",
       "      <td>0.940678</td>\n",
       "      <td>0.940678</td>\n",
       "      <td>118.0</td>\n",
       "    </tr>\n",
       "    <tr>\n",
       "      <th>good</th>\n",
       "      <td>0.800000</td>\n",
       "      <td>0.842105</td>\n",
       "      <td>0.820513</td>\n",
       "      <td>19.0</td>\n",
       "    </tr>\n",
       "    <tr>\n",
       "      <th>unacc</th>\n",
       "      <td>0.994382</td>\n",
       "      <td>0.988827</td>\n",
       "      <td>0.991597</td>\n",
       "      <td>358.0</td>\n",
       "    </tr>\n",
       "    <tr>\n",
       "      <th>vgood</th>\n",
       "      <td>0.920000</td>\n",
       "      <td>0.958333</td>\n",
       "      <td>0.938776</td>\n",
       "      <td>24.0</td>\n",
       "    </tr>\n",
       "    <tr>\n",
       "      <th>accuracy</th>\n",
       "      <td>0.971098</td>\n",
       "      <td>NaN</td>\n",
       "      <td>NaN</td>\n",
       "      <td>NaN</td>\n",
       "    </tr>\n",
       "    <tr>\n",
       "      <th>macro avg</th>\n",
       "      <td>0.913765</td>\n",
       "      <td>0.932486</td>\n",
       "      <td>0.922891</td>\n",
       "      <td>519.0</td>\n",
       "    </tr>\n",
       "    <tr>\n",
       "      <th>weighted avg</th>\n",
       "      <td>0.971616</td>\n",
       "      <td>0.971098</td>\n",
       "      <td>0.971314</td>\n",
       "      <td>519.0</td>\n",
       "    </tr>\n",
       "  </tbody>\n",
       "</table>\n",
       "</div>"
      ],
      "text/plain": [
       "              precision    recall  f1-score  support\n",
       "acc            0.940678  0.940678  0.940678    118.0\n",
       "good           0.800000  0.842105  0.820513     19.0\n",
       "unacc          0.994382  0.988827  0.991597    358.0\n",
       "vgood          0.920000  0.958333  0.938776     24.0\n",
       "accuracy       0.971098       NaN       NaN      NaN\n",
       "macro avg      0.913765  0.932486  0.922891    519.0\n",
       "weighted avg   0.971616  0.971098  0.971314    519.0"
      ]
     },
     "execution_count": 26,
     "metadata": {},
     "output_type": "execute_result"
    }
   ],
   "source": [
    "# Target Encoding\n",
    "metrics_target, conf_matrix_target = evaluate_model(encoded_data_target, target_column='class')\n",
    "print(\"\\nMetrics for Target Encoding:\")\n",
    "metrics_target"
   ]
  },
  {
   "cell_type": "code",
   "execution_count": 27,
   "id": "ba696b9b",
   "metadata": {},
   "outputs": [
    {
     "name": "stdout",
     "output_type": "stream",
     "text": [
      "\n",
      "Confusion Matrix:\n"
     ]
    },
    {
     "data": {
      "text/plain": [
       "array([[111,   4,   2,   1],\n",
       "       [  2,  16,   0,   1],\n",
       "       [  4,   0, 354,   0],\n",
       "       [  1,   0,   0,  23]])"
      ]
     },
     "execution_count": 27,
     "metadata": {},
     "output_type": "execute_result"
    }
   ],
   "source": [
    "\n",
    "print(\"\\nConfusion Matrix:\")\n",
    "conf_matrix_target"
   ]
  }
 ],
 "metadata": {
  "kernelspec": {
   "display_name": "local",
   "language": "python",
   "name": "python3"
  },
  "language_info": {
   "codemirror_mode": {
    "name": "ipython",
    "version": 3
   },
   "file_extension": ".py",
   "mimetype": "text/x-python",
   "name": "python",
   "nbconvert_exporter": "python",
   "pygments_lexer": "ipython3",
   "version": "3.12.3"
  }
 },
 "nbformat": 4,
 "nbformat_minor": 5
}
