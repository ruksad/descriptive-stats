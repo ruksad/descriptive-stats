{
 "cells": [
  {
   "cell_type": "code",
   "execution_count": 57,
   "id": "948fa5c1",
   "metadata": {},
   "outputs": [
    {
     "name": "stdout",
     "output_type": "stream",
     "text": [
      "<class 'pandas.core.frame.DataFrame'>\n",
      "RangeIndex: 1728 entries, 0 to 1727\n",
      "Data columns (total 7 columns):\n",
      " #   Column    Non-Null Count  Dtype \n",
      "---  ------    --------------  ----- \n",
      " 0   buying    1728 non-null   object\n",
      " 1   maint     1728 non-null   object\n",
      " 2   doors     1728 non-null   object\n",
      " 3   persons   1728 non-null   object\n",
      " 4   lug_boot  1728 non-null   object\n",
      " 5   safety    1728 non-null   object\n",
      " 6   class     1728 non-null   object\n",
      "dtypes: object(7)\n",
      "memory usage: 94.6+ KB\n"
     ]
    }
   ],
   "source": [
    "import pandas as pd\n",
    "import numpy as np\n",
    "\n",
    "data= pd.read_excel('../../../source/car-data-category-encoding.xlsx', sheet_name='Sheet1')\n",
    "data.info()"
   ]
  },
  {
   "cell_type": "code",
   "execution_count": 58,
   "id": "fb55e486",
   "metadata": {},
   "outputs": [
    {
     "data": {
      "application/vnd.microsoft.datawrangler.viewer.v0+json": {
       "columns": [
        {
         "name": "index",
         "rawType": "int64",
         "type": "integer"
        },
        {
         "name": "buying",
         "rawType": "object",
         "type": "string"
        },
        {
         "name": "maint",
         "rawType": "object",
         "type": "string"
        },
        {
         "name": "doors",
         "rawType": "object",
         "type": "string"
        },
        {
         "name": "persons",
         "rawType": "object",
         "type": "string"
        },
        {
         "name": "lug_boot",
         "rawType": "object",
         "type": "string"
        },
        {
         "name": "safety",
         "rawType": "object",
         "type": "string"
        },
        {
         "name": "class",
         "rawType": "object",
         "type": "string"
        }
       ],
       "conversionMethod": "pd.DataFrame",
       "ref": "55a9ae53-4bde-4682-8709-3de24362cbd1",
       "rows": [
        [
         "0",
         "vhigh",
         "vhigh",
         "2",
         "2",
         "small",
         "low",
         "unacc"
        ],
        [
         "1",
         "vhigh",
         "vhigh",
         "2",
         "2",
         "small",
         "med",
         "unacc"
        ],
        [
         "2",
         "vhigh",
         "vhigh",
         "2",
         "2",
         "small",
         "high",
         "unacc"
        ],
        [
         "3",
         "vhigh",
         "vhigh",
         "2",
         "2",
         "med",
         "low",
         "unacc"
        ],
        [
         "4",
         "vhigh",
         "vhigh",
         "2",
         "2",
         "med",
         "med",
         "unacc"
        ]
       ],
       "shape": {
        "columns": 7,
        "rows": 5
       }
      },
      "text/html": [
       "<div>\n",
       "<style scoped>\n",
       "    .dataframe tbody tr th:only-of-type {\n",
       "        vertical-align: middle;\n",
       "    }\n",
       "\n",
       "    .dataframe tbody tr th {\n",
       "        vertical-align: top;\n",
       "    }\n",
       "\n",
       "    .dataframe thead th {\n",
       "        text-align: right;\n",
       "    }\n",
       "</style>\n",
       "<table border=\"1\" class=\"dataframe\">\n",
       "  <thead>\n",
       "    <tr style=\"text-align: right;\">\n",
       "      <th></th>\n",
       "      <th>buying</th>\n",
       "      <th>maint</th>\n",
       "      <th>doors</th>\n",
       "      <th>persons</th>\n",
       "      <th>lug_boot</th>\n",
       "      <th>safety</th>\n",
       "      <th>class</th>\n",
       "    </tr>\n",
       "  </thead>\n",
       "  <tbody>\n",
       "    <tr>\n",
       "      <th>0</th>\n",
       "      <td>vhigh</td>\n",
       "      <td>vhigh</td>\n",
       "      <td>2</td>\n",
       "      <td>2</td>\n",
       "      <td>small</td>\n",
       "      <td>low</td>\n",
       "      <td>unacc</td>\n",
       "    </tr>\n",
       "    <tr>\n",
       "      <th>1</th>\n",
       "      <td>vhigh</td>\n",
       "      <td>vhigh</td>\n",
       "      <td>2</td>\n",
       "      <td>2</td>\n",
       "      <td>small</td>\n",
       "      <td>med</td>\n",
       "      <td>unacc</td>\n",
       "    </tr>\n",
       "    <tr>\n",
       "      <th>2</th>\n",
       "      <td>vhigh</td>\n",
       "      <td>vhigh</td>\n",
       "      <td>2</td>\n",
       "      <td>2</td>\n",
       "      <td>small</td>\n",
       "      <td>high</td>\n",
       "      <td>unacc</td>\n",
       "    </tr>\n",
       "    <tr>\n",
       "      <th>3</th>\n",
       "      <td>vhigh</td>\n",
       "      <td>vhigh</td>\n",
       "      <td>2</td>\n",
       "      <td>2</td>\n",
       "      <td>med</td>\n",
       "      <td>low</td>\n",
       "      <td>unacc</td>\n",
       "    </tr>\n",
       "    <tr>\n",
       "      <th>4</th>\n",
       "      <td>vhigh</td>\n",
       "      <td>vhigh</td>\n",
       "      <td>2</td>\n",
       "      <td>2</td>\n",
       "      <td>med</td>\n",
       "      <td>med</td>\n",
       "      <td>unacc</td>\n",
       "    </tr>\n",
       "  </tbody>\n",
       "</table>\n",
       "</div>"
      ],
      "text/plain": [
       "  buying  maint doors persons lug_boot safety  class\n",
       "0  vhigh  vhigh     2       2    small    low  unacc\n",
       "1  vhigh  vhigh     2       2    small    med  unacc\n",
       "2  vhigh  vhigh     2       2    small   high  unacc\n",
       "3  vhigh  vhigh     2       2      med    low  unacc\n",
       "4  vhigh  vhigh     2       2      med    med  unacc"
      ]
     },
     "execution_count": 58,
     "metadata": {},
     "output_type": "execute_result"
    }
   ],
   "source": [
    "data.head()"
   ]
  },
  {
   "cell_type": "markdown",
   "id": "9a819f70",
   "metadata": {},
   "source": [
    "# 2 Create Python functions (one for each of the encoding methods) \n",
    "to accept as inputs a dataframe and a target column, and return a new dataframe with all columns encoded, except the target column, using the following methods: (Can you create just one function to handle all the below methods, instead of creating separate one for each?) (Which Python module implements all the below methods? Find out)\n",
    "a. Integer or Ordinal encoding\n",
    "b. One-hot encoding\n",
    "c. Binary encoding\n",
    "d. Target encoding\n",
    "e. Frequency encoding"
   ]
  },
  {
   "cell_type": "code",
   "execution_count": 59,
   "id": "d4b614fa",
   "metadata": {},
   "outputs": [],
   "source": [
    "from category_encoders import OrdinalEncoder, OneHotEncoder, BinaryEncoder, TargetEncoder\n",
    "import pandas as pd\n",
    "\n",
    "def encode_dataframe(df, target_column, method):\n",
    "    \"\"\"\n",
    "    Encodes all columns in the DataFrame except the target column using the specified method.\n",
    "\n",
    "    Parameters:\n",
    "        df (pd.DataFrame): The input DataFrame.\n",
    "        target_column (str): The name of the target column to exclude from encoding.\n",
    "        method (str): The encoding method to use. Options are:\n",
    "                      'integer', 'onehot', 'binary', 'target', 'frequency'.\n",
    "\n",
    "    Returns:\n",
    "        pd.DataFrame: A new DataFrame with the specified encoding applied.\n",
    "    \"\"\"\n",
    "    encoded_df = df.copy()\n",
    "    \n",
    "    if method == 'integer' or method == 'ordinal':\n",
    "        encoder = OrdinalEncoder(cols=[col for col in df.columns if col != target_column])\n",
    "        encoded_df = encoder.fit_transform(encoded_df)\n",
    "    \n",
    "    elif method == 'onehot':\n",
    "        encoder = OneHotEncoder(cols=[col for col in df.columns if col != target_column], use_cat_names=True)\n",
    "        encoded_df = encoder.fit_transform(encoded_df)\n",
    "    \n",
    "    elif method == 'binary':\n",
    "        encoder = BinaryEncoder(cols=[col for col in df.columns if col != target_column])\n",
    "        encoded_df = encoder.fit_transform(encoded_df)\n",
    "    \n",
    "    elif method == 'target':\n",
    "        encoder = TargetEncoder(cols=[col for col in df.columns if col != target_column])\n",
    "        encoded_df = encoder.fit_transform(encoded_df, encoded_df[target_column])\n",
    "    \n",
    "    elif method == 'frequency':\n",
    "        for col in df.columns:\n",
    "            if col != target_column:\n",
    "                freq = df[col].value_counts() / len(df)\n",
    "                encoded_df[col] = df[col].map(freq)\n",
    "    \n",
    "    else:\n",
    "        raise ValueError(\"Unsupported encoding method. Choose from 'integer', 'onehot', 'binary', 'target', or 'frequency'.\")\n",
    "    \n",
    "    return encoded_df"
   ]
  },
  {
   "cell_type": "code",
   "execution_count": 61,
   "id": "8018d5dc",
   "metadata": {},
   "outputs": [
    {
     "data": {
      "application/vnd.microsoft.datawrangler.viewer.v0+json": {
       "columns": [
        {
         "name": "index",
         "rawType": "int64",
         "type": "integer"
        },
        {
         "name": "buying",
         "rawType": "int64",
         "type": "integer"
        },
        {
         "name": "maint",
         "rawType": "int64",
         "type": "integer"
        },
        {
         "name": "doors",
         "rawType": "int64",
         "type": "integer"
        },
        {
         "name": "persons",
         "rawType": "int64",
         "type": "integer"
        },
        {
         "name": "lug_boot",
         "rawType": "int64",
         "type": "integer"
        },
        {
         "name": "safety",
         "rawType": "int64",
         "type": "integer"
        },
        {
         "name": "class",
         "rawType": "object",
         "type": "string"
        }
       ],
       "conversionMethod": "pd.DataFrame",
       "ref": "b28bc114-f0f7-4c60-8992-6d1f0077606f",
       "rows": [
        [
         "0",
         "1",
         "1",
         "1",
         "1",
         "1",
         "1",
         "unacc"
        ],
        [
         "1",
         "1",
         "1",
         "1",
         "1",
         "1",
         "2",
         "unacc"
        ],
        [
         "2",
         "1",
         "1",
         "1",
         "1",
         "1",
         "3",
         "unacc"
        ],
        [
         "3",
         "1",
         "1",
         "1",
         "1",
         "2",
         "1",
         "unacc"
        ],
        [
         "4",
         "1",
         "1",
         "1",
         "1",
         "2",
         "2",
         "unacc"
        ]
       ],
       "shape": {
        "columns": 7,
        "rows": 5
       }
      },
      "text/html": [
       "<div>\n",
       "<style scoped>\n",
       "    .dataframe tbody tr th:only-of-type {\n",
       "        vertical-align: middle;\n",
       "    }\n",
       "\n",
       "    .dataframe tbody tr th {\n",
       "        vertical-align: top;\n",
       "    }\n",
       "\n",
       "    .dataframe thead th {\n",
       "        text-align: right;\n",
       "    }\n",
       "</style>\n",
       "<table border=\"1\" class=\"dataframe\">\n",
       "  <thead>\n",
       "    <tr style=\"text-align: right;\">\n",
       "      <th></th>\n",
       "      <th>buying</th>\n",
       "      <th>maint</th>\n",
       "      <th>doors</th>\n",
       "      <th>persons</th>\n",
       "      <th>lug_boot</th>\n",
       "      <th>safety</th>\n",
       "      <th>class</th>\n",
       "    </tr>\n",
       "  </thead>\n",
       "  <tbody>\n",
       "    <tr>\n",
       "      <th>0</th>\n",
       "      <td>1</td>\n",
       "      <td>1</td>\n",
       "      <td>1</td>\n",
       "      <td>1</td>\n",
       "      <td>1</td>\n",
       "      <td>1</td>\n",
       "      <td>unacc</td>\n",
       "    </tr>\n",
       "    <tr>\n",
       "      <th>1</th>\n",
       "      <td>1</td>\n",
       "      <td>1</td>\n",
       "      <td>1</td>\n",
       "      <td>1</td>\n",
       "      <td>1</td>\n",
       "      <td>2</td>\n",
       "      <td>unacc</td>\n",
       "    </tr>\n",
       "    <tr>\n",
       "      <th>2</th>\n",
       "      <td>1</td>\n",
       "      <td>1</td>\n",
       "      <td>1</td>\n",
       "      <td>1</td>\n",
       "      <td>1</td>\n",
       "      <td>3</td>\n",
       "      <td>unacc</td>\n",
       "    </tr>\n",
       "    <tr>\n",
       "      <th>3</th>\n",
       "      <td>1</td>\n",
       "      <td>1</td>\n",
       "      <td>1</td>\n",
       "      <td>1</td>\n",
       "      <td>2</td>\n",
       "      <td>1</td>\n",
       "      <td>unacc</td>\n",
       "    </tr>\n",
       "    <tr>\n",
       "      <th>4</th>\n",
       "      <td>1</td>\n",
       "      <td>1</td>\n",
       "      <td>1</td>\n",
       "      <td>1</td>\n",
       "      <td>2</td>\n",
       "      <td>2</td>\n",
       "      <td>unacc</td>\n",
       "    </tr>\n",
       "  </tbody>\n",
       "</table>\n",
       "</div>"
      ],
      "text/plain": [
       "   buying  maint  doors  persons  lug_boot  safety  class\n",
       "0       1      1      1        1         1       1  unacc\n",
       "1       1      1      1        1         1       2  unacc\n",
       "2       1      1      1        1         1       3  unacc\n",
       "3       1      1      1        1         2       1  unacc\n",
       "4       1      1      1        1         2       2  unacc"
      ]
     },
     "execution_count": 61,
     "metadata": {},
     "output_type": "execute_result"
    }
   ],
   "source": [
    "# Example usage:\n",
    "encoded_data_one_integer = encode_dataframe(data, target_column='class', method='integer')\n",
    "\n",
    "encoded_data_one_integer.head()"
   ]
  },
  {
   "cell_type": "code",
   "execution_count": 62,
   "id": "323a859b",
   "metadata": {},
   "outputs": [
    {
     "data": {
      "application/vnd.microsoft.datawrangler.viewer.v0+json": {
       "columns": [
        {
         "name": "index",
         "rawType": "int64",
         "type": "integer"
        },
        {
         "name": "buying_vhigh",
         "rawType": "int64",
         "type": "integer"
        },
        {
         "name": "buying_high",
         "rawType": "int64",
         "type": "integer"
        },
        {
         "name": "buying_med",
         "rawType": "int64",
         "type": "integer"
        },
        {
         "name": "buying_low",
         "rawType": "int64",
         "type": "integer"
        },
        {
         "name": "maint_vhigh",
         "rawType": "int64",
         "type": "integer"
        },
        {
         "name": "maint_high",
         "rawType": "int64",
         "type": "integer"
        },
        {
         "name": "maint_med",
         "rawType": "int64",
         "type": "integer"
        },
        {
         "name": "maint_low",
         "rawType": "int64",
         "type": "integer"
        },
        {
         "name": "doors_2",
         "rawType": "int64",
         "type": "integer"
        },
        {
         "name": "doors_3",
         "rawType": "int64",
         "type": "integer"
        },
        {
         "name": "doors_4",
         "rawType": "int64",
         "type": "integer"
        },
        {
         "name": "doors_5more",
         "rawType": "int64",
         "type": "integer"
        },
        {
         "name": "persons_2",
         "rawType": "int64",
         "type": "integer"
        },
        {
         "name": "persons_4",
         "rawType": "int64",
         "type": "integer"
        },
        {
         "name": "persons_more",
         "rawType": "int64",
         "type": "integer"
        },
        {
         "name": "lug_boot_small",
         "rawType": "int64",
         "type": "integer"
        },
        {
         "name": "lug_boot_med",
         "rawType": "int64",
         "type": "integer"
        },
        {
         "name": "lug_boot_big",
         "rawType": "int64",
         "type": "integer"
        },
        {
         "name": "safety_low",
         "rawType": "int64",
         "type": "integer"
        },
        {
         "name": "safety_med",
         "rawType": "int64",
         "type": "integer"
        },
        {
         "name": "safety_high",
         "rawType": "int64",
         "type": "integer"
        },
        {
         "name": "class",
         "rawType": "object",
         "type": "string"
        }
       ],
       "conversionMethod": "pd.DataFrame",
       "ref": "dac9820b-14f3-4bbf-a9b5-cffcdcb36138",
       "rows": [
        [
         "0",
         "1",
         "0",
         "0",
         "0",
         "1",
         "0",
         "0",
         "0",
         "1",
         "0",
         "0",
         "0",
         "1",
         "0",
         "0",
         "1",
         "0",
         "0",
         "1",
         "0",
         "0",
         "unacc"
        ],
        [
         "1",
         "1",
         "0",
         "0",
         "0",
         "1",
         "0",
         "0",
         "0",
         "1",
         "0",
         "0",
         "0",
         "1",
         "0",
         "0",
         "1",
         "0",
         "0",
         "0",
         "1",
         "0",
         "unacc"
        ],
        [
         "2",
         "1",
         "0",
         "0",
         "0",
         "1",
         "0",
         "0",
         "0",
         "1",
         "0",
         "0",
         "0",
         "1",
         "0",
         "0",
         "1",
         "0",
         "0",
         "0",
         "0",
         "1",
         "unacc"
        ],
        [
         "3",
         "1",
         "0",
         "0",
         "0",
         "1",
         "0",
         "0",
         "0",
         "1",
         "0",
         "0",
         "0",
         "1",
         "0",
         "0",
         "0",
         "1",
         "0",
         "1",
         "0",
         "0",
         "unacc"
        ],
        [
         "4",
         "1",
         "0",
         "0",
         "0",
         "1",
         "0",
         "0",
         "0",
         "1",
         "0",
         "0",
         "0",
         "1",
         "0",
         "0",
         "0",
         "1",
         "0",
         "0",
         "1",
         "0",
         "unacc"
        ]
       ],
       "shape": {
        "columns": 22,
        "rows": 5
       }
      },
      "text/html": [
       "<div>\n",
       "<style scoped>\n",
       "    .dataframe tbody tr th:only-of-type {\n",
       "        vertical-align: middle;\n",
       "    }\n",
       "\n",
       "    .dataframe tbody tr th {\n",
       "        vertical-align: top;\n",
       "    }\n",
       "\n",
       "    .dataframe thead th {\n",
       "        text-align: right;\n",
       "    }\n",
       "</style>\n",
       "<table border=\"1\" class=\"dataframe\">\n",
       "  <thead>\n",
       "    <tr style=\"text-align: right;\">\n",
       "      <th></th>\n",
       "      <th>buying_vhigh</th>\n",
       "      <th>buying_high</th>\n",
       "      <th>buying_med</th>\n",
       "      <th>buying_low</th>\n",
       "      <th>maint_vhigh</th>\n",
       "      <th>maint_high</th>\n",
       "      <th>maint_med</th>\n",
       "      <th>maint_low</th>\n",
       "      <th>doors_2</th>\n",
       "      <th>doors_3</th>\n",
       "      <th>...</th>\n",
       "      <th>persons_2</th>\n",
       "      <th>persons_4</th>\n",
       "      <th>persons_more</th>\n",
       "      <th>lug_boot_small</th>\n",
       "      <th>lug_boot_med</th>\n",
       "      <th>lug_boot_big</th>\n",
       "      <th>safety_low</th>\n",
       "      <th>safety_med</th>\n",
       "      <th>safety_high</th>\n",
       "      <th>class</th>\n",
       "    </tr>\n",
       "  </thead>\n",
       "  <tbody>\n",
       "    <tr>\n",
       "      <th>0</th>\n",
       "      <td>1</td>\n",
       "      <td>0</td>\n",
       "      <td>0</td>\n",
       "      <td>0</td>\n",
       "      <td>1</td>\n",
       "      <td>0</td>\n",
       "      <td>0</td>\n",
       "      <td>0</td>\n",
       "      <td>1</td>\n",
       "      <td>0</td>\n",
       "      <td>...</td>\n",
       "      <td>1</td>\n",
       "      <td>0</td>\n",
       "      <td>0</td>\n",
       "      <td>1</td>\n",
       "      <td>0</td>\n",
       "      <td>0</td>\n",
       "      <td>1</td>\n",
       "      <td>0</td>\n",
       "      <td>0</td>\n",
       "      <td>unacc</td>\n",
       "    </tr>\n",
       "    <tr>\n",
       "      <th>1</th>\n",
       "      <td>1</td>\n",
       "      <td>0</td>\n",
       "      <td>0</td>\n",
       "      <td>0</td>\n",
       "      <td>1</td>\n",
       "      <td>0</td>\n",
       "      <td>0</td>\n",
       "      <td>0</td>\n",
       "      <td>1</td>\n",
       "      <td>0</td>\n",
       "      <td>...</td>\n",
       "      <td>1</td>\n",
       "      <td>0</td>\n",
       "      <td>0</td>\n",
       "      <td>1</td>\n",
       "      <td>0</td>\n",
       "      <td>0</td>\n",
       "      <td>0</td>\n",
       "      <td>1</td>\n",
       "      <td>0</td>\n",
       "      <td>unacc</td>\n",
       "    </tr>\n",
       "    <tr>\n",
       "      <th>2</th>\n",
       "      <td>1</td>\n",
       "      <td>0</td>\n",
       "      <td>0</td>\n",
       "      <td>0</td>\n",
       "      <td>1</td>\n",
       "      <td>0</td>\n",
       "      <td>0</td>\n",
       "      <td>0</td>\n",
       "      <td>1</td>\n",
       "      <td>0</td>\n",
       "      <td>...</td>\n",
       "      <td>1</td>\n",
       "      <td>0</td>\n",
       "      <td>0</td>\n",
       "      <td>1</td>\n",
       "      <td>0</td>\n",
       "      <td>0</td>\n",
       "      <td>0</td>\n",
       "      <td>0</td>\n",
       "      <td>1</td>\n",
       "      <td>unacc</td>\n",
       "    </tr>\n",
       "    <tr>\n",
       "      <th>3</th>\n",
       "      <td>1</td>\n",
       "      <td>0</td>\n",
       "      <td>0</td>\n",
       "      <td>0</td>\n",
       "      <td>1</td>\n",
       "      <td>0</td>\n",
       "      <td>0</td>\n",
       "      <td>0</td>\n",
       "      <td>1</td>\n",
       "      <td>0</td>\n",
       "      <td>...</td>\n",
       "      <td>1</td>\n",
       "      <td>0</td>\n",
       "      <td>0</td>\n",
       "      <td>0</td>\n",
       "      <td>1</td>\n",
       "      <td>0</td>\n",
       "      <td>1</td>\n",
       "      <td>0</td>\n",
       "      <td>0</td>\n",
       "      <td>unacc</td>\n",
       "    </tr>\n",
       "    <tr>\n",
       "      <th>4</th>\n",
       "      <td>1</td>\n",
       "      <td>0</td>\n",
       "      <td>0</td>\n",
       "      <td>0</td>\n",
       "      <td>1</td>\n",
       "      <td>0</td>\n",
       "      <td>0</td>\n",
       "      <td>0</td>\n",
       "      <td>1</td>\n",
       "      <td>0</td>\n",
       "      <td>...</td>\n",
       "      <td>1</td>\n",
       "      <td>0</td>\n",
       "      <td>0</td>\n",
       "      <td>0</td>\n",
       "      <td>1</td>\n",
       "      <td>0</td>\n",
       "      <td>0</td>\n",
       "      <td>1</td>\n",
       "      <td>0</td>\n",
       "      <td>unacc</td>\n",
       "    </tr>\n",
       "  </tbody>\n",
       "</table>\n",
       "<p>5 rows × 22 columns</p>\n",
       "</div>"
      ],
      "text/plain": [
       "   buying_vhigh  buying_high  buying_med  buying_low  maint_vhigh  maint_high  \\\n",
       "0             1            0           0           0            1           0   \n",
       "1             1            0           0           0            1           0   \n",
       "2             1            0           0           0            1           0   \n",
       "3             1            0           0           0            1           0   \n",
       "4             1            0           0           0            1           0   \n",
       "\n",
       "   maint_med  maint_low  doors_2  doors_3  ...  persons_2  persons_4  \\\n",
       "0          0          0        1        0  ...          1          0   \n",
       "1          0          0        1        0  ...          1          0   \n",
       "2          0          0        1        0  ...          1          0   \n",
       "3          0          0        1        0  ...          1          0   \n",
       "4          0          0        1        0  ...          1          0   \n",
       "\n",
       "   persons_more  lug_boot_small  lug_boot_med  lug_boot_big  safety_low  \\\n",
       "0             0               1             0             0           1   \n",
       "1             0               1             0             0           0   \n",
       "2             0               1             0             0           0   \n",
       "3             0               0             1             0           1   \n",
       "4             0               0             1             0           0   \n",
       "\n",
       "   safety_med  safety_high  class  \n",
       "0           0            0  unacc  \n",
       "1           1            0  unacc  \n",
       "2           0            1  unacc  \n",
       "3           0            0  unacc  \n",
       "4           1            0  unacc  \n",
       "\n",
       "[5 rows x 22 columns]"
      ]
     },
     "execution_count": 62,
     "metadata": {},
     "output_type": "execute_result"
    }
   ],
   "source": [
    "# Example usage:\n",
    "encoded_data_one_hot = encode_dataframe(data, target_column='class', method='onehot')\n",
    "\n",
    "encoded_data_one_hot.head()"
   ]
  },
  {
   "cell_type": "code",
   "execution_count": 63,
   "id": "1e572120",
   "metadata": {},
   "outputs": [
    {
     "data": {
      "application/vnd.microsoft.datawrangler.viewer.v0+json": {
       "columns": [
        {
         "name": "index",
         "rawType": "int64",
         "type": "integer"
        },
        {
         "name": "buying_0",
         "rawType": "int64",
         "type": "integer"
        },
        {
         "name": "buying_1",
         "rawType": "int64",
         "type": "integer"
        },
        {
         "name": "buying_2",
         "rawType": "int64",
         "type": "integer"
        },
        {
         "name": "maint_0",
         "rawType": "int64",
         "type": "integer"
        },
        {
         "name": "maint_1",
         "rawType": "int64",
         "type": "integer"
        },
        {
         "name": "maint_2",
         "rawType": "int64",
         "type": "integer"
        },
        {
         "name": "doors_0",
         "rawType": "int64",
         "type": "integer"
        },
        {
         "name": "doors_1",
         "rawType": "int64",
         "type": "integer"
        },
        {
         "name": "doors_2",
         "rawType": "int64",
         "type": "integer"
        },
        {
         "name": "persons_0",
         "rawType": "int64",
         "type": "integer"
        },
        {
         "name": "persons_1",
         "rawType": "int64",
         "type": "integer"
        },
        {
         "name": "lug_boot_0",
         "rawType": "int64",
         "type": "integer"
        },
        {
         "name": "lug_boot_1",
         "rawType": "int64",
         "type": "integer"
        },
        {
         "name": "safety_0",
         "rawType": "int64",
         "type": "integer"
        },
        {
         "name": "safety_1",
         "rawType": "int64",
         "type": "integer"
        },
        {
         "name": "class",
         "rawType": "object",
         "type": "string"
        }
       ],
       "conversionMethod": "pd.DataFrame",
       "ref": "396518fb-4eb2-43e1-ab12-baafa2826e35",
       "rows": [
        [
         "0",
         "0",
         "0",
         "1",
         "0",
         "0",
         "1",
         "0",
         "0",
         "1",
         "0",
         "1",
         "0",
         "1",
         "0",
         "1",
         "unacc"
        ],
        [
         "1",
         "0",
         "0",
         "1",
         "0",
         "0",
         "1",
         "0",
         "0",
         "1",
         "0",
         "1",
         "0",
         "1",
         "1",
         "0",
         "unacc"
        ],
        [
         "2",
         "0",
         "0",
         "1",
         "0",
         "0",
         "1",
         "0",
         "0",
         "1",
         "0",
         "1",
         "0",
         "1",
         "1",
         "1",
         "unacc"
        ],
        [
         "3",
         "0",
         "0",
         "1",
         "0",
         "0",
         "1",
         "0",
         "0",
         "1",
         "0",
         "1",
         "1",
         "0",
         "0",
         "1",
         "unacc"
        ],
        [
         "4",
         "0",
         "0",
         "1",
         "0",
         "0",
         "1",
         "0",
         "0",
         "1",
         "0",
         "1",
         "1",
         "0",
         "1",
         "0",
         "unacc"
        ]
       ],
       "shape": {
        "columns": 16,
        "rows": 5
       }
      },
      "text/html": [
       "<div>\n",
       "<style scoped>\n",
       "    .dataframe tbody tr th:only-of-type {\n",
       "        vertical-align: middle;\n",
       "    }\n",
       "\n",
       "    .dataframe tbody tr th {\n",
       "        vertical-align: top;\n",
       "    }\n",
       "\n",
       "    .dataframe thead th {\n",
       "        text-align: right;\n",
       "    }\n",
       "</style>\n",
       "<table border=\"1\" class=\"dataframe\">\n",
       "  <thead>\n",
       "    <tr style=\"text-align: right;\">\n",
       "      <th></th>\n",
       "      <th>buying_0</th>\n",
       "      <th>buying_1</th>\n",
       "      <th>buying_2</th>\n",
       "      <th>maint_0</th>\n",
       "      <th>maint_1</th>\n",
       "      <th>maint_2</th>\n",
       "      <th>doors_0</th>\n",
       "      <th>doors_1</th>\n",
       "      <th>doors_2</th>\n",
       "      <th>persons_0</th>\n",
       "      <th>persons_1</th>\n",
       "      <th>lug_boot_0</th>\n",
       "      <th>lug_boot_1</th>\n",
       "      <th>safety_0</th>\n",
       "      <th>safety_1</th>\n",
       "      <th>class</th>\n",
       "    </tr>\n",
       "  </thead>\n",
       "  <tbody>\n",
       "    <tr>\n",
       "      <th>0</th>\n",
       "      <td>0</td>\n",
       "      <td>0</td>\n",
       "      <td>1</td>\n",
       "      <td>0</td>\n",
       "      <td>0</td>\n",
       "      <td>1</td>\n",
       "      <td>0</td>\n",
       "      <td>0</td>\n",
       "      <td>1</td>\n",
       "      <td>0</td>\n",
       "      <td>1</td>\n",
       "      <td>0</td>\n",
       "      <td>1</td>\n",
       "      <td>0</td>\n",
       "      <td>1</td>\n",
       "      <td>unacc</td>\n",
       "    </tr>\n",
       "    <tr>\n",
       "      <th>1</th>\n",
       "      <td>0</td>\n",
       "      <td>0</td>\n",
       "      <td>1</td>\n",
       "      <td>0</td>\n",
       "      <td>0</td>\n",
       "      <td>1</td>\n",
       "      <td>0</td>\n",
       "      <td>0</td>\n",
       "      <td>1</td>\n",
       "      <td>0</td>\n",
       "      <td>1</td>\n",
       "      <td>0</td>\n",
       "      <td>1</td>\n",
       "      <td>1</td>\n",
       "      <td>0</td>\n",
       "      <td>unacc</td>\n",
       "    </tr>\n",
       "    <tr>\n",
       "      <th>2</th>\n",
       "      <td>0</td>\n",
       "      <td>0</td>\n",
       "      <td>1</td>\n",
       "      <td>0</td>\n",
       "      <td>0</td>\n",
       "      <td>1</td>\n",
       "      <td>0</td>\n",
       "      <td>0</td>\n",
       "      <td>1</td>\n",
       "      <td>0</td>\n",
       "      <td>1</td>\n",
       "      <td>0</td>\n",
       "      <td>1</td>\n",
       "      <td>1</td>\n",
       "      <td>1</td>\n",
       "      <td>unacc</td>\n",
       "    </tr>\n",
       "    <tr>\n",
       "      <th>3</th>\n",
       "      <td>0</td>\n",
       "      <td>0</td>\n",
       "      <td>1</td>\n",
       "      <td>0</td>\n",
       "      <td>0</td>\n",
       "      <td>1</td>\n",
       "      <td>0</td>\n",
       "      <td>0</td>\n",
       "      <td>1</td>\n",
       "      <td>0</td>\n",
       "      <td>1</td>\n",
       "      <td>1</td>\n",
       "      <td>0</td>\n",
       "      <td>0</td>\n",
       "      <td>1</td>\n",
       "      <td>unacc</td>\n",
       "    </tr>\n",
       "    <tr>\n",
       "      <th>4</th>\n",
       "      <td>0</td>\n",
       "      <td>0</td>\n",
       "      <td>1</td>\n",
       "      <td>0</td>\n",
       "      <td>0</td>\n",
       "      <td>1</td>\n",
       "      <td>0</td>\n",
       "      <td>0</td>\n",
       "      <td>1</td>\n",
       "      <td>0</td>\n",
       "      <td>1</td>\n",
       "      <td>1</td>\n",
       "      <td>0</td>\n",
       "      <td>1</td>\n",
       "      <td>0</td>\n",
       "      <td>unacc</td>\n",
       "    </tr>\n",
       "  </tbody>\n",
       "</table>\n",
       "</div>"
      ],
      "text/plain": [
       "   buying_0  buying_1  buying_2  maint_0  maint_1  maint_2  doors_0  doors_1  \\\n",
       "0         0         0         1        0        0        1        0        0   \n",
       "1         0         0         1        0        0        1        0        0   \n",
       "2         0         0         1        0        0        1        0        0   \n",
       "3         0         0         1        0        0        1        0        0   \n",
       "4         0         0         1        0        0        1        0        0   \n",
       "\n",
       "   doors_2  persons_0  persons_1  lug_boot_0  lug_boot_1  safety_0  safety_1  \\\n",
       "0        1          0          1           0           1         0         1   \n",
       "1        1          0          1           0           1         1         0   \n",
       "2        1          0          1           0           1         1         1   \n",
       "3        1          0          1           1           0         0         1   \n",
       "4        1          0          1           1           0         1         0   \n",
       "\n",
       "   class  \n",
       "0  unacc  \n",
       "1  unacc  \n",
       "2  unacc  \n",
       "3  unacc  \n",
       "4  unacc  "
      ]
     },
     "execution_count": 63,
     "metadata": {},
     "output_type": "execute_result"
    }
   ],
   "source": [
    "# Example usage:\n",
    "encoded_data_binary = encode_dataframe(data, target_column='class', method='binary')\n",
    "\n",
    "encoded_data_binary.head()"
   ]
  },
  {
   "cell_type": "code",
   "execution_count": 9,
   "id": "e4bac1ba",
   "metadata": {},
   "outputs": [
    {
     "data": {
      "application/vnd.microsoft.datawrangler.viewer.v0+json": {
       "columns": [
        {
         "name": "index",
         "rawType": "int64",
         "type": "integer"
        },
        {
         "name": "buying",
         "rawType": "float64",
         "type": "float"
        },
        {
         "name": "maint",
         "rawType": "float64",
         "type": "float"
        },
        {
         "name": "doors",
         "rawType": "float64",
         "type": "float"
        },
        {
         "name": "persons",
         "rawType": "float64",
         "type": "float"
        },
        {
         "name": "lug_boot",
         "rawType": "float64",
         "type": "float"
        },
        {
         "name": "safety",
         "rawType": "float64",
         "type": "float"
        },
        {
         "name": "class",
         "rawType": "object",
         "type": "string"
        }
       ],
       "conversionMethod": "pd.DataFrame",
       "ref": "1d9fd49e-fc6d-4a94-b404-73c8fb750c86",
       "rows": [
        [
         "0",
         "1.6666666666666667",
         "1.6666666666666667",
         "1.6134259259259258",
         "2.0",
         "1.5989583333333333",
         "2.0",
         "unacc"
        ],
        [
         "1",
         "1.6666666666666667",
         "1.6666666666666667",
         "1.6134259259259258",
         "2.0",
         "1.5989583333333333",
         "1.3072916666666667",
         "unacc"
        ],
        [
         "2",
         "1.6666666666666667",
         "1.6666666666666667",
         "1.6134259259259258",
         "2.0",
         "1.5989583333333333",
         "1.3524305555555556",
         "unacc"
        ],
        [
         "3",
         "1.6666666666666667",
         "1.6666666666666667",
         "1.6134259259259258",
         "2.0",
         "1.5329861111111112",
         "2.0",
         "unacc"
        ],
        [
         "4",
         "1.6666666666666667",
         "1.6666666666666667",
         "1.6134259259259258",
         "2.0",
         "1.5329861111111112",
         "1.3072916666666667",
         "unacc"
        ]
       ],
       "shape": {
        "columns": 7,
        "rows": 5
       }
      },
      "text/html": [
       "<div>\n",
       "<style scoped>\n",
       "    .dataframe tbody tr th:only-of-type {\n",
       "        vertical-align: middle;\n",
       "    }\n",
       "\n",
       "    .dataframe tbody tr th {\n",
       "        vertical-align: top;\n",
       "    }\n",
       "\n",
       "    .dataframe thead th {\n",
       "        text-align: right;\n",
       "    }\n",
       "</style>\n",
       "<table border=\"1\" class=\"dataframe\">\n",
       "  <thead>\n",
       "    <tr style=\"text-align: right;\">\n",
       "      <th></th>\n",
       "      <th>buying</th>\n",
       "      <th>maint</th>\n",
       "      <th>doors</th>\n",
       "      <th>persons</th>\n",
       "      <th>lug_boot</th>\n",
       "      <th>safety</th>\n",
       "      <th>class</th>\n",
       "    </tr>\n",
       "  </thead>\n",
       "  <tbody>\n",
       "    <tr>\n",
       "      <th>0</th>\n",
       "      <td>1.666667</td>\n",
       "      <td>1.666667</td>\n",
       "      <td>1.613426</td>\n",
       "      <td>2.0</td>\n",
       "      <td>1.598958</td>\n",
       "      <td>2.000000</td>\n",
       "      <td>unacc</td>\n",
       "    </tr>\n",
       "    <tr>\n",
       "      <th>1</th>\n",
       "      <td>1.666667</td>\n",
       "      <td>1.666667</td>\n",
       "      <td>1.613426</td>\n",
       "      <td>2.0</td>\n",
       "      <td>1.598958</td>\n",
       "      <td>1.307292</td>\n",
       "      <td>unacc</td>\n",
       "    </tr>\n",
       "    <tr>\n",
       "      <th>2</th>\n",
       "      <td>1.666667</td>\n",
       "      <td>1.666667</td>\n",
       "      <td>1.613426</td>\n",
       "      <td>2.0</td>\n",
       "      <td>1.598958</td>\n",
       "      <td>1.352431</td>\n",
       "      <td>unacc</td>\n",
       "    </tr>\n",
       "    <tr>\n",
       "      <th>3</th>\n",
       "      <td>1.666667</td>\n",
       "      <td>1.666667</td>\n",
       "      <td>1.613426</td>\n",
       "      <td>2.0</td>\n",
       "      <td>1.532986</td>\n",
       "      <td>2.000000</td>\n",
       "      <td>unacc</td>\n",
       "    </tr>\n",
       "    <tr>\n",
       "      <th>4</th>\n",
       "      <td>1.666667</td>\n",
       "      <td>1.666667</td>\n",
       "      <td>1.613426</td>\n",
       "      <td>2.0</td>\n",
       "      <td>1.532986</td>\n",
       "      <td>1.307292</td>\n",
       "      <td>unacc</td>\n",
       "    </tr>\n",
       "  </tbody>\n",
       "</table>\n",
       "</div>"
      ],
      "text/plain": [
       "     buying     maint     doors  persons  lug_boot    safety  class\n",
       "0  1.666667  1.666667  1.613426      2.0  1.598958  2.000000  unacc\n",
       "1  1.666667  1.666667  1.613426      2.0  1.598958  1.307292  unacc\n",
       "2  1.666667  1.666667  1.613426      2.0  1.598958  1.352431  unacc\n",
       "3  1.666667  1.666667  1.613426      2.0  1.532986  2.000000  unacc\n",
       "4  1.666667  1.666667  1.613426      2.0  1.532986  1.307292  unacc"
      ]
     },
     "execution_count": 9,
     "metadata": {},
     "output_type": "execute_result"
    }
   ],
   "source": [
    "# Example usage:\n",
    "encoded_data_target = encode_dataframe(data, target_column='class', method='target')\n",
    "\n",
    "encoded_data_target.head()"
   ]
  },
  {
   "cell_type": "code",
   "execution_count": 97,
   "id": "00fe4ca9",
   "metadata": {},
   "outputs": [
    {
     "data": {
      "application/vnd.microsoft.datawrangler.viewer.v0+json": {
       "columns": [
        {
         "name": "index",
         "rawType": "int64",
         "type": "integer"
        },
        {
         "name": "buying",
         "rawType": "float64",
         "type": "float"
        },
        {
         "name": "maint",
         "rawType": "float64",
         "type": "float"
        },
        {
         "name": "doors",
         "rawType": "float64",
         "type": "float"
        },
        {
         "name": "persons",
         "rawType": "float64",
         "type": "float"
        },
        {
         "name": "lug_boot",
         "rawType": "float64",
         "type": "float"
        },
        {
         "name": "safety",
         "rawType": "float64",
         "type": "float"
        },
        {
         "name": "class",
         "rawType": "object",
         "type": "string"
        }
       ],
       "conversionMethod": "pd.DataFrame",
       "ref": "745b8b30-8330-4236-80e6-30df5b95da03",
       "rows": [
        [
         "0",
         "0.25",
         "0.25",
         "0.25",
         "0.3333333333333333",
         "0.3333333333333333",
         "0.3333333333333333",
         "unacc"
        ],
        [
         "1",
         "0.25",
         "0.25",
         "0.25",
         "0.3333333333333333",
         "0.3333333333333333",
         "0.3333333333333333",
         "unacc"
        ],
        [
         "2",
         "0.25",
         "0.25",
         "0.25",
         "0.3333333333333333",
         "0.3333333333333333",
         "0.3333333333333333",
         "unacc"
        ],
        [
         "3",
         "0.25",
         "0.25",
         "0.25",
         "0.3333333333333333",
         "0.3333333333333333",
         "0.3333333333333333",
         "unacc"
        ],
        [
         "4",
         "0.25",
         "0.25",
         "0.25",
         "0.3333333333333333",
         "0.3333333333333333",
         "0.3333333333333333",
         "unacc"
        ]
       ],
       "shape": {
        "columns": 7,
        "rows": 5
       }
      },
      "text/html": [
       "<div>\n",
       "<style scoped>\n",
       "    .dataframe tbody tr th:only-of-type {\n",
       "        vertical-align: middle;\n",
       "    }\n",
       "\n",
       "    .dataframe tbody tr th {\n",
       "        vertical-align: top;\n",
       "    }\n",
       "\n",
       "    .dataframe thead th {\n",
       "        text-align: right;\n",
       "    }\n",
       "</style>\n",
       "<table border=\"1\" class=\"dataframe\">\n",
       "  <thead>\n",
       "    <tr style=\"text-align: right;\">\n",
       "      <th></th>\n",
       "      <th>buying</th>\n",
       "      <th>maint</th>\n",
       "      <th>doors</th>\n",
       "      <th>persons</th>\n",
       "      <th>lug_boot</th>\n",
       "      <th>safety</th>\n",
       "      <th>class</th>\n",
       "    </tr>\n",
       "  </thead>\n",
       "  <tbody>\n",
       "    <tr>\n",
       "      <th>0</th>\n",
       "      <td>0.25</td>\n",
       "      <td>0.25</td>\n",
       "      <td>0.25</td>\n",
       "      <td>0.333333</td>\n",
       "      <td>0.333333</td>\n",
       "      <td>0.333333</td>\n",
       "      <td>unacc</td>\n",
       "    </tr>\n",
       "    <tr>\n",
       "      <th>1</th>\n",
       "      <td>0.25</td>\n",
       "      <td>0.25</td>\n",
       "      <td>0.25</td>\n",
       "      <td>0.333333</td>\n",
       "      <td>0.333333</td>\n",
       "      <td>0.333333</td>\n",
       "      <td>unacc</td>\n",
       "    </tr>\n",
       "    <tr>\n",
       "      <th>2</th>\n",
       "      <td>0.25</td>\n",
       "      <td>0.25</td>\n",
       "      <td>0.25</td>\n",
       "      <td>0.333333</td>\n",
       "      <td>0.333333</td>\n",
       "      <td>0.333333</td>\n",
       "      <td>unacc</td>\n",
       "    </tr>\n",
       "    <tr>\n",
       "      <th>3</th>\n",
       "      <td>0.25</td>\n",
       "      <td>0.25</td>\n",
       "      <td>0.25</td>\n",
       "      <td>0.333333</td>\n",
       "      <td>0.333333</td>\n",
       "      <td>0.333333</td>\n",
       "      <td>unacc</td>\n",
       "    </tr>\n",
       "    <tr>\n",
       "      <th>4</th>\n",
       "      <td>0.25</td>\n",
       "      <td>0.25</td>\n",
       "      <td>0.25</td>\n",
       "      <td>0.333333</td>\n",
       "      <td>0.333333</td>\n",
       "      <td>0.333333</td>\n",
       "      <td>unacc</td>\n",
       "    </tr>\n",
       "  </tbody>\n",
       "</table>\n",
       "</div>"
      ],
      "text/plain": [
       "   buying  maint  doors   persons  lug_boot    safety  class\n",
       "0    0.25   0.25   0.25  0.333333  0.333333  0.333333  unacc\n",
       "1    0.25   0.25   0.25  0.333333  0.333333  0.333333  unacc\n",
       "2    0.25   0.25   0.25  0.333333  0.333333  0.333333  unacc\n",
       "3    0.25   0.25   0.25  0.333333  0.333333  0.333333  unacc\n",
       "4    0.25   0.25   0.25  0.333333  0.333333  0.333333  unacc"
      ]
     },
     "execution_count": 97,
     "metadata": {},
     "output_type": "execute_result"
    }
   ],
   "source": [
    "# Example usage:\n",
    "encoded_data_frequency = encode_dataframe(data, target_column='class', method='frequency')\n",
    "\n",
    "encoded_data_frequency.head()"
   ]
  },
  {
   "cell_type": "markdown",
   "id": "7ecf14bf",
   "metadata": {},
   "source": [
    "# 3 Using each of the above encoded dataframes carry out the following steps:\n",
    "\n",
    "a. Split the available data into train / test sets\n",
    "b. Create a classification model (e.g. Random Forest Classification) to predict the “class” using all the other columns.\n",
    "c. Derive the test and train metrics for each class: Precision, recall, F1-score, overall accuracy, and save these metrics in a dataframe.\n",
    "d. Create and print the Confusion Matrix."
   ]
  },
  {
   "cell_type": "code",
   "execution_count": 159,
   "id": "35e11395",
   "metadata": {},
   "outputs": [],
   "source": [
    "from sklearn.model_selection import train_test_split\n",
    "from sklearn.ensemble import RandomForestClassifier\n",
    "from sklearn.metrics import classification_report, accuracy_score, confusion_matrix\n",
    "import pandas as pd\n",
    "\n",
    "def evaluate_model(encoded_df, target_column):\n",
    "    \"\"\"\n",
    "    Splits the data, trains a Random Forest Classifier, and evaluates the model.\n",
    "    \n",
    "    Parameters:\n",
    "        encoded_df (pd.DataFrame): The encoded DataFrame.\n",
    "        target_column (str): The target column name.\n",
    "    \n",
    "    Returns:\n",
    "        pd.DataFrame: DataFrame containing precision, recall, F1-score, and accuracy.\n",
    "        np.ndarray: Confusion matrix.\n",
    "    \"\"\"\n",
    "    # Split data into features (X) and target (y)\n",
    "    X = encoded_df.drop(columns=[target_column])\n",
    "    y = encoded_df[target_column]\n",
    "    \n",
    "    # Split into train and test sets\n",
    "    X_train, X_test, y_train, y_test = train_test_split(X, y, test_size=0.3, stratify=y, random_state=42)\n",
    "    \n",
    "    # Train Random Forest Classifier\n",
    "    model = RandomForestClassifier(random_state=42)\n",
    "    model.fit(X_train, y_train)\n",
    "    \n",
    "    # Make predictions\n",
    "    y_pred = model.predict(X_test)\n",
    "    y_proba= model.predict_proba(X_test)\n",
    "    # Calculate metrics\n",
    "    report = classification_report(y_test, y_pred, output_dict=True)\n",
    "    metrics_df = pd.DataFrame(report).transpose()\n",
    "    overall_accuracy = accuracy_score(y_test, y_pred)\n",
    "    \n",
    "    \n",
    "    # Confusion Matrix\n",
    "    conf_matrix = confusion_matrix(y_test, y_pred)\n",
    "    \n",
    "    return overall_accuracy, metrics_df, conf_matrix, y_proba, y_test "
   ]
  },
  {
   "cell_type": "code",
   "execution_count": 178,
   "id": "9be8a2fb",
   "metadata": {},
   "outputs": [],
   "source": [
    "\n",
    "import seaborn as sns\n",
    "import matplotlib.pyplot as plt\n",
    "\n",
    "# Plot confusion matrix for one of the encoded datasets\n",
    "def plot_confusion_matrix(conf_matrix, class_names):\n",
    "    plt.figure(figsize=(8, 6))\n",
    "    sns.heatmap(conf_matrix, annot=True, fmt=\"d\", cmap=\"Blues\", xticklabels=class_names, yticklabels=class_names)\n",
    "    plt.xticks(rotation=45) \n",
    "    plt.xlabel(\"Predicted Labels\")\n",
    "    plt.ylabel(\"True Labels\")\n",
    "    plt.title(\"Confusion Matrix\")\n",
    "    plt.show()\n",
    "\n",
    "from sklearn.metrics import roc_curve, auc\n",
    "from sklearn.preprocessing import label_binarize\n",
    "import matplotlib.pyplot as plt\n"
   ]
  },
  {
   "cell_type": "code",
   "execution_count": 176,
   "id": "3144e8f1",
   "metadata": {},
   "outputs": [
    {
     "name": "stdout",
     "output_type": "stream",
     "text": [
      "Metrics for Integer/Ordinal Encoding:\n"
     ]
    },
    {
     "data": {
      "application/vnd.microsoft.datawrangler.viewer.v0+json": {
       "columns": [
        {
         "name": "index",
         "rawType": "object",
         "type": "string"
        },
        {
         "name": "precision",
         "rawType": "float64",
         "type": "float"
        },
        {
         "name": "recall",
         "rawType": "float64",
         "type": "float"
        },
        {
         "name": "f1-score",
         "rawType": "float64",
         "type": "float"
        },
        {
         "name": "support",
         "rawType": "float64",
         "type": "float"
        }
       ],
       "conversionMethod": "pd.DataFrame",
       "ref": "1f94dd14-edd6-4af1-b749-e963813a6676",
       "rows": [
        [
         "acc",
         "0.9338842975206612",
         "0.9826086956521739",
         "0.9576271186440678",
         "115.0"
        ],
        [
         "good",
         "0.9523809523809523",
         "0.9523809523809523",
         "0.9523809523809523",
         "21.0"
        ],
        [
         "unacc",
         "0.9944289693593314",
         "0.9834710743801653",
         "0.9889196675900277",
         "363.0"
        ],
        [
         "vgood",
         "1.0",
         "0.9",
         "0.9473684210526315",
         "20.0"
        ],
        [
         "accuracy",
         "0.9788053949903661",
         "0.9788053949903661",
         "0.9788053949903661",
         "0.9788053949903661"
        ],
        [
         "macro avg",
         "0.9701735548152363",
         "0.9546151806033228",
         "0.9615740399169198",
         "519.0"
        ],
        [
         "weighted avg",
         "0.9795268017192936",
         "0.9788053949903661",
         "0.9789062165709065",
         "519.0"
        ]
       ],
       "shape": {
        "columns": 4,
        "rows": 7
       }
      },
      "text/html": [
       "<div>\n",
       "<style scoped>\n",
       "    .dataframe tbody tr th:only-of-type {\n",
       "        vertical-align: middle;\n",
       "    }\n",
       "\n",
       "    .dataframe tbody tr th {\n",
       "        vertical-align: top;\n",
       "    }\n",
       "\n",
       "    .dataframe thead th {\n",
       "        text-align: right;\n",
       "    }\n",
       "</style>\n",
       "<table border=\"1\" class=\"dataframe\">\n",
       "  <thead>\n",
       "    <tr style=\"text-align: right;\">\n",
       "      <th></th>\n",
       "      <th>precision</th>\n",
       "      <th>recall</th>\n",
       "      <th>f1-score</th>\n",
       "      <th>support</th>\n",
       "    </tr>\n",
       "  </thead>\n",
       "  <tbody>\n",
       "    <tr>\n",
       "      <th>acc</th>\n",
       "      <td>0.933884</td>\n",
       "      <td>0.982609</td>\n",
       "      <td>0.957627</td>\n",
       "      <td>115.000000</td>\n",
       "    </tr>\n",
       "    <tr>\n",
       "      <th>good</th>\n",
       "      <td>0.952381</td>\n",
       "      <td>0.952381</td>\n",
       "      <td>0.952381</td>\n",
       "      <td>21.000000</td>\n",
       "    </tr>\n",
       "    <tr>\n",
       "      <th>unacc</th>\n",
       "      <td>0.994429</td>\n",
       "      <td>0.983471</td>\n",
       "      <td>0.988920</td>\n",
       "      <td>363.000000</td>\n",
       "    </tr>\n",
       "    <tr>\n",
       "      <th>vgood</th>\n",
       "      <td>1.000000</td>\n",
       "      <td>0.900000</td>\n",
       "      <td>0.947368</td>\n",
       "      <td>20.000000</td>\n",
       "    </tr>\n",
       "    <tr>\n",
       "      <th>accuracy</th>\n",
       "      <td>0.978805</td>\n",
       "      <td>0.978805</td>\n",
       "      <td>0.978805</td>\n",
       "      <td>0.978805</td>\n",
       "    </tr>\n",
       "    <tr>\n",
       "      <th>macro avg</th>\n",
       "      <td>0.970174</td>\n",
       "      <td>0.954615</td>\n",
       "      <td>0.961574</td>\n",
       "      <td>519.000000</td>\n",
       "    </tr>\n",
       "    <tr>\n",
       "      <th>weighted avg</th>\n",
       "      <td>0.979527</td>\n",
       "      <td>0.978805</td>\n",
       "      <td>0.978906</td>\n",
       "      <td>519.000000</td>\n",
       "    </tr>\n",
       "  </tbody>\n",
       "</table>\n",
       "</div>"
      ],
      "text/plain": [
       "              precision    recall  f1-score     support\n",
       "acc            0.933884  0.982609  0.957627  115.000000\n",
       "good           0.952381  0.952381  0.952381   21.000000\n",
       "unacc          0.994429  0.983471  0.988920  363.000000\n",
       "vgood          1.000000  0.900000  0.947368   20.000000\n",
       "accuracy       0.978805  0.978805  0.978805    0.978805\n",
       "macro avg      0.970174  0.954615  0.961574  519.000000\n",
       "weighted avg   0.979527  0.978805  0.978906  519.000000"
      ]
     },
     "execution_count": 176,
     "metadata": {},
     "output_type": "execute_result"
    }
   ],
   "source": [
    "# Example usage for each encoded DataFrame\n",
    "\n",
    "# Integer/Ordinal Encoding\n",
    "overall_accuracy_iteger, metrics_integer, conf_matrix_integer, y_proba_int, y_test_int = evaluate_model(encoded_data_one_integer, target_column='class')\n",
    "print(\"Metrics for Integer/Ordinal Encoding:\")\n",
    "metrics_integer\n",
    "\n",
    "# print(\"Accuracy:\", metrics_integer.loc['accuracy'])\n"
   ]
  },
  {
   "cell_type": "code",
   "execution_count": 179,
   "id": "b3c891dd",
   "metadata": {},
   "outputs": [
    {
     "data": {
      "image/png": "[encoded data removed]",
      "text/plain": [
       "<Figure size 800x600 with 2 Axes>"
      ]
     },
     "metadata": {},
     "output_type": "display_data"
    }
   ],
   "source": [
    "# Plot confusion matrix \n",
    "plot_confusion_matrix(conf_matrix_integer, class_names=encoded_data_one_integer['class'].unique().tolist())\n"
   ]
  },
  {
   "cell_type": "code",
   "execution_count": 98,
   "id": "1fab16a0",
   "metadata": {},
   "outputs": [
    {
     "data": {
      "text/plain": [
       "0.9633911368015414"
      ]
     },
     "execution_count": 98,
     "metadata": {},
     "output_type": "execute_result"
    }
   ],
   "source": [
    "# overall accuracy \n",
    "\n",
    "overall_accuracy_iteger"
   ]
  },
  {
   "cell_type": "code",
   "execution_count": 165,
   "id": "422c6695",
   "metadata": {},
   "outputs": [
    {
     "name": "stdout",
     "output_type": "stream",
     "text": [
      "Metrics for one Encoding:\n"
     ]
    },
    {
     "data": {
      "application/vnd.microsoft.datawrangler.viewer.v0+json": {
       "columns": [
        {
         "name": "index",
         "rawType": "object",
         "type": "string"
        },
        {
         "name": "precision",
         "rawType": "float64",
         "type": "float"
        },
        {
         "name": "recall",
         "rawType": "float64",
         "type": "float"
        },
        {
         "name": "f1-score",
         "rawType": "float64",
         "type": "float"
        },
        {
         "name": "support",
         "rawType": "float64",
         "type": "float"
        }
       ],
       "conversionMethod": "pd.DataFrame",
       "ref": "956cccdc-510d-46fe-bb7a-f2219640764f",
       "rows": [
        [
         "acc",
         "0.9166666666666666",
         "0.9565217391304348",
         "0.9361702127659575",
         "115.0"
        ],
        [
         "good",
         "1.0",
         "0.8095238095238095",
         "0.8947368421052632",
         "21.0"
        ],
        [
         "unacc",
         "0.9889196675900277",
         "0.9834710743801653",
         "0.9861878453038674",
         "363.0"
        ],
        [
         "vgood",
         "0.9047619047619048",
         "0.95",
         "0.926829268292683",
         "20.0"
        ],
        [
         "accuracy",
         "0.9691714836223507",
         "0.9691714836223507",
         "0.9691714836223507",
         "0.9691714836223507"
        ],
        [
         "macro avg",
         "0.9525870597546497",
         "0.9248791557586025",
         "0.9359810421169428",
         "519.0"
        ],
        [
         "weighted avg",
         "0.9701151138672154",
         "0.9691714836223507",
         "0.969117189524958",
         "519.0"
        ]
       ],
       "shape": {
        "columns": 4,
        "rows": 7
       }
      },
      "text/html": [
       "<div>\n",
       "<style scoped>\n",
       "    .dataframe tbody tr th:only-of-type {\n",
       "        vertical-align: middle;\n",
       "    }\n",
       "\n",
       "    .dataframe tbody tr th {\n",
       "        vertical-align: top;\n",
       "    }\n",
       "\n",
       "    .dataframe thead th {\n",
       "        text-align: right;\n",
       "    }\n",
       "</style>\n",
       "<table border=\"1\" class=\"dataframe\">\n",
       "  <thead>\n",
       "    <tr style=\"text-align: right;\">\n",
       "      <th></th>\n",
       "      <th>precision</th>\n",
       "      <th>recall</th>\n",
       "      <th>f1-score</th>\n",
       "      <th>support</th>\n",
       "    </tr>\n",
       "  </thead>\n",
       "  <tbody>\n",
       "    <tr>\n",
       "      <th>acc</th>\n",
       "      <td>0.916667</td>\n",
       "      <td>0.956522</td>\n",
       "      <td>0.936170</td>\n",
       "      <td>115.000000</td>\n",
       "    </tr>\n",
       "    <tr>\n",
       "      <th>good</th>\n",
       "      <td>1.000000</td>\n",
       "      <td>0.809524</td>\n",
       "      <td>0.894737</td>\n",
       "      <td>21.000000</td>\n",
       "    </tr>\n",
       "    <tr>\n",
       "      <th>unacc</th>\n",
       "      <td>0.988920</td>\n",
       "      <td>0.983471</td>\n",
       "      <td>0.986188</td>\n",
       "      <td>363.000000</td>\n",
       "    </tr>\n",
       "    <tr>\n",
       "      <th>vgood</th>\n",
       "      <td>0.904762</td>\n",
       "      <td>0.950000</td>\n",
       "      <td>0.926829</td>\n",
       "      <td>20.000000</td>\n",
       "    </tr>\n",
       "    <tr>\n",
       "      <th>accuracy</th>\n",
       "      <td>0.969171</td>\n",
       "      <td>0.969171</td>\n",
       "      <td>0.969171</td>\n",
       "      <td>0.969171</td>\n",
       "    </tr>\n",
       "    <tr>\n",
       "      <th>macro avg</th>\n",
       "      <td>0.952587</td>\n",
       "      <td>0.924879</td>\n",
       "      <td>0.935981</td>\n",
       "      <td>519.000000</td>\n",
       "    </tr>\n",
       "    <tr>\n",
       "      <th>weighted avg</th>\n",
       "      <td>0.970115</td>\n",
       "      <td>0.969171</td>\n",
       "      <td>0.969117</td>\n",
       "      <td>519.000000</td>\n",
       "    </tr>\n",
       "  </tbody>\n",
       "</table>\n",
       "</div>"
      ],
      "text/plain": [
       "              precision    recall  f1-score     support\n",
       "acc            0.916667  0.956522  0.936170  115.000000\n",
       "good           1.000000  0.809524  0.894737   21.000000\n",
       "unacc          0.988920  0.983471  0.986188  363.000000\n",
       "vgood          0.904762  0.950000  0.926829   20.000000\n",
       "accuracy       0.969171  0.969171  0.969171    0.969171\n",
       "macro avg      0.952587  0.924879  0.935981  519.000000\n",
       "weighted avg   0.970115  0.969171  0.969117  519.000000"
      ]
     },
     "execution_count": 165,
     "metadata": {},
     "output_type": "execute_result"
    }
   ],
   "source": [
    "# Example usage for each encoded DataFrame\n",
    "\n",
    "# Integer/Ordinal Encoding\n",
    "overall_accuracy_one_hot, metrics_one_hot, conf_matrix_one_hot, y_proba_one_hot, y_test_onehot= evaluate_model(encoded_data_one_hot, target_column='class')\n",
    "print(\"Metrics for one Encoding:\")\n",
    "metrics_one_hot\n",
    "\n",
    "# print(\"Accuracy:\", metrics_integer.loc['accuracy'])\n"
   ]
  },
  {
   "cell_type": "code",
   "execution_count": 166,
   "id": "1009f4e0",
   "metadata": {},
   "outputs": [
    {
     "data": {
      "image/png": "[encoded data removed]",
      "text/plain": [
       "<Figure size 800x600 with 2 Axes>"
      ]
     },
     "metadata": {},
     "output_type": "display_data"
    }
   ],
   "source": [
    "plot_confusion_matrix(conf_matrix_one_hot, class_names=y_test_int.unique().tolist())  "
   ]
  },
  {
   "cell_type": "code",
   "execution_count": 88,
   "id": "b51f8692",
   "metadata": {},
   "outputs": [
    {
     "data": {
      "text/plain": [
       "0.9576107899807321"
      ]
     },
     "execution_count": 88,
     "metadata": {},
     "output_type": "execute_result"
    }
   ],
   "source": [
    "overall_accuracy_one_hot"
   ]
  },
  {
   "cell_type": "code",
   "execution_count": 168,
   "id": "a1ce6a9e",
   "metadata": {},
   "outputs": [
    {
     "name": "stdout",
     "output_type": "stream",
     "text": [
      "\n",
      "Metrics for Binary Encoding:\n"
     ]
    },
    {
     "data": {
      "application/vnd.microsoft.datawrangler.viewer.v0+json": {
       "columns": [
        {
         "name": "index",
         "rawType": "object",
         "type": "string"
        },
        {
         "name": "precision",
         "rawType": "float64",
         "type": "float"
        },
        {
         "name": "recall",
         "rawType": "float64",
         "type": "float"
        },
        {
         "name": "f1-score",
         "rawType": "float64",
         "type": "float"
        },
        {
         "name": "support",
         "rawType": "float64",
         "type": "float"
        }
       ],
       "conversionMethod": "pd.DataFrame",
       "ref": "71c0ade5-46a4-475d-85af-2cbd5391efbf",
       "rows": [
        [
         "acc",
         "0.746031746031746",
         "0.8173913043478261",
         "0.7800829875518672",
         "115.0"
        ],
        [
         "good",
         "0.9",
         "0.42857142857142855",
         "0.5806451612903226",
         "21.0"
        ],
        [
         "unacc",
         "0.9456521739130435",
         "0.9586776859504132",
         "0.9521203830369357",
         "363.0"
        ],
        [
         "vgood",
         "1.0",
         "0.75",
         "0.8571428571428571",
         "20.0"
        ],
        [
         "accuracy",
         "0.8978805394990366",
         "0.8978805394990366",
         "0.8978805394990366",
         "0.8978805394990366"
        ],
        [
         "macro avg",
         "0.8979209799861974",
         "0.7386601047174169",
         "0.7924978472554957",
         "519.0"
        ],
        [
         "weighted avg",
         "0.9016674179654828",
         "0.8978805394990366",
         "0.8953095339900315",
         "519.0"
        ]
       ],
       "shape": {
        "columns": 4,
        "rows": 7
       }
      },
      "text/html": [
       "<div>\n",
       "<style scoped>\n",
       "    .dataframe tbody tr th:only-of-type {\n",
       "        vertical-align: middle;\n",
       "    }\n",
       "\n",
       "    .dataframe tbody tr th {\n",
       "        vertical-align: top;\n",
       "    }\n",
       "\n",
       "    .dataframe thead th {\n",
       "        text-align: right;\n",
       "    }\n",
       "</style>\n",
       "<table border=\"1\" class=\"dataframe\">\n",
       "  <thead>\n",
       "    <tr style=\"text-align: right;\">\n",
       "      <th></th>\n",
       "      <th>precision</th>\n",
       "      <th>recall</th>\n",
       "      <th>f1-score</th>\n",
       "      <th>support</th>\n",
       "    </tr>\n",
       "  </thead>\n",
       "  <tbody>\n",
       "    <tr>\n",
       "      <th>acc</th>\n",
       "      <td>0.746032</td>\n",
       "      <td>0.817391</td>\n",
       "      <td>0.780083</td>\n",
       "      <td>115.000000</td>\n",
       "    </tr>\n",
       "    <tr>\n",
       "      <th>good</th>\n",
       "      <td>0.900000</td>\n",
       "      <td>0.428571</td>\n",
       "      <td>0.580645</td>\n",
       "      <td>21.000000</td>\n",
       "    </tr>\n",
       "    <tr>\n",
       "      <th>unacc</th>\n",
       "      <td>0.945652</td>\n",
       "      <td>0.958678</td>\n",
       "      <td>0.952120</td>\n",
       "      <td>363.000000</td>\n",
       "    </tr>\n",
       "    <tr>\n",
       "      <th>vgood</th>\n",
       "      <td>1.000000</td>\n",
       "      <td>0.750000</td>\n",
       "      <td>0.857143</td>\n",
       "      <td>20.000000</td>\n",
       "    </tr>\n",
       "    <tr>\n",
       "      <th>accuracy</th>\n",
       "      <td>0.897881</td>\n",
       "      <td>0.897881</td>\n",
       "      <td>0.897881</td>\n",
       "      <td>0.897881</td>\n",
       "    </tr>\n",
       "    <tr>\n",
       "      <th>macro avg</th>\n",
       "      <td>0.897921</td>\n",
       "      <td>0.738660</td>\n",
       "      <td>0.792498</td>\n",
       "      <td>519.000000</td>\n",
       "    </tr>\n",
       "    <tr>\n",
       "      <th>weighted avg</th>\n",
       "      <td>0.901667</td>\n",
       "      <td>0.897881</td>\n",
       "      <td>0.895310</td>\n",
       "      <td>519.000000</td>\n",
       "    </tr>\n",
       "  </tbody>\n",
       "</table>\n",
       "</div>"
      ],
      "text/plain": [
       "              precision    recall  f1-score     support\n",
       "acc            0.746032  0.817391  0.780083  115.000000\n",
       "good           0.900000  0.428571  0.580645   21.000000\n",
       "unacc          0.945652  0.958678  0.952120  363.000000\n",
       "vgood          1.000000  0.750000  0.857143   20.000000\n",
       "accuracy       0.897881  0.897881  0.897881    0.897881\n",
       "macro avg      0.897921  0.738660  0.792498  519.000000\n",
       "weighted avg   0.901667  0.897881  0.895310  519.000000"
      ]
     },
     "execution_count": 168,
     "metadata": {},
     "output_type": "execute_result"
    }
   ],
   "source": [
    "\n",
    "# Binary Encoding\n",
    "overall_accuracy_binary, metrics_binary, conf_matrix_binary,y_proba_bin, y_test_bin= evaluate_model(encoded_data_binary, target_column='class')\n",
    "print(\"\\nMetrics for Binary Encoding:\")\n",
    "metrics_binary"
   ]
  },
  {
   "cell_type": "code",
   "execution_count": 171,
   "id": "10d75306",
   "metadata": {},
   "outputs": [
    {
     "name": "stdout",
     "output_type": "stream",
     "text": [
      "\n",
      "Confusion Matrix:\n"
     ]
    },
    {
     "data": {
      "image/png": "[encoded data removed]",
      "text/plain": [
       "<Figure size 800x600 with 2 Axes>"
      ]
     },
     "metadata": {},
     "output_type": "display_data"
    }
   ],
   "source": [
    "print(\"\\nConfusion Matrix:\")\n",
    "plot_confusion_matrix(conf_matrix_binary, class_names=y_test_int.unique().tolist())  "
   ]
  },
  {
   "cell_type": "code",
   "execution_count": 91,
   "id": "72538128",
   "metadata": {},
   "outputs": [
    {
     "data": {
      "text/plain": [
       "0.882466281310212"
      ]
     },
     "execution_count": 91,
     "metadata": {},
     "output_type": "execute_result"
    }
   ],
   "source": [
    "overall_accuracy_binary"
   ]
  },
  {
   "cell_type": "code",
   "execution_count": 170,
   "id": "085b6c9e",
   "metadata": {},
   "outputs": [
    {
     "name": "stdout",
     "output_type": "stream",
     "text": [
      "\n",
      "Metrics for Target Encoding:\n"
     ]
    },
    {
     "data": {
      "application/vnd.microsoft.datawrangler.viewer.v0+json": {
       "columns": [
        {
         "name": "index",
         "rawType": "object",
         "type": "string"
        },
        {
         "name": "precision",
         "rawType": "float64",
         "type": "float"
        },
        {
         "name": "recall",
         "rawType": "float64",
         "type": "float"
        },
        {
         "name": "f1-score",
         "rawType": "float64",
         "type": "float"
        },
        {
         "name": "support",
         "rawType": "float64",
         "type": "float"
        }
       ],
       "conversionMethod": "pd.DataFrame",
       "ref": "302dbc2d-4060-4b44-bf1e-99fe535efcd3",
       "rows": [
        [
         "acc",
         "0.9145299145299145",
         "0.9304347826086956",
         "0.9224137931034483",
         "115.0"
        ],
        [
         "good",
         "0.9473684210526315",
         "0.8571428571428571",
         "0.9",
         "21.0"
        ],
        [
         "unacc",
         "0.9806629834254144",
         "0.977961432506887",
         "0.9793103448275862",
         "363.0"
        ],
        [
         "vgood",
         "0.9523809523809523",
         "1.0",
         "0.975609756097561",
         "20.0"
        ],
        [
         "accuracy",
         "0.9633911368015414",
         "0.9633911368015414",
         "0.9633911368015414",
         "0.9633911368015414"
        ],
        [
         "macro avg",
         "0.9487355678472282",
         "0.9413847680646099",
         "0.9443334735071489",
         "519.0"
        ],
        [
         "weighted avg",
         "0.9635721754221386",
         "0.9633911368015414",
         "0.963351515416689",
         "519.0"
        ]
       ],
       "shape": {
        "columns": 4,
        "rows": 7
       }
      },
      "text/html": [
       "<div>\n",
       "<style scoped>\n",
       "    .dataframe tbody tr th:only-of-type {\n",
       "        vertical-align: middle;\n",
       "    }\n",
       "\n",
       "    .dataframe tbody tr th {\n",
       "        vertical-align: top;\n",
       "    }\n",
       "\n",
       "    .dataframe thead th {\n",
       "        text-align: right;\n",
       "    }\n",
       "</style>\n",
       "<table border=\"1\" class=\"dataframe\">\n",
       "  <thead>\n",
       "    <tr style=\"text-align: right;\">\n",
       "      <th></th>\n",
       "      <th>precision</th>\n",
       "      <th>recall</th>\n",
       "      <th>f1-score</th>\n",
       "      <th>support</th>\n",
       "    </tr>\n",
       "  </thead>\n",
       "  <tbody>\n",
       "    <tr>\n",
       "      <th>acc</th>\n",
       "      <td>0.914530</td>\n",
       "      <td>0.930435</td>\n",
       "      <td>0.922414</td>\n",
       "      <td>115.000000</td>\n",
       "    </tr>\n",
       "    <tr>\n",
       "      <th>good</th>\n",
       "      <td>0.947368</td>\n",
       "      <td>0.857143</td>\n",
       "      <td>0.900000</td>\n",
       "      <td>21.000000</td>\n",
       "    </tr>\n",
       "    <tr>\n",
       "      <th>unacc</th>\n",
       "      <td>0.980663</td>\n",
       "      <td>0.977961</td>\n",
       "      <td>0.979310</td>\n",
       "      <td>363.000000</td>\n",
       "    </tr>\n",
       "    <tr>\n",
       "      <th>vgood</th>\n",
       "      <td>0.952381</td>\n",
       "      <td>1.000000</td>\n",
       "      <td>0.975610</td>\n",
       "      <td>20.000000</td>\n",
       "    </tr>\n",
       "    <tr>\n",
       "      <th>accuracy</th>\n",
       "      <td>0.963391</td>\n",
       "      <td>0.963391</td>\n",
       "      <td>0.963391</td>\n",
       "      <td>0.963391</td>\n",
       "    </tr>\n",
       "    <tr>\n",
       "      <th>macro avg</th>\n",
       "      <td>0.948736</td>\n",
       "      <td>0.941385</td>\n",
       "      <td>0.944333</td>\n",
       "      <td>519.000000</td>\n",
       "    </tr>\n",
       "    <tr>\n",
       "      <th>weighted avg</th>\n",
       "      <td>0.963572</td>\n",
       "      <td>0.963391</td>\n",
       "      <td>0.963352</td>\n",
       "      <td>519.000000</td>\n",
       "    </tr>\n",
       "  </tbody>\n",
       "</table>\n",
       "</div>"
      ],
      "text/plain": [
       "              precision    recall  f1-score     support\n",
       "acc            0.914530  0.930435  0.922414  115.000000\n",
       "good           0.947368  0.857143  0.900000   21.000000\n",
       "unacc          0.980663  0.977961  0.979310  363.000000\n",
       "vgood          0.952381  1.000000  0.975610   20.000000\n",
       "accuracy       0.963391  0.963391  0.963391    0.963391\n",
       "macro avg      0.948736  0.941385  0.944333  519.000000\n",
       "weighted avg   0.963572  0.963391  0.963352  519.000000"
      ]
     },
     "execution_count": 170,
     "metadata": {},
     "output_type": "execute_result"
    }
   ],
   "source": [
    "# Target Encoding \n",
    "overall_accuracy_target, metrics_target, conf_matrix_target,y_proba_target, y_test_target = evaluate_model(encoded_data_target, target_column='class')\n",
    "print(\"\\nMetrics for Target Encoding:\")\n",
    "metrics_target"
   ]
  },
  {
   "cell_type": "code",
   "execution_count": 172,
   "id": "ba696b9b",
   "metadata": {},
   "outputs": [
    {
     "name": "stdout",
     "output_type": "stream",
     "text": [
      "\n",
      "Confusion Matrix:\n"
     ]
    },
    {
     "data": {
      "image/png": "[encoded data removed]",
      "text/plain": [
       "<Figure size 800x600 with 2 Axes>"
      ]
     },
     "metadata": {},
     "output_type": "display_data"
    }
   ],
   "source": [
    "\n",
    "print(\"\\nConfusion Matrix:\")\n",
    "plot_confusion_matrix(conf_matrix_target, class_names=y_test_int.unique().tolist())  "
   ]
  },
  {
   "cell_type": "code",
   "execution_count": 94,
   "id": "9f15c6d1",
   "metadata": {},
   "outputs": [
    {
     "data": {
      "text/plain": [
       "0.9710982658959537"
      ]
     },
     "execution_count": 94,
     "metadata": {},
     "output_type": "execute_result"
    }
   ],
   "source": [
    "overall_accuracy_target"
   ]
  },
  {
   "cell_type": "code",
   "execution_count": null,
   "id": "710a4a51",
   "metadata": {},
   "outputs": [
    {
     "name": "stdout",
     "output_type": "stream",
     "text": [
      "\n",
      "Metrics for frequency Encoding:\n"
     ]
    },
    {
     "name": "stderr",
     "output_type": "stream",
     "text": [
      "/home/ruksad/Documents/learn/AIandContent/GL-selflearning/descriptive-stats/local/lib/python3.12/site-packages/sklearn/metrics/_classification.py:1565: UndefinedMetricWarning: Precision is ill-defined and being set to 0.0 in labels with no predicted samples. Use `zero_division` parameter to control this behavior.\n",
      "  _warn_prf(average, modifier, f\"{metric.capitalize()} is\", len(result))\n",
      "/home/ruksad/Documents/learn/AIandContent/GL-selflearning/descriptive-stats/local/lib/python3.12/site-packages/sklearn/metrics/_classification.py:1565: UndefinedMetricWarning: Precision is ill-defined and being set to 0.0 in labels with no predicted samples. Use `zero_division` parameter to control this behavior.\n",
      "  _warn_prf(average, modifier, f\"{metric.capitalize()} is\", len(result))\n",
      "/home/ruksad/Documents/learn/AIandContent/GL-selflearning/descriptive-stats/local/lib/python3.12/site-packages/sklearn/metrics/_classification.py:1565: UndefinedMetricWarning: Precision is ill-defined and being set to 0.0 in labels with no predicted samples. Use `zero_division` parameter to control this behavior.\n",
      "  _warn_prf(average, modifier, f\"{metric.capitalize()} is\", len(result))\n"
     ]
    },
    {
     "data": {
      "application/vnd.microsoft.datawrangler.viewer.v0+json": {
       "columns": [
        {
         "name": "index",
         "rawType": "object",
         "type": "string"
        },
        {
         "name": "precision",
         "rawType": "float64",
         "type": "float"
        },
        {
         "name": "recall",
         "rawType": "float64",
         "type": "float"
        },
        {
         "name": "f1-score",
         "rawType": "float64",
         "type": "float"
        },
        {
         "name": "support",
         "rawType": "float64",
         "type": "float"
        }
       ],
       "conversionMethod": "pd.DataFrame",
       "ref": "6d1c93c5-85c8-4083-a774-afc6a1860b58",
       "rows": [
        [
         "acc",
         "0.0",
         "0.0",
         "0.0",
         "118.0"
        ],
        [
         "good",
         "0.0",
         "0.0",
         "0.0",
         "19.0"
        ],
        [
         "unacc",
         "0.6897880539499036",
         "1.0",
         "0.8164196123147093",
         "358.0"
        ],
        [
         "vgood",
         "0.0",
         "0.0",
         "0.0",
         "24.0"
        ],
        [
         "accuracy",
         "0.6897880539499036",
         "0.6897880539499036",
         "0.6897880539499036",
         "0.6897880539499036"
        ],
        [
         "macro avg",
         "0.1724470134874759",
         "0.25",
         "0.20410490307867732",
         "519.0"
        ],
        [
         "weighted avg",
         "0.4758075593719952",
         "0.6897880539499036",
         "0.5631564955850981",
         "519.0"
        ]
       ],
       "shape": {
        "columns": 4,
        "rows": 7
       }
      },
      "text/html": [
       "<div>\n",
       "<style scoped>\n",
       "    .dataframe tbody tr th:only-of-type {\n",
       "        vertical-align: middle;\n",
       "    }\n",
       "\n",
       "    .dataframe tbody tr th {\n",
       "        vertical-align: top;\n",
       "    }\n",
       "\n",
       "    .dataframe thead th {\n",
       "        text-align: right;\n",
       "    }\n",
       "</style>\n",
       "<table border=\"1\" class=\"dataframe\">\n",
       "  <thead>\n",
       "    <tr style=\"text-align: right;\">\n",
       "      <th></th>\n",
       "      <th>precision</th>\n",
       "      <th>recall</th>\n",
       "      <th>f1-score</th>\n",
       "      <th>support</th>\n",
       "    </tr>\n",
       "  </thead>\n",
       "  <tbody>\n",
       "    <tr>\n",
       "      <th>acc</th>\n",
       "      <td>0.000000</td>\n",
       "      <td>0.000000</td>\n",
       "      <td>0.000000</td>\n",
       "      <td>118.000000</td>\n",
       "    </tr>\n",
       "    <tr>\n",
       "      <th>good</th>\n",
       "      <td>0.000000</td>\n",
       "      <td>0.000000</td>\n",
       "      <td>0.000000</td>\n",
       "      <td>19.000000</td>\n",
       "    </tr>\n",
       "    <tr>\n",
       "      <th>unacc</th>\n",
       "      <td>0.689788</td>\n",
       "      <td>1.000000</td>\n",
       "      <td>0.816420</td>\n",
       "      <td>358.000000</td>\n",
       "    </tr>\n",
       "    <tr>\n",
       "      <th>vgood</th>\n",
       "      <td>0.000000</td>\n",
       "      <td>0.000000</td>\n",
       "      <td>0.000000</td>\n",
       "      <td>24.000000</td>\n",
       "    </tr>\n",
       "    <tr>\n",
       "      <th>accuracy</th>\n",
       "      <td>0.689788</td>\n",
       "      <td>0.689788</td>\n",
       "      <td>0.689788</td>\n",
       "      <td>0.689788</td>\n",
       "    </tr>\n",
       "    <tr>\n",
       "      <th>macro avg</th>\n",
       "      <td>0.172447</td>\n",
       "      <td>0.250000</td>\n",
       "      <td>0.204105</td>\n",
       "      <td>519.000000</td>\n",
       "    </tr>\n",
       "    <tr>\n",
       "      <th>weighted avg</th>\n",
       "      <td>0.475808</td>\n",
       "      <td>0.689788</td>\n",
       "      <td>0.563156</td>\n",
       "      <td>519.000000</td>\n",
       "    </tr>\n",
       "  </tbody>\n",
       "</table>\n",
       "</div>"
      ],
      "text/plain": [
       "              precision    recall  f1-score     support\n",
       "acc            0.000000  0.000000  0.000000  118.000000\n",
       "good           0.000000  0.000000  0.000000   19.000000\n",
       "unacc          0.689788  1.000000  0.816420  358.000000\n",
       "vgood          0.000000  0.000000  0.000000   24.000000\n",
       "accuracy       0.689788  0.689788  0.689788    0.689788\n",
       "macro avg      0.172447  0.250000  0.204105  519.000000\n",
       "weighted avg   0.475808  0.689788  0.563156  519.000000"
      ]
     },
     "execution_count": 99,
     "metadata": {},
     "output_type": "execute_result"
    }
   ],
   "source": [
    "# frequency Encoding \n",
    "overall_accuracy_frequency, metrics_frequency, conf_matrix_frequency,y_proba_freq, y_test_freq = evaluate_model(encoded_data_frequency, target_column='class')\n",
    "print(\"\\nMetrics for frequency Encoding:\")\n",
    "metrics_frequency"
   ]
  },
  {
   "cell_type": "code",
   "execution_count": 173,
   "id": "2f167ac3",
   "metadata": {},
   "outputs": [
    {
     "data": {
      "image/png": "[encoded data removed]",
      "text/plain": [
       "<Figure size 800x600 with 2 Axes>"
      ]
     },
     "metadata": {},
     "output_type": "display_data"
    }
   ],
   "source": [
    "plot_confusion_matrix(conf_matrix_frequency, class_names=y_test_int.unique().tolist())  "
   ]
  },
  {
   "cell_type": "code",
   "execution_count": null,
   "id": "4a36e295",
   "metadata": {},
   "outputs": [
    {
     "name": "stdout",
     "output_type": "stream",
     "text": [
      "Summary of Metrics for Each Encoding Method:\n"
     ]
    },
    {
     "data": {
      "application/vnd.microsoft.datawrangler.viewer.v0+json": {
       "columns": [
        {
         "name": "index",
         "rawType": "int64",
         "type": "integer"
        },
        {
         "name": "Encoding Method",
         "rawType": "object",
         "type": "string"
        },
        {
         "name": "Accuracy",
         "rawType": "float64",
         "type": "float"
        },
        {
         "name": "Precision (Macro Avg)",
         "rawType": "float64",
         "type": "float"
        },
        {
         "name": "Recall (Macro Avg)",
         "rawType": "float64",
         "type": "float"
        },
        {
         "name": "F1-Score (Macro Avg)",
         "rawType": "float64",
         "type": "float"
        }
       ],
       "conversionMethod": "pd.DataFrame",
       "ref": "418ca143-3dfe-4fe5-8fcd-52b9edb8394b",
       "rows": [
        [
         "0",
         "Integer/Ordinal",
         "0.9633911368015414",
         "0.8987101654107287",
         "0.9059949030444685",
         "0.9017327608443071"
        ],
        [
         "1",
         "One-hot",
         "0.9576107899807321",
         "0.8701601561680065",
         "0.8651259724208732",
         "0.8648857948001896"
        ],
        [
         "2",
         "Binary",
         "0.882466281310212",
         "0.7190908902089478",
         "0.5949068133001759",
         "0.627852760082664"
        ],
        [
         "3",
         "Target",
         "0.9710982658959537",
         "0.9137649971434012",
         "0.9324858445588453",
         "0.9228907338685148"
        ],
        [
         "4",
         "Frequency",
         "0.6897880539499036",
         "0.1724470134874759",
         "0.25",
         "0.20410490307867732"
        ]
       ],
       "shape": {
        "columns": 5,
        "rows": 5
       }
      },
      "text/html": [
       "<div>\n",
       "<style scoped>\n",
       "    .dataframe tbody tr th:only-of-type {\n",
       "        vertical-align: middle;\n",
       "    }\n",
       "\n",
       "    .dataframe tbody tr th {\n",
       "        vertical-align: top;\n",
       "    }\n",
       "\n",
       "    .dataframe thead th {\n",
       "        text-align: right;\n",
       "    }\n",
       "</style>\n",
       "<table border=\"1\" class=\"dataframe\">\n",
       "  <thead>\n",
       "    <tr style=\"text-align: right;\">\n",
       "      <th></th>\n",
       "      <th>Encoding Method</th>\n",
       "      <th>Accuracy</th>\n",
       "      <th>Precision (Macro Avg)</th>\n",
       "      <th>Recall (Macro Avg)</th>\n",
       "      <th>F1-Score (Macro Avg)</th>\n",
       "    </tr>\n",
       "  </thead>\n",
       "  <tbody>\n",
       "    <tr>\n",
       "      <th>0</th>\n",
       "      <td>Integer/Ordinal</td>\n",
       "      <td>0.963391</td>\n",
       "      <td>0.898710</td>\n",
       "      <td>0.905995</td>\n",
       "      <td>0.901733</td>\n",
       "    </tr>\n",
       "    <tr>\n",
       "      <th>1</th>\n",
       "      <td>One-hot</td>\n",
       "      <td>0.957611</td>\n",
       "      <td>0.870160</td>\n",
       "      <td>0.865126</td>\n",
       "      <td>0.864886</td>\n",
       "    </tr>\n",
       "    <tr>\n",
       "      <th>2</th>\n",
       "      <td>Binary</td>\n",
       "      <td>0.882466</td>\n",
       "      <td>0.719091</td>\n",
       "      <td>0.594907</td>\n",
       "      <td>0.627853</td>\n",
       "    </tr>\n",
       "    <tr>\n",
       "      <th>3</th>\n",
       "      <td>Target</td>\n",
       "      <td>0.971098</td>\n",
       "      <td>0.913765</td>\n",
       "      <td>0.932486</td>\n",
       "      <td>0.922891</td>\n",
       "    </tr>\n",
       "    <tr>\n",
       "      <th>4</th>\n",
       "      <td>Frequency</td>\n",
       "      <td>0.689788</td>\n",
       "      <td>0.172447</td>\n",
       "      <td>0.250000</td>\n",
       "      <td>0.204105</td>\n",
       "    </tr>\n",
       "  </tbody>\n",
       "</table>\n",
       "</div>"
      ],
      "text/plain": [
       "   Encoding Method  Accuracy  Precision (Macro Avg)  Recall (Macro Avg)  \\\n",
       "0  Integer/Ordinal  0.963391               0.898710            0.905995   \n",
       "1          One-hot  0.957611               0.870160            0.865126   \n",
       "2           Binary  0.882466               0.719091            0.594907   \n",
       "3           Target  0.971098               0.913765            0.932486   \n",
       "4        Frequency  0.689788               0.172447            0.250000   \n",
       "\n",
       "   F1-Score (Macro Avg)  \n",
       "0              0.901733  \n",
       "1              0.864886  \n",
       "2              0.627853  \n",
       "3              0.922891  \n",
       "4              0.204105  "
      ]
     },
     "execution_count": 101,
     "metadata": {},
     "output_type": "execute_result"
    }
   ],
   "source": [
    "# Consolidate metrics for comparison\n",
    "    summary_metrics = pd.DataFrame({\n",
    "        \"Encoding Method\": [\"Integer/Ordinal\", \"One-hot\", \"Binary\", \"Target\", \"Frequency\"],\n",
    "        \"Accuracy\": [\n",
    "            overall_accuracy_iteger,\n",
    "            overall_accuracy_one_hot,\n",
    "            overall_accuracy_binary,\n",
    "            overall_accuracy_target,\n",
    "            overall_accuracy_frequency\n",
    "        ],\n",
    "        \"Precision (Macro Avg)\": [\n",
    "            metrics_integer.loc[\"macro avg\", \"precision\"],\n",
    "            metrics_one_hot.loc[\"macro avg\", \"precision\"],\n",
    "            metrics_binary.loc[\"macro avg\", \"precision\"],\n",
    "            metrics_target.loc[\"macro avg\", \"precision\"],\n",
    "            metrics_frequency.loc[\"macro avg\", \"precision\"]\n",
    "        ],\n",
    "        \"Recall (Macro Avg)\": [\n",
    "            metrics_integer.loc[\"macro avg\", \"recall\"],\n",
    "            metrics_one_hot.loc[\"macro avg\", \"recall\"],\n",
    "            metrics_binary.loc[\"macro avg\", \"recall\"],\n",
    "            metrics_target.loc[\"macro avg\", \"recall\"],\n",
    "            metrics_frequency.loc[\"macro avg\", \"recall\"]\n",
    "        ],\n",
    "        \"F1-Score (Macro Avg)\": [\n",
    "            metrics_integer.loc[\"macro avg\", \"f1-score\"],\n",
    "            metrics_one_hot.loc[\"macro avg\", \"f1-score\"],\n",
    "            metrics_binary.loc[\"macro avg\", \"f1-score\"],\n",
    "            metrics_target.loc[\"macro avg\", \"f1-score\"],\n",
    "            metrics_frequency.loc[\"macro avg\", \"f1-score\"]\n",
    "        ]\n",
    "    })\n",
    "\n",
    "# Display the summary metrics\n",
    "print(\"Summary of Metrics for Each Encoding Method:\")\n",
    "summary_metrics"
   ]
  }
 ],
 "metadata": {
  "kernelspec": {
   "display_name": "local",
   "language": "python",
   "name": "python3"
  },
  "language_info": {
   "codemirror_mode": {
    "name": "ipython",
    "version": 3
   },
   "file_extension": ".py",
   "mimetype": "text/x-python",
   "name": "python",
   "nbconvert_exporter": "python",
   "pygments_lexer": "ipython3",
   "version": "3.12.3"
  }
 },
 "nbformat": 4,
 "nbformat_minor": 5
}
